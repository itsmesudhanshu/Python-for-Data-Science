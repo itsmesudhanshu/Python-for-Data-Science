{
  "cells": [
    {
      "cell_type": "markdown",
      "metadata": {
        "id": "view-in-github",
        "colab_type": "text"
      },
      "source": [
        "<a href=\"https://colab.research.google.com/github/itsmesudhanshu/Python-for-Data-Science/blob/main/Python_for_Data_Science.ipynb\" target=\"_parent\"><img src=\"https://colab.research.google.com/assets/colab-badge.svg\" alt=\"Open In Colab\"/></a>"
      ]
    },
    {
      "cell_type": "markdown",
      "metadata": {
        "id": "Uk6m5jkloDqP"
      },
      "source": [
        "# Why Python for Data Science?\n",
        "\n",
        "\n",
        "There are multiple reasons for opting for Python for data science. These are followings\n",
        "\n",
        "1. Design Philosophy: Python is the easiest language to learn. Python is an indented language so it looks beautiful to the reader.\n",
        "\n",
        "2. Batteries included: There are built-in datatype, operators, and many more built-in codes that will help the learner to use them for solving problems. For example in the case of C, we have seen that there is a separate coding we have to do for reversing the string by using a while loop on the contrary we can see that in Python we can use the direct function for reversing the string.\n",
        "\n",
        "3. General-Purpose Language: We can use Python for coding in procedural, object-oriented functional programming and many more\n",
        "\n",
        "4. Community: The success of Python in data science is due to its libraries created by the Python community these community libraries include pandas, numpy, sckit learn, and many more.\n",
        "\n",
        "5. Proximity with Maths: Many libraries back mathematics such as Scipy and numpy which help the data scientist to use Python for data manipulation."
      ]
    },
    {
      "cell_type": "markdown",
      "metadata": {
        "id": "-MlRqDyWNZn1"
      },
      "source": [
        "Difference between Artificial Intelligence,Machine learning and Deep learning.\n",
        "\n",
        "Artificial Intelligence: Science that empowers computers to mimic human intelligence such as decision making, text processing, and visual perception. AI is a broader field that contains several subfield such as machine learning, robotics, and computer vision.\n",
        "\n",
        "Machine learning: Machine learning is a subfield of artifitcial intelligence that enables machine to improve at a given task with experience. It is important to note that all machine learning techniques are classified as Artificial Intelligence ones. However , not all Artificial Intelligence could count as Machine learning since some basic Rule based Engines could be classified as AI but they do not learn from experience therefore they do not belong to the machine learning category.\n",
        "Machine learning is basically categorized in three subdomain. These are Supervised Learning, Unsupervised learning and Reinforcement learning. In supervised learning training algorithm using labeled input output data is used. In unsupervised learning no labeled data is provided and in this learning technique hidden pattern are find out. In Reinforcement Learning algorithm take actions to maximize cumulative rewards.\n",
        "\n",
        "Deep learning: Deep learning is a specialized field of machine learning that relies on training of deep artificial neural network(ANN) using a large dataset such as image or text. ANNs are are information processing models inspired by the human brain. ANNs works by mathematically mimicking the human brain and connecting multiple \"artificial\" neuron in a multilayered fashion. The more hidden layers added to the network, the deeper the network gets.\n",
        "\n",
        "Difference between Machine learning and Deep learning: Manual feature extraction is done.In deep learning automatic feature extraction is done by feeding training data set such as image along with target class(label)."
      ]
    },
    {
      "cell_type": "markdown",
      "metadata": {
        "id": "nC22c-8vUe1D"
      },
      "source": [
        "##Application of Python\n",
        "Hey friends today I am going to discuss about application of python. As we know that the popularity of python has been inreased in last decade. Then the question arises what are the potential reason behind this rise. Beyond many reason one important reason it's widespread usage for different task as it contains many helpfull libraries.\n",
        "\n",
        "\n",
        "1. Web development: Python is used for the development of websites in which different type of web development framework are used such as Flask and Django.\n",
        "\n",
        "2. Game Development: Python is used for the development of games which uses video development libraries such as PyGames.\n",
        "\n",
        "3. Image Processing: Python uses OpenCV and Python Imaging Library(PIL) for application such as face recognition and image detection.\n",
        "\n",
        "4. Text Processing: For text processing NLTK is used which help in processing enormous volume of text.\n",
        "\n",
        "5. Web Scrapping: Web scrapper crawl the website they are directed towards and store all the collected information from their web pages in one place. Web scrapper use tools such as PythonRequest and Selenium for web scrapping.\n",
        "\n",
        "6. Scientific and Numeric calculation: For AI and Machine learning project there is a dire need of calculation and for this python libraries such as NUmpy and Scipy is used.\n",
        "\n",
        "\n",
        "7. Data Analysis and data Visualization:  Python is used for data analysis and data visualization purpose with the help of libraries such as Pandas, Matplotlib, Seaborn and Plotly.\n",
        "\n",
        "8. AI and Machine learning Project: Last but not the least, Data science has been evolved like anything in last decade. Python libraries such as TensonFlow, Scikit Learn Pytorch boost this growth which help data scientist community to help the businesses."
      ]
    },
    {
      "cell_type": "markdown",
      "metadata": {
        "id": "UKJ1k20knyCg"
      },
      "source": [
        "###1. Python Output"
      ]
    },
    {
      "cell_type": "code",
      "execution_count": null,
      "metadata": {
        "colab": {
          "base_uri": "https://localhost:8080/"
        },
        "id": "qH1_TMjKn5YX",
        "outputId": "b1a572e9-daee-4d27-d6e5-50cf119d30e3"
      },
      "outputs": [
        {
          "output_type": "stream",
          "name": "stdout",
          "text": [
            "Hello data enthusiast\n"
          ]
        }
      ],
      "source": [
        "#Python is a case sensitive language\n",
        "print(\"Hello data enthusiast\")"
      ]
    },
    {
      "cell_type": "code",
      "execution_count": null,
      "metadata": {
        "colab": {
          "base_uri": "https://localhost:8080/",
          "height": 106
        },
        "id": "Rmd1GrLkoh_3",
        "outputId": "f91be16e-8a8f-43de-e36f-2ebd984e137e"
      },
      "outputs": [
        {
          "output_type": "error",
          "ename": "SyntaxError",
          "evalue": "invalid syntax. Perhaps you forgot a comma? (<ipython-input-2-3631957d99c2>, line 1)",
          "traceback": [
            "\u001b[0;36m  File \u001b[0;32m\"<ipython-input-2-3631957d99c2>\"\u001b[0;36m, line \u001b[0;32m1\u001b[0m\n\u001b[0;31m    print(hello data)\u001b[0m\n\u001b[0m          ^\u001b[0m\n\u001b[0;31mSyntaxError\u001b[0m\u001b[0;31m:\u001b[0m invalid syntax. Perhaps you forgot a comma?\n"
          ]
        }
      ],
      "source": [
        "print(hello data)"
      ]
    },
    {
      "cell_type": "code",
      "execution_count": null,
      "metadata": {
        "colab": {
          "base_uri": "https://localhost:8080/"
        },
        "id": "4CcLbT9vomB7",
        "outputId": "e03f93aa-5de2-4a44-e3f3-1b1863385f43"
      },
      "outputs": [
        {
          "output_type": "stream",
          "name": "stdout",
          "text": [
            "7\n"
          ]
        }
      ],
      "source": [
        "print(7)"
      ]
    },
    {
      "cell_type": "code",
      "execution_count": null,
      "metadata": {
        "colab": {
          "base_uri": "https://localhost:8080/"
        },
        "id": "QuBq9i8UoocX",
        "outputId": "6ef93422-36a7-479e-d6bf-daecd24204c8"
      },
      "outputs": [
        {
          "output_type": "stream",
          "name": "stdout",
          "text": [
            "True\n"
          ]
        }
      ],
      "source": [
        "print(True)"
      ]
    },
    {
      "cell_type": "code",
      "execution_count": null,
      "metadata": {
        "colab": {
          "base_uri": "https://localhost:8080/"
        },
        "id": "hUzIoCcsoqri",
        "outputId": "14446655-a372-4e4d-a91b-843b9af57dda"
      },
      "outputs": [
        {
          "output_type": "stream",
          "name": "stdout",
          "text": [
            "Hello 1 4.5 True\n",
            "Hello@1@2\n"
          ]
        }
      ],
      "source": [
        "print(\"Hello\",1,4.5, True)\n",
        "#We can print as many datatypes\n",
        "#here we can observe space between the datatype\n",
        "print(\"Hello\",1,2, sep=\"@\", end=\"\\n\")"
      ]
    },
    {
      "cell_type": "markdown",
      "metadata": {
        "id": "Qbj4L6_NeCWS"
      },
      "source": [
        "#Operators in Python\n",
        "\n",
        "\n",
        "*   Arithmetic Operators\n",
        "*   Relational Operators\n",
        "\n",
        "*   Logical Operators\n",
        "*   Bitwise Operators\n",
        "\n",
        "*   Assignment Operators\n",
        "*   Membership Operators\n",
        "\n",
        "\n",
        "\n",
        "\n",
        "\n",
        "\n"
      ]
    },
    {
      "cell_type": "code",
      "execution_count": null,
      "metadata": {
        "colab": {
          "base_uri": "https://localhost:8080/"
        },
        "id": "d3u3AhfcEJ-G",
        "outputId": "91cad3e6-315f-4b32-cc34-aa7900bf317f"
      },
      "outputs": [
        {
          "output_type": "stream",
          "name": "stdout",
          "text": [
            "11\n",
            "-1\n",
            "2.5\n",
            "2\n",
            "1\n",
            "25\n"
          ]
        }
      ],
      "source": [
        "#Airthmetic Operator\n",
        "print(5+6)\n",
        "print(5-6)\n",
        "print(5/2)\n",
        "print(5//2)\n",
        "print(5%2)\n",
        "print(5**2)"
      ]
    },
    {
      "cell_type": "code",
      "execution_count": null,
      "metadata": {
        "colab": {
          "base_uri": "https://localhost:8080/"
        },
        "id": "-vvhoUa9GzkV",
        "outputId": "cf443856-c362-4a16-9bb3-e50372107228"
      },
      "outputs": [
        {
          "output_type": "stream",
          "name": "stdout",
          "text": [
            "False\n",
            "True\n",
            "False\n",
            "True\n",
            "True\n",
            "False\n"
          ]
        }
      ],
      "source": [
        "#Relational Operator\n",
        "print(4>5)\n",
        "print(4<5)\n",
        "print(4>=5)\n",
        "print(4<=5)\n",
        "print(4==4)\n",
        "print(4!=4)"
      ]
    },
    {
      "cell_type": "code",
      "execution_count": null,
      "metadata": {
        "colab": {
          "base_uri": "https://localhost:8080/"
        },
        "id": "_ft9zr-5HI7H",
        "outputId": "900f33d0-b58b-4d54-e517-aff8138d643f"
      },
      "outputs": [
        {
          "output_type": "stream",
          "name": "stdout",
          "text": [
            "0\n",
            "1\n",
            "0\n",
            "1\n",
            "0\n",
            "1\n",
            "1\n",
            "False\n",
            "True\n"
          ]
        }
      ],
      "source": [
        "#Logical Operators\n",
        "print(1 and 0)\n",
        "print(1 and 1)\n",
        "print(0 and 0)\n",
        "print(0 or 1)\n",
        "print(0 or 0)\n",
        "print(1 and 1)\n",
        "print(1 or 1)\n",
        "print(not 1)\n",
        "print(not 0)"
      ]
    },
    {
      "cell_type": "code",
      "execution_count": null,
      "metadata": {
        "colab": {
          "base_uri": "https://localhost:8080/"
        },
        "id": "VZo4Uid4HtSV",
        "outputId": "171e8477-19ee-4d6c-e867-983cf40a224d"
      },
      "outputs": [
        {
          "output_type": "stream",
          "name": "stdout",
          "text": [
            "2\n",
            "3\n",
            "1\n",
            "-4\n",
            "1\n",
            "16\n"
          ]
        }
      ],
      "source": [
        "#Bitwise Operators\n",
        "#Bitwise and\n",
        "print(2 & 3)\n",
        "#Binary representation of 2 and 3 then and operator is made on each digit\n",
        "#Bitwise or operator\n",
        "print(2|3)\n",
        "#Bitwise xor operator\n",
        "print(2^3)\n",
        "#bitwise not operator\n",
        "print(~3)\n",
        "#Bitwise right shift operator\n",
        "print(4>>2)\n",
        "#Bitwise left shift operator\n",
        "print(4<<2)\n"
      ]
    },
    {
      "cell_type": "code",
      "execution_count": null,
      "metadata": {
        "colab": {
          "base_uri": "https://localhost:8080/"
        },
        "id": "I5ex4gKuK98l",
        "outputId": "858ad8db-b84b-4826-f8fa-c47ba3dadf54"
      },
      "outputs": [
        {
          "output_type": "stream",
          "name": "stdout",
          "text": [
            "4\n"
          ]
        }
      ],
      "source": [
        "#Assignment Operator\n",
        "#=\n",
        "# a=2\n",
        "a=2\n",
        "a+=2\n",
        "print(a)"
      ]
    },
    {
      "cell_type": "code",
      "execution_count": null,
      "metadata": {
        "colab": {
          "base_uri": "https://localhost:8080/"
        },
        "id": "AhSql6U4LqPi",
        "outputId": "c2a216d5-25ae-428b-b71f-36d6cc2a21f8"
      },
      "outputs": [
        {
          "output_type": "stream",
          "name": "stdout",
          "text": [
            "True\n",
            "False\n",
            "False\n",
            "False\n"
          ]
        }
      ],
      "source": [
        "#Membership operator\n",
        "#in and not in\n",
        "print(\"D\" in \"Delhi\")\n",
        "print(\"d\" in \"Delhi\")\n",
        "print(\"D\" not in \"Delhi\")\n",
        "print(1 in [2,3,4])"
      ]
    },
    {
      "cell_type": "code",
      "execution_count": null,
      "metadata": {
        "colab": {
          "base_uri": "https://localhost:8080/"
        },
        "id": "uuX5YuQKTTS2",
        "outputId": "fda02549-0a99-4618-fb80-8ba19a730c73"
      },
      "outputs": [
        {
          "output_type": "stream",
          "name": "stdout",
          "text": [
            "5\n",
            "5\n"
          ]
        }
      ],
      "source": [
        "#Find the sum of a 3 digit number entered by the user\n",
        "n1=int(input())\n",
        "n2=n1%10\n",
        "n3=n1//10\n",
        "n4=n3%10\n",
        "n5=n3//10\n",
        "n6=n5%10\n",
        "n7=n2+n4+n6\n",
        "print(n7)"
      ]
    },
    {
      "cell_type": "code",
      "source": [
        "#Another method\n",
        "n1=int(input())\n",
        "sum=0\n",
        "for i in (str(n1)):\n",
        "  sum+=n1%10\n",
        "  n1=n1//10\n",
        "print(sum)\n"
      ],
      "metadata": {
        "colab": {
          "base_uri": "https://localhost:8080/"
        },
        "id": "00Z72m2L4pfE",
        "outputId": "39aad548-2c51-444b-904b-61c15121f3b2"
      },
      "execution_count": null,
      "outputs": [
        {
          "output_type": "stream",
          "name": "stdout",
          "text": [
            "563\n",
            "14\n"
          ]
        }
      ]
    },
    {
      "cell_type": "markdown",
      "metadata": {
        "id": "iedp53nXUxsF"
      },
      "source": [
        "#If - else  in Python"
      ]
    },
    {
      "cell_type": "code",
      "execution_count": null,
      "metadata": {
        "colab": {
          "base_uri": "https://localhost:8080/"
        },
        "id": "MErkXTtmWBqi",
        "outputId": "e5dfb464-36b1-4959-9207-6acdee164abd"
      },
      "outputs": [
        {
          "output_type": "stream",
          "name": "stdout",
          "text": [
            "itsmesudhanshu@gmail.com\n",
            "Sudcho@123\n",
            "You are welcome\n"
          ]
        }
      ],
      "source": [
        "# Login program and indentation\n",
        "email=input()\n",
        "password=input()\n",
        "if email==\"itsmesudhanshu@gmail.com\":\n",
        "  if password==\"Sudcho@123\":\n",
        "    print(\"You are welcome\")\n",
        "  else:\n",
        "    print(\"incorrect password\")\n",
        "else:\n",
        "  print(\"incorrect email\")"
      ]
    },
    {
      "cell_type": "code",
      "execution_count": null,
      "metadata": {
        "colab": {
          "background_save": true,
          "base_uri": "https://localhost:8080/",
          "height": 89
        },
        "id": "ns87QvvaaWZ1",
        "outputId": "855a0d2f-a1d5-4777-b1c8-000499a2b959"
      },
      "outputs": [
        {
          "name": "stderr",
          "output_type": "stream",
          "text": [
            "/usr/local/lib/python3.10/dist-packages/ipykernel/ipkernel.py:283: DeprecationWarning: `should_run_async` will not call `transform_cell` automatically in the future. Please pass the result to `transformed_cell` argument and any exception that happen during thetransform in `preprocessing_exc_tuple` in IPython 7.17 and above.\n"
          ]
        },
        {
          "data": {
            "text/html": [
              "\n",
              "            <style>\n",
              "                .geemap-dark {\n",
              "                    --jp-widgets-color: white;\n",
              "                    --jp-widgets-label-color: white;\n",
              "                    --jp-ui-font-color1: white;\n",
              "                    --jp-layout-color2: #454545;\n",
              "                    background-color: #383838;\n",
              "                }\n",
              "\n",
              "                .geemap-dark .jupyter-button {\n",
              "                    --jp-layout-color3: #383838;\n",
              "                }\n",
              "\n",
              "                .geemap-colab {\n",
              "                    background-color: var(--colab-primary-surface-color, white);\n",
              "                }\n",
              "\n",
              "                .geemap-colab .jupyter-button {\n",
              "                    --jp-layout-color3: var(--colab-primary-surface-color, white);\n",
              "                }\n",
              "            </style>\n",
              "            "
            ],
            "text/plain": [
              "<IPython.core.display.HTML object>"
            ]
          },
          "metadata": {},
          "output_type": "display_data"
        },
        {
          "name": "stdout",
          "output_type": "stream",
          "text": [
            "incorrect password \n",
            "sorry\n"
          ]
        }
      ],
      "source": [
        "email1=input()\n",
        "password1=input()\n",
        "if email1==\"sudhanshu@gmail.com\" and password1== \"Sud@123\":\n",
        "  print(\"You are welcome\")\n",
        "elif email1==\"sudhanshu@gmail.com\" and password1!= \"Sud@123\":\n",
        "  print(\"incorrect password \")\n",
        "  password=input(\"Enter the password again\")\n",
        "  if password== \"Sudcho@123\":\n",
        "    print(\"Atlast\")\n",
        "  else:\n",
        "    print(\"sorry\")\n",
        "else:\n",
        "  print(\"chor h kya\")"
      ]
    },
    {
      "cell_type": "code",
      "execution_count": null,
      "metadata": {
        "colab": {
          "background_save": true
        },
        "id": "LF3x7URAdaJ1",
        "outputId": "61230313-10eb-43b6-84da-00aff1973661"
      },
      "outputs": [
        {
          "name": "stderr",
          "output_type": "stream",
          "text": [
            "/usr/local/lib/python3.10/dist-packages/ipykernel/ipkernel.py:283: DeprecationWarning: `should_run_async` will not call `transform_cell` automatically in the future. Please pass the result to `transformed_cell` argument and any exception that happen during thetransform in `preprocessing_exc_tuple` in IPython 7.17 and above.\n"
          ]
        },
        {
          "data": {
            "text/html": [
              "\n",
              "            <style>\n",
              "                .geemap-dark {\n",
              "                    --jp-widgets-color: white;\n",
              "                    --jp-widgets-label-color: white;\n",
              "                    --jp-ui-font-color1: white;\n",
              "                    --jp-layout-color2: #454545;\n",
              "                    background-color: #383838;\n",
              "                }\n",
              "\n",
              "                .geemap-dark .jupyter-button {\n",
              "                    --jp-layout-color3: #383838;\n",
              "                }\n",
              "\n",
              "                .geemap-colab {\n",
              "                    background-color: var(--colab-primary-surface-color, white);\n",
              "                }\n",
              "\n",
              "                .geemap-colab .jupyter-button {\n",
              "                    --jp-layout-color3: var(--colab-primary-surface-color, white);\n",
              "                }\n",
              "            </style>\n",
              "            "
            ],
            "text/plain": [
              "<IPython.core.display.HTML object>"
            ]
          },
          "metadata": {},
          "output_type": "display_data"
        }
      ],
      "source": [
        "n1=int(input())\n",
        "n2=int(input())\n",
        "n3=int(input())\n",
        "if n1>n2 and n1>n3:\n",
        "  print(\"n1 is greater than n2 and n3\")\n",
        "elif n2>n3:\n",
        "  print(\"n2 is greater than n1 and n2\")\n",
        "else:\n",
        "  print(\"n3 is greatest\")\n"
      ]
    },
    {
      "cell_type": "markdown",
      "metadata": {
        "id": "oMzkDTT2fuhu"
      },
      "source": [
        "#Modules in python\n",
        "\n",
        "* Math\n",
        "* Keyword\n",
        "* datetime\n",
        "* random"
      ]
    },
    {
      "cell_type": "code",
      "execution_count": null,
      "metadata": {
        "id": "Lr48RaPZf9RC",
        "colab": {
          "base_uri": "https://localhost:8080/"
        },
        "outputId": "4db27a44-f663-49e6-9fec-ca4f9c4de402"
      },
      "outputs": [
        {
          "output_type": "stream",
          "name": "stdout",
          "text": [
            "120\n",
            "6\n",
            "9.219544457292887\n"
          ]
        }
      ],
      "source": [
        "#math\n",
        "import math\n",
        "print(math.factorial(5))\n",
        "print(math.floor(6.8))\n",
        "print(math.sqrt(85))\n"
      ]
    },
    {
      "cell_type": "code",
      "execution_count": null,
      "metadata": {
        "id": "mplsJ2gAhAdf",
        "colab": {
          "base_uri": "https://localhost:8080/"
        },
        "outputId": "66f576fb-2138-49e8-d5b0-4a9dac96a3e7"
      },
      "outputs": [
        {
          "output_type": "stream",
          "name": "stdout",
          "text": [
            "['False', 'None', 'True', 'and', 'as', 'assert', 'async', 'await', 'break', 'class', 'continue', 'def', 'del', 'elif', 'else', 'except', 'finally', 'for', 'from', 'global', 'if', 'import', 'in', 'is', 'lambda', 'nonlocal', 'not', 'or', 'pass', 'raise', 'return', 'try', 'while', 'with', 'yield']\n"
          ]
        }
      ],
      "source": [
        "#Keyword\n",
        "import keyword\n",
        "print(keyword.kwlist)"
      ]
    },
    {
      "cell_type": "code",
      "execution_count": null,
      "metadata": {
        "id": "3nzPr-tkhRW2",
        "colab": {
          "base_uri": "https://localhost:8080/"
        },
        "outputId": "ac62af5a-54f8-4932-a5ff-798ee55f439a"
      },
      "outputs": [
        {
          "output_type": "stream",
          "name": "stdout",
          "text": [
            "42\n"
          ]
        }
      ],
      "source": [
        "#Random\n",
        "import random\n",
        "print(random.randint(1,100))"
      ]
    },
    {
      "cell_type": "code",
      "execution_count": null,
      "metadata": {
        "id": "iYOlngHRhs99",
        "colab": {
          "base_uri": "https://localhost:8080/"
        },
        "outputId": "fef53365-9ec8-4877-bce1-95a427158f2a"
      },
      "outputs": [
        {
          "output_type": "stream",
          "name": "stdout",
          "text": [
            "2024-06-25 06:24:16.038841\n"
          ]
        }
      ],
      "source": [
        "#datetime\n",
        "import datetime\n",
        "print(datetime.datetime.now())\n"
      ]
    },
    {
      "cell_type": "markdown",
      "metadata": {
        "id": "TDqLVi7ciVyf"
      },
      "source": [
        "#loops in Python\n",
        "* Need for loop\n",
        "* While loop\n",
        "* for loop"
      ]
    },
    {
      "cell_type": "code",
      "execution_count": null,
      "metadata": {
        "id": "sJsFaQltioow",
        "colab": {
          "base_uri": "https://localhost:8080/"
        },
        "outputId": "3262ab69-4af3-4ef8-ade1-64b6eff50930"
      },
      "outputs": [
        {
          "output_type": "stream",
          "name": "stdout",
          "text": [
            "Enter the number5\n",
            "5\n",
            "10\n",
            "15\n",
            "20\n",
            "25\n",
            "30\n",
            "35\n",
            "40\n",
            "45\n",
            "50\n"
          ]
        }
      ],
      "source": [
        "t1=int(input(\"Enter the number\"))\n",
        "i=1\n",
        "while i<11:\n",
        "  print(t1*i)\n",
        "  i+=1"
      ]
    },
    {
      "cell_type": "code",
      "execution_count": null,
      "metadata": {
        "id": "J21Y4ZkTibr6",
        "colab": {
          "base_uri": "https://localhost:8080/"
        },
        "outputId": "8b321781-8ab9-4210-bcde-a9128f25ba19"
      },
      "outputs": [
        {
          "output_type": "stream",
          "name": "stdout",
          "text": [
            "1\n",
            "2\n",
            "limit crossed\n"
          ]
        }
      ],
      "source": [
        "# While loop with else\n",
        "x=1\n",
        "while x<3:\n",
        "  print(x)\n",
        "  x+=1\n",
        "else:\n",
        "  print(\"limit crossed\")"
      ]
    },
    {
      "cell_type": "code",
      "execution_count": null,
      "metadata": {
        "id": "EZniiRj9mv3y",
        "colab": {
          "base_uri": "https://localhost:8080/"
        },
        "outputId": "5d40b076-aa1a-4b23-abda-4727539d7f7b"
      },
      "outputs": [
        {
          "output_type": "stream",
          "name": "stdout",
          "text": [
            "1\n",
            "2\n",
            "3\n",
            "4\n",
            "5\n",
            "6\n",
            "7\n",
            "8\n",
            "9\n",
            "10\n"
          ]
        }
      ],
      "source": [
        "#For loop\n",
        "for i in range(1,11):\n",
        "  print(i)"
      ]
    },
    {
      "cell_type": "code",
      "execution_count": null,
      "metadata": {
        "id": "A-8r8s5zm_Wd",
        "colab": {
          "base_uri": "https://localhost:8080/"
        },
        "outputId": "60f02a85-a60a-4f53-cdd5-f8ceb605e2b2"
      },
      "outputs": [
        {
          "output_type": "stream",
          "name": "stdout",
          "text": [
            "d\n",
            "e\n",
            "l\n",
            "h\n",
            "i\n"
          ]
        }
      ],
      "source": [
        "for i in \"delhi\":\n",
        "  print(i)"
      ]
    },
    {
      "cell_type": "code",
      "execution_count": null,
      "metadata": {
        "id": "Vj3A4iuFn2Va",
        "colab": {
          "base_uri": "https://localhost:8080/"
        },
        "outputId": "faf3c25c-d325-471c-d11f-31a01072071f"
      },
      "outputs": [
        {
          "output_type": "stream",
          "name": "stdout",
          "text": [
            "1\n",
            "2\n",
            "3\n",
            "4\n"
          ]
        }
      ],
      "source": [
        "for i in [1,2,3,4]:\n",
        "  print(i)"
      ]
    },
    {
      "cell_type": "code",
      "execution_count": null,
      "metadata": {
        "id": "Y-NeUjhcn-Ec",
        "colab": {
          "base_uri": "https://localhost:8080/"
        },
        "outputId": "79e4f187-160d-4b3f-f144-65e17f60c443"
      },
      "outputs": [
        {
          "output_type": "stream",
          "name": "stdout",
          "text": [
            "10 year population is 10000\n",
            "9 year population is 9090.90909090909\n",
            "8 year population is 8264.462809917353\n",
            "7 year population is 7513.148009015775\n",
            "6 year population is 6830.134553650703\n",
            "5 year population is 6209.213230591548\n",
            "4 year population is 5644.739300537771\n",
            "3 year population is 5131.5811823070635\n",
            "2 year population is 4665.07380209733\n",
            "1 year population is 4240.976183724845\n"
          ]
        }
      ],
      "source": [
        "cur_pop=10000\n",
        "print(10,\"year population is\",10000)\n",
        "for i in range(9,0,-1):\n",
        "  cur_pop=cur_pop/1.1\n",
        "  print(i,\"year population is\",cur_pop)\n"
      ]
    },
    {
      "cell_type": "code",
      "source": [
        "fact=1\n",
        "sum=0\n",
        "n1=int(input())\n",
        "for i in range(1,n1+1):\n",
        "  fact=fact*i\n",
        "  sum+=(i/fact)\n",
        "print(sum)"
      ],
      "metadata": {
        "colab": {
          "base_uri": "https://localhost:8080/"
        },
        "id": "oRlYG-byHcpP",
        "outputId": "6aedfa4b-2355-405f-9286-0c3f92bdd967"
      },
      "execution_count": null,
      "outputs": [
        {
          "output_type": "stream",
          "name": "stdout",
          "text": [
            "9\n",
            "2.71827876984127\n"
          ]
        }
      ]
    },
    {
      "cell_type": "code",
      "source": [
        "for i in range(1,6):\n",
        "  for j in range(1,6):\n",
        "    print(\"(\",i,\",\",j,\")\",end=\",\")\n",
        "  print()"
      ],
      "metadata": {
        "colab": {
          "base_uri": "https://localhost:8080/"
        },
        "id": "JwV9vh54aF9j",
        "outputId": "15981bc3-4219-4bb1-b515-c5c102720983"
      },
      "execution_count": null,
      "outputs": [
        {
          "output_type": "stream",
          "name": "stdout",
          "text": [
            "( 1 , 1 ),( 1 , 2 ),( 1 , 3 ),( 1 , 4 ),( 1 , 5 ),\n",
            "( 2 , 1 ),( 2 , 2 ),( 2 , 3 ),( 2 , 4 ),( 2 , 5 ),\n",
            "( 3 , 1 ),( 3 , 2 ),( 3 , 3 ),( 3 , 4 ),( 3 , 5 ),\n",
            "( 4 , 1 ),( 4 , 2 ),( 4 , 3 ),( 4 , 4 ),( 4 , 5 ),\n",
            "( 5 , 1 ),( 5 , 2 ),( 5 , 3 ),( 5 , 4 ),( 5 , 5 ),\n"
          ]
        }
      ]
    },
    {
      "cell_type": "code",
      "source": [
        "l1=int(input(\"Enter the star you want to print\"))\n",
        "for i in range(1,l1+1):\n",
        "  for j in range(1,i+1):\n",
        "    print(\"*\",end=\" \")\n",
        "  print()\n"
      ],
      "metadata": {
        "colab": {
          "base_uri": "https://localhost:8080/"
        },
        "id": "N3Ehn8uwcGk9",
        "outputId": "b405b3db-3252-4b9a-9dd1-68ec10179ad2"
      },
      "execution_count": null,
      "outputs": [
        {
          "output_type": "stream",
          "name": "stdout",
          "text": [
            "Enter the star you want to print3\n",
            "* \n",
            "* * \n",
            "* * * \n"
          ]
        }
      ]
    },
    {
      "cell_type": "code",
      "source": [
        "l2= int(input(\"enter the number\"))\n",
        "for i in range(1,l2+1):\n",
        "  for j in range(1,i+1):\n",
        "    print(j, end=\" \")\n",
        "  for k in range(i-1,0,-1):\n",
        "    print(k,end=\" \")\n",
        "  print()"
      ],
      "metadata": {
        "colab": {
          "base_uri": "https://localhost:8080/"
        },
        "id": "QYvFhvs_dvcH",
        "outputId": "24044ceb-770f-4308-f360-20e93a2fbcc4"
      },
      "execution_count": null,
      "outputs": [
        {
          "output_type": "stream",
          "name": "stdout",
          "text": [
            "enter the number5\n",
            "1 \n",
            "1 2 1 \n",
            "1 2 3 2 1 \n",
            "1 2 3 4 3 2 1 \n",
            "1 2 3 4 5 4 3 2 1 \n"
          ]
        }
      ]
    },
    {
      "cell_type": "markdown",
      "source": [
        "#Loop Control Statement"
      ],
      "metadata": {
        "id": "lLpKoAAdkdN-"
      }
    },
    {
      "cell_type": "markdown",
      "source": [
        "##Break"
      ],
      "metadata": {
        "id": "tK5eC9c7khbw"
      }
    },
    {
      "cell_type": "code",
      "source": [
        "for i in range(1,10):\n",
        "  if i==5:\n",
        "    break\n",
        "  print(i)"
      ],
      "metadata": {
        "colab": {
          "base_uri": "https://localhost:8080/"
        },
        "id": "V9kXeOiLkyOL",
        "outputId": "b5c131ef-0b4f-4732-c50b-8c9b5f55b2e7"
      },
      "execution_count": null,
      "outputs": [
        {
          "output_type": "stream",
          "name": "stdout",
          "text": [
            "1\n",
            "2\n",
            "3\n",
            "4\n"
          ]
        }
      ]
    },
    {
      "cell_type": "markdown",
      "source": [
        "#Continue"
      ],
      "metadata": {
        "id": "vTgP3m_X04jE"
      }
    },
    {
      "cell_type": "code",
      "source": [
        "for i in range(1,10):\n",
        "  if i==5:\n",
        "    continue\n",
        "  print(i)"
      ],
      "metadata": {
        "colab": {
          "base_uri": "https://localhost:8080/"
        },
        "id": "15V6-Bmr0sYb",
        "outputId": "92fa3cff-43c0-470e-eb27-5b495e04b54d"
      },
      "execution_count": null,
      "outputs": [
        {
          "output_type": "stream",
          "name": "stdout",
          "text": [
            "1\n",
            "2\n",
            "3\n",
            "4\n",
            "6\n",
            "7\n",
            "8\n",
            "9\n"
          ]
        }
      ]
    },
    {
      "cell_type": "code",
      "source": [
        "for i in range(1,10):\n",
        "  pass"
      ],
      "metadata": {
        "id": "ZSXdbWC209Li"
      },
      "execution_count": null,
      "outputs": []
    },
    {
      "cell_type": "markdown",
      "source": [
        "##Strings\n",
        "###In python specifically, string are a sequence of Unicode Character\n"
      ],
      "metadata": {
        "id": "12XMsRzV1V7L"
      }
    },
    {
      "cell_type": "code",
      "source": [
        "#Creating strings\n",
        "s1=\"hello\"\n",
        "s2='hello'\n",
        "s3=\"\"\"hello\"\"\"\n",
        "print(s1,s2,s3)"
      ],
      "metadata": {
        "colab": {
          "base_uri": "https://localhost:8080/"
        },
        "id": "Z60R4ORh2Df7",
        "outputId": "8d7df8f0-2775-4a0f-cec2-c24f8b8bed2e"
      },
      "execution_count": null,
      "outputs": [
        {
          "output_type": "stream",
          "name": "stdout",
          "text": [
            "hello hello hello\n"
          ]
        }
      ]
    },
    {
      "cell_type": "code",
      "source": [
        "s4=\"it's raining outside\"\n",
        "print(s4)"
      ],
      "metadata": {
        "colab": {
          "base_uri": "https://localhost:8080/"
        },
        "id": "skp0-AN32XK0",
        "outputId": "f899e655-3f60-4a18-dfa9-16574a02d353"
      },
      "execution_count": null,
      "outputs": [
        {
          "output_type": "stream",
          "name": "stdout",
          "text": [
            "it's raining outside\n"
          ]
        }
      ]
    },
    {
      "cell_type": "code",
      "source": [
        "s5=str(\"hello\")\n",
        "print(s5)"
      ],
      "metadata": {
        "colab": {
          "base_uri": "https://localhost:8080/"
        },
        "id": "Efjevf_B2d2e",
        "outputId": "015bab9e-9115-4bd8-d672-1a82143bf63a"
      },
      "execution_count": null,
      "outputs": [
        {
          "output_type": "stream",
          "name": "stdout",
          "text": [
            "hello\n"
          ]
        }
      ]
    },
    {
      "cell_type": "code",
      "source": [
        "#Accessing Substring from a  String\n",
        "#Positive indexing\n",
        "s6=\"hello world\"\n",
        "print(s6[1])\n",
        "#Negative indexing\n",
        "print(s6[-1])"
      ],
      "metadata": {
        "colab": {
          "base_uri": "https://localhost:8080/"
        },
        "id": "HX6eu_hI2zvH",
        "outputId": "8f3a9ba9-16ca-4b8c-ca51-8dfb3de37991"
      },
      "execution_count": null,
      "outputs": [
        {
          "output_type": "stream",
          "name": "stdout",
          "text": [
            "e\n",
            "d\n"
          ]
        }
      ]
    },
    {
      "cell_type": "code",
      "source": [
        "#Slicing\n",
        "print(s6[1:3])\n",
        "print(s6[2:])\n",
        "print(s6[:])\n",
        "print(s6[::2])\n",
        "print(s6[::-1])\n",
        "print(s6[-1:-6:-1])\n",
        "print(s6[-1:-6:-2])"
      ],
      "metadata": {
        "colab": {
          "base_uri": "https://localhost:8080/"
        },
        "id": "gNheR0-K3VHb",
        "outputId": "5ab45c1d-4ac2-4279-e8aa-f19e7ba63fd8"
      },
      "execution_count": null,
      "outputs": [
        {
          "output_type": "stream",
          "name": "stdout",
          "text": [
            "el\n",
            "llo world\n",
            "hello world\n",
            "hlowrd\n",
            "dlrow olleh\n",
            "dlrow\n",
            "drw\n"
          ]
        }
      ]
    },
    {
      "cell_type": "code",
      "source": [
        "#Strings are immutable\n",
        "s6[0]=\"H\""
      ],
      "metadata": {
        "colab": {
          "base_uri": "https://localhost:8080/",
          "height": 158
        },
        "id": "NE0bwEiY4AVW",
        "outputId": "d68cc619-6de0-44d8-b9e3-88ee4d0004aa"
      },
      "execution_count": null,
      "outputs": [
        {
          "output_type": "error",
          "ename": "TypeError",
          "evalue": "'str' object does not support item assignment",
          "traceback": [
            "\u001b[0;31m---------------------------------------------------------------------------\u001b[0m",
            "\u001b[0;31mTypeError\u001b[0m                                 Traceback (most recent call last)",
            "\u001b[0;32m<ipython-input-81-360745686da6>\u001b[0m in \u001b[0;36m<cell line: 2>\u001b[0;34m()\u001b[0m\n\u001b[1;32m      1\u001b[0m \u001b[0;31m#Strings are immutable\u001b[0m\u001b[0;34m\u001b[0m\u001b[0;34m\u001b[0m\u001b[0m\n\u001b[0;32m----> 2\u001b[0;31m \u001b[0ms6\u001b[0m\u001b[0;34m[\u001b[0m\u001b[0;36m0\u001b[0m\u001b[0;34m]\u001b[0m\u001b[0;34m=\u001b[0m\u001b[0;34m\"H\"\u001b[0m\u001b[0;34m\u001b[0m\u001b[0;34m\u001b[0m\u001b[0m\n\u001b[0m",
            "\u001b[0;31mTypeError\u001b[0m: 'str' object does not support item assignment"
          ]
        }
      ]
    },
    {
      "cell_type": "code",
      "source": [
        "s7=\"Hello\"\n",
        "del s7\n",
        "print(s7)"
      ],
      "metadata": {
        "colab": {
          "base_uri": "https://localhost:8080/",
          "height": 176
        },
        "id": "VcsFmvEk5sme",
        "outputId": "91468dbb-cf0a-417c-fbe4-4c193b5f5486"
      },
      "execution_count": null,
      "outputs": [
        {
          "output_type": "error",
          "ename": "NameError",
          "evalue": "name 's7' is not defined",
          "traceback": [
            "\u001b[0;31m---------------------------------------------------------------------------\u001b[0m",
            "\u001b[0;31mNameError\u001b[0m                                 Traceback (most recent call last)",
            "\u001b[0;32m<ipython-input-82-21e5f7a57f96>\u001b[0m in \u001b[0;36m<cell line: 3>\u001b[0;34m()\u001b[0m\n\u001b[1;32m      1\u001b[0m \u001b[0ms7\u001b[0m\u001b[0;34m=\u001b[0m\u001b[0;34m\"Hello\"\u001b[0m\u001b[0;34m\u001b[0m\u001b[0;34m\u001b[0m\u001b[0m\n\u001b[1;32m      2\u001b[0m \u001b[0;32mdel\u001b[0m \u001b[0ms7\u001b[0m\u001b[0;34m\u001b[0m\u001b[0;34m\u001b[0m\u001b[0m\n\u001b[0;32m----> 3\u001b[0;31m \u001b[0mprint\u001b[0m\u001b[0;34m(\u001b[0m\u001b[0ms7\u001b[0m\u001b[0;34m)\u001b[0m\u001b[0;34m\u001b[0m\u001b[0;34m\u001b[0m\u001b[0m\n\u001b[0m",
            "\u001b[0;31mNameError\u001b[0m: name 's7' is not defined"
          ]
        }
      ]
    },
    {
      "cell_type": "code",
      "source": [
        "s8=\"Hello\"\n",
        "del s[-1:-4:2]\n",
        "print(s8)"
      ],
      "metadata": {
        "colab": {
          "base_uri": "https://localhost:8080/",
          "height": 176
        },
        "id": "TLTKcZA751p_",
        "outputId": "6f34b89f-2732-41a7-f2ec-2c35f761a5ec"
      },
      "execution_count": null,
      "outputs": [
        {
          "output_type": "error",
          "ename": "NameError",
          "evalue": "name 's' is not defined",
          "traceback": [
            "\u001b[0;31m---------------------------------------------------------------------------\u001b[0m",
            "\u001b[0;31mNameError\u001b[0m                                 Traceback (most recent call last)",
            "\u001b[0;32m<ipython-input-83-da5c2537a2c7>\u001b[0m in \u001b[0;36m<cell line: 2>\u001b[0;34m()\u001b[0m\n\u001b[1;32m      1\u001b[0m \u001b[0ms8\u001b[0m\u001b[0;34m=\u001b[0m\u001b[0;34m\"Hello\"\u001b[0m\u001b[0;34m\u001b[0m\u001b[0;34m\u001b[0m\u001b[0m\n\u001b[0;32m----> 2\u001b[0;31m \u001b[0;32mdel\u001b[0m \u001b[0ms\u001b[0m\u001b[0;34m[\u001b[0m\u001b[0;34m-\u001b[0m\u001b[0;36m1\u001b[0m\u001b[0;34m:\u001b[0m\u001b[0;34m-\u001b[0m\u001b[0;36m4\u001b[0m\u001b[0;34m:\u001b[0m\u001b[0;36m2\u001b[0m\u001b[0;34m]\u001b[0m\u001b[0;34m\u001b[0m\u001b[0;34m\u001b[0m\u001b[0m\n\u001b[0m\u001b[1;32m      3\u001b[0m \u001b[0mprint\u001b[0m\u001b[0;34m(\u001b[0m\u001b[0ms8\u001b[0m\u001b[0;34m)\u001b[0m\u001b[0;34m\u001b[0m\u001b[0;34m\u001b[0m\u001b[0m\n",
            "\u001b[0;31mNameError\u001b[0m: name 's' is not defined"
          ]
        }
      ]
    },
    {
      "cell_type": "markdown",
      "source": [
        "##Operation on strings\n",
        "* Arithmetic Operator\n",
        "* Relational operator\n",
        "* Logical OPerator\n",
        "* Loops on strings\n",
        "* Membership operator\n"
      ],
      "metadata": {
        "id": "AuoOkizn6RWv"
      }
    },
    {
      "cell_type": "code",
      "source": [
        "print(\"delhi\"+\"mumbai\")"
      ],
      "metadata": {
        "colab": {
          "base_uri": "https://localhost:8080/"
        },
        "id": "YgQmY5po60Rg",
        "outputId": "d85de8f8-da8c-40a1-ef6e-2e99bf4fad17"
      },
      "execution_count": null,
      "outputs": [
        {
          "output_type": "stream",
          "name": "stdout",
          "text": [
            "delhimumbai\n"
          ]
        }
      ]
    },
    {
      "cell_type": "code",
      "source": [
        "print(\"Delhi\"*5)"
      ],
      "metadata": {
        "colab": {
          "base_uri": "https://localhost:8080/"
        },
        "id": "RaqrZDFz654x",
        "outputId": "4326acf7-b86a-49e6-a676-6a6739abee1d"
      },
      "execution_count": null,
      "outputs": [
        {
          "output_type": "stream",
          "name": "stdout",
          "text": [
            "DelhiDelhiDelhiDelhiDelhi\n"
          ]
        }
      ]
    },
    {
      "cell_type": "code",
      "source": [
        "#Subtration, division,modulus doesnot work in string"
      ],
      "metadata": {
        "id": "N3kS6qn46-JG"
      },
      "execution_count": null,
      "outputs": []
    },
    {
      "cell_type": "code",
      "source": [
        "\"delhi\"==\"mumbai\"\n"
      ],
      "metadata": {
        "colab": {
          "base_uri": "https://localhost:8080/"
        },
        "id": "tGz5Y1g57O6v",
        "outputId": "aae12fb3-de6b-46c8-8c76-974486d436cf"
      },
      "execution_count": null,
      "outputs": [
        {
          "output_type": "execute_result",
          "data": {
            "text/plain": [
              "False"
            ]
          },
          "metadata": {},
          "execution_count": 105
        }
      ]
    },
    {
      "cell_type": "code",
      "source": [
        "\"delhi\"!=\"mumbai\""
      ],
      "metadata": {
        "colab": {
          "base_uri": "https://localhost:8080/"
        },
        "id": "4ADhJbOc7Wme",
        "outputId": "23ba2479-43b7-4fc0-ca38-6f97e37c4e6e"
      },
      "execution_count": null,
      "outputs": [
        {
          "output_type": "execute_result",
          "data": {
            "text/plain": [
              "True"
            ]
          },
          "metadata": {},
          "execution_count": 106
        }
      ]
    },
    {
      "cell_type": "code",
      "source": [
        "\"Delhi\">=\"Mumbai\""
      ],
      "metadata": {
        "colab": {
          "base_uri": "https://localhost:8080/"
        },
        "id": "wRq0oaEP7dSV",
        "outputId": "680d1b09-0f33-45ae-9cb3-de979d9ce6f6"
      },
      "execution_count": null,
      "outputs": [
        {
          "output_type": "execute_result",
          "data": {
            "text/plain": [
              "False"
            ]
          },
          "metadata": {},
          "execution_count": 107
        }
      ]
    },
    {
      "cell_type": "code",
      "source": [
        "\"Delhi\"<=\"Mumbai\""
      ],
      "metadata": {
        "colab": {
          "base_uri": "https://localhost:8080/"
        },
        "id": "QV8y2FrY7iRP",
        "outputId": "5dbc9749-930b-426f-92ed-7b6fb6b932e5"
      },
      "execution_count": null,
      "outputs": [
        {
          "output_type": "execute_result",
          "data": {
            "text/plain": [
              "True"
            ]
          },
          "metadata": {},
          "execution_count": 108
        }
      ]
    },
    {
      "cell_type": "code",
      "source": [
        "\"Hello\" and \"WOrld\""
      ],
      "metadata": {
        "colab": {
          "base_uri": "https://localhost:8080/",
          "height": 36
        },
        "id": "UNp0zLM87mN1",
        "outputId": "9252dc05-5532-48a6-dd97-ed7bb4b3675f"
      },
      "execution_count": null,
      "outputs": [
        {
          "output_type": "execute_result",
          "data": {
            "text/plain": [
              "'WOrld'"
            ],
            "application/vnd.google.colaboratory.intrinsic+json": {
              "type": "string"
            }
          },
          "metadata": {},
          "execution_count": 109
        }
      ]
    },
    {
      "cell_type": "code",
      "source": [
        "\"Hello\" or \"World\""
      ],
      "metadata": {
        "colab": {
          "base_uri": "https://localhost:8080/",
          "height": 36
        },
        "id": "ICIBsZeCCvNa",
        "outputId": "f0c446e2-fd30-4275-f203-7fa9e0a1cc05"
      },
      "execution_count": null,
      "outputs": [
        {
          "output_type": "execute_result",
          "data": {
            "text/plain": [
              "'Hello'"
            ],
            "application/vnd.google.colaboratory.intrinsic+json": {
              "type": "string"
            }
          },
          "metadata": {},
          "execution_count": 110
        }
      ]
    },
    {
      "cell_type": "code",
      "source": [
        "\"\" and \"world\""
      ],
      "metadata": {
        "colab": {
          "base_uri": "https://localhost:8080/",
          "height": 36
        },
        "id": "meMwzI9PC8fx",
        "outputId": "944d3440-ef81-46bf-89ee-1c8050fcb94f"
      },
      "execution_count": null,
      "outputs": [
        {
          "output_type": "execute_result",
          "data": {
            "text/plain": [
              "''"
            ],
            "application/vnd.google.colaboratory.intrinsic+json": {
              "type": "string"
            }
          },
          "metadata": {},
          "execution_count": 111
        }
      ]
    },
    {
      "cell_type": "code",
      "source": [
        "\"hello\" and \"\""
      ],
      "metadata": {
        "colab": {
          "base_uri": "https://localhost:8080/",
          "height": 36
        },
        "id": "mR1huQ3mDC5k",
        "outputId": "3a06337f-540b-48ff-a4fb-7e9b3cf30ef3"
      },
      "execution_count": null,
      "outputs": [
        {
          "output_type": "execute_result",
          "data": {
            "text/plain": [
              "''"
            ],
            "application/vnd.google.colaboratory.intrinsic+json": {
              "type": "string"
            }
          },
          "metadata": {},
          "execution_count": 112
        }
      ]
    },
    {
      "cell_type": "code",
      "source": [
        "not \"\""
      ],
      "metadata": {
        "colab": {
          "base_uri": "https://localhost:8080/"
        },
        "id": "bP7k9wgJDGjH",
        "outputId": "df233a6a-e161-4246-f5e8-a743dcd23ae6"
      },
      "execution_count": null,
      "outputs": [
        {
          "output_type": "execute_result",
          "data": {
            "text/plain": [
              "True"
            ]
          },
          "metadata": {},
          "execution_count": 113
        }
      ]
    },
    {
      "cell_type": "code",
      "source": [
        "not \" ehllo\""
      ],
      "metadata": {
        "colab": {
          "base_uri": "https://localhost:8080/"
        },
        "id": "2ijSyY5NDPw7",
        "outputId": "64fbdaba-8fdd-4b25-bf99-1685dfb65be0"
      },
      "execution_count": null,
      "outputs": [
        {
          "output_type": "execute_result",
          "data": {
            "text/plain": [
              "False"
            ]
          },
          "metadata": {},
          "execution_count": 114
        }
      ]
    },
    {
      "cell_type": "code",
      "source": [
        "for i in \"hello\":\n",
        "  print(i)"
      ],
      "metadata": {
        "colab": {
          "base_uri": "https://localhost:8080/"
        },
        "id": "hYaXZdwLDhxD",
        "outputId": "ce6b4e43-19fa-4b98-ce12-23314fe5d391"
      },
      "execution_count": null,
      "outputs": [
        {
          "output_type": "stream",
          "name": "stdout",
          "text": [
            "h\n",
            "e\n",
            "l\n",
            "l\n",
            "o\n"
          ]
        }
      ]
    },
    {
      "cell_type": "code",
      "source": [
        "for i in \"delhi\":\n",
        "  print(\"Pune\")"
      ],
      "metadata": {
        "colab": {
          "base_uri": "https://localhost:8080/"
        },
        "id": "RQr2X2RnDlZL",
        "outputId": "05ea1452-1c50-4d12-9f99-6a43f2f1b714"
      },
      "execution_count": null,
      "outputs": [
        {
          "output_type": "stream",
          "name": "stdout",
          "text": [
            "Pune\n",
            "Pune\n",
            "Pune\n",
            "Pune\n",
            "Pune\n"
          ]
        }
      ]
    },
    {
      "cell_type": "code",
      "source": [
        "\"D\" in \"Delhi\""
      ],
      "metadata": {
        "colab": {
          "base_uri": "https://localhost:8080/"
        },
        "id": "hOV31KHgDsoc",
        "outputId": "78e10b3b-61bb-4712-fdbc-2a63ecf1c6c0"
      },
      "execution_count": null,
      "outputs": [
        {
          "output_type": "execute_result",
          "data": {
            "text/plain": [
              "True"
            ]
          },
          "metadata": {},
          "execution_count": 117
        }
      ]
    },
    {
      "cell_type": "code",
      "source": [
        "\"D\" not in \"Delhi\""
      ],
      "metadata": {
        "colab": {
          "base_uri": "https://localhost:8080/"
        },
        "id": "SIGLgAi9Dw-a",
        "outputId": "c89583c9-34b0-4b92-e3f8-cb8a37cb7dea"
      },
      "execution_count": null,
      "outputs": [
        {
          "output_type": "execute_result",
          "data": {
            "text/plain": [
              "False"
            ]
          },
          "metadata": {},
          "execution_count": 118
        }
      ]
    },
    {
      "cell_type": "markdown",
      "source": [
        "##Common function\n",
        "* Len\n",
        "*max\n",
        "*min\n",
        "*sorted"
      ],
      "metadata": {
        "id": "m8VpH2p3D322"
      }
    },
    {
      "cell_type": "code",
      "source": [
        "len(\"string\")"
      ],
      "metadata": {
        "colab": {
          "base_uri": "https://localhost:8080/"
        },
        "id": "mY6qBZ6_EHl7",
        "outputId": "ebc60c3f-8397-4816-eb6c-05a663344aa8"
      },
      "execution_count": null,
      "outputs": [
        {
          "output_type": "execute_result",
          "data": {
            "text/plain": [
              "6"
            ]
          },
          "metadata": {},
          "execution_count": 119
        }
      ]
    },
    {
      "cell_type": "code",
      "source": [
        "max(\"string\")"
      ],
      "metadata": {
        "colab": {
          "base_uri": "https://localhost:8080/",
          "height": 36
        },
        "id": "gzTMOqcsEKBu",
        "outputId": "12fc0b1f-dd3f-464c-b7c9-87991990f8cf"
      },
      "execution_count": null,
      "outputs": [
        {
          "output_type": "execute_result",
          "data": {
            "text/plain": [
              "'t'"
            ],
            "application/vnd.google.colaboratory.intrinsic+json": {
              "type": "string"
            }
          },
          "metadata": {},
          "execution_count": 120
        }
      ]
    },
    {
      "cell_type": "code",
      "source": [
        "min(\"String\")"
      ],
      "metadata": {
        "colab": {
          "base_uri": "https://localhost:8080/",
          "height": 36
        },
        "id": "z55R0VHfENsL",
        "outputId": "6f876576-4f95-41a3-88f2-663f4f898ae3"
      },
      "execution_count": null,
      "outputs": [
        {
          "output_type": "execute_result",
          "data": {
            "text/plain": [
              "'S'"
            ],
            "application/vnd.google.colaboratory.intrinsic+json": {
              "type": "string"
            }
          },
          "metadata": {},
          "execution_count": 121
        }
      ]
    },
    {
      "cell_type": "code",
      "source": [
        "sorted(\"String\")"
      ],
      "metadata": {
        "colab": {
          "base_uri": "https://localhost:8080/"
        },
        "id": "LuViftJOEP_T",
        "outputId": "f303b4a1-dc6e-4e98-ea65-49bcbe237418"
      },
      "execution_count": null,
      "outputs": [
        {
          "output_type": "execute_result",
          "data": {
            "text/plain": [
              "['S', 'g', 'i', 'n', 'r', 't']"
            ]
          },
          "metadata": {},
          "execution_count": 122
        }
      ]
    },
    {
      "cell_type": "code",
      "source": [
        "sorted(\"string\", reverse=True)"
      ],
      "metadata": {
        "colab": {
          "base_uri": "https://localhost:8080/"
        },
        "id": "_7Tcm_2OEUSY",
        "outputId": "e0b19e08-991b-49b9-89e2-c0d96113fea4"
      },
      "execution_count": null,
      "outputs": [
        {
          "output_type": "execute_result",
          "data": {
            "text/plain": [
              "['t', 's', 'r', 'n', 'i', 'g']"
            ]
          },
          "metadata": {},
          "execution_count": 123
        }
      ]
    },
    {
      "cell_type": "code",
      "source": [
        "##Function only for string\n",
        "s9=\"hello world\"\n",
        "s9.capitalize()\n"
      ],
      "metadata": {
        "colab": {
          "base_uri": "https://localhost:8080/",
          "height": 36
        },
        "id": "zlZVUkg1EYkt",
        "outputId": "659ec4c6-be03-42c2-98a7-b70039bb6050"
      },
      "execution_count": null,
      "outputs": [
        {
          "output_type": "execute_result",
          "data": {
            "text/plain": [
              "'Hello World'"
            ],
            "application/vnd.google.colaboratory.intrinsic+json": {
              "type": "string"
            }
          },
          "metadata": {},
          "execution_count": 125
        }
      ]
    },
    {
      "cell_type": "code",
      "source": [
        "s9.title()"
      ],
      "metadata": {
        "colab": {
          "base_uri": "https://localhost:8080/",
          "height": 36
        },
        "id": "kNSzAUzjEttC",
        "outputId": "8f14bdc0-d324-4461-fba8-e728e26120cb"
      },
      "execution_count": null,
      "outputs": [
        {
          "output_type": "execute_result",
          "data": {
            "text/plain": [
              "'Hello World'"
            ],
            "application/vnd.google.colaboratory.intrinsic+json": {
              "type": "string"
            }
          },
          "metadata": {},
          "execution_count": 126
        }
      ]
    },
    {
      "cell_type": "code",
      "source": [
        "s9.upper()"
      ],
      "metadata": {
        "colab": {
          "base_uri": "https://localhost:8080/",
          "height": 36
        },
        "id": "fhBNAt4ZEutP",
        "outputId": "ebcad0cf-07bc-476c-ab8d-2107c64e4d62"
      },
      "execution_count": null,
      "outputs": [
        {
          "output_type": "execute_result",
          "data": {
            "text/plain": [
              "'HELLO WORLD'"
            ],
            "application/vnd.google.colaboratory.intrinsic+json": {
              "type": "string"
            }
          },
          "metadata": {},
          "execution_count": 127
        }
      ]
    },
    {
      "cell_type": "code",
      "source": [
        "s9.lower()"
      ],
      "metadata": {
        "colab": {
          "base_uri": "https://localhost:8080/",
          "height": 36
        },
        "id": "k0eZzzqZE0Gt",
        "outputId": "83cb52e8-5725-4028-9c67-29f0bbf7b82d"
      },
      "execution_count": null,
      "outputs": [
        {
          "output_type": "execute_result",
          "data": {
            "text/plain": [
              "'hello world'"
            ],
            "application/vnd.google.colaboratory.intrinsic+json": {
              "type": "string"
            }
          },
          "metadata": {},
          "execution_count": 128
        }
      ]
    },
    {
      "cell_type": "code",
      "source": [
        "s9.swapcase()"
      ],
      "metadata": {
        "colab": {
          "base_uri": "https://localhost:8080/",
          "height": 36
        },
        "id": "OCL8qw30E3ea",
        "outputId": "58d1d118-6e81-4321-a76e-c829328e6217"
      },
      "execution_count": null,
      "outputs": [
        {
          "output_type": "execute_result",
          "data": {
            "text/plain": [
              "'HELLO WORLD'"
            ],
            "application/vnd.google.colaboratory.intrinsic+json": {
              "type": "string"
            }
          },
          "metadata": {},
          "execution_count": 130
        }
      ]
    },
    {
      "cell_type": "code",
      "source": [
        "s9.count(\"o\")"
      ],
      "metadata": {
        "colab": {
          "base_uri": "https://localhost:8080/"
        },
        "id": "ljkMvxdiE_xB",
        "outputId": "89cc9e7e-d527-4c99-98ad-960270ed3f70"
      },
      "execution_count": null,
      "outputs": [
        {
          "output_type": "execute_result",
          "data": {
            "text/plain": [
              "2"
            ]
          },
          "metadata": {},
          "execution_count": 132
        }
      ]
    },
    {
      "cell_type": "code",
      "source": [
        "s9.find(\"o\")"
      ],
      "metadata": {
        "colab": {
          "base_uri": "https://localhost:8080/"
        },
        "id": "gIoEm7DfFLK8",
        "outputId": "e80662f6-927b-42f7-dbde-a429c3fc5e16"
      },
      "execution_count": null,
      "outputs": [
        {
          "output_type": "execute_result",
          "data": {
            "text/plain": [
              "4"
            ]
          },
          "metadata": {},
          "execution_count": 133
        }
      ]
    },
    {
      "cell_type": "code",
      "source": [
        "s9.find(\"a\")"
      ],
      "metadata": {
        "colab": {
          "base_uri": "https://localhost:8080/"
        },
        "id": "uxgWS7g2FcfE",
        "outputId": "8bdac895-0dec-43af-e220-33b84b6cb140"
      },
      "execution_count": null,
      "outputs": [
        {
          "output_type": "execute_result",
          "data": {
            "text/plain": [
              "-1"
            ]
          },
          "metadata": {},
          "execution_count": 134
        }
      ]
    },
    {
      "cell_type": "code",
      "source": [
        "s9.index(\"w\")"
      ],
      "metadata": {
        "colab": {
          "base_uri": "https://localhost:8080/"
        },
        "id": "DdtfmrqWFfxN",
        "outputId": "88a0cc74-9c28-46b8-fc0a-ea1d9ce88c0a"
      },
      "execution_count": null,
      "outputs": [
        {
          "output_type": "execute_result",
          "data": {
            "text/plain": [
              "6"
            ]
          },
          "metadata": {},
          "execution_count": 135
        }
      ]
    },
    {
      "cell_type": "code",
      "source": [
        "s9.index(\"a\")\n",
        "#error is thrown"
      ],
      "metadata": {
        "colab": {
          "base_uri": "https://localhost:8080/",
          "height": 158
        },
        "id": "5Ntx8DeqFlX8",
        "outputId": "11abd0d8-b3cd-4304-d900-a952a9a50b16"
      },
      "execution_count": null,
      "outputs": [
        {
          "output_type": "error",
          "ename": "ValueError",
          "evalue": "substring not found",
          "traceback": [
            "\u001b[0;31m---------------------------------------------------------------------------\u001b[0m",
            "\u001b[0;31mValueError\u001b[0m                                Traceback (most recent call last)",
            "\u001b[0;32m<ipython-input-137-59352ae89977>\u001b[0m in \u001b[0;36m<cell line: 1>\u001b[0;34m()\u001b[0m\n\u001b[0;32m----> 1\u001b[0;31m \u001b[0ms9\u001b[0m\u001b[0;34m.\u001b[0m\u001b[0mindex\u001b[0m\u001b[0;34m(\u001b[0m\u001b[0;34m\"a\"\u001b[0m\u001b[0;34m)\u001b[0m\u001b[0;34m\u001b[0m\u001b[0;34m\u001b[0m\u001b[0m\n\u001b[0m\u001b[1;32m      2\u001b[0m \u001b[0;31m#error is thrown\u001b[0m\u001b[0;34m\u001b[0m\u001b[0;34m\u001b[0m\u001b[0m\n",
            "\u001b[0;31mValueError\u001b[0m: substring not found"
          ]
        }
      ]
    },
    {
      "cell_type": "code",
      "source": [
        "\"hello\".endswith(\"o\")"
      ],
      "metadata": {
        "colab": {
          "base_uri": "https://localhost:8080/"
        },
        "id": "nXKmK5djFqA4",
        "outputId": "ab6c16f0-e64d-4641-d2ed-a56019874e8b"
      },
      "execution_count": null,
      "outputs": [
        {
          "output_type": "execute_result",
          "data": {
            "text/plain": [
              "True"
            ]
          },
          "metadata": {},
          "execution_count": 138
        }
      ]
    },
    {
      "cell_type": "code",
      "source": [
        "\"Heloo\".startswith(\"H\")"
      ],
      "metadata": {
        "colab": {
          "base_uri": "https://localhost:8080/"
        },
        "id": "GfNhJMcIF0BW",
        "outputId": "17f8cc9a-b23b-4cc3-9492-cd1799779a85"
      },
      "execution_count": null,
      "outputs": [
        {
          "output_type": "execute_result",
          "data": {
            "text/plain": [
              "True"
            ]
          },
          "metadata": {},
          "execution_count": 139
        }
      ]
    },
    {
      "cell_type": "code",
      "source": [
        "name=\"sudhanshu\"\n",
        "gender=\"male\"\n",
        "\"Hy my name is {} and i am a {}\".format(name,gender)\n"
      ],
      "metadata": {
        "colab": {
          "base_uri": "https://localhost:8080/",
          "height": 36
        },
        "id": "XMatXqoMF428",
        "outputId": "e2a65378-75e0-41b5-df2e-a9ff482618ea"
      },
      "execution_count": null,
      "outputs": [
        {
          "output_type": "execute_result",
          "data": {
            "text/plain": [
              "'Hy my name is sudhanshu and i am amale'"
            ],
            "application/vnd.google.colaboratory.intrinsic+json": {
              "type": "string"
            }
          },
          "metadata": {},
          "execution_count": 140
        }
      ]
    },
    {
      "cell_type": "code",
      "source": [
        "\"nitish1234\".isalnum()"
      ],
      "metadata": {
        "colab": {
          "base_uri": "https://localhost:8080/"
        },
        "id": "smVneWHQGONk",
        "outputId": "a43dcf72-9ffb-4e73-eb09-e241d2c7b6bf"
      },
      "execution_count": null,
      "outputs": [
        {
          "output_type": "execute_result",
          "data": {
            "text/plain": [
              "True"
            ]
          },
          "metadata": {},
          "execution_count": 141
        }
      ]
    },
    {
      "cell_type": "code",
      "source": [
        "\"nitisg\".isalpha()"
      ],
      "metadata": {
        "colab": {
          "base_uri": "https://localhost:8080/"
        },
        "id": "GQC-BEs_G0LG",
        "outputId": "bbf35195-c254-4b41-f9fc-8729817db3af"
      },
      "execution_count": null,
      "outputs": [
        {
          "output_type": "execute_result",
          "data": {
            "text/plain": [
              "True"
            ]
          },
          "metadata": {},
          "execution_count": 142
        }
      ]
    },
    {
      "cell_type": "code",
      "source": [
        "\"nitisg1234\".isalpha()"
      ],
      "metadata": {
        "colab": {
          "base_uri": "https://localhost:8080/"
        },
        "id": "w2yZb9FIFnQ1",
        "outputId": "a0dc99c9-7d71-4d16-8860-09dde62ef921"
      },
      "execution_count": null,
      "outputs": [
        {
          "output_type": "execute_result",
          "data": {
            "text/plain": [
              "False"
            ]
          },
          "metadata": {},
          "execution_count": 144
        }
      ]
    },
    {
      "cell_type": "code",
      "source": [
        "\"123\".isdigit()"
      ],
      "metadata": {
        "colab": {
          "base_uri": "https://localhost:8080/"
        },
        "id": "ENhIYoo5HARB",
        "outputId": "03b71b38-60ef-415c-cb6d-9d36cdef4f33"
      },
      "execution_count": null,
      "outputs": [
        {
          "output_type": "execute_result",
          "data": {
            "text/plain": [
              "True"
            ]
          },
          "metadata": {},
          "execution_count": 146
        }
      ]
    },
    {
      "cell_type": "code",
      "source": [
        "\"1name\".isidentifier()"
      ],
      "metadata": {
        "colab": {
          "base_uri": "https://localhost:8080/"
        },
        "id": "ooQTBRqnHXoT",
        "outputId": "74dac23d-9b0f-416c-f62f-94d1d4fb0564"
      },
      "execution_count": null,
      "outputs": [
        {
          "output_type": "execute_result",
          "data": {
            "text/plain": [
              "False"
            ]
          },
          "metadata": {},
          "execution_count": 147
        }
      ]
    },
    {
      "cell_type": "code",
      "source": [
        "\"hi my name is sudhanshu\".split()"
      ],
      "metadata": {
        "colab": {
          "base_uri": "https://localhost:8080/"
        },
        "id": "m1KpZ3lQHfng",
        "outputId": "8998f6e6-d8f2-4884-d615-358d121a0b2e"
      },
      "execution_count": null,
      "outputs": [
        {
          "output_type": "execute_result",
          "data": {
            "text/plain": [
              "['hi', 'my', 'name', 'is', 'sudhanshu']"
            ]
          },
          "metadata": {},
          "execution_count": 148
        }
      ]
    },
    {
      "cell_type": "code",
      "source": [
        "\"hi m name is sudhanshu\".split(\"a\")"
      ],
      "metadata": {
        "colab": {
          "base_uri": "https://localhost:8080/"
        },
        "id": "ald1FxSLHl8m",
        "outputId": "aaed4b7b-5a36-4ef3-ee34-319b7ebe2e6c"
      },
      "execution_count": null,
      "outputs": [
        {
          "output_type": "execute_result",
          "data": {
            "text/plain": [
              "['hi m n', 'me is sudh', 'nshu']"
            ]
          },
          "metadata": {},
          "execution_count": 149
        }
      ]
    },
    {
      "cell_type": "code",
      "source": [
        "\"\""
      ],
      "metadata": {
        "id": "eJQEX4AOHsD0"
      },
      "execution_count": null,
      "outputs": []
    },
    {
      "cell_type": "code",
      "source": [
        "\" \".join(['hi', 'my', 'name', 'is', 'sudhanshu'])"
      ],
      "metadata": {
        "colab": {
          "base_uri": "https://localhost:8080/",
          "height": 36
        },
        "id": "4VWykHnpE6Hq",
        "outputId": "b58fc23e-e0a0-43c5-fb13-52592cb76626"
      },
      "execution_count": null,
      "outputs": [
        {
          "output_type": "execute_result",
          "data": {
            "text/plain": [
              "'hi my name is sudhanshu'"
            ],
            "application/vnd.google.colaboratory.intrinsic+json": {
              "type": "string"
            }
          },
          "metadata": {},
          "execution_count": 151
        }
      ]
    },
    {
      "cell_type": "code",
      "source": [
        "\"hy my mane is sudhanshu chouhan\".replace(\"sudhanshu\",\"Sidhu\")"
      ],
      "metadata": {
        "colab": {
          "base_uri": "https://localhost:8080/",
          "height": 36
        },
        "id": "rZ6c7C8zH4Gp",
        "outputId": "56a1630d-88fc-48bc-f977-4d35ae7a0b65"
      },
      "execution_count": null,
      "outputs": [
        {
          "output_type": "execute_result",
          "data": {
            "text/plain": [
              "'hy my mane is Sidhu chouhan'"
            ],
            "application/vnd.google.colaboratory.intrinsic+json": {
              "type": "string"
            }
          },
          "metadata": {},
          "execution_count": 152
        }
      ]
    },
    {
      "cell_type": "code",
      "source": [
        "\"sudhanshu               \".strip()"
      ],
      "metadata": {
        "colab": {
          "base_uri": "https://localhost:8080/",
          "height": 36
        },
        "id": "odRbP7I2IJDq",
        "outputId": "ed3c5219-98eb-4dec-d84d-0bcc62994dac"
      },
      "execution_count": null,
      "outputs": [
        {
          "output_type": "execute_result",
          "data": {
            "text/plain": [
              "'sudhanshu'"
            ],
            "application/vnd.google.colaboratory.intrinsic+json": {
              "type": "string"
            }
          },
          "metadata": {},
          "execution_count": 153
        }
      ]
    },
    {
      "cell_type": "code",
      "source": [
        "#Find the length of a given string without using the len() function\n",
        "st= input()\n",
        "count=0\n",
        "for i in st:\n",
        "  count+=1\n",
        "print(count)"
      ],
      "metadata": {
        "id": "Mhx14Q9vIaRg",
        "colab": {
          "base_uri": "https://localhost:8080/"
        },
        "outputId": "06924412-6d7e-49d8-af21-c95d1a60972a"
      },
      "execution_count": null,
      "outputs": [
        {
          "output_type": "stream",
          "name": "stdout",
          "text": [
            "sudhanhsu\n",
            "9\n"
          ]
        }
      ]
    },
    {
      "cell_type": "code",
      "source": [
        "#Extract username from a given email\n",
        "#Eg if the email is nitish24singh@gmail.com\n",
        "#then the username should be nitish24singh\n",
        "email1=input()\n",
        "pos=email1.index(\"@\")\n",
        "print(email1[0:pos])\n"
      ],
      "metadata": {
        "colab": {
          "base_uri": "https://localhost:8080/"
        },
        "id": "0fiu66A-zKfQ",
        "outputId": "de49b65b-a935-48cf-9771-b4307550b470"
      },
      "execution_count": null,
      "outputs": [
        {
          "output_type": "stream",
          "name": "stdout",
          "text": [
            "sudhanshu@gmail.com\n",
            "sudhanshu\n"
          ]
        }
      ]
    },
    {
      "cell_type": "code",
      "source": [
        "#Count the frequency of a particular character in aprovided string.\n",
        "#Eg \"hello how are you\" is the string, the frequency of h in this string is 2:\n",
        "s11=input()\n",
        "word=input()\n",
        "s11.count(word)\n"
      ],
      "metadata": {
        "colab": {
          "base_uri": "https://localhost:8080/"
        },
        "id": "LwvPJjmz1ZuP",
        "outputId": "d71cf6ce-9e64-4d51-b659-aac00d884027"
      },
      "execution_count": null,
      "outputs": [
        {
          "name": "stdout",
          "output_type": "stream",
          "text": [
            "hy my nae is sudhanshu\n",
            "s\n"
          ]
        },
        {
          "output_type": "execute_result",
          "data": {
            "text/plain": [
              "3"
            ]
          },
          "metadata": {},
          "execution_count": 13
        }
      ]
    },
    {
      "cell_type": "code",
      "source": [
        "s12=input()\n",
        "search=input(\"what word you want to search\")\n",
        "count=0\n",
        "for i in s12:\n",
        "  if search==i:\n",
        "    count+=1\n",
        "print(count)"
      ],
      "metadata": {
        "colab": {
          "base_uri": "https://localhost:8080/"
        },
        "id": "csJ__RRY2Tf0",
        "outputId": "0d3dd2cc-e961-44fc-d43d-ed3034241c25"
      },
      "execution_count": null,
      "outputs": [
        {
          "output_type": "stream",
          "name": "stdout",
          "text": [
            "my name is sudhanshu\n",
            "what word you want to searchs\n",
            "3\n"
          ]
        }
      ]
    },
    {
      "cell_type": "code",
      "source": [
        "#Write a program which can remove a particular character from a string\n",
        "s12=input()\n",
        "char=input()\n",
        "s13=\"\"\n",
        "for i in s12:\n",
        "  if char!=i:\n",
        "    s13=s13+i\n",
        "print(s13)\n"
      ],
      "metadata": {
        "colab": {
          "base_uri": "https://localhost:8080/"
        },
        "id": "w1Jvz-wC2HQN",
        "outputId": "5448c8c5-e842-4481-f58f-c708e1bbd8ce"
      },
      "execution_count": null,
      "outputs": [
        {
          "output_type": "stream",
          "name": "stdout",
          "text": [
            "sudhanshu\n",
            "s\n",
            "udhanhu\n"
          ]
        }
      ]
    },
    {
      "cell_type": "code",
      "source": [
        "#Write a program that check whether a given string is palindrome or not.\n",
        "s14=input()\n",
        "if s14==s14[::-1]:\n",
        "  print(\"This is a palindrome\")\n",
        "else:\n",
        "  print(\"This is not a palindrome\")"
      ],
      "metadata": {
        "colab": {
          "base_uri": "https://localhost:8080/"
        },
        "id": "i0LT2O_AWnoK",
        "outputId": "dcff24ca-137e-4766-b006-9fdfa1097205"
      },
      "execution_count": null,
      "outputs": [
        {
          "output_type": "stream",
          "name": "stdout",
          "text": [
            "madma\n",
            "This is not a palindrome\n"
          ]
        }
      ]
    },
    {
      "cell_type": "code",
      "source": [
        "s15=input()\n",
        "flag=True\n",
        "for i in range(0,len(s15)//2):\n",
        "  if s15[i]!=s15[len(s15)-i-1]:\n",
        "    flag=False\n",
        "    print(\"It is not a palindrome\")\n",
        "    break\n",
        "if flag:\n",
        "  print(\"It is a palindrome\")"
      ],
      "metadata": {
        "colab": {
          "base_uri": "https://localhost:8080/"
        },
        "id": "7pt7By4IX13R",
        "outputId": "d3120ec8-3d49-49fe-df62-015e69f6f111"
      },
      "execution_count": null,
      "outputs": [
        {
          "output_type": "stream",
          "name": "stdout",
          "text": [
            "madma\n",
            "It is not a palindrome\n"
          ]
        }
      ]
    },
    {
      "cell_type": "code",
      "source": [
        "#Write a program to count the number of words in a string without split():\n",
        "s16=input()\n",
        "count=0\n",
        "for i in s16:\n",
        "  count+=1\n",
        "print(count)"
      ],
      "metadata": {
        "colab": {
          "base_uri": "https://localhost:8080/"
        },
        "id": "ZnLnctgJal9d",
        "outputId": "e920def0-325b-471a-b561-029650897092"
      },
      "execution_count": null,
      "outputs": [
        {
          "output_type": "stream",
          "name": "stdout",
          "text": [
            "sudhanshu\n",
            "9\n"
          ]
        }
      ]
    },
    {
      "cell_type": "code",
      "source": [
        "#Write a python program to convert a string to a title case without using the title\n"
      ],
      "metadata": {
        "id": "t8iGlJUWa9Bu"
      },
      "execution_count": null,
      "outputs": []
    },
    {
      "cell_type": "code",
      "source": [
        "s17=input()\n",
        "l1=[]\n",
        "temp=\"\"\n",
        "for i in s17:\n",
        "  if i!=\" \":\n",
        "    temp=temp+i\n",
        "  else:\n",
        "    l1.append(temp)\n",
        "    temp=\"\"\n",
        "l1.append(temp)\n",
        "print(l1)"
      ],
      "metadata": {
        "colab": {
          "base_uri": "https://localhost:8080/"
        },
        "id": "UJ7W80wCbauy",
        "outputId": "33e045a0-f0b4-4a59-8ab8-8f5cf076d464"
      },
      "execution_count": null,
      "outputs": [
        {
          "output_type": "stream",
          "name": "stdout",
          "text": [
            "my name is khan\n",
            "['my', 'name', 'is', 'khan']\n"
          ]
        }
      ]
    },
    {
      "cell_type": "code",
      "source": [
        "#Write a python program to convert a string to a title case without using the title.\n",
        "s19=input()\n",
        "l1=[]\n",
        "for i in s19.split():\n",
        "  l1.append(i[0].upper()+i[1:].lower())\n",
        "print(\" \".join(l1))"
      ],
      "metadata": {
        "colab": {
          "base_uri": "https://localhost:8080/"
        },
        "id": "89Y7uKdjpWkF",
        "outputId": "e8b8712e-19b3-4402-e32e-a5ad691467c0"
      },
      "execution_count": null,
      "outputs": [
        {
          "output_type": "stream",
          "name": "stdout",
          "text": [
            "my name is khan\n",
            "My Name Is Khan\n"
          ]
        }
      ]
    },
    {
      "cell_type": "code",
      "source": [
        "#Write a program that can convert an integer to a string\n",
        "s21=int(input())\n",
        "digit=\"0123456789\"\n",
        "result=\"\"\n",
        "while s21!=0:\n",
        "  result=digit[s21%10]+result\n",
        "  s21=s21//10\n",
        "\n",
        "print(result)\n",
        "print(type(result))\n"
      ],
      "metadata": {
        "colab": {
          "base_uri": "https://localhost:8080/",
          "height": 228
        },
        "id": "aIj_hm8PspHZ",
        "outputId": "ec83e539-1e78-47ee-dc79-5d977e7aae57"
      },
      "execution_count": null,
      "outputs": [
        {
          "name": "stdout",
          "output_type": "stream",
          "text": [
            "\n"
          ]
        },
        {
          "output_type": "error",
          "ename": "ValueError",
          "evalue": "invalid literal for int() with base 10: ''",
          "traceback": [
            "\u001b[0;31m---------------------------------------------------------------------------\u001b[0m",
            "\u001b[0;31mValueError\u001b[0m                                Traceback (most recent call last)",
            "\u001b[0;32m<ipython-input-1-72bff4eae107>\u001b[0m in \u001b[0;36m<cell line: 2>\u001b[0;34m()\u001b[0m\n\u001b[1;32m      1\u001b[0m \u001b[0;31m#Write a program that can convert an integer to a string\u001b[0m\u001b[0;34m\u001b[0m\u001b[0;34m\u001b[0m\u001b[0m\n\u001b[0;32m----> 2\u001b[0;31m \u001b[0ms21\u001b[0m\u001b[0;34m=\u001b[0m\u001b[0mint\u001b[0m\u001b[0;34m(\u001b[0m\u001b[0minput\u001b[0m\u001b[0;34m(\u001b[0m\u001b[0;34m)\u001b[0m\u001b[0;34m)\u001b[0m\u001b[0;34m\u001b[0m\u001b[0;34m\u001b[0m\u001b[0m\n\u001b[0m\u001b[1;32m      3\u001b[0m \u001b[0mdigit\u001b[0m\u001b[0;34m=\u001b[0m\u001b[0;34m\"0123456789\"\u001b[0m\u001b[0;34m\u001b[0m\u001b[0;34m\u001b[0m\u001b[0m\n\u001b[1;32m      4\u001b[0m \u001b[0mresult\u001b[0m\u001b[0;34m=\u001b[0m\u001b[0;34m\"\"\u001b[0m\u001b[0;34m\u001b[0m\u001b[0;34m\u001b[0m\u001b[0m\n\u001b[1;32m      5\u001b[0m \u001b[0;32mwhile\u001b[0m \u001b[0ms21\u001b[0m\u001b[0;34m!=\u001b[0m\u001b[0;36m0\u001b[0m\u001b[0;34m:\u001b[0m\u001b[0;34m\u001b[0m\u001b[0;34m\u001b[0m\u001b[0m\n",
            "\u001b[0;31mValueError\u001b[0m: invalid literal for int() with base 10: ''"
          ]
        }
      ]
    },
    {
      "cell_type": "code",
      "source": [
        "#Function\n",
        "def is_even(num):\n",
        "  \"\"\"\n",
        "  This function returns if a given number is odd or even\n",
        "  Input - any valid integer\n",
        "  Output - odd/even\n",
        "  \"\"\"\n",
        "  if type(num)==int:\n",
        "   if num%2==0:\n",
        "      return \"even\"\n",
        "   else:\n",
        "      return\"odd\"\n",
        "  else:\n",
        "    return \"pagal h kya\""
      ],
      "metadata": {
        "id": "n1Mvg4JE0FQY"
      },
      "execution_count": null,
      "outputs": []
    },
    {
      "cell_type": "code",
      "source": [
        "#Function\n",
        "for i in range(1,11):\n",
        "  x=is_even(i)\n",
        "  print(x)\n"
      ],
      "metadata": {
        "colab": {
          "base_uri": "https://localhost:8080/"
        },
        "id": "diONod_L07ar",
        "outputId": "9aa336e2-cfa6-463c-d8ac-f5ff79a2f7ab"
      },
      "execution_count": null,
      "outputs": [
        {
          "output_type": "stream",
          "name": "stdout",
          "text": [
            "odd\n",
            "even\n",
            "odd\n",
            "even\n",
            "odd\n",
            "even\n",
            "odd\n",
            "even\n",
            "odd\n",
            "even\n"
          ]
        }
      ]
    },
    {
      "cell_type": "markdown",
      "source": [
        "2 Point Of Views"
      ],
      "metadata": {
        "id": "kdoK_YCM1cCJ"
      }
    },
    {
      "cell_type": "code",
      "source": [
        "is_even(\"Hello\")"
      ],
      "metadata": {
        "colab": {
          "base_uri": "https://localhost:8080/",
          "height": 36
        },
        "id": "zLw3r7DD1hgF",
        "outputId": "5c12b95e-3798-4af0-d810-6428c7867eba"
      },
      "execution_count": null,
      "outputs": [
        {
          "output_type": "execute_result",
          "data": {
            "text/plain": [
              "'pagal h kya'"
            ],
            "application/vnd.google.colaboratory.intrinsic+json": {
              "type": "string"
            }
          },
          "metadata": {},
          "execution_count": 9
        }
      ]
    },
    {
      "cell_type": "markdown",
      "source": [
        "#Types Of Arguments\n",
        "\n",
        "\n",
        "*   Default Argument\n",
        "*   Positional Argument\n",
        "*   Keyword Argument\n",
        "\n",
        "\n",
        "\n"
      ],
      "metadata": {
        "id": "Z1XzsBNL24eJ"
      }
    },
    {
      "cell_type": "code",
      "source": [
        "def power(a=1,b=2):\n",
        "  return a**b\n"
      ],
      "metadata": {
        "id": "nBdjWeoY4OeZ"
      },
      "execution_count": null,
      "outputs": []
    },
    {
      "cell_type": "code",
      "source": [
        "power(2)"
      ],
      "metadata": {
        "colab": {
          "base_uri": "https://localhost:8080/"
        },
        "id": "ASNqHCCU4WRM",
        "outputId": "94293c22-8ec1-4868-b086-2b2058d016a5"
      },
      "execution_count": null,
      "outputs": [
        {
          "output_type": "execute_result",
          "data": {
            "text/plain": [
              "4"
            ]
          },
          "metadata": {},
          "execution_count": 3
        }
      ]
    },
    {
      "cell_type": "code",
      "source": [
        "power()"
      ],
      "metadata": {
        "colab": {
          "base_uri": "https://localhost:8080/"
        },
        "id": "vsYMrILg4dUf",
        "outputId": "acc71a45-8a5e-4dc5-e3a0-bd177cf62161"
      },
      "execution_count": null,
      "outputs": [
        {
          "output_type": "execute_result",
          "data": {
            "text/plain": [
              "1"
            ]
          },
          "metadata": {},
          "execution_count": 4
        }
      ]
    },
    {
      "cell_type": "code",
      "source": [
        "power(2,2)"
      ],
      "metadata": {
        "colab": {
          "base_uri": "https://localhost:8080/"
        },
        "id": "8EzUKUVB4fa-",
        "outputId": "c594dbaa-d7f5-4421-d4c7-fd41310809c6"
      },
      "execution_count": null,
      "outputs": [
        {
          "output_type": "execute_result",
          "data": {
            "text/plain": [
              "4"
            ]
          },
          "metadata": {},
          "execution_count": 5
        }
      ]
    },
    {
      "cell_type": "markdown",
      "source": [
        "Positional Argument"
      ],
      "metadata": {
        "id": "N6e9GEjM4haT"
      }
    },
    {
      "cell_type": "code",
      "source": [
        "power(2,3)"
      ],
      "metadata": {
        "colab": {
          "base_uri": "https://localhost:8080/"
        },
        "id": "lVzqmcUB8b1p",
        "outputId": "cb8ffd96-91d9-483f-a2be-b7a8bfa43b61"
      },
      "execution_count": null,
      "outputs": [
        {
          "output_type": "execute_result",
          "data": {
            "text/plain": [
              "8"
            ]
          },
          "metadata": {},
          "execution_count": 6
        }
      ]
    },
    {
      "cell_type": "markdown",
      "source": [
        "Keyword argument"
      ],
      "metadata": {
        "id": "V_3d6RUQ2oz_"
      }
    },
    {
      "cell_type": "code",
      "source": [
        "power(b=3,a=2)"
      ],
      "metadata": {
        "colab": {
          "base_uri": "https://localhost:8080/"
        },
        "id": "ZYFi-KfU2jpW",
        "outputId": "f9622e3d-e2eb-4ad0-cfff-365376da89df"
      },
      "execution_count": null,
      "outputs": [
        {
          "output_type": "execute_result",
          "data": {
            "text/plain": [
              "8"
            ]
          },
          "metadata": {},
          "execution_count": 7
        }
      ]
    },
    {
      "cell_type": "markdown",
      "source": [
        "* args and *kargs"
      ],
      "metadata": {
        "id": "mzrOqxGP2nne"
      }
    },
    {
      "cell_type": "markdown",
      "source": [
        "*args\n",
        "* allows us to pass a variable number of non- keyword argument to a function"
      ],
      "metadata": {
        "id": "zqfWSeBb2gHi"
      }
    },
    {
      "cell_type": "code",
      "source": [
        "def multiply(*args):\n",
        "  product=1\n",
        "  for i in args:\n",
        "    product=product*i\n",
        "  return product"
      ],
      "metadata": {
        "id": "-N93XhsQ33R6"
      },
      "execution_count": null,
      "outputs": []
    },
    {
      "cell_type": "code",
      "source": [
        "multiply(1,2,3,4,5,6,7)"
      ],
      "metadata": {
        "colab": {
          "base_uri": "https://localhost:8080/"
        },
        "id": "UlSRN0c84G67",
        "outputId": "d5e07abc-1482-4d96-d22f-e19aecee18a9"
      },
      "execution_count": null,
      "outputs": [
        {
          "output_type": "execute_result",
          "data": {
            "text/plain": [
              "5040"
            ]
          },
          "metadata": {},
          "execution_count": 10
        }
      ]
    },
    {
      "cell_type": "markdown",
      "source": [
        "**Kwargs\n",
        "** allows us to pass a variable number of keyword argument to a function\n",
        "#keyword arguments mean that they contain a key value pair , like a python dictionary"
      ],
      "metadata": {
        "id": "kIQ6Pi-_4NUC"
      }
    },
    {
      "cell_type": "code",
      "source": [
        "def display(**kwargs):\n",
        "  for(key, value) in kwargs.items():\n",
        "    print(key,\"->\", value)\n"
      ],
      "metadata": {
        "id": "vl9Cbk1459q-"
      },
      "execution_count": null,
      "outputs": []
    },
    {
      "cell_type": "code",
      "source": [
        "display(india=\"delhi\",srilanka=\"colombo\")"
      ],
      "metadata": {
        "colab": {
          "base_uri": "https://localhost:8080/"
        },
        "id": "RbY1GBqT6hTj",
        "outputId": "0d5f178d-7f76-458a-d50b-cbfc6ed9c7a4"
      },
      "execution_count": null,
      "outputs": [
        {
          "output_type": "stream",
          "name": "stdout",
          "text": [
            "india -> delhi\n",
            "srilanka -> colombo\n"
          ]
        }
      ]
    },
    {
      "cell_type": "markdown",
      "source": [
        "##POints to remeber while using ** args and **Kwargs\n",
        "* order of argument matters(normal->*args->**kwargs)\n",
        "* The words \"args and \"kwargs\"are only a convention, you can use any name of your choices"
      ],
      "metadata": {
        "id": "zswv5kNf66Os"
      }
    },
    {
      "cell_type": "markdown",
      "source": [
        "#How function are executed in memory"
      ],
      "metadata": {
        "id": "mORHRX927Yba"
      }
    },
    {
      "cell_type": "code",
      "source": [
        "L=[1,2,3,4]\n",
        "print(L.append(5))\n",
        "print(L)"
      ],
      "metadata": {
        "colab": {
          "base_uri": "https://localhost:8080/"
        },
        "id": "CsBWPrDPdzNK",
        "outputId": "7fa4b816-b9ea-4ad4-d753-e770241eda96"
      },
      "execution_count": null,
      "outputs": [
        {
          "output_type": "stream",
          "name": "stdout",
          "text": [
            "None\n",
            "[1, 2, 3, 4, 5]\n"
          ]
        }
      ]
    },
    {
      "cell_type": "markdown",
      "source": [
        "##Variable Scope"
      ],
      "metadata": {
        "id": "KjrDxSoLewGD"
      }
    },
    {
      "cell_type": "code",
      "source": [
        "def g(y):\n",
        "  print(x)\n",
        "  print(x+1)\n",
        "x=5\n",
        "g(x)\n",
        "print(x)"
      ],
      "metadata": {
        "colab": {
          "base_uri": "https://localhost:8080/"
        },
        "id": "CT2gxuTYe0zR",
        "outputId": "ad3da975-7bdc-4a8b-dd31-ee8107ac9c0f"
      },
      "execution_count": null,
      "outputs": [
        {
          "output_type": "stream",
          "name": "stdout",
          "text": [
            "5\n",
            "6\n",
            "5\n"
          ]
        }
      ]
    },
    {
      "cell_type": "code",
      "source": [
        "def f(y):\n",
        "  x=1\n",
        "  x+=1\n",
        "  print(x)\n",
        "x=5\n",
        "f(x)\n",
        "print(x)"
      ],
      "metadata": {
        "colab": {
          "base_uri": "https://localhost:8080/"
        },
        "id": "xLsatxFXgMeF",
        "outputId": "92330c78-a8de-4023-cb13-fbe1733508f3"
      },
      "execution_count": null,
      "outputs": [
        {
          "output_type": "stream",
          "name": "stdout",
          "text": [
            "2\n",
            "5\n"
          ]
        }
      ]
    },
    {
      "cell_type": "code",
      "source": [
        "def h(y):\n",
        "  x+=1\n",
        "x=5\n",
        "h(x)\n",
        "print(x)\n"
      ],
      "metadata": {
        "colab": {
          "base_uri": "https://localhost:8080/",
          "height": 315
        },
        "id": "u6RndrY3hbq1",
        "outputId": "84ed91c5-c9ac-4338-c2d7-3f83f7e78e74"
      },
      "execution_count": null,
      "outputs": [
        {
          "output_type": "error",
          "ename": "UnboundLocalError",
          "evalue": "local variable 'x' referenced before assignment",
          "traceback": [
            "\u001b[0;31m---------------------------------------------------------------------------\u001b[0m",
            "\u001b[0;31mUnboundLocalError\u001b[0m                         Traceback (most recent call last)",
            "\u001b[0;32m<ipython-input-9-81c4a3b56f7f>\u001b[0m in \u001b[0;36m<cell line: 4>\u001b[0;34m()\u001b[0m\n\u001b[1;32m      2\u001b[0m   \u001b[0mx\u001b[0m\u001b[0;34m+=\u001b[0m\u001b[0;36m1\u001b[0m\u001b[0;34m\u001b[0m\u001b[0;34m\u001b[0m\u001b[0m\n\u001b[1;32m      3\u001b[0m \u001b[0mx\u001b[0m\u001b[0;34m=\u001b[0m\u001b[0;36m5\u001b[0m\u001b[0;34m\u001b[0m\u001b[0;34m\u001b[0m\u001b[0m\n\u001b[0;32m----> 4\u001b[0;31m \u001b[0mh\u001b[0m\u001b[0;34m(\u001b[0m\u001b[0mx\u001b[0m\u001b[0;34m)\u001b[0m\u001b[0;34m\u001b[0m\u001b[0;34m\u001b[0m\u001b[0m\n\u001b[0m\u001b[1;32m      5\u001b[0m \u001b[0mprint\u001b[0m\u001b[0;34m(\u001b[0m\u001b[0mx\u001b[0m\u001b[0;34m)\u001b[0m\u001b[0;34m\u001b[0m\u001b[0;34m\u001b[0m\u001b[0m\n",
            "\u001b[0;32m<ipython-input-9-81c4a3b56f7f>\u001b[0m in \u001b[0;36mh\u001b[0;34m(y)\u001b[0m\n\u001b[1;32m      1\u001b[0m \u001b[0;32mdef\u001b[0m \u001b[0mh\u001b[0m\u001b[0;34m(\u001b[0m\u001b[0my\u001b[0m\u001b[0;34m)\u001b[0m\u001b[0;34m:\u001b[0m\u001b[0;34m\u001b[0m\u001b[0;34m\u001b[0m\u001b[0m\n\u001b[0;32m----> 2\u001b[0;31m   \u001b[0mx\u001b[0m\u001b[0;34m+=\u001b[0m\u001b[0;36m1\u001b[0m\u001b[0;34m\u001b[0m\u001b[0;34m\u001b[0m\u001b[0m\n\u001b[0m\u001b[1;32m      3\u001b[0m \u001b[0mx\u001b[0m\u001b[0;34m=\u001b[0m\u001b[0;36m5\u001b[0m\u001b[0;34m\u001b[0m\u001b[0;34m\u001b[0m\u001b[0m\n\u001b[1;32m      4\u001b[0m \u001b[0mh\u001b[0m\u001b[0;34m(\u001b[0m\u001b[0mx\u001b[0m\u001b[0;34m)\u001b[0m\u001b[0;34m\u001b[0m\u001b[0;34m\u001b[0m\u001b[0m\n\u001b[1;32m      5\u001b[0m \u001b[0mprint\u001b[0m\u001b[0;34m(\u001b[0m\u001b[0mx\u001b[0m\u001b[0;34m)\u001b[0m\u001b[0;34m\u001b[0m\u001b[0;34m\u001b[0m\u001b[0m\n",
            "\u001b[0;31mUnboundLocalError\u001b[0m: local variable 'x' referenced before assignment"
          ]
        }
      ]
    },
    {
      "cell_type": "code",
      "source": [
        "#but this is not a good programming practice\n",
        "def h(y):\n",
        "  global x\n",
        "  x+=1\n",
        "x=5\n",
        "h(x)\n",
        "print(x)\n"
      ],
      "metadata": {
        "colab": {
          "base_uri": "https://localhost:8080/"
        },
        "id": "nGI7RMvChjYt",
        "outputId": "cc5d5a16-45bd-4bbe-ffb4-80e8a69f8622"
      },
      "execution_count": null,
      "outputs": [
        {
          "output_type": "stream",
          "name": "stdout",
          "text": [
            "6\n"
          ]
        }
      ]
    },
    {
      "cell_type": "code",
      "source": [
        "def f(x):\n",
        "  x=x+1\n",
        "  print(\"in f(x): x\",x)\n",
        "  return x\n",
        "x=3\n",
        "z=f(x)\n",
        "print(\"in main program scope: z=\",z)\n",
        "print(\"in main program scope: x=\",x)"
      ],
      "metadata": {
        "id": "GCTs-L87h7TQ"
      },
      "execution_count": null,
      "outputs": []
    },
    {
      "cell_type": "markdown",
      "source": [
        "#Nested Function"
      ],
      "metadata": {
        "id": "9--j5c8ijWxs"
      }
    },
    {
      "cell_type": "code",
      "source": [
        "def f():\n",
        "  def g():\n",
        "    print(\"inside function g\")\n",
        "  g()\n",
        "  print(\"inside function f\")"
      ],
      "metadata": {
        "id": "gC6UdJFdjiIb"
      },
      "execution_count": null,
      "outputs": []
    },
    {
      "cell_type": "code",
      "source": [
        "f()"
      ],
      "metadata": {
        "colab": {
          "base_uri": "https://localhost:8080/"
        },
        "id": "PumkNFZhjz_4",
        "outputId": "2bdfc97a-d537-4f03-c808-19a7c3b1145e"
      },
      "execution_count": null,
      "outputs": [
        {
          "output_type": "stream",
          "name": "stdout",
          "text": [
            "inside function g\n",
            "inside function f\n"
          ]
        }
      ]
    },
    {
      "cell_type": "code",
      "source": [
        "g()"
      ],
      "metadata": {
        "colab": {
          "base_uri": "https://localhost:8080/",
          "height": 141
        },
        "id": "mVbF2ufrjjsi",
        "outputId": "605d7a20-0b3e-43a3-88ac-594e77504d77"
      },
      "execution_count": null,
      "outputs": [
        {
          "output_type": "error",
          "ename": "TypeError",
          "evalue": "g() missing 1 required positional argument: 'y'",
          "traceback": [
            "\u001b[0;31m---------------------------------------------------------------------------\u001b[0m",
            "\u001b[0;31mTypeError\u001b[0m                                 Traceback (most recent call last)",
            "\u001b[0;32m<ipython-input-18-5fd69ddb5074>\u001b[0m in \u001b[0;36m<cell line: 1>\u001b[0;34m()\u001b[0m\n\u001b[0;32m----> 1\u001b[0;31m \u001b[0mg\u001b[0m\u001b[0;34m(\u001b[0m\u001b[0;34m)\u001b[0m\u001b[0;34m\u001b[0m\u001b[0;34m\u001b[0m\u001b[0m\n\u001b[0m",
            "\u001b[0;31mTypeError\u001b[0m: g() missing 1 required positional argument: 'y'"
          ]
        }
      ]
    },
    {
      "cell_type": "code",
      "source": [
        "def g(x):\n",
        "  def h():\n",
        "    x=\"abc\"\n",
        "  x= x+1\n",
        "  print('in g(x): x=',x)\n",
        "  h()\n",
        "  return x\n",
        "x=3\n",
        "z=g(x)"
      ],
      "metadata": {
        "id": "WAo0XukZlvCj"
      },
      "execution_count": null,
      "outputs": []
    },
    {
      "cell_type": "code",
      "source": [
        "def g(x):\n",
        "  def h(x):\n",
        "    x=x+1\n",
        "    print(\"in h(x): x=\",x)\n",
        "  x=x+1\n",
        "  print(\"in g(x): x=\",x)\n",
        "  h(x)\n",
        "  return x\n",
        "x=3\n",
        "z=g(x)\n",
        "print(\"in main program scope : x=\",x)\n",
        "print(\"in main program scope : z=\",z)"
      ],
      "metadata": {
        "colab": {
          "base_uri": "https://localhost:8080/"
        },
        "id": "m8bSduJxnWKn",
        "outputId": "285f12f7-8e5e-44c9-f0a7-91d79b108b06"
      },
      "execution_count": null,
      "outputs": [
        {
          "output_type": "stream",
          "name": "stdout",
          "text": [
            "in g(x): x= 4\n",
            "in h(x): x= 5\n",
            "in main program scope : x= 3\n",
            "in main program scope : z= 4\n"
          ]
        }
      ]
    },
    {
      "cell_type": "markdown",
      "source": [
        "# Function in python are first class citizen\n",
        "### In programming language design, a first class citizen (also type, object, entity , or value), in a given programming language is an entity which support all the operation generally available to other entities. These operations typically include being passed as an argument, returned from a function, and assigned to a variable."
      ],
      "metadata": {
        "id": "B-Hvhm65oVGO"
      }
    },
    {
      "cell_type": "code",
      "source": [
        "# type and id\n",
        "def square(num):\n",
        "  return num**2\n",
        "type(square)\n"
      ],
      "metadata": {
        "colab": {
          "base_uri": "https://localhost:8080/"
        },
        "id": "Pd0W52tQpvH0",
        "outputId": "933bad39-4109-478e-b40f-f089d6b93b75"
      },
      "execution_count": null,
      "outputs": [
        {
          "output_type": "execute_result",
          "data": {
            "text/plain": [
              "function"
            ]
          },
          "metadata": {},
          "execution_count": 30
        }
      ]
    },
    {
      "cell_type": "code",
      "source": [
        "#Reassign\n",
        "x=square\n",
        "x"
      ],
      "metadata": {
        "colab": {
          "base_uri": "https://localhost:8080/",
          "height": 103
        },
        "id": "N7ZF6rly32-F",
        "outputId": "e5ce56b8-eea3-4e73-f4f5-02d85ba0f9b3"
      },
      "execution_count": null,
      "outputs": [
        {
          "output_type": "execute_result",
          "data": {
            "text/plain": [
              "<function __main__.square(num)>"
            ],
            "text/html": [
              "<div style=\"max-width:800px; border: 1px solid var(--colab-border-color);\"><style>\n",
              "      pre.function-repr-contents {\n",
              "        overflow-x: auto;\n",
              "        padding: 8px 12px;\n",
              "        max-height: 500px;\n",
              "      }\n",
              "\n",
              "      pre.function-repr-contents.function-repr-contents-collapsed {\n",
              "        cursor: pointer;\n",
              "        max-height: 100px;\n",
              "      }\n",
              "    </style>\n",
              "    <pre style=\"white-space: initial; background:\n",
              "         var(--colab-secondary-surface-color); padding: 8px 12px;\n",
              "         border-bottom: 1px solid var(--colab-border-color);\"><b>square</b><br/>def square(num)</pre><pre class=\"function-repr-contents function-repr-contents-collapsed\" style=\"\"><a class=\"filepath\" style=\"display:none\" href=\"#\">/content/&lt;ipython-input-30-b93988b7e76e&gt;</a>&lt;no docstring&gt;</pre></div>"
            ]
          },
          "metadata": {},
          "execution_count": 32
        }
      ]
    },
    {
      "cell_type": "code",
      "source": [],
      "metadata": {
        "id": "Y6867XXu5Qok"
      },
      "execution_count": null,
      "outputs": []
    },
    {
      "cell_type": "code",
      "source": [
        "id(x)"
      ],
      "metadata": {
        "colab": {
          "base_uri": "https://localhost:8080/"
        },
        "id": "1Qd8hhe14S_L",
        "outputId": "6af3e441-9489-4906-a883-de11d0c2ce19"
      },
      "execution_count": null,
      "outputs": [
        {
          "output_type": "execute_result",
          "data": {
            "text/plain": [
              "131983753488720"
            ]
          },
          "metadata": {},
          "execution_count": 25
        }
      ]
    },
    {
      "cell_type": "code",
      "source": [
        "x(3)"
      ],
      "metadata": {
        "colab": {
          "base_uri": "https://localhost:8080/"
        },
        "id": "BkodT9r44Xlw",
        "outputId": "9b2e6603-ba22-4cea-d12a-95e74263a841"
      },
      "execution_count": null,
      "outputs": [
        {
          "output_type": "execute_result",
          "data": {
            "text/plain": [
              "9"
            ]
          },
          "metadata": {},
          "execution_count": 26
        }
      ]
    },
    {
      "cell_type": "code",
      "source": [
        "#Deleting a function\n",
        "del square"
      ],
      "metadata": {
        "id": "YSL5TFct4Z80"
      },
      "execution_count": null,
      "outputs": []
    },
    {
      "cell_type": "code",
      "source": [
        "square()"
      ],
      "metadata": {
        "colab": {
          "base_uri": "https://localhost:8080/",
          "height": 141
        },
        "id": "4PnCpRlS4lq-",
        "outputId": "feb85a11-057a-4d9a-84f1-a51aef5d8269"
      },
      "execution_count": null,
      "outputs": [
        {
          "output_type": "error",
          "ename": "NameError",
          "evalue": "name 'square' is not defined",
          "traceback": [
            "\u001b[0;31m---------------------------------------------------------------------------\u001b[0m",
            "\u001b[0;31mNameError\u001b[0m                                 Traceback (most recent call last)",
            "\u001b[0;32m<ipython-input-28-67e8141f4182>\u001b[0m in \u001b[0;36m<cell line: 1>\u001b[0;34m()\u001b[0m\n\u001b[0;32m----> 1\u001b[0;31m \u001b[0msquare\u001b[0m\u001b[0;34m(\u001b[0m\u001b[0;34m)\u001b[0m\u001b[0;34m\u001b[0m\u001b[0;34m\u001b[0m\u001b[0m\n\u001b[0m",
            "\u001b[0;31mNameError\u001b[0m: name 'square' is not defined"
          ]
        }
      ]
    },
    {
      "cell_type": "code",
      "source": [
        "#Storing\n",
        "L=[1,2,3,4,square]\n",
        "L"
      ],
      "metadata": {
        "colab": {
          "base_uri": "https://localhost:8080/"
        },
        "id": "81CStS4d4nf8",
        "outputId": "c738f83c-f51a-48be-e90e-0dc3c91adfa5"
      },
      "execution_count": null,
      "outputs": [
        {
          "output_type": "execute_result",
          "data": {
            "text/plain": [
              "[1, 2, 3, 4, <function __main__.square(num)>]"
            ]
          },
          "metadata": {},
          "execution_count": 34
        }
      ]
    },
    {
      "cell_type": "code",
      "source": [],
      "metadata": {
        "id": "at8nxmkj6Bbo"
      },
      "execution_count": null,
      "outputs": []
    },
    {
      "cell_type": "code",
      "source": [],
      "metadata": {
        "id": "ITReujZ26CWJ"
      },
      "execution_count": null,
      "outputs": []
    },
    {
      "cell_type": "code",
      "source": [
        "L[-1](3)"
      ],
      "metadata": {
        "colab": {
          "base_uri": "https://localhost:8080/"
        },
        "id": "qI2WpdeK5Ui-",
        "outputId": "a29f4490-5708-42fe-e8b4-47d3cfc5c77a"
      },
      "execution_count": null,
      "outputs": [
        {
          "output_type": "execute_result",
          "data": {
            "text/plain": [
              "9"
            ]
          },
          "metadata": {},
          "execution_count": 35
        }
      ]
    },
    {
      "cell_type": "code",
      "source": [
        "s={square}\n",
        "s\n"
      ],
      "metadata": {
        "colab": {
          "base_uri": "https://localhost:8080/"
        },
        "id": "9lQJo0-dpqNL",
        "outputId": "809cfe8c-4188-4e04-84e7-d31652784b91"
      },
      "execution_count": null,
      "outputs": [
        {
          "output_type": "execute_result",
          "data": {
            "text/plain": [
              "{<function __main__.square(num)>}"
            ]
          },
          "metadata": {},
          "execution_count": 36
        }
      ]
    },
    {
      "cell_type": "code",
      "source": [
        "#returning a function\n",
        "def f():\n",
        "  def x(a,b):\n",
        "    return a+b\n",
        "  return x\n",
        "val=f()(3,4)\n",
        "print(val)\n"
      ],
      "metadata": {
        "colab": {
          "base_uri": "https://localhost:8080/"
        },
        "id": "7H8_rtZE6NGy",
        "outputId": "e1505041-baf6-4415-fdd9-6cba5ea67c04"
      },
      "execution_count": null,
      "outputs": [
        {
          "output_type": "stream",
          "name": "stdout",
          "text": [
            "7\n"
          ]
        }
      ]
    },
    {
      "cell_type": "code",
      "source": [
        "#Function as an argument\n",
        "def func_a():\n",
        "  print(\"inside func_a\")\n",
        "def func_b(z):\n",
        "  print(\"Inside func_c\")\n",
        "  return z()\n",
        "print(func_b(func_a))"
      ],
      "metadata": {
        "colab": {
          "base_uri": "https://localhost:8080/"
        },
        "id": "91Z9QDpEpAJv",
        "outputId": "c9cd7a2a-e42c-495c-a37b-f2ee023387d5"
      },
      "execution_count": null,
      "outputs": [
        {
          "output_type": "stream",
          "name": "stdout",
          "text": [
            "Inside func_c\n",
            "inside func_a\n",
            "None\n"
          ]
        }
      ]
    },
    {
      "cell_type": "markdown",
      "source": [
        "\n",
        "#Benefit of using a Function\n",
        "* Code Modularity\n",
        "* Code Readability\n",
        "* Code Reusability\n"
      ],
      "metadata": {
        "id": "49zJfhXz_Rcz"
      }
    },
    {
      "cell_type": "markdown",
      "source": [
        "##Lambda Function"
      ],
      "metadata": {
        "id": "FsdMdr68_fgR"
      }
    },
    {
      "cell_type": "markdown",
      "source": [
        "###A lambda Function is a small anonymous function.\n",
        "### A lambda Function can take any number of argumetns, but can only have one expression."
      ],
      "metadata": {
        "id": "-xqQ_31Q_k38"
      }
    },
    {
      "cell_type": "code",
      "source": [
        "a= lambda x:x**2\n",
        "a(2)"
      ],
      "metadata": {
        "colab": {
          "base_uri": "https://localhost:8080/"
        },
        "id": "G9Dv62TFAh8o",
        "outputId": "43116873-b953-4915-822f-d6500474e546"
      },
      "execution_count": null,
      "outputs": [
        {
          "output_type": "execute_result",
          "data": {
            "text/plain": [
              "4"
            ]
          },
          "metadata": {},
          "execution_count": 39
        }
      ]
    },
    {
      "cell_type": "code",
      "source": [
        "b=lambda x,y:x+y\n",
        "b(2,3)"
      ],
      "metadata": {
        "colab": {
          "base_uri": "https://localhost:8080/"
        },
        "id": "nRpk8fWXArxO",
        "outputId": "5bf29d38-fa0e-44c0-bef5-c8398d8444f5"
      },
      "execution_count": null,
      "outputs": [
        {
          "output_type": "execute_result",
          "data": {
            "text/plain": [
              "5"
            ]
          },
          "metadata": {},
          "execution_count": 40
        }
      ]
    },
    {
      "cell_type": "markdown",
      "source": [
        "# Diff between lambda vs Normal Function\n",
        "* No name lambda has no return value(infact, returnn a function)\n",
        "* lambda is written in 1 line\n",
        "* not resuable\n",
        "\n",
        "Then why we use lambda function?\n",
        "\n",
        "They are used with HOF"
      ],
      "metadata": {
        "id": "ndzfWEDWAxo7"
      }
    },
    {
      "cell_type": "code",
      "source": [
        "# Check if a string has \"a\"\n",
        "a= lambda s:\"a\" in s\n",
        "a(\"hello\")"
      ],
      "metadata": {
        "colab": {
          "base_uri": "https://localhost:8080/"
        },
        "id": "4Eo495IRBd6r",
        "outputId": "11b8c437-eb8a-4ed1-b3b4-95bcbe45ec79"
      },
      "execution_count": null,
      "outputs": [
        {
          "output_type": "execute_result",
          "data": {
            "text/plain": [
              "False"
            ]
          },
          "metadata": {},
          "execution_count": 43
        }
      ]
    },
    {
      "cell_type": "code",
      "source": [
        "a1=lambda x:\"even\" if x%2==0 else print(\"odd\")\n",
        "(a1(5))"
      ],
      "metadata": {
        "colab": {
          "base_uri": "https://localhost:8080/"
        },
        "id": "3qlOn4b3BuO_",
        "outputId": "5b495cae-652c-4773-9ac9-0dabffc0df5c"
      },
      "execution_count": null,
      "outputs": [
        {
          "output_type": "stream",
          "name": "stdout",
          "text": [
            "odd\n"
          ]
        }
      ]
    },
    {
      "cell_type": "code",
      "source": [
        "# Hidef square(x):\n",
        "  return x**2\n",
        "def transform(f,L):\n",
        "  output=[]\n",
        "  for i in L:\n",
        "    output.append(f(i))\n",
        "  print(output)\n",
        "L= [1,2,3,4,5]\n",
        "transform(square, L)    gher Order function\n"
      ],
      "metadata": {
        "colab": {
          "base_uri": "https://localhost:8080/"
        },
        "id": "5hrJ3J8OCQD_",
        "outputId": "f7fd32e8-f853-434f-8c79-9c27f9a99ac6"
      },
      "execution_count": null,
      "outputs": [
        {
          "output_type": "stream",
          "name": "stdout",
          "text": [
            "[1, 4, 9, 16, 25]\n"
          ]
        }
      ]
    },
    {
      "cell_type": "code",
      "source": [
        "#instead of doing this we have to make cube then it will be very tedious so it is better to make lambda function\n",
        "def transform(f,L):\n",
        "  output=[]\n",
        "  for i in L:\n",
        "    output.append(f(i))\n",
        "  print(output)\n",
        "L= [1,2,3,4,5]\n",
        "transform(lambda x:x**2,L)"
      ],
      "metadata": {
        "colab": {
          "base_uri": "https://localhost:8080/"
        },
        "id": "eP8jzquSGVwd",
        "outputId": "1a64d54d-7449-4bf2-f38d-6d827558a217"
      },
      "execution_count": null,
      "outputs": [
        {
          "output_type": "stream",
          "name": "stdout",
          "text": [
            "[1, 4, 9, 16, 25]\n"
          ]
        }
      ]
    },
    {
      "cell_type": "markdown",
      "source": [
        "#Map"
      ],
      "metadata": {
        "id": "wc5SnmoZG6WT"
      }
    },
    {
      "cell_type": "code",
      "source": [
        "#Square the item of a list\n",
        "L=[1,2,3,4]\n",
        "list(map(lambda x:x**2,L))"
      ],
      "metadata": {
        "colab": {
          "base_uri": "https://localhost:8080/"
        },
        "id": "gfJVXQ_dG78a",
        "outputId": "953dbc5a-1d75-45a5-d931-0452d0bc145c"
      },
      "execution_count": null,
      "outputs": [
        {
          "output_type": "execute_result",
          "data": {
            "text/plain": [
              "[1, 4, 9, 16]"
            ]
          },
          "metadata": {},
          "execution_count": 50
        }
      ]
    },
    {
      "cell_type": "code",
      "source": [
        "L=[1,2,3,4,5]\n",
        "list(map(lambda x:\"even\" if x%2==0 else \"odd\",L))"
      ],
      "metadata": {
        "colab": {
          "base_uri": "https://localhost:8080/"
        },
        "id": "4M4OOJPgHMnk",
        "outputId": "2f96f309-a212-4cb7-aeec-204aebd592e7"
      },
      "execution_count": null,
      "outputs": [
        {
          "output_type": "execute_result",
          "data": {
            "text/plain": [
              "['odd', 'even', 'odd', 'even', 'odd']"
            ]
          },
          "metadata": {},
          "execution_count": 51
        }
      ]
    },
    {
      "cell_type": "code",
      "source": [
        "#fetch  names from a list of dict\n",
        "users =[\n",
        "    {\n",
        "        \"name\":\"Rahul\",\n",
        "        \"age\": 45,\n",
        "        \"gender\":\"male\"\n",
        "\n",
        "    },\n",
        "    {\n",
        "        \"name\":\"Sudhanshu\",\n",
        "        \"age\": 33,\n",
        "        \"gender\":\"male\"\n",
        "\n",
        "    },\n",
        "    {\n",
        "        \"name\":\"Ankita\",\n",
        "        \"age\":50,\n",
        "        \"gender\":\"Female\"\n",
        "    }\n",
        "]\n",
        "list(map(lambda users:users[\"gender\"], users))"
      ],
      "metadata": {
        "colab": {
          "base_uri": "https://localhost:8080/"
        },
        "id": "8hheleyVHmbN",
        "outputId": "62197498-60f5-457d-fd94-0dfce7a197ba"
      },
      "execution_count": null,
      "outputs": [
        {
          "output_type": "execute_result",
          "data": {
            "text/plain": [
              "['male', 'male', 'Female']"
            ]
          },
          "metadata": {},
          "execution_count": 55
        }
      ]
    },
    {
      "cell_type": "markdown",
      "source": [
        "#Filter"
      ],
      "metadata": {
        "id": "8o0ijjPGIkCr"
      }
    },
    {
      "cell_type": "code",
      "source": [
        "# number greater than 5\n",
        "L=[3,4,5,6,7]\n",
        "list(filter(lambda x:x>5,L))"
      ],
      "metadata": {
        "colab": {
          "base_uri": "https://localhost:8080/"
        },
        "id": "dV9mjuAxJaD8",
        "outputId": "3238cd83-c223-4c18-fe84-91007f232210"
      },
      "execution_count": null,
      "outputs": [
        {
          "output_type": "execute_result",
          "data": {
            "text/plain": [
              "[6, 7]"
            ]
          },
          "metadata": {},
          "execution_count": 56
        }
      ]
    },
    {
      "cell_type": "code",
      "source": [
        "#Fetch fruits starting with \"a\"\n",
        "l=[\"apple\",\"Guave\",\"Pinnaple\"]\n",
        "list(filter(lambda x:x.startswith(\"a\"), l ))"
      ],
      "metadata": {
        "colab": {
          "base_uri": "https://localhost:8080/"
        },
        "id": "33byDHHGJjhq",
        "outputId": "f9222981-ced5-44e1-d720-b7c47b250223"
      },
      "execution_count": null,
      "outputs": [
        {
          "output_type": "execute_result",
          "data": {
            "text/plain": [
              "['apple']"
            ]
          },
          "metadata": {},
          "execution_count": 59
        }
      ]
    },
    {
      "cell_type": "code",
      "source": [
        "#Reduce\n",
        "# Sum of all item\n",
        "\n",
        "import functools\n",
        "functools.reduce(lambda x,y:x+y,[1,2,3,4,5])\n"
      ],
      "metadata": {
        "colab": {
          "base_uri": "https://localhost:8080/"
        },
        "id": "59HJsLuJKImO",
        "outputId": "2bc1a1ec-7025-4241-af58-edd0787fd02c"
      },
      "execution_count": null,
      "outputs": [
        {
          "output_type": "execute_result",
          "data": {
            "text/plain": [
              "15"
            ]
          },
          "metadata": {},
          "execution_count": 60
        }
      ]
    },
    {
      "cell_type": "code",
      "source": [
        "# Find min\n",
        "functools.reduce(lambda x,y:x if x<y else y,[23,54,11,87])"
      ],
      "metadata": {
        "colab": {
          "base_uri": "https://localhost:8080/"
        },
        "id": "rbVmpDnXKm_W",
        "outputId": "44f3cbc7-27a3-4966-dccc-4aff6e6248c9"
      },
      "execution_count": null,
      "outputs": [
        {
          "output_type": "execute_result",
          "data": {
            "text/plain": [
              "11"
            ]
          },
          "metadata": {},
          "execution_count": 61
        }
      ]
    },
    {
      "cell_type": "code",
      "source": [
        "#Sort function\n",
        "def my_fun1(e):\n",
        "  return len(e)\n",
        "cars=[\"Fords\", \"Mitshibushi\",\"BMW\",\"VW\"]\n",
        "cars.sort(key=my_fun1)\n",
        "print(cars)"
      ],
      "metadata": {
        "colab": {
          "base_uri": "https://localhost:8080/"
        },
        "id": "tKytw-5gBq4e",
        "outputId": "4628d87d-d98d-4155-fbaf-4957077150e3"
      },
      "execution_count": null,
      "outputs": [
        {
          "output_type": "stream",
          "name": "stdout",
          "text": [
            "['VW', 'BMW', 'Fords', 'Mitshibushi']\n"
          ]
        }
      ]
    },
    {
      "cell_type": "code",
      "source": [
        "def my_fun2(e):\n",
        "  return e[\"year\"]\n",
        "cars =[\n",
        "    {\"cars\":\"Ford\",\"year\":2005},\n",
        "    {\"cars\":\"Mitshibushi\", \"year\":2000},\n",
        "    {\"cars\":\"BMW\",\"year\":2019}\n",
        "]\n",
        "cars.sort(key=my_fun2)\n",
        "print(cars)"
      ],
      "metadata": {
        "colab": {
          "base_uri": "https://localhost:8080/"
        },
        "id": "uvQyoeSxN7gx",
        "outputId": "f6d7eaca-a342-410a-df82-6265832eec7b"
      },
      "execution_count": null,
      "outputs": [
        {
          "output_type": "stream",
          "name": "stdout",
          "text": [
            "[{'cars': 'Mitshibushi', 'year': 2000}, {'cars': 'Ford', 'year': 2005}, {'cars': 'BMW', 'year': 2019}]\n"
          ]
        }
      ]
    },
    {
      "cell_type": "code",
      "source": [
        "#Sort the list by the length of the values and reversed"
      ],
      "metadata": {
        "id": "QnEip0iyQqzK"
      },
      "execution_count": null,
      "outputs": []
    },
    {
      "cell_type": "code",
      "source": [
        "import numpy as np\n",
        "import pandas as pd\n",
        "import matplotlib.pyplot as plt\n",
        "import seaborn as sns"
      ],
      "metadata": {
        "id": "mjNT9ybYYiZe"
      },
      "execution_count": null,
      "outputs": []
    },
    {
      "cell_type": "markdown",
      "source": [
        "2D line plot is used for bivariate anaysis\n",
        "\n",
        "categorical-> numerical and numerical->numerical\n",
        "\n",
        "use case  Time series data\n",
        "\n",
        "3D line plot is used for multivariate analysis\n"
      ],
      "metadata": {
        "id": "k0KXSZ2aaJNu"
      }
    },
    {
      "cell_type": "code",
      "source": [
        "price=[48000,54000,57000,49000,47000,45000]\n",
        "year=[2017,2018,2019,2020,2021,2022]\n",
        "plt.plot(year,price)\n",
        "plt.show()"
      ],
      "metadata": {
        "colab": {
          "base_uri": "https://localhost:8080/",
          "height": 430
        },
        "id": "Z5sX5FUra8rW",
        "outputId": "56ff4a4c-2ed5-4237-ea6c-0f63edb646c2"
      },
      "execution_count": null,
      "outputs": [
        {
          "output_type": "display_data",
          "data": {
            "text/plain": [
              "<Figure size 640x480 with 1 Axes>"
            ],
            "image/png": "[encoded data removed]"
          },
          "metadata": {}
        }
      ]
    },
    {
      "cell_type": "markdown",
      "source": [
        "#Object Oriented Programming"
      ],
      "metadata": {
        "id": "xkt9WlHOQw4O"
      }
    },
    {
      "cell_type": "code",
      "source": [
        "L=[1,2,3]\n",
        "L.upper"
      ],
      "metadata": {
        "colab": {
          "base_uri": "https://localhost:8080/",
          "height": 158
        },
        "id": "WAhGpF8lQ4rs",
        "outputId": "d8007dc1-b766-4df2-f214-672292d7c656"
      },
      "execution_count": 1,
      "outputs": [
        {
          "output_type": "error",
          "ename": "AttributeError",
          "evalue": "'list' object has no attribute 'upper'",
          "traceback": [
            "\u001b[0;31m---------------------------------------------------------------------------\u001b[0m",
            "\u001b[0;31mAttributeError\u001b[0m                            Traceback (most recent call last)",
            "\u001b[0;32m<ipython-input-1-9ac0fbe405b0>\u001b[0m in \u001b[0;36m<cell line: 2>\u001b[0;34m()\u001b[0m\n\u001b[1;32m      1\u001b[0m \u001b[0mL\u001b[0m\u001b[0;34m=\u001b[0m\u001b[0;34m[\u001b[0m\u001b[0;36m1\u001b[0m\u001b[0;34m,\u001b[0m\u001b[0;36m2\u001b[0m\u001b[0;34m,\u001b[0m\u001b[0;36m3\u001b[0m\u001b[0;34m]\u001b[0m\u001b[0;34m\u001b[0m\u001b[0;34m\u001b[0m\u001b[0m\n\u001b[0;32m----> 2\u001b[0;31m \u001b[0mL\u001b[0m\u001b[0;34m.\u001b[0m\u001b[0mupper\u001b[0m\u001b[0;34m\u001b[0m\u001b[0;34m\u001b[0m\u001b[0m\n\u001b[0m",
            "\u001b[0;31mAttributeError\u001b[0m: 'list' object has no attribute 'upper'"
          ]
        }
      ]
    },
    {
      "cell_type": "code",
      "source": [
        "s=\"hello\"\n",
        "s.append(\"x\")"
      ],
      "metadata": {
        "colab": {
          "base_uri": "https://localhost:8080/",
          "height": 158
        },
        "id": "a0LHtlQ4SZJA",
        "outputId": "587db75b-928d-4eb1-a222-b3bc646ef341"
      },
      "execution_count": 2,
      "outputs": [
        {
          "output_type": "error",
          "ename": "AttributeError",
          "evalue": "'str' object has no attribute 'append'",
          "traceback": [
            "\u001b[0;31m---------------------------------------------------------------------------\u001b[0m",
            "\u001b[0;31mAttributeError\u001b[0m                            Traceback (most recent call last)",
            "\u001b[0;32m<ipython-input-2-91ff7815f280>\u001b[0m in \u001b[0;36m<cell line: 2>\u001b[0;34m()\u001b[0m\n\u001b[1;32m      1\u001b[0m \u001b[0ms\u001b[0m\u001b[0;34m=\u001b[0m\u001b[0;34m\"hello\"\u001b[0m\u001b[0;34m\u001b[0m\u001b[0;34m\u001b[0m\u001b[0m\n\u001b[0;32m----> 2\u001b[0;31m \u001b[0ms\u001b[0m\u001b[0;34m.\u001b[0m\u001b[0mappend\u001b[0m\u001b[0;34m(\u001b[0m\u001b[0;34m\"x\"\u001b[0m\u001b[0;34m)\u001b[0m\u001b[0;34m\u001b[0m\u001b[0;34m\u001b[0m\u001b[0m\n\u001b[0m",
            "\u001b[0;31mAttributeError\u001b[0m: 'str' object has no attribute 'append'"
          ]
        }
      ]
    },
    {
      "cell_type": "markdown",
      "source": [
        "###Every thing in python is object"
      ],
      "metadata": {
        "id": "mp1hNQ1xSegk"
      }
    },
    {
      "cell_type": "markdown",
      "source": [
        "###What is an object\n",
        "Object is an instance of class."
      ],
      "metadata": {
        "id": "XntuNmtZSwjU"
      }
    },
    {
      "cell_type": "code",
      "source": [],
      "metadata": {
        "id": "08cE6M4zXFOq"
      },
      "execution_count": null,
      "outputs": []
    },
    {
      "cell_type": "markdown",
      "source": [
        "###With the use of OOP programmers can make their own datatypes"
      ],
      "metadata": {
        "id": "mADS3v4BUCFF"
      }
    },
    {
      "cell_type": "markdown",
      "source": [
        "#OOP Concepts\n",
        "##Objects\n",
        "##Class\n",
        "##Polymorphism\n",
        "##Encapsulation\n",
        "##Inheritance\n",
        "##Abstraction\n"
      ],
      "metadata": {
        "id": "a0gwoRhVUMGw"
      }
    },
    {
      "cell_type": "markdown",
      "source": [
        "##Class\n",
        "###Class is a blueprint"
      ],
      "metadata": {
        "id": "mvIaqwhhVE66"
      }
    },
    {
      "cell_type": "code",
      "source": [
        "L=[1,2,3]\n",
        "print(type(L))"
      ],
      "metadata": {
        "colab": {
          "base_uri": "https://localhost:8080/"
        },
        "id": "gDrtDuP9VPw2",
        "outputId": "0521f321-16ae-4b3d-aef4-4dc10e475e3e"
      },
      "execution_count": 3,
      "outputs": [
        {
          "output_type": "stream",
          "name": "stdout",
          "text": [
            "<class 'list'>\n"
          ]
        }
      ]
    },
    {
      "cell_type": "markdown",
      "source": [
        "##Class\n",
        "###Data or property\n",
        "###Function"
      ],
      "metadata": {
        "id": "uJKbWrCyWZm4"
      }
    },
    {
      "cell_type": "markdown",
      "source": [
        "### Syntax to create an object\n",
        "###objectname= classname()"
      ],
      "metadata": {
        "id": "0pzxdgKnW-59"
      }
    },
    {
      "cell_type": "code",
      "source": [
        "#Object literal\n",
        "L=[1,2,3]"
      ],
      "metadata": {
        "id": "ijXezTIOXyN3"
      },
      "execution_count": null,
      "outputs": []
    },
    {
      "cell_type": "code",
      "source": [
        "L=list([1,2,3])\n",
        "L"
      ],
      "metadata": {
        "colab": {
          "base_uri": "https://localhost:8080/"
        },
        "id": "GSLlY75WX5GW",
        "outputId": "1bd3eaad-5ea7-4821-e9d2-e472da383226"
      },
      "execution_count": 7,
      "outputs": [
        {
          "output_type": "execute_result",
          "data": {
            "text/plain": [
              "[1, 2, 3]"
            ]
          },
          "metadata": {},
          "execution_count": 7
        }
      ]
    },
    {
      "cell_type": "code",
      "source": [
        "s=str()\n",
        "s"
      ],
      "metadata": {
        "colab": {
          "base_uri": "https://localhost:8080/"
        },
        "id": "BDxoOyBSYNo9",
        "outputId": "732d23b2-1167-4c30-950d-e4bd19a163df"
      },
      "execution_count": 9,
      "outputs": [
        {
          "output_type": "stream",
          "name": "stdout",
          "text": [
            "<class 'str'>\n"
          ]
        }
      ]
    },
    {
      "cell_type": "markdown",
      "source": [
        "## Pascal Case\n",
        "###HelloWorld"
      ],
      "metadata": {
        "id": "FzV4DIe9Z93X"
      }
    },
    {
      "cell_type": "code",
      "source": [
        "class Atm:\n",
        "  #Constructor(Special Function)-> Super Power->\n",
        "  def __init__(self):\n",
        "    self.pin=\"\"\n",
        "    self.balance=0\n",
        "    self.menu()\n",
        "  def menu(self):\n",
        "    user_input= input(\"\"\"\n",
        "    Hi How can I Help You?\n",
        "    1. Press 1 to create pin\n",
        "    2. Press 2 to change pin\n",
        "    3. Press 3 to check balance\n",
        "    4. Press 4 to withdraw\n",
        "    5. Anything else to exit\n",
        "    \"\"\")\n",
        "    if user_input==\"1\":\n",
        "      #create pin\n",
        "      self.create_pin()\n",
        "    elif user_input==\"2\":\n",
        "      # change pin\n",
        "      pass\n",
        "    elif user_input==\"3\":\n",
        "      # check balance\n",
        "      pass\n",
        "    elif user_input==\"4\":\n",
        "      #withdraw\n",
        "      pass\n",
        "    else:\n",
        "      exit()\n"
      ],
      "metadata": {
        "id": "Z8HwI1ZBYHBN"
      },
      "execution_count": 28,
      "outputs": []
    },
    {
      "cell_type": "code",
      "source": [
        "obj=Atm()"
      ],
      "metadata": {
        "colab": {
          "base_uri": "https://localhost:8080/",
          "height": 425
        },
        "id": "mRWszbZRbNej",
        "outputId": "0cf0d925-6aa3-4a63-c62d-6a7547a80075"
      },
      "execution_count": 27,
      "outputs": [
        {
          "name": "stdout",
          "output_type": "stream",
          "text": [
            "\n",
            "    Hi How can I Help You?\n",
            "    1. Press 1 to create pin\n",
            "    2. Press 2 to change pin\n",
            "    3. Press 3 to check balance\n",
            "    4. Press 4 to withdraw\n",
            "    5. Anything else to exit\n",
            "    1\n"
          ]
        },
        {
          "output_type": "error",
          "ename": "TypeError",
          "evalue": "Atm.create_pin() takes 0 positional arguments but 1 was given",
          "traceback": [
            "\u001b[0;31m---------------------------------------------------------------------------\u001b[0m",
            "\u001b[0;31mTypeError\u001b[0m                                 Traceback (most recent call last)",
            "\u001b[0;32m<ipython-input-27-fdbbd3c1e4f3>\u001b[0m in \u001b[0;36m<cell line: 1>\u001b[0;34m()\u001b[0m\n\u001b[0;32m----> 1\u001b[0;31m \u001b[0mobj\u001b[0m\u001b[0;34m=\u001b[0m\u001b[0mAtm\u001b[0m\u001b[0;34m(\u001b[0m\u001b[0;34m)\u001b[0m\u001b[0;34m\u001b[0m\u001b[0;34m\u001b[0m\u001b[0m\n\u001b[0m",
            "\u001b[0;32m<ipython-input-26-2ab90ce73f6d>\u001b[0m in \u001b[0;36m__init__\u001b[0;34m(self)\u001b[0m\n\u001b[1;32m      4\u001b[0m     \u001b[0mself\u001b[0m\u001b[0;34m.\u001b[0m\u001b[0mpin\u001b[0m\u001b[0;34m=\u001b[0m\u001b[0;34m\"\"\u001b[0m\u001b[0;34m\u001b[0m\u001b[0;34m\u001b[0m\u001b[0m\n\u001b[1;32m      5\u001b[0m     \u001b[0mself\u001b[0m\u001b[0;34m.\u001b[0m\u001b[0mbalance\u001b[0m\u001b[0;34m=\u001b[0m\u001b[0;36m0\u001b[0m\u001b[0;34m\u001b[0m\u001b[0;34m\u001b[0m\u001b[0m\n\u001b[0;32m----> 6\u001b[0;31m     \u001b[0mself\u001b[0m\u001b[0;34m.\u001b[0m\u001b[0mmenu\u001b[0m\u001b[0;34m(\u001b[0m\u001b[0;34m)\u001b[0m\u001b[0;34m\u001b[0m\u001b[0;34m\u001b[0m\u001b[0m\n\u001b[0m\u001b[1;32m      7\u001b[0m   \u001b[0;32mdef\u001b[0m \u001b[0mmenu\u001b[0m\u001b[0;34m(\u001b[0m\u001b[0mself\u001b[0m\u001b[0;34m)\u001b[0m\u001b[0;34m:\u001b[0m\u001b[0;34m\u001b[0m\u001b[0;34m\u001b[0m\u001b[0m\n\u001b[1;32m      8\u001b[0m     user_input= input(\"\"\"\n",
            "\u001b[0;32m<ipython-input-26-2ab90ce73f6d>\u001b[0m in \u001b[0;36mmenu\u001b[0;34m(self)\u001b[0m\n\u001b[1;32m     16\u001b[0m     \u001b[0;32mif\u001b[0m \u001b[0muser_input\u001b[0m\u001b[0;34m==\u001b[0m\u001b[0;34m\"1\"\u001b[0m\u001b[0;34m:\u001b[0m\u001b[0;34m\u001b[0m\u001b[0;34m\u001b[0m\u001b[0m\n\u001b[1;32m     17\u001b[0m       \u001b[0;31m#create pin\u001b[0m\u001b[0;34m\u001b[0m\u001b[0;34m\u001b[0m\u001b[0m\n\u001b[0;32m---> 18\u001b[0;31m       \u001b[0mself\u001b[0m\u001b[0;34m.\u001b[0m\u001b[0mcreate_pin\u001b[0m\u001b[0;34m(\u001b[0m\u001b[0;34m)\u001b[0m\u001b[0;34m\u001b[0m\u001b[0;34m\u001b[0m\u001b[0m\n\u001b[0m\u001b[1;32m     19\u001b[0m     \u001b[0;32melif\u001b[0m \u001b[0muser_input\u001b[0m\u001b[0;34m==\u001b[0m\u001b[0;34m\"2\"\u001b[0m\u001b[0;34m:\u001b[0m\u001b[0;34m\u001b[0m\u001b[0;34m\u001b[0m\u001b[0m\n\u001b[1;32m     20\u001b[0m       \u001b[0;31m# change pin\u001b[0m\u001b[0;34m\u001b[0m\u001b[0;34m\u001b[0m\u001b[0m\n",
            "\u001b[0;31mTypeError\u001b[0m: Atm.create_pin() takes 0 positional arguments but 1 was given"
          ]
        }
      ]
    },
    {
      "cell_type": "code",
      "source": [
        "print(type(obj))"
      ],
      "metadata": {
        "colab": {
          "base_uri": "https://localhost:8080/"
        },
        "id": "6t1RrHXQbS3e",
        "outputId": "70565385-e0df-4aaa-bf19-06879f16247d"
      },
      "execution_count": 13,
      "outputs": [
        {
          "output_type": "stream",
          "name": "stdout",
          "text": [
            "<class '__main__.Atm'>\n"
          ]
        }
      ]
    },
    {
      "cell_type": "code",
      "source": [],
      "metadata": {
        "id": "OsYKzHuNbY-Z"
      },
      "execution_count": null,
      "outputs": []
    },
    {
      "cell_type": "code",
      "source": [],
      "metadata": {
        "id": "Fo8fOHajYApR"
      },
      "execution_count": null,
      "outputs": []
    }
  ],
  "metadata": {
    "colab": {
      "provenance": [],
      "authorship_tag": "ABX9TyMMVxJvHlrnKb4efC/1vM6w",
      "include_colab_link": true
    },
    "kernelspec": {
      "display_name": "Python 3",
      "name": "python3"
    },
    "language_info": {
      "name": "python"
    }
  },
  "nbformat": 4,
  "nbformat_minor": 0
}