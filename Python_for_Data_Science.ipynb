{
  "nbformat": 4,
  "nbformat_minor": 0,
  "metadata": {
    "colab": {
      "provenance": [],
      "authorship_tag": "ABX9TyMBh/d+F9mf9NpD642lpYKl",
      "include_colab_link": true
    },
    "kernelspec": {
      "name": "python3",
      "display_name": "Python 3"
    },
    "language_info": {
      "name": "python"
    }
  },
  "cells": [
    {
      "cell_type": "markdown",
      "metadata": {
        "id": "view-in-github",
        "colab_type": "text"
      },
      "source": [
        "<a href=\"https://colab.research.google.com/github/itsmesudhanshu/Python-for-Data-Science/blob/main/Python_for_Data_Science.ipynb\" target=\"_parent\"><img src=\"https://colab.research.google.com/assets/colab-badge.svg\" alt=\"Open In Colab\"/></a>"
      ]
    },
    {
      "cell_type": "markdown",
      "source": [
        "# Why Python for Data Science?\n",
        "\n",
        "\n",
        "There are multiple reasons for opting for Python for data science. These are followings\n",
        "\n",
        "1. Design Philosophy: Python is the easiest language to learn. Python is an indented language so it looks beautiful to the reader.\n",
        "\n",
        "2. Batteries included: There are built-in datatype, operators, and many more built-in codes that will help the learner to use them for solving problems. For example in the case of C, we have seen that there is a separate coding we have to do for reversing the string by using a while loop on the contrary we can see that in Python we can use the direct function for reversing the string.\n",
        "\n",
        "3. General-Purpose Language: We can use Python for coding in procedural, object-oriented functional programming and many more\n",
        "\n",
        "4. Community: The success of Python in data science is due to its libraries created by the Python community these community libraries include pandas, numpy, sckit learn, and many more.\n",
        "\n",
        "5. Proximity with Maths: Many libraries back mathematics such as Scipy and numpy which help the data scientist to use Python for data manipulation."
      ],
      "metadata": {
        "id": "Uk6m5jkloDqP"
      }
    },
    {
      "cell_type": "markdown",
      "source": [
        "Difference between Artificial Intelligence,Machine learning and Deep learning.\n",
        "\n",
        "Artificial Intelligence: Science that empowers computers to mimic human intelligence such as decision making, text processing, and visual perception. AI is a broader field that contains several subfield such as machine learning, robotics, and computer vision.\n",
        "\n",
        "Machine learning: Machine learning is a subfield of artifitcial intelligence that enables machine to improve at a given task with experience. It is important to note that all machine learning techniques are classified as Artificial Intelligence ones. However , not all Artificial Intelligence could count as Machine learning since some basic Rule based Engines could be classified as AI but they do not learn from experience therefore they do not belong to the machine learning category.\n",
        "Machine learning is basically categorized in three subdomain. These are Supervised Learning, Unsupervised learning and Reinforcement learning. In supervised learning training algorithm using labeled input output data is used. In unsupervised learning no labeled data is provided and in this learning technique hidden pattern are find out. In Reinforcement Learning algorithm take actions to maximize cumulative rewards.\n",
        "\n",
        "Deep learning: Deep learning is a specialized field of machine learning that relies on training of deep artificial neural network(ANN) using a large dataset such as image or text. ANNs are are information processing models inspired by the human brain. ANNs works by mathematically mimicking the human brain and connecting multiple \"artificial\" neuron in a multilayered fashion. The more hidden layers added to the network, the deeper the network gets.\n",
        "\n",
        "Difference between Machine learning and Deep learning: Manual feature extraction is done.In deep learning automatic feature extraction is done by feeding training data set such as image along with target class(label)."
      ],
      "metadata": {
        "id": "-MlRqDyWNZn1"
      }
    },
    {
      "cell_type": "markdown",
      "source": [
        "###1. Python Output"
      ],
      "metadata": {
        "id": "UKJ1k20knyCg"
      }
    },
    {
      "cell_type": "code",
      "source": [
        "#Python is a case sensitive language\n",
        "print(\"Hello data enthusiast\")"
      ],
      "metadata": {
        "colab": {
          "base_uri": "https://localhost:8080/"
        },
        "id": "qH1_TMjKn5YX",
        "outputId": "02315bd8-c0db-465a-ab8d-b69b0e7976b0"
      },
      "execution_count": null,
      "outputs": [
        {
          "output_type": "stream",
          "name": "stdout",
          "text": [
            "Hello data enthusiast\n"
          ]
        }
      ]
    },
    {
      "cell_type": "code",
      "source": [
        "print(hello data)"
      ],
      "metadata": {
        "colab": {
          "base_uri": "https://localhost:8080/",
          "height": 106
        },
        "id": "Rmd1GrLkoh_3",
        "outputId": "5cca4139-90cf-4495-8ff6-97a5bc5fd08f"
      },
      "execution_count": null,
      "outputs": [
        {
          "output_type": "error",
          "ename": "SyntaxError",
          "evalue": "invalid syntax. Perhaps you forgot a comma? (<ipython-input-2-3631957d99c2>, line 1)",
          "traceback": [
            "\u001b[0;36m  File \u001b[0;32m\"<ipython-input-2-3631957d99c2>\"\u001b[0;36m, line \u001b[0;32m1\u001b[0m\n\u001b[0;31m    print(hello data)\u001b[0m\n\u001b[0m          ^\u001b[0m\n\u001b[0;31mSyntaxError\u001b[0m\u001b[0;31m:\u001b[0m invalid syntax. Perhaps you forgot a comma?\n"
          ]
        }
      ]
    },
    {
      "cell_type": "code",
      "source": [
        "print(7)"
      ],
      "metadata": {
        "colab": {
          "base_uri": "https://localhost:8080/"
        },
        "id": "4CcLbT9vomB7",
        "outputId": "30dbd9e1-f15b-4ffd-9a3f-537b7960388e"
      },
      "execution_count": null,
      "outputs": [
        {
          "output_type": "stream",
          "name": "stdout",
          "text": [
            "7\n"
          ]
        }
      ]
    },
    {
      "cell_type": "code",
      "source": [
        "print(True)"
      ],
      "metadata": {
        "colab": {
          "base_uri": "https://localhost:8080/"
        },
        "id": "QuBq9i8UoocX",
        "outputId": "737b71e3-ade8-4815-98b5-36a4a62c92f6"
      },
      "execution_count": null,
      "outputs": [
        {
          "output_type": "stream",
          "name": "stdout",
          "text": [
            "True\n"
          ]
        }
      ]
    },
    {
      "cell_type": "code",
      "source": [
        "print(\"Hello\",1,4.5, True)\n",
        "#We can print as many datatypes\n",
        "#here we can observe space between the datatype\n",
        "print(\"Hello\",1,2, sep=\"@\", end=\"\\n\")"
      ],
      "metadata": {
        "colab": {
          "base_uri": "https://localhost:8080/"
        },
        "id": "hUzIoCcsoqri",
        "outputId": "aa6018a3-af3c-49ba-b9b8-0952d4f27392"
      },
      "execution_count": null,
      "outputs": [
        {
          "output_type": "stream",
          "name": "stdout",
          "text": [
            "Hello 1 4.5 True\n",
            "Hello@1@2\n"
          ]
        }
      ]
    },
    {
      "cell_type": "code",
      "source": [
        "\n"
      ],
      "metadata": {
        "id": "Qbj4L6_NeCWS"
      },
      "execution_count": null,
      "outputs": []
    }
  ]
}