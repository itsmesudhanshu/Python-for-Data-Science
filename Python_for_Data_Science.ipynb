{
  "cells": [
    {
      "cell_type": "markdown",
      "metadata": {
        "id": "view-in-github",
        "colab_type": "text"
      },
      "source": [
        "<a href=\"https://colab.research.google.com/github/itsmesudhanshu/Python-for-Data-Science/blob/main/Python_for_Data_Science.ipynb\" target=\"_parent\"><img src=\"https://colab.research.google.com/assets/colab-badge.svg\" alt=\"Open In Colab\"/></a>"
      ]
    },
    {
      "cell_type": "markdown",
      "metadata": {
        "id": "Uk6m5jkloDqP"
      },
      "source": [
        "# Why Python for Data Science?\n",
        "\n",
        "\n",
        "There are multiple reasons for opting for Python for data science. These are followings\n",
        "\n",
        "1. Design Philosophy: Python is the easiest language to learn. Python is an indented language so it looks beautiful to the reader.\n",
        "\n",
        "2. Batteries included: There are built-in datatype, operators, and many more built-in codes that will help the learner to use them for solving problems. For example in the case of C, we have seen that there is a separate coding we have to do for reversing the string by using a while loop on the contrary we can see that in Python we can use the direct function for reversing the string.\n",
        "\n",
        "3. General-Purpose Language: We can use Python for coding in procedural, object-oriented functional programming and many more\n",
        "\n",
        "4. Community: The success of Python in data science is due to its libraries created by the Python community these community libraries include pandas, numpy, sckit learn, and many more.\n",
        "\n",
        "5. Proximity with Maths: Many libraries back mathematics such as Scipy and numpy which help the data scientist to use Python for data manipulation."
      ]
    },
    {
      "cell_type": "markdown",
      "metadata": {
        "id": "-MlRqDyWNZn1"
      },
      "source": [
        "Difference between Artificial Intelligence,Machine learning and Deep learning.\n",
        "\n",
        "Artificial Intelligence: Science that empowers computers to mimic human intelligence such as decision making, text processing, and visual perception. AI is a broader field that contains several subfield such as machine learning, robotics, and computer vision.\n",
        "\n",
        "Machine learning: Machine learning is a subfield of artifitcial intelligence that enables machine to improve at a given task with experience. It is important to note that all machine learning techniques are classified as Artificial Intelligence ones. However , not all Artificial Intelligence could count as Machine learning since some basic Rule based Engines could be classified as AI but they do not learn from experience therefore they do not belong to the machine learning category.\n",
        "Machine learning is basically categorized in three subdomain. These are Supervised Learning, Unsupervised learning and Reinforcement learning. In supervised learning training algorithm using labeled input output data is used. In unsupervised learning no labeled data is provided and in this learning technique hidden pattern are find out. In Reinforcement Learning algorithm take actions to maximize cumulative rewards.\n",
        "\n",
        "Deep learning: Deep learning is a specialized field of machine learning that relies on training of deep artificial neural network(ANN) using a large dataset such as image or text. ANNs are are information processing models inspired by the human brain. ANNs works by mathematically mimicking the human brain and connecting multiple \"artificial\" neuron in a multilayered fashion. The more hidden layers added to the network, the deeper the network gets.\n",
        "\n",
        "Difference between Machine learning and Deep learning: Manual feature extraction is done.In deep learning automatic feature extraction is done by feeding training data set such as image along with target class(label)."
      ]
    },
    {
      "cell_type": "markdown",
      "metadata": {
        "id": "nC22c-8vUe1D"
      },
      "source": [
        "##Application of Python\n",
        "Hey friends today I am going to discuss about application of python. As we know that the popularity of python has been inreased in last decade. Then the question arises what are the potential reason behind this rise. Beyond many reason one important reason it's widespread usage for different task as it contains many helpfull libraries.\n",
        "\n",
        "\n",
        "1. Web development: Python is used for the development of websites in which different type of web development framework are used such as Flask and Django.\n",
        "\n",
        "2. Game Development: Python is used for the development of games which uses video development libraries such as PyGames.\n",
        "\n",
        "3. Image Processing: Python uses OpenCV and Python Imaging Library(PIL) for application such as face recognition and image detection.\n",
        "\n",
        "4. Text Processing: For text processing NLTK is used which help in processing enormous volume of text.\n",
        "\n",
        "5. Web Scrapping: Web scrapper crawl the website they are directed towards and store all the collected information from their web pages in one place. Web scrapper use tools such as PythonRequest and Selenium for web scrapping.\n",
        "\n",
        "6. Scientific and Numeric calculation: For AI and Machine learning project there is a dire need of calculation and for this python libraries such as NUmpy and Scipy is used.\n",
        "\n",
        "\n",
        "7. Data Analysis and data Visualization:  Python is used for data analysis and data visualization purpose with the help of libraries such as Pandas, Matplotlib, Seaborn and Plotly.\n",
        "\n",
        "8. AI and Machine learning Project: Last but not the least, Data science has been evolved like anything in last decade. Python libraries such as TensonFlow, Scikit Learn Pytorch boost this growth which help data scientist community to help the businesses."
      ]
    },
    {
      "cell_type": "markdown",
      "metadata": {
        "id": "UKJ1k20knyCg"
      },
      "source": [
        "###1. Python Output"
      ]
    },
    {
      "cell_type": "code",
      "execution_count": null,
      "metadata": {
        "colab": {
          "base_uri": "https://localhost:8080/"
        },
        "id": "qH1_TMjKn5YX",
        "outputId": "b1a572e9-daee-4d27-d6e5-50cf119d30e3"
      },
      "outputs": [
        {
          "output_type": "stream",
          "name": "stdout",
          "text": [
            "Hello data enthusiast\n"
          ]
        }
      ],
      "source": [
        "#Python is a case sensitive language\n",
        "print(\"Hello data enthusiast\")"
      ]
    },
    {
      "cell_type": "code",
      "execution_count": null,
      "metadata": {
        "colab": {
          "base_uri": "https://localhost:8080/",
          "height": 106
        },
        "id": "Rmd1GrLkoh_3",
        "outputId": "f91be16e-8a8f-43de-e36f-2ebd984e137e"
      },
      "outputs": [
        {
          "output_type": "error",
          "ename": "SyntaxError",
          "evalue": "invalid syntax. Perhaps you forgot a comma? (<ipython-input-2-3631957d99c2>, line 1)",
          "traceback": [
            "\u001b[0;36m  File \u001b[0;32m\"<ipython-input-2-3631957d99c2>\"\u001b[0;36m, line \u001b[0;32m1\u001b[0m\n\u001b[0;31m    print(hello data)\u001b[0m\n\u001b[0m          ^\u001b[0m\n\u001b[0;31mSyntaxError\u001b[0m\u001b[0;31m:\u001b[0m invalid syntax. Perhaps you forgot a comma?\n"
          ]
        }
      ],
      "source": [
        "print(hello data)"
      ]
    },
    {
      "cell_type": "code",
      "execution_count": null,
      "metadata": {
        "colab": {
          "base_uri": "https://localhost:8080/"
        },
        "id": "4CcLbT9vomB7",
        "outputId": "e03f93aa-5de2-4a44-e3f3-1b1863385f43"
      },
      "outputs": [
        {
          "output_type": "stream",
          "name": "stdout",
          "text": [
            "7\n"
          ]
        }
      ],
      "source": [
        "print(7)"
      ]
    },
    {
      "cell_type": "code",
      "execution_count": null,
      "metadata": {
        "colab": {
          "base_uri": "https://localhost:8080/"
        },
        "id": "QuBq9i8UoocX",
        "outputId": "6ef93422-36a7-479e-d6bf-daecd24204c8"
      },
      "outputs": [
        {
          "output_type": "stream",
          "name": "stdout",
          "text": [
            "True\n"
          ]
        }
      ],
      "source": [
        "print(True)"
      ]
    },
    {
      "cell_type": "code",
      "execution_count": null,
      "metadata": {
        "colab": {
          "base_uri": "https://localhost:8080/"
        },
        "id": "hUzIoCcsoqri",
        "outputId": "14446655-a372-4e4d-a91b-843b9af57dda"
      },
      "outputs": [
        {
          "output_type": "stream",
          "name": "stdout",
          "text": [
            "Hello 1 4.5 True\n",
            "Hello@1@2\n"
          ]
        }
      ],
      "source": [
        "print(\"Hello\",1,4.5, True)\n",
        "#We can print as many datatypes\n",
        "#here we can observe space between the datatype\n",
        "print(\"Hello\",1,2, sep=\"@\", end=\"\\n\")"
      ]
    },
    {
      "cell_type": "markdown",
      "metadata": {
        "id": "Qbj4L6_NeCWS"
      },
      "source": [
        "#Operators in Python\n",
        "\n",
        "\n",
        "*   Arithmetic Operators\n",
        "*   Relational Operators\n",
        "\n",
        "*   Logical Operators\n",
        "*   Bitwise Operators\n",
        "\n",
        "*   Assignment Operators\n",
        "*   Membership Operators\n",
        "\n",
        "\n",
        "\n",
        "\n",
        "\n",
        "\n"
      ]
    },
    {
      "cell_type": "code",
      "execution_count": null,
      "metadata": {
        "colab": {
          "base_uri": "https://localhost:8080/"
        },
        "id": "d3u3AhfcEJ-G",
        "outputId": "91cad3e6-315f-4b32-cc34-aa7900bf317f"
      },
      "outputs": [
        {
          "output_type": "stream",
          "name": "stdout",
          "text": [
            "11\n",
            "-1\n",
            "2.5\n",
            "2\n",
            "1\n",
            "25\n"
          ]
        }
      ],
      "source": [
        "#Airthmetic Operator\n",
        "print(5+6)\n",
        "print(5-6)\n",
        "print(5/2)\n",
        "print(5//2)\n",
        "print(5%2)\n",
        "print(5**2)"
      ]
    },
    {
      "cell_type": "code",
      "execution_count": null,
      "metadata": {
        "colab": {
          "base_uri": "https://localhost:8080/"
        },
        "id": "-vvhoUa9GzkV",
        "outputId": "cf443856-c362-4a16-9bb3-e50372107228"
      },
      "outputs": [
        {
          "output_type": "stream",
          "name": "stdout",
          "text": [
            "False\n",
            "True\n",
            "False\n",
            "True\n",
            "True\n",
            "False\n"
          ]
        }
      ],
      "source": [
        "#Relational Operator\n",
        "print(4>5)\n",
        "print(4<5)\n",
        "print(4>=5)\n",
        "print(4<=5)\n",
        "print(4==4)\n",
        "print(4!=4)"
      ]
    },
    {
      "cell_type": "code",
      "execution_count": null,
      "metadata": {
        "colab": {
          "base_uri": "https://localhost:8080/"
        },
        "id": "_ft9zr-5HI7H",
        "outputId": "900f33d0-b58b-4d54-e517-aff8138d643f"
      },
      "outputs": [
        {
          "output_type": "stream",
          "name": "stdout",
          "text": [
            "0\n",
            "1\n",
            "0\n",
            "1\n",
            "0\n",
            "1\n",
            "1\n",
            "False\n",
            "True\n"
          ]
        }
      ],
      "source": [
        "#Logical Operators\n",
        "print(1 and 0)\n",
        "print(1 and 1)\n",
        "print(0 and 0)\n",
        "print(0 or 1)\n",
        "print(0 or 0)\n",
        "print(1 and 1)\n",
        "print(1 or 1)\n",
        "print(not 1)\n",
        "print(not 0)"
      ]
    },
    {
      "cell_type": "code",
      "execution_count": null,
      "metadata": {
        "colab": {
          "base_uri": "https://localhost:8080/"
        },
        "id": "VZo4Uid4HtSV",
        "outputId": "171e8477-19ee-4d6c-e867-983cf40a224d"
      },
      "outputs": [
        {
          "output_type": "stream",
          "name": "stdout",
          "text": [
            "2\n",
            "3\n",
            "1\n",
            "-4\n",
            "1\n",
            "16\n"
          ]
        }
      ],
      "source": [
        "#Bitwise Operators\n",
        "#Bitwise and\n",
        "print(2 & 3)\n",
        "#Binary representation of 2 and 3 then and operator is made on each digit\n",
        "#Bitwise or operator\n",
        "print(2|3)\n",
        "#Bitwise xor operator\n",
        "print(2^3)\n",
        "#bitwise not operator\n",
        "print(~3)\n",
        "#Bitwise right shift operator\n",
        "print(4>>2)\n",
        "#Bitwise left shift operator\n",
        "print(4<<2)\n"
      ]
    },
    {
      "cell_type": "code",
      "execution_count": null,
      "metadata": {
        "colab": {
          "base_uri": "https://localhost:8080/"
        },
        "id": "I5ex4gKuK98l",
        "outputId": "858ad8db-b84b-4826-f8fa-c47ba3dadf54"
      },
      "outputs": [
        {
          "output_type": "stream",
          "name": "stdout",
          "text": [
            "4\n"
          ]
        }
      ],
      "source": [
        "#Assignment Operator\n",
        "#=\n",
        "# a=2\n",
        "a=2\n",
        "a+=2\n",
        "print(a)"
      ]
    },
    {
      "cell_type": "code",
      "execution_count": null,
      "metadata": {
        "colab": {
          "base_uri": "https://localhost:8080/"
        },
        "id": "AhSql6U4LqPi",
        "outputId": "c2a216d5-25ae-428b-b71f-36d6cc2a21f8"
      },
      "outputs": [
        {
          "output_type": "stream",
          "name": "stdout",
          "text": [
            "True\n",
            "False\n",
            "False\n",
            "False\n"
          ]
        }
      ],
      "source": [
        "#Membership operator\n",
        "#in and not in\n",
        "print(\"D\" in \"Delhi\")\n",
        "print(\"d\" in \"Delhi\")\n",
        "print(\"D\" not in \"Delhi\")\n",
        "print(1 in [2,3,4])"
      ]
    },
    {
      "cell_type": "code",
      "execution_count": null,
      "metadata": {
        "colab": {
          "base_uri": "https://localhost:8080/"
        },
        "id": "uuX5YuQKTTS2",
        "outputId": "fda02549-0a99-4618-fb80-8ba19a730c73"
      },
      "outputs": [
        {
          "output_type": "stream",
          "name": "stdout",
          "text": [
            "5\n",
            "5\n"
          ]
        }
      ],
      "source": [
        "#Find the sum of a 3 digit number entered by the user\n",
        "n1=int(input())\n",
        "n2=n1%10\n",
        "n3=n1//10\n",
        "n4=n3%10\n",
        "n5=n3//10\n",
        "n6=n5%10\n",
        "n7=n2+n4+n6\n",
        "print(n7)"
      ]
    },
    {
      "cell_type": "markdown",
      "metadata": {
        "id": "iedp53nXUxsF"
      },
      "source": [
        "#If - else  in Python"
      ]
    },
    {
      "cell_type": "code",
      "execution_count": null,
      "metadata": {
        "colab": {
          "base_uri": "https://localhost:8080/"
        },
        "id": "MErkXTtmWBqi",
        "outputId": "e5dfb464-36b1-4959-9207-6acdee164abd"
      },
      "outputs": [
        {
          "output_type": "stream",
          "name": "stdout",
          "text": [
            "itsmesudhanshu@gmail.com\n",
            "Sudcho@123\n",
            "You are welcome\n"
          ]
        }
      ],
      "source": [
        "# Login program and indentation\n",
        "email=input()\n",
        "password=input()\n",
        "if email==\"itsmesudhanshu@gmail.com\":\n",
        "  if password==\"Sudcho@123\":\n",
        "    print(\"You are welcome\")\n",
        "  else:\n",
        "    print(\"incorrect password\")\n",
        "else:\n",
        "  print(\"incorrect email\")"
      ]
    },
    {
      "cell_type": "code",
      "execution_count": null,
      "metadata": {
        "colab": {
          "background_save": true,
          "base_uri": "https://localhost:8080/",
          "height": 89
        },
        "id": "ns87QvvaaWZ1",
        "outputId": "855a0d2f-a1d5-4777-b1c8-000499a2b959"
      },
      "outputs": [
        {
          "name": "stderr",
          "output_type": "stream",
          "text": [
            "/usr/local/lib/python3.10/dist-packages/ipykernel/ipkernel.py:283: DeprecationWarning: `should_run_async` will not call `transform_cell` automatically in the future. Please pass the result to `transformed_cell` argument and any exception that happen during thetransform in `preprocessing_exc_tuple` in IPython 7.17 and above.\n"
          ]
        },
        {
          "data": {
            "text/html": [
              "\n",
              "            <style>\n",
              "                .geemap-dark {\n",
              "                    --jp-widgets-color: white;\n",
              "                    --jp-widgets-label-color: white;\n",
              "                    --jp-ui-font-color1: white;\n",
              "                    --jp-layout-color2: #454545;\n",
              "                    background-color: #383838;\n",
              "                }\n",
              "\n",
              "                .geemap-dark .jupyter-button {\n",
              "                    --jp-layout-color3: #383838;\n",
              "                }\n",
              "\n",
              "                .geemap-colab {\n",
              "                    background-color: var(--colab-primary-surface-color, white);\n",
              "                }\n",
              "\n",
              "                .geemap-colab .jupyter-button {\n",
              "                    --jp-layout-color3: var(--colab-primary-surface-color, white);\n",
              "                }\n",
              "            </style>\n",
              "            "
            ],
            "text/plain": [
              "<IPython.core.display.HTML object>"
            ]
          },
          "metadata": {},
          "output_type": "display_data"
        },
        {
          "name": "stdout",
          "output_type": "stream",
          "text": [
            "incorrect password \n",
            "sorry\n"
          ]
        }
      ],
      "source": [
        "email1=input()\n",
        "password1=input()\n",
        "if email1==\"sudhanshu@gmail.com\" and password1== \"Sud@123\":\n",
        "  print(\"You are welcome\")\n",
        "elif email1==\"sudhanshu@gmail.com\" and password1!= \"Sud@123\":\n",
        "  print(\"incorrect password \")\n",
        "  password=input(\"Enter the password again\")\n",
        "  if password== \"Sudcho@123\":\n",
        "    print(\"Atlast\")\n",
        "  else:\n",
        "    print(\"sorry\")\n",
        "else:\n",
        "  print(\"chor h kya\")"
      ]
    },
    {
      "cell_type": "code",
      "execution_count": null,
      "metadata": {
        "colab": {
          "background_save": true
        },
        "id": "LF3x7URAdaJ1",
        "outputId": "61230313-10eb-43b6-84da-00aff1973661"
      },
      "outputs": [
        {
          "name": "stderr",
          "output_type": "stream",
          "text": [
            "/usr/local/lib/python3.10/dist-packages/ipykernel/ipkernel.py:283: DeprecationWarning: `should_run_async` will not call `transform_cell` automatically in the future. Please pass the result to `transformed_cell` argument and any exception that happen during thetransform in `preprocessing_exc_tuple` in IPython 7.17 and above.\n"
          ]
        },
        {
          "data": {
            "text/html": [
              "\n",
              "            <style>\n",
              "                .geemap-dark {\n",
              "                    --jp-widgets-color: white;\n",
              "                    --jp-widgets-label-color: white;\n",
              "                    --jp-ui-font-color1: white;\n",
              "                    --jp-layout-color2: #454545;\n",
              "                    background-color: #383838;\n",
              "                }\n",
              "\n",
              "                .geemap-dark .jupyter-button {\n",
              "                    --jp-layout-color3: #383838;\n",
              "                }\n",
              "\n",
              "                .geemap-colab {\n",
              "                    background-color: var(--colab-primary-surface-color, white);\n",
              "                }\n",
              "\n",
              "                .geemap-colab .jupyter-button {\n",
              "                    --jp-layout-color3: var(--colab-primary-surface-color, white);\n",
              "                }\n",
              "            </style>\n",
              "            "
            ],
            "text/plain": [
              "<IPython.core.display.HTML object>"
            ]
          },
          "metadata": {},
          "output_type": "display_data"
        }
      ],
      "source": [
        "n1=int(input())\n",
        "n2=int(input())\n",
        "n3=int(input())\n",
        "if n1>n2 and n1>n3:\n",
        "  print(\"n1 is greater than n2 and n3\")\n",
        "elif n2>n3:\n",
        "  print(\"n2 is greater than n1 and n2\")\n",
        "else:\n",
        "  print(\"n3 is greatest\")\n"
      ]
    },
    {
      "cell_type": "markdown",
      "metadata": {
        "id": "oMzkDTT2fuhu"
      },
      "source": [
        "#Modules in python\n",
        "\n",
        "* Math\n",
        "* Keyword\n",
        "* datetime\n",
        "* random"
      ]
    },
    {
      "cell_type": "code",
      "execution_count": null,
      "metadata": {
        "id": "Lr48RaPZf9RC",
        "colab": {
          "base_uri": "https://localhost:8080/"
        },
        "outputId": "4db27a44-f663-49e6-9fec-ca4f9c4de402"
      },
      "outputs": [
        {
          "output_type": "stream",
          "name": "stdout",
          "text": [
            "120\n",
            "6\n",
            "9.219544457292887\n"
          ]
        }
      ],
      "source": [
        "#math\n",
        "import math\n",
        "print(math.factorial(5))\n",
        "print(math.floor(6.8))\n",
        "print(math.sqrt(85))\n"
      ]
    },
    {
      "cell_type": "code",
      "execution_count": null,
      "metadata": {
        "id": "mplsJ2gAhAdf",
        "colab": {
          "base_uri": "https://localhost:8080/"
        },
        "outputId": "66f576fb-2138-49e8-d5b0-4a9dac96a3e7"
      },
      "outputs": [
        {
          "output_type": "stream",
          "name": "stdout",
          "text": [
            "['False', 'None', 'True', 'and', 'as', 'assert', 'async', 'await', 'break', 'class', 'continue', 'def', 'del', 'elif', 'else', 'except', 'finally', 'for', 'from', 'global', 'if', 'import', 'in', 'is', 'lambda', 'nonlocal', 'not', 'or', 'pass', 'raise', 'return', 'try', 'while', 'with', 'yield']\n"
          ]
        }
      ],
      "source": [
        "#Keyword\n",
        "import keyword\n",
        "print(keyword.kwlist)"
      ]
    },
    {
      "cell_type": "code",
      "execution_count": null,
      "metadata": {
        "id": "3nzPr-tkhRW2",
        "colab": {
          "base_uri": "https://localhost:8080/"
        },
        "outputId": "ac62af5a-54f8-4932-a5ff-798ee55f439a"
      },
      "outputs": [
        {
          "output_type": "stream",
          "name": "stdout",
          "text": [
            "42\n"
          ]
        }
      ],
      "source": [
        "#Random\n",
        "import random\n",
        "print(random.randint(1,100))"
      ]
    },
    {
      "cell_type": "code",
      "execution_count": null,
      "metadata": {
        "id": "iYOlngHRhs99",
        "colab": {
          "base_uri": "https://localhost:8080/"
        },
        "outputId": "fef53365-9ec8-4877-bce1-95a427158f2a"
      },
      "outputs": [
        {
          "output_type": "stream",
          "name": "stdout",
          "text": [
            "2024-06-25 06:24:16.038841\n"
          ]
        }
      ],
      "source": [
        "#datetime\n",
        "import datetime\n",
        "print(datetime.datetime.now())\n"
      ]
    },
    {
      "cell_type": "markdown",
      "metadata": {
        "id": "TDqLVi7ciVyf"
      },
      "source": [
        "#loops in Python\n",
        "* Need for loop\n",
        "* While loop\n",
        "* for loop"
      ]
    },
    {
      "cell_type": "code",
      "execution_count": null,
      "metadata": {
        "id": "sJsFaQltioow",
        "colab": {
          "base_uri": "https://localhost:8080/"
        },
        "outputId": "3262ab69-4af3-4ef8-ade1-64b6eff50930"
      },
      "outputs": [
        {
          "output_type": "stream",
          "name": "stdout",
          "text": [
            "Enter the number5\n",
            "5\n",
            "10\n",
            "15\n",
            "20\n",
            "25\n",
            "30\n",
            "35\n",
            "40\n",
            "45\n",
            "50\n"
          ]
        }
      ],
      "source": [
        "t1=int(input(\"Enter the number\"))\n",
        "i=1\n",
        "while i<11:\n",
        "  print(t1*i)\n",
        "  i+=1"
      ]
    },
    {
      "cell_type": "code",
      "execution_count": null,
      "metadata": {
        "id": "J21Y4ZkTibr6",
        "colab": {
          "base_uri": "https://localhost:8080/"
        },
        "outputId": "8b321781-8ab9-4210-bcde-a9128f25ba19"
      },
      "outputs": [
        {
          "output_type": "stream",
          "name": "stdout",
          "text": [
            "1\n",
            "2\n",
            "limit crossed\n"
          ]
        }
      ],
      "source": [
        "# While loop with else\n",
        "x=1\n",
        "while x<3:\n",
        "  print(x)\n",
        "  x+=1\n",
        "else:\n",
        "  print(\"limit crossed\")"
      ]
    },
    {
      "cell_type": "code",
      "execution_count": null,
      "metadata": {
        "id": "EZniiRj9mv3y",
        "colab": {
          "base_uri": "https://localhost:8080/"
        },
        "outputId": "5d40b076-aa1a-4b23-abda-4727539d7f7b"
      },
      "outputs": [
        {
          "output_type": "stream",
          "name": "stdout",
          "text": [
            "1\n",
            "2\n",
            "3\n",
            "4\n",
            "5\n",
            "6\n",
            "7\n",
            "8\n",
            "9\n",
            "10\n"
          ]
        }
      ],
      "source": [
        "#For loop\n",
        "for i in range(1,11):\n",
        "  print(i)"
      ]
    },
    {
      "cell_type": "code",
      "execution_count": null,
      "metadata": {
        "id": "A-8r8s5zm_Wd"
      },
      "outputs": [],
      "source": [
        "for i in \"delhi\":\n",
        "  print(i)"
      ]
    },
    {
      "cell_type": "code",
      "execution_count": null,
      "metadata": {
        "id": "Vj3A4iuFn2Va"
      },
      "outputs": [],
      "source": [
        "for i in [1,2,3,4]:\n",
        "  print(i)"
      ]
    },
    {
      "cell_type": "code",
      "execution_count": null,
      "metadata": {
        "id": "Y-NeUjhcn-Ec",
        "colab": {
          "base_uri": "https://localhost:8080/"
        },
        "outputId": "79e4f187-160d-4b3f-f144-65e17f60c443"
      },
      "outputs": [
        {
          "output_type": "stream",
          "name": "stdout",
          "text": [
            "10 year population is 10000\n",
            "9 year population is 9090.90909090909\n",
            "8 year population is 8264.462809917353\n",
            "7 year population is 7513.148009015775\n",
            "6 year population is 6830.134553650703\n",
            "5 year population is 6209.213230591548\n",
            "4 year population is 5644.739300537771\n",
            "3 year population is 5131.5811823070635\n",
            "2 year population is 4665.07380209733\n",
            "1 year population is 4240.976183724845\n"
          ]
        }
      ],
      "source": [
        "cur_pop=10000\n",
        "print(10,\"year population is\",10000)\n",
        "for i in range(9,0,-1):\n",
        "  cur_pop=cur_pop/1.1\n",
        "  print(i,\"year population is\",cur_pop)\n"
      ]
    },
    {
      "cell_type": "code",
      "source": [
        "fact=1\n",
        "sum=0\n",
        "n1=int(input())\n",
        "for i in range(1,n1+1):\n",
        "  fact=fact*i\n",
        "  sum+=(i/fact)\n",
        "print(sum)"
      ],
      "metadata": {
        "colab": {
          "base_uri": "https://localhost:8080/"
        },
        "id": "oRlYG-byHcpP",
        "outputId": "6aedfa4b-2355-405f-9286-0c3f92bdd967"
      },
      "execution_count": null,
      "outputs": [
        {
          "output_type": "stream",
          "name": "stdout",
          "text": [
            "9\n",
            "2.71827876984127\n"
          ]
        }
      ]
    },
    {
      "cell_type": "code",
      "source": [
        "for i in range(1,6):\n",
        "  for j in range(1,6):\n",
        "    print(\"(\",i,\",\",j,\")\",end=\",\")\n",
        "  print()"
      ],
      "metadata": {
        "colab": {
          "base_uri": "https://localhost:8080/"
        },
        "id": "JwV9vh54aF9j",
        "outputId": "15981bc3-4219-4bb1-b515-c5c102720983"
      },
      "execution_count": null,
      "outputs": [
        {
          "output_type": "stream",
          "name": "stdout",
          "text": [
            "( 1 , 1 ),( 1 , 2 ),( 1 , 3 ),( 1 , 4 ),( 1 , 5 ),\n",
            "( 2 , 1 ),( 2 , 2 ),( 2 , 3 ),( 2 , 4 ),( 2 , 5 ),\n",
            "( 3 , 1 ),( 3 , 2 ),( 3 , 3 ),( 3 , 4 ),( 3 , 5 ),\n",
            "( 4 , 1 ),( 4 , 2 ),( 4 , 3 ),( 4 , 4 ),( 4 , 5 ),\n",
            "( 5 , 1 ),( 5 , 2 ),( 5 , 3 ),( 5 , 4 ),( 5 , 5 ),\n"
          ]
        }
      ]
    },
    {
      "cell_type": "code",
      "source": [
        "l1=int(input(\"Enter the star you want to print\"))\n",
        "for i in range(1,l1+1):\n",
        "  for j in range(1,i+1):\n",
        "    print(\"*\",end=\" \")\n",
        "  print()\n"
      ],
      "metadata": {
        "colab": {
          "base_uri": "https://localhost:8080/"
        },
        "id": "N3Ehn8uwcGk9",
        "outputId": "b405b3db-3252-4b9a-9dd1-68ec10179ad2"
      },
      "execution_count": null,
      "outputs": [
        {
          "output_type": "stream",
          "name": "stdout",
          "text": [
            "Enter the star you want to print3\n",
            "* \n",
            "* * \n",
            "* * * \n"
          ]
        }
      ]
    },
    {
      "cell_type": "code",
      "source": [
        "l2= int(input(\"enter the number\"))\n",
        "for i in range(1,l2+1):\n",
        "  for j in range(1,i+1):\n",
        "    print(j, end=\" \")\n",
        "  for k in range(i-1,0,-1):\n",
        "    print(k,end=\" \")\n",
        "  print()"
      ],
      "metadata": {
        "colab": {
          "base_uri": "https://localhost:8080/"
        },
        "id": "QYvFhvs_dvcH",
        "outputId": "24044ceb-770f-4308-f360-20e93a2fbcc4"
      },
      "execution_count": null,
      "outputs": [
        {
          "output_type": "stream",
          "name": "stdout",
          "text": [
            "enter the number5\n",
            "1 \n",
            "1 2 1 \n",
            "1 2 3 2 1 \n",
            "1 2 3 4 3 2 1 \n",
            "1 2 3 4 5 4 3 2 1 \n"
          ]
        }
      ]
    },
    {
      "cell_type": "markdown",
      "source": [
        "#Loop Control Statement"
      ],
      "metadata": {
        "id": "lLpKoAAdkdN-"
      }
    },
    {
      "cell_type": "markdown",
      "source": [
        "##Break"
      ],
      "metadata": {
        "id": "tK5eC9c7khbw"
      }
    },
    {
      "cell_type": "code",
      "source": [
        "for i in range(1,10):\n",
        "  if i==5:\n",
        "    break\n",
        "  print(i)"
      ],
      "metadata": {
        "colab": {
          "base_uri": "https://localhost:8080/"
        },
        "id": "V9kXeOiLkyOL",
        "outputId": "b5c131ef-0b4f-4732-c50b-8c9b5f55b2e7"
      },
      "execution_count": null,
      "outputs": [
        {
          "output_type": "stream",
          "name": "stdout",
          "text": [
            "1\n",
            "2\n",
            "3\n",
            "4\n"
          ]
        }
      ]
    },
    {
      "cell_type": "markdown",
      "source": [
        "#Continue"
      ],
      "metadata": {
        "id": "vTgP3m_X04jE"
      }
    },
    {
      "cell_type": "code",
      "source": [
        "for i in range(1,10):\n",
        "  if i==5:\n",
        "    continue\n",
        "  print(i)"
      ],
      "metadata": {
        "colab": {
          "base_uri": "https://localhost:8080/"
        },
        "id": "15V6-Bmr0sYb",
        "outputId": "92fa3cff-43c0-470e-eb27-5b495e04b54d"
      },
      "execution_count": null,
      "outputs": [
        {
          "output_type": "stream",
          "name": "stdout",
          "text": [
            "1\n",
            "2\n",
            "3\n",
            "4\n",
            "6\n",
            "7\n",
            "8\n",
            "9\n"
          ]
        }
      ]
    },
    {
      "cell_type": "code",
      "source": [
        "for i in range(1,10):\n",
        "  pass"
      ],
      "metadata": {
        "id": "ZSXdbWC209Li"
      },
      "execution_count": null,
      "outputs": []
    },
    {
      "cell_type": "markdown",
      "source": [
        "##Strings\n",
        "###In python specifically, string are a sequence of Unicode Character\n"
      ],
      "metadata": {
        "id": "12XMsRzV1V7L"
      }
    },
    {
      "cell_type": "code",
      "source": [
        "#Creating strings\n",
        "s1=\"hello\"\n",
        "s2='hello'\n",
        "s3=\"\"\"hello\"\"\"\n",
        "print(s1,s2,s3)"
      ],
      "metadata": {
        "colab": {
          "base_uri": "https://localhost:8080/"
        },
        "id": "Z60R4ORh2Df7",
        "outputId": "8d7df8f0-2775-4a0f-cec2-c24f8b8bed2e"
      },
      "execution_count": null,
      "outputs": [
        {
          "output_type": "stream",
          "name": "stdout",
          "text": [
            "hello hello hello\n"
          ]
        }
      ]
    },
    {
      "cell_type": "code",
      "source": [
        "s4=\"it's raining outside\"\n",
        "print(s4)"
      ],
      "metadata": {
        "colab": {
          "base_uri": "https://localhost:8080/"
        },
        "id": "skp0-AN32XK0",
        "outputId": "f899e655-3f60-4a18-dfa9-16574a02d353"
      },
      "execution_count": null,
      "outputs": [
        {
          "output_type": "stream",
          "name": "stdout",
          "text": [
            "it's raining outside\n"
          ]
        }
      ]
    },
    {
      "cell_type": "code",
      "source": [
        "s5=str(\"hello\")\n",
        "print(s5)"
      ],
      "metadata": {
        "colab": {
          "base_uri": "https://localhost:8080/"
        },
        "id": "Efjevf_B2d2e",
        "outputId": "015bab9e-9115-4bd8-d672-1a82143bf63a"
      },
      "execution_count": null,
      "outputs": [
        {
          "output_type": "stream",
          "name": "stdout",
          "text": [
            "hello\n"
          ]
        }
      ]
    },
    {
      "cell_type": "code",
      "source": [
        "#Accessing Substring from a  String\n",
        "#Positive indexing\n",
        "s6=\"hello world\"\n",
        "print(s6[1])\n",
        "#Negative indexing\n",
        "print(s6[-1])"
      ],
      "metadata": {
        "colab": {
          "base_uri": "https://localhost:8080/"
        },
        "id": "HX6eu_hI2zvH",
        "outputId": "50110897-8247-4c98-f7f5-2b29f69970e2"
      },
      "execution_count": null,
      "outputs": [
        {
          "output_type": "stream",
          "name": "stdout",
          "text": [
            "e\n",
            "d\n"
          ]
        }
      ]
    },
    {
      "cell_type": "code",
      "source": [
        "#Slicing\n",
        "print(s6[1:3])\n",
        "print(s6[2:])\n",
        "print(s6[:])\n",
        "print(s6[::2])\n",
        "print(s6[::-1])\n",
        "print(s6[-1:-6:-1])"
      ],
      "metadata": {
        "colab": {
          "base_uri": "https://localhost:8080/"
        },
        "id": "gNheR0-K3VHb",
        "outputId": "5c34ebfb-7a6c-4121-f5cb-57324cb9deab"
      },
      "execution_count": null,
      "outputs": [
        {
          "output_type": "stream",
          "name": "stdout",
          "text": [
            "el\n",
            "llo world\n",
            "hello world\n",
            "hlowrd\n",
            "dlrow olleh\n",
            "dlrow\n"
          ]
        }
      ]
    },
    {
      "cell_type": "code",
      "source": [
        "#Strings are immutable\n",
        "s6[0]=\"H\""
      ],
      "metadata": {
        "colab": {
          "base_uri": "https://localhost:8080/",
          "height": 158
        },
        "id": "NE0bwEiY4AVW",
        "outputId": "d68cc619-6de0-44d8-b9e3-88ee4d0004aa"
      },
      "execution_count": null,
      "outputs": [
        {
          "output_type": "error",
          "ename": "TypeError",
          "evalue": "'str' object does not support item assignment",
          "traceback": [
            "\u001b[0;31m---------------------------------------------------------------------------\u001b[0m",
            "\u001b[0;31mTypeError\u001b[0m                                 Traceback (most recent call last)",
            "\u001b[0;32m<ipython-input-81-360745686da6>\u001b[0m in \u001b[0;36m<cell line: 2>\u001b[0;34m()\u001b[0m\n\u001b[1;32m      1\u001b[0m \u001b[0;31m#Strings are immutable\u001b[0m\u001b[0;34m\u001b[0m\u001b[0;34m\u001b[0m\u001b[0m\n\u001b[0;32m----> 2\u001b[0;31m \u001b[0ms6\u001b[0m\u001b[0;34m[\u001b[0m\u001b[0;36m0\u001b[0m\u001b[0;34m]\u001b[0m\u001b[0;34m=\u001b[0m\u001b[0;34m\"H\"\u001b[0m\u001b[0;34m\u001b[0m\u001b[0;34m\u001b[0m\u001b[0m\n\u001b[0m",
            "\u001b[0;31mTypeError\u001b[0m: 'str' object does not support item assignment"
          ]
        }
      ]
    },
    {
      "cell_type": "code",
      "source": [
        "s7=\"Hello\"\n",
        "del s7\n",
        "print(s7)"
      ],
      "metadata": {
        "colab": {
          "base_uri": "https://localhost:8080/",
          "height": 176
        },
        "id": "VcsFmvEk5sme",
        "outputId": "91468dbb-cf0a-417c-fbe4-4c193b5f5486"
      },
      "execution_count": null,
      "outputs": [
        {
          "output_type": "error",
          "ename": "NameError",
          "evalue": "name 's7' is not defined",
          "traceback": [
            "\u001b[0;31m---------------------------------------------------------------------------\u001b[0m",
            "\u001b[0;31mNameError\u001b[0m                                 Traceback (most recent call last)",
            "\u001b[0;32m<ipython-input-82-21e5f7a57f96>\u001b[0m in \u001b[0;36m<cell line: 3>\u001b[0;34m()\u001b[0m\n\u001b[1;32m      1\u001b[0m \u001b[0ms7\u001b[0m\u001b[0;34m=\u001b[0m\u001b[0;34m\"Hello\"\u001b[0m\u001b[0;34m\u001b[0m\u001b[0;34m\u001b[0m\u001b[0m\n\u001b[1;32m      2\u001b[0m \u001b[0;32mdel\u001b[0m \u001b[0ms7\u001b[0m\u001b[0;34m\u001b[0m\u001b[0;34m\u001b[0m\u001b[0m\n\u001b[0;32m----> 3\u001b[0;31m \u001b[0mprint\u001b[0m\u001b[0;34m(\u001b[0m\u001b[0ms7\u001b[0m\u001b[0;34m)\u001b[0m\u001b[0;34m\u001b[0m\u001b[0;34m\u001b[0m\u001b[0m\n\u001b[0m",
            "\u001b[0;31mNameError\u001b[0m: name 's7' is not defined"
          ]
        }
      ]
    },
    {
      "cell_type": "code",
      "source": [
        "s8=\"Hello\"\n",
        "del s[-1:-4:2]\n",
        "print(s8)"
      ],
      "metadata": {
        "colab": {
          "base_uri": "https://localhost:8080/",
          "height": 176
        },
        "id": "TLTKcZA751p_",
        "outputId": "6f34b89f-2732-41a7-f2ec-2c35f761a5ec"
      },
      "execution_count": null,
      "outputs": [
        {
          "output_type": "error",
          "ename": "NameError",
          "evalue": "name 's' is not defined",
          "traceback": [
            "\u001b[0;31m---------------------------------------------------------------------------\u001b[0m",
            "\u001b[0;31mNameError\u001b[0m                                 Traceback (most recent call last)",
            "\u001b[0;32m<ipython-input-83-da5c2537a2c7>\u001b[0m in \u001b[0;36m<cell line: 2>\u001b[0;34m()\u001b[0m\n\u001b[1;32m      1\u001b[0m \u001b[0ms8\u001b[0m\u001b[0;34m=\u001b[0m\u001b[0;34m\"Hello\"\u001b[0m\u001b[0;34m\u001b[0m\u001b[0;34m\u001b[0m\u001b[0m\n\u001b[0;32m----> 2\u001b[0;31m \u001b[0;32mdel\u001b[0m \u001b[0ms\u001b[0m\u001b[0;34m[\u001b[0m\u001b[0;34m-\u001b[0m\u001b[0;36m1\u001b[0m\u001b[0;34m:\u001b[0m\u001b[0;34m-\u001b[0m\u001b[0;36m4\u001b[0m\u001b[0;34m:\u001b[0m\u001b[0;36m2\u001b[0m\u001b[0;34m]\u001b[0m\u001b[0;34m\u001b[0m\u001b[0;34m\u001b[0m\u001b[0m\n\u001b[0m\u001b[1;32m      3\u001b[0m \u001b[0mprint\u001b[0m\u001b[0;34m(\u001b[0m\u001b[0ms8\u001b[0m\u001b[0;34m)\u001b[0m\u001b[0;34m\u001b[0m\u001b[0;34m\u001b[0m\u001b[0m\n",
            "\u001b[0;31mNameError\u001b[0m: name 's' is not defined"
          ]
        }
      ]
    },
    {
      "cell_type": "markdown",
      "source": [
        "##Operation on strings\n",
        "* Arithmetic Operator\n",
        "* Relational operator\n",
        "* Logical OPerator\n",
        "* Loops on strings\n",
        "* Membership operator\n"
      ],
      "metadata": {
        "id": "AuoOkizn6RWv"
      }
    },
    {
      "cell_type": "code",
      "source": [
        "print(\"delhi\"+\"mumbai\")"
      ],
      "metadata": {
        "colab": {
          "base_uri": "https://localhost:8080/"
        },
        "id": "YgQmY5po60Rg",
        "outputId": "d85de8f8-da8c-40a1-ef6e-2e99bf4fad17"
      },
      "execution_count": null,
      "outputs": [
        {
          "output_type": "stream",
          "name": "stdout",
          "text": [
            "delhimumbai\n"
          ]
        }
      ]
    },
    {
      "cell_type": "code",
      "source": [
        "print(\"Delhi\"*5)"
      ],
      "metadata": {
        "colab": {
          "base_uri": "https://localhost:8080/"
        },
        "id": "RaqrZDFz654x",
        "outputId": "4326acf7-b86a-49e6-a676-6a6739abee1d"
      },
      "execution_count": null,
      "outputs": [
        {
          "output_type": "stream",
          "name": "stdout",
          "text": [
            "DelhiDelhiDelhiDelhiDelhi\n"
          ]
        }
      ]
    },
    {
      "cell_type": "code",
      "source": [
        "#Subtration, division,modulus doesnot work in string"
      ],
      "metadata": {
        "id": "N3kS6qn46-JG"
      },
      "execution_count": null,
      "outputs": []
    },
    {
      "cell_type": "code",
      "source": [
        "\"delhi\"==\"mumbai\"\n"
      ],
      "metadata": {
        "colab": {
          "base_uri": "https://localhost:8080/"
        },
        "id": "tGz5Y1g57O6v",
        "outputId": "aae12fb3-de6b-46c8-8c76-974486d436cf"
      },
      "execution_count": null,
      "outputs": [
        {
          "output_type": "execute_result",
          "data": {
            "text/plain": [
              "False"
            ]
          },
          "metadata": {},
          "execution_count": 105
        }
      ]
    },
    {
      "cell_type": "code",
      "source": [
        "\"delhi\"!=\"mumbai\""
      ],
      "metadata": {
        "colab": {
          "base_uri": "https://localhost:8080/"
        },
        "id": "4ADhJbOc7Wme",
        "outputId": "23ba2479-43b7-4fc0-ca38-6f97e37c4e6e"
      },
      "execution_count": null,
      "outputs": [
        {
          "output_type": "execute_result",
          "data": {
            "text/plain": [
              "True"
            ]
          },
          "metadata": {},
          "execution_count": 106
        }
      ]
    },
    {
      "cell_type": "code",
      "source": [
        "\"Delhi\">=\"Mumbai\""
      ],
      "metadata": {
        "colab": {
          "base_uri": "https://localhost:8080/"
        },
        "id": "wRq0oaEP7dSV",
        "outputId": "680d1b09-0f33-45ae-9cb3-de979d9ce6f6"
      },
      "execution_count": null,
      "outputs": [
        {
          "output_type": "execute_result",
          "data": {
            "text/plain": [
              "False"
            ]
          },
          "metadata": {},
          "execution_count": 107
        }
      ]
    },
    {
      "cell_type": "code",
      "source": [
        "\"Delhi\"<=\"Mumbai\""
      ],
      "metadata": {
        "colab": {
          "base_uri": "https://localhost:8080/"
        },
        "id": "QV8y2FrY7iRP",
        "outputId": "5dbc9749-930b-426f-92ed-7b6fb6b932e5"
      },
      "execution_count": null,
      "outputs": [
        {
          "output_type": "execute_result",
          "data": {
            "text/plain": [
              "True"
            ]
          },
          "metadata": {},
          "execution_count": 108
        }
      ]
    },
    {
      "cell_type": "code",
      "source": [
        "\"Hello\" and \"WOrld\""
      ],
      "metadata": {
        "colab": {
          "base_uri": "https://localhost:8080/",
          "height": 36
        },
        "id": "UNp0zLM87mN1",
        "outputId": "9252dc05-5532-48a6-dd97-ed7bb4b3675f"
      },
      "execution_count": null,
      "outputs": [
        {
          "output_type": "execute_result",
          "data": {
            "text/plain": [
              "'WOrld'"
            ],
            "application/vnd.google.colaboratory.intrinsic+json": {
              "type": "string"
            }
          },
          "metadata": {},
          "execution_count": 109
        }
      ]
    },
    {
      "cell_type": "code",
      "source": [
        "\"Hello\" or \"World\""
      ],
      "metadata": {
        "colab": {
          "base_uri": "https://localhost:8080/",
          "height": 36
        },
        "id": "ICIBsZeCCvNa",
        "outputId": "f0c446e2-fd30-4275-f203-7fa9e0a1cc05"
      },
      "execution_count": null,
      "outputs": [
        {
          "output_type": "execute_result",
          "data": {
            "text/plain": [
              "'Hello'"
            ],
            "application/vnd.google.colaboratory.intrinsic+json": {
              "type": "string"
            }
          },
          "metadata": {},
          "execution_count": 110
        }
      ]
    },
    {
      "cell_type": "code",
      "source": [
        "\"\" and \"world\""
      ],
      "metadata": {
        "colab": {
          "base_uri": "https://localhost:8080/",
          "height": 36
        },
        "id": "meMwzI9PC8fx",
        "outputId": "944d3440-ef81-46bf-89ee-1c8050fcb94f"
      },
      "execution_count": null,
      "outputs": [
        {
          "output_type": "execute_result",
          "data": {
            "text/plain": [
              "''"
            ],
            "application/vnd.google.colaboratory.intrinsic+json": {
              "type": "string"
            }
          },
          "metadata": {},
          "execution_count": 111
        }
      ]
    },
    {
      "cell_type": "code",
      "source": [
        "\"hello\" and \"\""
      ],
      "metadata": {
        "colab": {
          "base_uri": "https://localhost:8080/",
          "height": 36
        },
        "id": "mR1huQ3mDC5k",
        "outputId": "3a06337f-540b-48ff-a4fb-7e9b3cf30ef3"
      },
      "execution_count": null,
      "outputs": [
        {
          "output_type": "execute_result",
          "data": {
            "text/plain": [
              "''"
            ],
            "application/vnd.google.colaboratory.intrinsic+json": {
              "type": "string"
            }
          },
          "metadata": {},
          "execution_count": 112
        }
      ]
    },
    {
      "cell_type": "code",
      "source": [
        "not \"\""
      ],
      "metadata": {
        "colab": {
          "base_uri": "https://localhost:8080/"
        },
        "id": "bP7k9wgJDGjH",
        "outputId": "df233a6a-e161-4246-f5e8-a743dcd23ae6"
      },
      "execution_count": null,
      "outputs": [
        {
          "output_type": "execute_result",
          "data": {
            "text/plain": [
              "True"
            ]
          },
          "metadata": {},
          "execution_count": 113
        }
      ]
    },
    {
      "cell_type": "code",
      "source": [
        "not \" ehllo\""
      ],
      "metadata": {
        "colab": {
          "base_uri": "https://localhost:8080/"
        },
        "id": "2ijSyY5NDPw7",
        "outputId": "64fbdaba-8fdd-4b25-bf99-1685dfb65be0"
      },
      "execution_count": null,
      "outputs": [
        {
          "output_type": "execute_result",
          "data": {
            "text/plain": [
              "False"
            ]
          },
          "metadata": {},
          "execution_count": 114
        }
      ]
    },
    {
      "cell_type": "code",
      "source": [
        "for i in \"hello\":\n",
        "  print(i)"
      ],
      "metadata": {
        "colab": {
          "base_uri": "https://localhost:8080/"
        },
        "id": "hYaXZdwLDhxD",
        "outputId": "ce6b4e43-19fa-4b98-ce12-23314fe5d391"
      },
      "execution_count": null,
      "outputs": [
        {
          "output_type": "stream",
          "name": "stdout",
          "text": [
            "h\n",
            "e\n",
            "l\n",
            "l\n",
            "o\n"
          ]
        }
      ]
    },
    {
      "cell_type": "code",
      "source": [
        "for i in \"delhi\":\n",
        "  print(\"Pune\")"
      ],
      "metadata": {
        "colab": {
          "base_uri": "https://localhost:8080/"
        },
        "id": "RQr2X2RnDlZL",
        "outputId": "05ea1452-1c50-4d12-9f99-6a43f2f1b714"
      },
      "execution_count": null,
      "outputs": [
        {
          "output_type": "stream",
          "name": "stdout",
          "text": [
            "Pune\n",
            "Pune\n",
            "Pune\n",
            "Pune\n",
            "Pune\n"
          ]
        }
      ]
    },
    {
      "cell_type": "code",
      "source": [
        "\"D\" in \"Delhi\""
      ],
      "metadata": {
        "colab": {
          "base_uri": "https://localhost:8080/"
        },
        "id": "hOV31KHgDsoc",
        "outputId": "78e10b3b-61bb-4712-fdbc-2a63ecf1c6c0"
      },
      "execution_count": null,
      "outputs": [
        {
          "output_type": "execute_result",
          "data": {
            "text/plain": [
              "True"
            ]
          },
          "metadata": {},
          "execution_count": 117
        }
      ]
    },
    {
      "cell_type": "code",
      "source": [
        "\"D\" not in \"Delhi\""
      ],
      "metadata": {
        "colab": {
          "base_uri": "https://localhost:8080/"
        },
        "id": "SIGLgAi9Dw-a",
        "outputId": "c89583c9-34b0-4b92-e3f8-cb8a37cb7dea"
      },
      "execution_count": null,
      "outputs": [
        {
          "output_type": "execute_result",
          "data": {
            "text/plain": [
              "False"
            ]
          },
          "metadata": {},
          "execution_count": 118
        }
      ]
    },
    {
      "cell_type": "markdown",
      "source": [
        "##Common function\n",
        "* Len\n",
        "*max\n",
        "*min\n",
        "*sorted"
      ],
      "metadata": {
        "id": "m8VpH2p3D322"
      }
    },
    {
      "cell_type": "code",
      "source": [
        "len(\"string\")"
      ],
      "metadata": {
        "colab": {
          "base_uri": "https://localhost:8080/"
        },
        "id": "mY6qBZ6_EHl7",
        "outputId": "ebc60c3f-8397-4816-eb6c-05a663344aa8"
      },
      "execution_count": null,
      "outputs": [
        {
          "output_type": "execute_result",
          "data": {
            "text/plain": [
              "6"
            ]
          },
          "metadata": {},
          "execution_count": 119
        }
      ]
    },
    {
      "cell_type": "code",
      "source": [
        "max(\"string\")"
      ],
      "metadata": {
        "colab": {
          "base_uri": "https://localhost:8080/",
          "height": 36
        },
        "id": "gzTMOqcsEKBu",
        "outputId": "12fc0b1f-dd3f-464c-b7c9-87991990f8cf"
      },
      "execution_count": null,
      "outputs": [
        {
          "output_type": "execute_result",
          "data": {
            "text/plain": [
              "'t'"
            ],
            "application/vnd.google.colaboratory.intrinsic+json": {
              "type": "string"
            }
          },
          "metadata": {},
          "execution_count": 120
        }
      ]
    },
    {
      "cell_type": "code",
      "source": [
        "min(\"String\")"
      ],
      "metadata": {
        "colab": {
          "base_uri": "https://localhost:8080/",
          "height": 36
        },
        "id": "z55R0VHfENsL",
        "outputId": "6f876576-4f95-41a3-88f2-663f4f898ae3"
      },
      "execution_count": null,
      "outputs": [
        {
          "output_type": "execute_result",
          "data": {
            "text/plain": [
              "'S'"
            ],
            "application/vnd.google.colaboratory.intrinsic+json": {
              "type": "string"
            }
          },
          "metadata": {},
          "execution_count": 121
        }
      ]
    },
    {
      "cell_type": "code",
      "source": [
        "sorted(\"String\")"
      ],
      "metadata": {
        "colab": {
          "base_uri": "https://localhost:8080/"
        },
        "id": "LuViftJOEP_T",
        "outputId": "f303b4a1-dc6e-4e98-ea65-49bcbe237418"
      },
      "execution_count": null,
      "outputs": [
        {
          "output_type": "execute_result",
          "data": {
            "text/plain": [
              "['S', 'g', 'i', 'n', 'r', 't']"
            ]
          },
          "metadata": {},
          "execution_count": 122
        }
      ]
    },
    {
      "cell_type": "code",
      "source": [
        "sorted(\"string\", reverse=True)"
      ],
      "metadata": {
        "colab": {
          "base_uri": "https://localhost:8080/"
        },
        "id": "_7Tcm_2OEUSY",
        "outputId": "e0b19e08-991b-49b9-89e2-c0d96113fea4"
      },
      "execution_count": null,
      "outputs": [
        {
          "output_type": "execute_result",
          "data": {
            "text/plain": [
              "['t', 's', 'r', 'n', 'i', 'g']"
            ]
          },
          "metadata": {},
          "execution_count": 123
        }
      ]
    },
    {
      "cell_type": "code",
      "source": [
        "##Function only for string\n",
        "s9=\"hello world\"\n",
        "s9.capitalize()\n"
      ],
      "metadata": {
        "colab": {
          "base_uri": "https://localhost:8080/",
          "height": 36
        },
        "id": "zlZVUkg1EYkt",
        "outputId": "659ec4c6-be03-42c2-98a7-b70039bb6050"
      },
      "execution_count": null,
      "outputs": [
        {
          "output_type": "execute_result",
          "data": {
            "text/plain": [
              "'Hello World'"
            ],
            "application/vnd.google.colaboratory.intrinsic+json": {
              "type": "string"
            }
          },
          "metadata": {},
          "execution_count": 125
        }
      ]
    },
    {
      "cell_type": "code",
      "source": [
        "s9.title()"
      ],
      "metadata": {
        "colab": {
          "base_uri": "https://localhost:8080/",
          "height": 36
        },
        "id": "kNSzAUzjEttC",
        "outputId": "8f14bdc0-d324-4461-fba8-e728e26120cb"
      },
      "execution_count": null,
      "outputs": [
        {
          "output_type": "execute_result",
          "data": {
            "text/plain": [
              "'Hello World'"
            ],
            "application/vnd.google.colaboratory.intrinsic+json": {
              "type": "string"
            }
          },
          "metadata": {},
          "execution_count": 126
        }
      ]
    },
    {
      "cell_type": "code",
      "source": [
        "s9.upper()"
      ],
      "metadata": {
        "colab": {
          "base_uri": "https://localhost:8080/",
          "height": 36
        },
        "id": "fhBNAt4ZEutP",
        "outputId": "ebcad0cf-07bc-476c-ab8d-2107c64e4d62"
      },
      "execution_count": null,
      "outputs": [
        {
          "output_type": "execute_result",
          "data": {
            "text/plain": [
              "'HELLO WORLD'"
            ],
            "application/vnd.google.colaboratory.intrinsic+json": {
              "type": "string"
            }
          },
          "metadata": {},
          "execution_count": 127
        }
      ]
    },
    {
      "cell_type": "code",
      "source": [
        "s9.lower()"
      ],
      "metadata": {
        "colab": {
          "base_uri": "https://localhost:8080/",
          "height": 36
        },
        "id": "k0eZzzqZE0Gt",
        "outputId": "83cb52e8-5725-4028-9c67-29f0bbf7b82d"
      },
      "execution_count": null,
      "outputs": [
        {
          "output_type": "execute_result",
          "data": {
            "text/plain": [
              "'hello world'"
            ],
            "application/vnd.google.colaboratory.intrinsic+json": {
              "type": "string"
            }
          },
          "metadata": {},
          "execution_count": 128
        }
      ]
    },
    {
      "cell_type": "code",
      "source": [
        "s9.swapcase()"
      ],
      "metadata": {
        "colab": {
          "base_uri": "https://localhost:8080/",
          "height": 36
        },
        "id": "OCL8qw30E3ea",
        "outputId": "58d1d118-6e81-4321-a76e-c829328e6217"
      },
      "execution_count": null,
      "outputs": [
        {
          "output_type": "execute_result",
          "data": {
            "text/plain": [
              "'HELLO WORLD'"
            ],
            "application/vnd.google.colaboratory.intrinsic+json": {
              "type": "string"
            }
          },
          "metadata": {},
          "execution_count": 130
        }
      ]
    },
    {
      "cell_type": "code",
      "source": [
        "s9.count(\"o\")"
      ],
      "metadata": {
        "colab": {
          "base_uri": "https://localhost:8080/"
        },
        "id": "ljkMvxdiE_xB",
        "outputId": "89cc9e7e-d527-4c99-98ad-960270ed3f70"
      },
      "execution_count": null,
      "outputs": [
        {
          "output_type": "execute_result",
          "data": {
            "text/plain": [
              "2"
            ]
          },
          "metadata": {},
          "execution_count": 132
        }
      ]
    },
    {
      "cell_type": "code",
      "source": [
        "s9.find(\"o\")"
      ],
      "metadata": {
        "colab": {
          "base_uri": "https://localhost:8080/"
        },
        "id": "gIoEm7DfFLK8",
        "outputId": "e80662f6-927b-42f7-dbde-a429c3fc5e16"
      },
      "execution_count": null,
      "outputs": [
        {
          "output_type": "execute_result",
          "data": {
            "text/plain": [
              "4"
            ]
          },
          "metadata": {},
          "execution_count": 133
        }
      ]
    },
    {
      "cell_type": "code",
      "source": [
        "s9.find(\"a\")"
      ],
      "metadata": {
        "colab": {
          "base_uri": "https://localhost:8080/"
        },
        "id": "uxgWS7g2FcfE",
        "outputId": "8bdac895-0dec-43af-e220-33b84b6cb140"
      },
      "execution_count": null,
      "outputs": [
        {
          "output_type": "execute_result",
          "data": {
            "text/plain": [
              "-1"
            ]
          },
          "metadata": {},
          "execution_count": 134
        }
      ]
    },
    {
      "cell_type": "code",
      "source": [
        "s9.index(\"w\")"
      ],
      "metadata": {
        "colab": {
          "base_uri": "https://localhost:8080/"
        },
        "id": "DdtfmrqWFfxN",
        "outputId": "88a0cc74-9c28-46b8-fc0a-ea1d9ce88c0a"
      },
      "execution_count": null,
      "outputs": [
        {
          "output_type": "execute_result",
          "data": {
            "text/plain": [
              "6"
            ]
          },
          "metadata": {},
          "execution_count": 135
        }
      ]
    },
    {
      "cell_type": "code",
      "source": [
        "s9.index(\"a\")\n",
        "#error is thrown"
      ],
      "metadata": {
        "colab": {
          "base_uri": "https://localhost:8080/",
          "height": 158
        },
        "id": "5Ntx8DeqFlX8",
        "outputId": "11abd0d8-b3cd-4304-d900-a952a9a50b16"
      },
      "execution_count": null,
      "outputs": [
        {
          "output_type": "error",
          "ename": "ValueError",
          "evalue": "substring not found",
          "traceback": [
            "\u001b[0;31m---------------------------------------------------------------------------\u001b[0m",
            "\u001b[0;31mValueError\u001b[0m                                Traceback (most recent call last)",
            "\u001b[0;32m<ipython-input-137-59352ae89977>\u001b[0m in \u001b[0;36m<cell line: 1>\u001b[0;34m()\u001b[0m\n\u001b[0;32m----> 1\u001b[0;31m \u001b[0ms9\u001b[0m\u001b[0;34m.\u001b[0m\u001b[0mindex\u001b[0m\u001b[0;34m(\u001b[0m\u001b[0;34m\"a\"\u001b[0m\u001b[0;34m)\u001b[0m\u001b[0;34m\u001b[0m\u001b[0;34m\u001b[0m\u001b[0m\n\u001b[0m\u001b[1;32m      2\u001b[0m \u001b[0;31m#error is thrown\u001b[0m\u001b[0;34m\u001b[0m\u001b[0;34m\u001b[0m\u001b[0m\n",
            "\u001b[0;31mValueError\u001b[0m: substring not found"
          ]
        }
      ]
    },
    {
      "cell_type": "code",
      "source": [
        "\"hello\".endswith(\"o\")"
      ],
      "metadata": {
        "colab": {
          "base_uri": "https://localhost:8080/"
        },
        "id": "nXKmK5djFqA4",
        "outputId": "ab6c16f0-e64d-4641-d2ed-a56019874e8b"
      },
      "execution_count": null,
      "outputs": [
        {
          "output_type": "execute_result",
          "data": {
            "text/plain": [
              "True"
            ]
          },
          "metadata": {},
          "execution_count": 138
        }
      ]
    },
    {
      "cell_type": "code",
      "source": [
        "\"Heloo\".startswith(\"H\")"
      ],
      "metadata": {
        "colab": {
          "base_uri": "https://localhost:8080/"
        },
        "id": "GfNhJMcIF0BW",
        "outputId": "17f8cc9a-b23b-4cc3-9492-cd1799779a85"
      },
      "execution_count": null,
      "outputs": [
        {
          "output_type": "execute_result",
          "data": {
            "text/plain": [
              "True"
            ]
          },
          "metadata": {},
          "execution_count": 139
        }
      ]
    },
    {
      "cell_type": "code",
      "source": [
        "name=\"sudhanshu\"\n",
        "gender=\"male\"\n",
        "\"Hy my name is {} and i am a {}\".format(name,gender)\n"
      ],
      "metadata": {
        "colab": {
          "base_uri": "https://localhost:8080/",
          "height": 36
        },
        "id": "XMatXqoMF428",
        "outputId": "e2a65378-75e0-41b5-df2e-a9ff482618ea"
      },
      "execution_count": null,
      "outputs": [
        {
          "output_type": "execute_result",
          "data": {
            "text/plain": [
              "'Hy my name is sudhanshu and i am amale'"
            ],
            "application/vnd.google.colaboratory.intrinsic+json": {
              "type": "string"
            }
          },
          "metadata": {},
          "execution_count": 140
        }
      ]
    },
    {
      "cell_type": "code",
      "source": [
        "\"nitish1234\".isalnum()"
      ],
      "metadata": {
        "colab": {
          "base_uri": "https://localhost:8080/"
        },
        "id": "smVneWHQGONk",
        "outputId": "a43dcf72-9ffb-4e73-eb09-e241d2c7b6bf"
      },
      "execution_count": null,
      "outputs": [
        {
          "output_type": "execute_result",
          "data": {
            "text/plain": [
              "True"
            ]
          },
          "metadata": {},
          "execution_count": 141
        }
      ]
    },
    {
      "cell_type": "code",
      "source": [
        "\"nitisg\".isalpha()"
      ],
      "metadata": {
        "colab": {
          "base_uri": "https://localhost:8080/"
        },
        "id": "GQC-BEs_G0LG",
        "outputId": "bbf35195-c254-4b41-f9fc-8729817db3af"
      },
      "execution_count": null,
      "outputs": [
        {
          "output_type": "execute_result",
          "data": {
            "text/plain": [
              "True"
            ]
          },
          "metadata": {},
          "execution_count": 142
        }
      ]
    },
    {
      "cell_type": "code",
      "source": [
        "\"nitisg1234\".isalpha()"
      ],
      "metadata": {
        "colab": {
          "base_uri": "https://localhost:8080/"
        },
        "id": "w2yZb9FIFnQ1",
        "outputId": "a0dc99c9-7d71-4d16-8860-09dde62ef921"
      },
      "execution_count": null,
      "outputs": [
        {
          "output_type": "execute_result",
          "data": {
            "text/plain": [
              "False"
            ]
          },
          "metadata": {},
          "execution_count": 144
        }
      ]
    },
    {
      "cell_type": "code",
      "source": [
        "\"123\".isdigit()"
      ],
      "metadata": {
        "colab": {
          "base_uri": "https://localhost:8080/"
        },
        "id": "ENhIYoo5HARB",
        "outputId": "03b71b38-60ef-415c-cb6d-9d36cdef4f33"
      },
      "execution_count": null,
      "outputs": [
        {
          "output_type": "execute_result",
          "data": {
            "text/plain": [
              "True"
            ]
          },
          "metadata": {},
          "execution_count": 146
        }
      ]
    },
    {
      "cell_type": "code",
      "source": [
        "\"1name\".isidentifier()"
      ],
      "metadata": {
        "colab": {
          "base_uri": "https://localhost:8080/"
        },
        "id": "ooQTBRqnHXoT",
        "outputId": "74dac23d-9b0f-416c-f62f-94d1d4fb0564"
      },
      "execution_count": null,
      "outputs": [
        {
          "output_type": "execute_result",
          "data": {
            "text/plain": [
              "False"
            ]
          },
          "metadata": {},
          "execution_count": 147
        }
      ]
    },
    {
      "cell_type": "code",
      "source": [
        "\"hi my name is sudhanshu\".split()"
      ],
      "metadata": {
        "colab": {
          "base_uri": "https://localhost:8080/"
        },
        "id": "m1KpZ3lQHfng",
        "outputId": "8998f6e6-d8f2-4884-d615-358d121a0b2e"
      },
      "execution_count": null,
      "outputs": [
        {
          "output_type": "execute_result",
          "data": {
            "text/plain": [
              "['hi', 'my', 'name', 'is', 'sudhanshu']"
            ]
          },
          "metadata": {},
          "execution_count": 148
        }
      ]
    },
    {
      "cell_type": "code",
      "source": [
        "\"hi m name is sudhanshu\".split(\"a\")"
      ],
      "metadata": {
        "colab": {
          "base_uri": "https://localhost:8080/"
        },
        "id": "ald1FxSLHl8m",
        "outputId": "aaed4b7b-5a36-4ef3-ee34-319b7ebe2e6c"
      },
      "execution_count": null,
      "outputs": [
        {
          "output_type": "execute_result",
          "data": {
            "text/plain": [
              "['hi m n', 'me is sudh', 'nshu']"
            ]
          },
          "metadata": {},
          "execution_count": 149
        }
      ]
    },
    {
      "cell_type": "code",
      "source": [
        "\"\""
      ],
      "metadata": {
        "id": "eJQEX4AOHsD0"
      },
      "execution_count": null,
      "outputs": []
    },
    {
      "cell_type": "code",
      "source": [
        "\" \".join(['hi', 'my', 'name', 'is', 'sudhanshu'])"
      ],
      "metadata": {
        "colab": {
          "base_uri": "https://localhost:8080/",
          "height": 36
        },
        "id": "4VWykHnpE6Hq",
        "outputId": "b58fc23e-e0a0-43c5-fb13-52592cb76626"
      },
      "execution_count": null,
      "outputs": [
        {
          "output_type": "execute_result",
          "data": {
            "text/plain": [
              "'hi my name is sudhanshu'"
            ],
            "application/vnd.google.colaboratory.intrinsic+json": {
              "type": "string"
            }
          },
          "metadata": {},
          "execution_count": 151
        }
      ]
    },
    {
      "cell_type": "code",
      "source": [
        "\"hy my mane is sudhanshu chouhan\".replace(\"sudhanshu\",\"Sidhu\")"
      ],
      "metadata": {
        "colab": {
          "base_uri": "https://localhost:8080/",
          "height": 36
        },
        "id": "rZ6c7C8zH4Gp",
        "outputId": "56a1630d-88fc-48bc-f977-4d35ae7a0b65"
      },
      "execution_count": null,
      "outputs": [
        {
          "output_type": "execute_result",
          "data": {
            "text/plain": [
              "'hy my mane is Sidhu chouhan'"
            ],
            "application/vnd.google.colaboratory.intrinsic+json": {
              "type": "string"
            }
          },
          "metadata": {},
          "execution_count": 152
        }
      ]
    },
    {
      "cell_type": "code",
      "source": [
        "\"sudhanshu               \".strip()"
      ],
      "metadata": {
        "colab": {
          "base_uri": "https://localhost:8080/",
          "height": 36
        },
        "id": "odRbP7I2IJDq",
        "outputId": "ed3c5219-98eb-4dec-d84d-0bcc62994dac"
      },
      "execution_count": null,
      "outputs": [
        {
          "output_type": "execute_result",
          "data": {
            "text/plain": [
              "'sudhanshu'"
            ],
            "application/vnd.google.colaboratory.intrinsic+json": {
              "type": "string"
            }
          },
          "metadata": {},
          "execution_count": 153
        }
      ]
    },
    {
      "cell_type": "code",
      "source": [],
      "metadata": {
        "id": "Mhx14Q9vIaRg"
      },
      "execution_count": null,
      "outputs": []
    }
  ],
  "metadata": {
    "colab": {
      "provenance": [],
      "authorship_tag": "ABX9TyPnT5szpcYPRbQArzYnCdLb",
      "include_colab_link": true
    },
    "kernelspec": {
      "display_name": "Python 3",
      "name": "python3"
    },
    "language_info": {
      "name": "python"
    }
  },
  "nbformat": 4,
  "nbformat_minor": 0
}