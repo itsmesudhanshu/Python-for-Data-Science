{
  "cells": [
    {
      "cell_type": "markdown",
      "metadata": {
        "id": "view-in-github",
        "colab_type": "text"
      },
      "source": [
        "<a href=\"https://colab.research.google.com/github/itsmesudhanshu/Python-for-Data-Science/blob/main/Python_for_Data_Science.ipynb\" target=\"_parent\"><img src=\"https://colab.research.google.com/assets/colab-badge.svg\" alt=\"Open In Colab\"/></a>"
      ]
    },
    {
      "cell_type": "markdown",
      "metadata": {
        "id": "Uk6m5jkloDqP"
      },
      "source": [
        "# Why Python for Data Science?\n",
        "\n",
        "\n",
        "There are multiple reasons for opting for Python for data science. These are followings\n",
        "\n",
        "1. Design Philosophy: Python is the easiest language to learn. Python is an indented language so it looks beautiful to the reader.\n",
        "\n",
        "2. Batteries included: There are built-in datatype, operators, and many more built-in codes that will help the learner to use them for solving problems. For example in the case of C, we have seen that there is a separate coding we have to do for reversing the string by using a while loop on the contrary we can see that in Python we can use the direct function for reversing the string.\n",
        "\n",
        "3. General-Purpose Language: We can use Python for coding in procedural, object-oriented functional programming and many more\n",
        "\n",
        "4. Community: The success of Python in data science is due to its libraries created by the Python community these community libraries include pandas, numpy, sckit learn, and many more.\n",
        "\n",
        "5. Proximity with Maths: Many libraries back mathematics such as Scipy and numpy which help the data scientist to use Python for data manipulation."
      ]
    },
    {
      "cell_type": "markdown",
      "metadata": {
        "id": "-MlRqDyWNZn1"
      },
      "source": [
        "Difference between Artificial Intelligence,Machine learning and Deep learning.\n",
        "\n",
        "Artificial Intelligence: Science that empowers computers to mimic human intelligence such as decision making, text processing, and visual perception. AI is a broader field that contains several subfield such as machine learning, robotics, and computer vision.\n",
        "\n",
        "Machine learning: Machine learning is a subfield of artifitcial intelligence that enables machine to improve at a given task with experience. It is important to note that all machine learning techniques are classified as Artificial Intelligence ones. However , not all Artificial Intelligence could count as Machine learning since some basic Rule based Engines could be classified as AI but they do not learn from experience therefore they do not belong to the machine learning category.\n",
        "Machine learning is basically categorized in three subdomain. These are Supervised Learning, Unsupervised learning and Reinforcement learning. In supervised learning training algorithm using labeled input output data is used. In unsupervised learning no labeled data is provided and in this learning technique hidden pattern are find out. In Reinforcement Learning algorithm take actions to maximize cumulative rewards.\n",
        "\n",
        "Deep learning: Deep learning is a specialized field of machine learning that relies on training of deep artificial neural network(ANN) using a large dataset such as image or text. ANNs are are information processing models inspired by the human brain. ANNs works by mathematically mimicking the human brain and connecting multiple \"artificial\" neuron in a multilayered fashion. The more hidden layers added to the network, the deeper the network gets.\n",
        "\n",
        "Difference between Machine learning and Deep learning: Manual feature extraction is done.In deep learning automatic feature extraction is done by feeding training data set such as image along with target class(label)."
      ]
    },
    {
      "cell_type": "markdown",
      "metadata": {
        "id": "nC22c-8vUe1D"
      },
      "source": [
        "##Application of Python\n",
        "Hey friends today I am going to discuss about application of python. As we know that the popularity of python has been inreased in last decade. Then the question arises what are the potential reason behind this rise. Beyond many reason one important reason it's widespread usage for different task as it contains many helpfull libraries.\n",
        "\n",
        "\n",
        "1. Web development: Python is used for the development of websites in which different type of web development framework are used such as Flask and Django.\n",
        "\n",
        "2. Game Development: Python is used for the development of games which uses video development libraries such as PyGames.\n",
        "\n",
        "3. Image Processing: Python uses OpenCV and Python Imaging Library(PIL) for application such as face recognition and image detection.\n",
        "\n",
        "4. Text Processing: For text processing NLTK is used which help in processing enormous volume of text.\n",
        "\n",
        "5. Web Scrapping: Web scrapper crawl the website they are directed towards and store all the collected information from their web pages in one place. Web scrapper use tools such as PythonRequest and Selenium for web scrapping.\n",
        "\n",
        "6. Scientific and Numeric calculation: For AI and Machine learning project there is a dire need of calculation and for this python libraries such as NUmpy and Scipy is used.\n",
        "\n",
        "\n",
        "7. Data Analysis and data Visualization:  Python is used for data analysis and data visualization purpose with the help of libraries such as Pandas, Matplotlib, Seaborn and Plotly.\n",
        "\n",
        "8. AI and Machine learning Project: Last but not the least, Data science has been evolved like anything in last decade. Python libraries such as TensonFlow, Scikit Learn Pytorch boost this growth which help data scientist community to help the businesses."
      ]
    },
    {
      "cell_type": "markdown",
      "metadata": {
        "id": "UKJ1k20knyCg"
      },
      "source": [
        "###1. Python Output"
      ]
    },
    {
      "cell_type": "code",
      "execution_count": 1,
      "metadata": {
        "colab": {
          "base_uri": "https://localhost:8080/"
        },
        "id": "qH1_TMjKn5YX",
        "outputId": "b1a572e9-daee-4d27-d6e5-50cf119d30e3"
      },
      "outputs": [
        {
          "output_type": "stream",
          "name": "stdout",
          "text": [
            "Hello data enthusiast\n"
          ]
        }
      ],
      "source": [
        "#Python is a case sensitive language\n",
        "print(\"Hello data enthusiast\")"
      ]
    },
    {
      "cell_type": "code",
      "execution_count": 2,
      "metadata": {
        "colab": {
          "base_uri": "https://localhost:8080/",
          "height": 106
        },
        "id": "Rmd1GrLkoh_3",
        "outputId": "f91be16e-8a8f-43de-e36f-2ebd984e137e"
      },
      "outputs": [
        {
          "output_type": "error",
          "ename": "SyntaxError",
          "evalue": "invalid syntax. Perhaps you forgot a comma? (<ipython-input-2-3631957d99c2>, line 1)",
          "traceback": [
            "\u001b[0;36m  File \u001b[0;32m\"<ipython-input-2-3631957d99c2>\"\u001b[0;36m, line \u001b[0;32m1\u001b[0m\n\u001b[0;31m    print(hello data)\u001b[0m\n\u001b[0m          ^\u001b[0m\n\u001b[0;31mSyntaxError\u001b[0m\u001b[0;31m:\u001b[0m invalid syntax. Perhaps you forgot a comma?\n"
          ]
        }
      ],
      "source": [
        "print(hello data)"
      ]
    },
    {
      "cell_type": "code",
      "execution_count": 3,
      "metadata": {
        "colab": {
          "base_uri": "https://localhost:8080/"
        },
        "id": "4CcLbT9vomB7",
        "outputId": "e03f93aa-5de2-4a44-e3f3-1b1863385f43"
      },
      "outputs": [
        {
          "output_type": "stream",
          "name": "stdout",
          "text": [
            "7\n"
          ]
        }
      ],
      "source": [
        "print(7)"
      ]
    },
    {
      "cell_type": "code",
      "execution_count": 4,
      "metadata": {
        "colab": {
          "base_uri": "https://localhost:8080/"
        },
        "id": "QuBq9i8UoocX",
        "outputId": "6ef93422-36a7-479e-d6bf-daecd24204c8"
      },
      "outputs": [
        {
          "output_type": "stream",
          "name": "stdout",
          "text": [
            "True\n"
          ]
        }
      ],
      "source": [
        "print(True)"
      ]
    },
    {
      "cell_type": "code",
      "execution_count": 5,
      "metadata": {
        "colab": {
          "base_uri": "https://localhost:8080/"
        },
        "id": "hUzIoCcsoqri",
        "outputId": "14446655-a372-4e4d-a91b-843b9af57dda"
      },
      "outputs": [
        {
          "output_type": "stream",
          "name": "stdout",
          "text": [
            "Hello 1 4.5 True\n",
            "Hello@1@2\n"
          ]
        }
      ],
      "source": [
        "print(\"Hello\",1,4.5, True)\n",
        "#We can print as many datatypes\n",
        "#here we can observe space between the datatype\n",
        "print(\"Hello\",1,2, sep=\"@\", end=\"\\n\")"
      ]
    },
    {
      "cell_type": "markdown",
      "metadata": {
        "id": "Qbj4L6_NeCWS"
      },
      "source": [
        "#Operators in Python\n",
        "\n",
        "\n",
        "*   Arithmetic Operators\n",
        "*   Relational Operators\n",
        "\n",
        "*   Logical Operators\n",
        "*   Bitwise Operators\n",
        "\n",
        "*   Assignment Operators\n",
        "*   Membership Operators\n",
        "\n",
        "\n",
        "\n",
        "\n",
        "\n",
        "\n"
      ]
    },
    {
      "cell_type": "code",
      "execution_count": 6,
      "metadata": {
        "colab": {
          "base_uri": "https://localhost:8080/"
        },
        "id": "d3u3AhfcEJ-G",
        "outputId": "91cad3e6-315f-4b32-cc34-aa7900bf317f"
      },
      "outputs": [
        {
          "output_type": "stream",
          "name": "stdout",
          "text": [
            "11\n",
            "-1\n",
            "2.5\n",
            "2\n",
            "1\n",
            "25\n"
          ]
        }
      ],
      "source": [
        "#Airthmetic Operator\n",
        "print(5+6)\n",
        "print(5-6)\n",
        "print(5/2)\n",
        "print(5//2)\n",
        "print(5%2)\n",
        "print(5**2)"
      ]
    },
    {
      "cell_type": "code",
      "execution_count": 7,
      "metadata": {
        "colab": {
          "base_uri": "https://localhost:8080/"
        },
        "id": "-vvhoUa9GzkV",
        "outputId": "cf443856-c362-4a16-9bb3-e50372107228"
      },
      "outputs": [
        {
          "output_type": "stream",
          "name": "stdout",
          "text": [
            "False\n",
            "True\n",
            "False\n",
            "True\n",
            "True\n",
            "False\n"
          ]
        }
      ],
      "source": [
        "#Relational Operator\n",
        "print(4>5)\n",
        "print(4<5)\n",
        "print(4>=5)\n",
        "print(4<=5)\n",
        "print(4==4)\n",
        "print(4!=4)"
      ]
    },
    {
      "cell_type": "code",
      "execution_count": 8,
      "metadata": {
        "colab": {
          "base_uri": "https://localhost:8080/"
        },
        "id": "_ft9zr-5HI7H",
        "outputId": "900f33d0-b58b-4d54-e517-aff8138d643f"
      },
      "outputs": [
        {
          "output_type": "stream",
          "name": "stdout",
          "text": [
            "0\n",
            "1\n",
            "0\n",
            "1\n",
            "0\n",
            "1\n",
            "1\n",
            "False\n",
            "True\n"
          ]
        }
      ],
      "source": [
        "#Logical Operators\n",
        "print(1 and 0)\n",
        "print(1 and 1)\n",
        "print(0 and 0)\n",
        "print(0 or 1)\n",
        "print(0 or 0)\n",
        "print(1 and 1)\n",
        "print(1 or 1)\n",
        "print(not 1)\n",
        "print(not 0)"
      ]
    },
    {
      "cell_type": "code",
      "execution_count": 9,
      "metadata": {
        "colab": {
          "base_uri": "https://localhost:8080/"
        },
        "id": "VZo4Uid4HtSV",
        "outputId": "171e8477-19ee-4d6c-e867-983cf40a224d"
      },
      "outputs": [
        {
          "output_type": "stream",
          "name": "stdout",
          "text": [
            "2\n",
            "3\n",
            "1\n",
            "-4\n",
            "1\n",
            "16\n"
          ]
        }
      ],
      "source": [
        "#Bitwise Operators\n",
        "#Bitwise and\n",
        "print(2 & 3)\n",
        "#Binary representation of 2 and 3 then and operator is made on each digit\n",
        "#Bitwise or operator\n",
        "print(2|3)\n",
        "#Bitwise xor operator\n",
        "print(2^3)\n",
        "#bitwise not operator\n",
        "print(~3)\n",
        "#Bitwise right shift operator\n",
        "print(4>>2)\n",
        "#Bitwise left shift operator\n",
        "print(4<<2)\n"
      ]
    },
    {
      "cell_type": "code",
      "execution_count": 10,
      "metadata": {
        "colab": {
          "base_uri": "https://localhost:8080/"
        },
        "id": "I5ex4gKuK98l",
        "outputId": "858ad8db-b84b-4826-f8fa-c47ba3dadf54"
      },
      "outputs": [
        {
          "output_type": "stream",
          "name": "stdout",
          "text": [
            "4\n"
          ]
        }
      ],
      "source": [
        "#Assignment Operator\n",
        "#=\n",
        "# a=2\n",
        "a=2\n",
        "a+=2\n",
        "print(a)"
      ]
    },
    {
      "cell_type": "code",
      "execution_count": 11,
      "metadata": {
        "colab": {
          "base_uri": "https://localhost:8080/"
        },
        "id": "AhSql6U4LqPi",
        "outputId": "c2a216d5-25ae-428b-b71f-36d6cc2a21f8"
      },
      "outputs": [
        {
          "output_type": "stream",
          "name": "stdout",
          "text": [
            "True\n",
            "False\n",
            "False\n",
            "False\n"
          ]
        }
      ],
      "source": [
        "#Membership operator\n",
        "#in and not in\n",
        "print(\"D\" in \"Delhi\")\n",
        "print(\"d\" in \"Delhi\")\n",
        "print(\"D\" not in \"Delhi\")\n",
        "print(1 in [2,3,4])"
      ]
    },
    {
      "cell_type": "code",
      "execution_count": 12,
      "metadata": {
        "colab": {
          "base_uri": "https://localhost:8080/"
        },
        "id": "uuX5YuQKTTS2",
        "outputId": "fda02549-0a99-4618-fb80-8ba19a730c73"
      },
      "outputs": [
        {
          "output_type": "stream",
          "name": "stdout",
          "text": [
            "5\n",
            "5\n"
          ]
        }
      ],
      "source": [
        "#Find the sum of a 3 digit number entered by the user\n",
        "n1=int(input())\n",
        "n2=n1%10\n",
        "n3=n1//10\n",
        "n4=n3%10\n",
        "n5=n3//10\n",
        "n6=n5%10\n",
        "n7=n2+n4+n6\n",
        "print(n7)"
      ]
    },
    {
      "cell_type": "markdown",
      "metadata": {
        "id": "iedp53nXUxsF"
      },
      "source": [
        "#If - else  in Python"
      ]
    },
    {
      "cell_type": "code",
      "execution_count": 13,
      "metadata": {
        "colab": {
          "base_uri": "https://localhost:8080/"
        },
        "id": "MErkXTtmWBqi",
        "outputId": "e5dfb464-36b1-4959-9207-6acdee164abd"
      },
      "outputs": [
        {
          "output_type": "stream",
          "name": "stdout",
          "text": [
            "itsmesudhanshu@gmail.com\n",
            "Sudcho@123\n",
            "You are welcome\n"
          ]
        }
      ],
      "source": [
        "# Login program and indentation\n",
        "email=input()\n",
        "password=input()\n",
        "if email==\"itsmesudhanshu@gmail.com\":\n",
        "  if password==\"Sudcho@123\":\n",
        "    print(\"You are welcome\")\n",
        "  else:\n",
        "    print(\"incorrect password\")\n",
        "else:\n",
        "  print(\"incorrect email\")"
      ]
    },
    {
      "cell_type": "code",
      "execution_count": null,
      "metadata": {
        "colab": {
          "background_save": true,
          "base_uri": "https://localhost:8080/",
          "height": 89
        },
        "id": "ns87QvvaaWZ1",
        "outputId": "855a0d2f-a1d5-4777-b1c8-000499a2b959"
      },
      "outputs": [
        {
          "name": "stderr",
          "output_type": "stream",
          "text": [
            "/usr/local/lib/python3.10/dist-packages/ipykernel/ipkernel.py:283: DeprecationWarning: `should_run_async` will not call `transform_cell` automatically in the future. Please pass the result to `transformed_cell` argument and any exception that happen during thetransform in `preprocessing_exc_tuple` in IPython 7.17 and above.\n"
          ]
        },
        {
          "data": {
            "text/html": [
              "\n",
              "            <style>\n",
              "                .geemap-dark {\n",
              "                    --jp-widgets-color: white;\n",
              "                    --jp-widgets-label-color: white;\n",
              "                    --jp-ui-font-color1: white;\n",
              "                    --jp-layout-color2: #454545;\n",
              "                    background-color: #383838;\n",
              "                }\n",
              "\n",
              "                .geemap-dark .jupyter-button {\n",
              "                    --jp-layout-color3: #383838;\n",
              "                }\n",
              "\n",
              "                .geemap-colab {\n",
              "                    background-color: var(--colab-primary-surface-color, white);\n",
              "                }\n",
              "\n",
              "                .geemap-colab .jupyter-button {\n",
              "                    --jp-layout-color3: var(--colab-primary-surface-color, white);\n",
              "                }\n",
              "            </style>\n",
              "            "
            ],
            "text/plain": [
              "<IPython.core.display.HTML object>"
            ]
          },
          "metadata": {},
          "output_type": "display_data"
        },
        {
          "name": "stdout",
          "output_type": "stream",
          "text": [
            "incorrect password \n",
            "sorry\n"
          ]
        }
      ],
      "source": [
        "email1=input()\n",
        "password1=input()\n",
        "if email1==\"sudhanshu@gmail.com\" and password1== \"Sud@123\":\n",
        "  print(\"You are welcome\")\n",
        "elif email1==\"sudhanshu@gmail.com\" and password1!= \"Sud@123\":\n",
        "  print(\"incorrect password \")\n",
        "  password=input(\"Enter the password again\")\n",
        "  if password== \"Sudcho@123\":\n",
        "    print(\"Atlast\")\n",
        "  else:\n",
        "    print(\"sorry\")\n",
        "else:\n",
        "  print(\"chor h kya\")"
      ]
    },
    {
      "cell_type": "code",
      "execution_count": null,
      "metadata": {
        "colab": {
          "background_save": true
        },
        "id": "LF3x7URAdaJ1",
        "outputId": "61230313-10eb-43b6-84da-00aff1973661"
      },
      "outputs": [
        {
          "name": "stderr",
          "output_type": "stream",
          "text": [
            "/usr/local/lib/python3.10/dist-packages/ipykernel/ipkernel.py:283: DeprecationWarning: `should_run_async` will not call `transform_cell` automatically in the future. Please pass the result to `transformed_cell` argument and any exception that happen during thetransform in `preprocessing_exc_tuple` in IPython 7.17 and above.\n"
          ]
        },
        {
          "data": {
            "text/html": [
              "\n",
              "            <style>\n",
              "                .geemap-dark {\n",
              "                    --jp-widgets-color: white;\n",
              "                    --jp-widgets-label-color: white;\n",
              "                    --jp-ui-font-color1: white;\n",
              "                    --jp-layout-color2: #454545;\n",
              "                    background-color: #383838;\n",
              "                }\n",
              "\n",
              "                .geemap-dark .jupyter-button {\n",
              "                    --jp-layout-color3: #383838;\n",
              "                }\n",
              "\n",
              "                .geemap-colab {\n",
              "                    background-color: var(--colab-primary-surface-color, white);\n",
              "                }\n",
              "\n",
              "                .geemap-colab .jupyter-button {\n",
              "                    --jp-layout-color3: var(--colab-primary-surface-color, white);\n",
              "                }\n",
              "            </style>\n",
              "            "
            ],
            "text/plain": [
              "<IPython.core.display.HTML object>"
            ]
          },
          "metadata": {},
          "output_type": "display_data"
        }
      ],
      "source": [
        "n1=int(input())\n",
        "n2=int(input())\n",
        "n3=int(input())\n",
        "if n1>n2 and n1>n3:\n",
        "  print(\"n1 is greater than n2 and n3\")\n",
        "elif n2>n3:\n",
        "  print(\"n2 is greater than n1 and n2\")\n",
        "else:\n",
        "  print(\"n3 is greatest\")\n"
      ]
    },
    {
      "cell_type": "markdown",
      "metadata": {
        "id": "oMzkDTT2fuhu"
      },
      "source": [
        "#Modules in python\n",
        "\n",
        "* Math\n",
        "* Keyword\n",
        "* datetime\n",
        "* random"
      ]
    },
    {
      "cell_type": "code",
      "execution_count": 14,
      "metadata": {
        "id": "Lr48RaPZf9RC",
        "colab": {
          "base_uri": "https://localhost:8080/"
        },
        "outputId": "4db27a44-f663-49e6-9fec-ca4f9c4de402"
      },
      "outputs": [
        {
          "output_type": "stream",
          "name": "stdout",
          "text": [
            "120\n",
            "6\n",
            "9.219544457292887\n"
          ]
        }
      ],
      "source": [
        "#math\n",
        "import math\n",
        "print(math.factorial(5))\n",
        "print(math.floor(6.8))\n",
        "print(math.sqrt(85))\n"
      ]
    },
    {
      "cell_type": "code",
      "execution_count": 15,
      "metadata": {
        "id": "mplsJ2gAhAdf",
        "colab": {
          "base_uri": "https://localhost:8080/"
        },
        "outputId": "66f576fb-2138-49e8-d5b0-4a9dac96a3e7"
      },
      "outputs": [
        {
          "output_type": "stream",
          "name": "stdout",
          "text": [
            "['False', 'None', 'True', 'and', 'as', 'assert', 'async', 'await', 'break', 'class', 'continue', 'def', 'del', 'elif', 'else', 'except', 'finally', 'for', 'from', 'global', 'if', 'import', 'in', 'is', 'lambda', 'nonlocal', 'not', 'or', 'pass', 'raise', 'return', 'try', 'while', 'with', 'yield']\n"
          ]
        }
      ],
      "source": [
        "#Keyword\n",
        "import keyword\n",
        "print(keyword.kwlist)"
      ]
    },
    {
      "cell_type": "code",
      "execution_count": 16,
      "metadata": {
        "id": "3nzPr-tkhRW2",
        "colab": {
          "base_uri": "https://localhost:8080/"
        },
        "outputId": "ac62af5a-54f8-4932-a5ff-798ee55f439a"
      },
      "outputs": [
        {
          "output_type": "stream",
          "name": "stdout",
          "text": [
            "42\n"
          ]
        }
      ],
      "source": [
        "#Random\n",
        "import random\n",
        "print(random.randint(1,100))"
      ]
    },
    {
      "cell_type": "code",
      "execution_count": 17,
      "metadata": {
        "id": "iYOlngHRhs99",
        "colab": {
          "base_uri": "https://localhost:8080/"
        },
        "outputId": "fef53365-9ec8-4877-bce1-95a427158f2a"
      },
      "outputs": [
        {
          "output_type": "stream",
          "name": "stdout",
          "text": [
            "2024-06-25 06:24:16.038841\n"
          ]
        }
      ],
      "source": [
        "#datetime\n",
        "import datetime\n",
        "print(datetime.datetime.now())\n"
      ]
    },
    {
      "cell_type": "markdown",
      "metadata": {
        "id": "TDqLVi7ciVyf"
      },
      "source": [
        "#loops in Python\n",
        "* Need for loop\n",
        "* While loop\n",
        "* for loop"
      ]
    },
    {
      "cell_type": "code",
      "execution_count": 18,
      "metadata": {
        "id": "sJsFaQltioow",
        "colab": {
          "base_uri": "https://localhost:8080/"
        },
        "outputId": "3262ab69-4af3-4ef8-ade1-64b6eff50930"
      },
      "outputs": [
        {
          "output_type": "stream",
          "name": "stdout",
          "text": [
            "Enter the number5\n",
            "5\n",
            "10\n",
            "15\n",
            "20\n",
            "25\n",
            "30\n",
            "35\n",
            "40\n",
            "45\n",
            "50\n"
          ]
        }
      ],
      "source": [
        "t1=int(input(\"Enter the number\"))\n",
        "i=1\n",
        "while i<11:\n",
        "  print(t1*i)\n",
        "  i+=1"
      ]
    },
    {
      "cell_type": "code",
      "execution_count": 19,
      "metadata": {
        "id": "J21Y4ZkTibr6",
        "colab": {
          "base_uri": "https://localhost:8080/"
        },
        "outputId": "8b321781-8ab9-4210-bcde-a9128f25ba19"
      },
      "outputs": [
        {
          "output_type": "stream",
          "name": "stdout",
          "text": [
            "1\n",
            "2\n",
            "limit crossed\n"
          ]
        }
      ],
      "source": [
        "# While loop with else\n",
        "x=1\n",
        "while x<3:\n",
        "  print(x)\n",
        "  x+=1\n",
        "else:\n",
        "  print(\"limit crossed\")"
      ]
    },
    {
      "cell_type": "code",
      "execution_count": 20,
      "metadata": {
        "id": "EZniiRj9mv3y",
        "colab": {
          "base_uri": "https://localhost:8080/"
        },
        "outputId": "5d40b076-aa1a-4b23-abda-4727539d7f7b"
      },
      "outputs": [
        {
          "output_type": "stream",
          "name": "stdout",
          "text": [
            "1\n",
            "2\n",
            "3\n",
            "4\n",
            "5\n",
            "6\n",
            "7\n",
            "8\n",
            "9\n",
            "10\n"
          ]
        }
      ],
      "source": [
        "#For loop\n",
        "for i in range(1,11):\n",
        "  print(i)"
      ]
    },
    {
      "cell_type": "code",
      "execution_count": null,
      "metadata": {
        "id": "A-8r8s5zm_Wd"
      },
      "outputs": [],
      "source": [
        "for i in \"delhi\":\n",
        "  print(i)"
      ]
    },
    {
      "cell_type": "code",
      "execution_count": null,
      "metadata": {
        "id": "Vj3A4iuFn2Va"
      },
      "outputs": [],
      "source": [
        "for i in [1,2,3,4]:\n",
        "  print(i)"
      ]
    },
    {
      "cell_type": "code",
      "execution_count": null,
      "metadata": {
        "id": "Y-NeUjhcn-Ec"
      },
      "outputs": [],
      "source": []
    }
  ],
  "metadata": {
    "colab": {
      "provenance": [],
      "authorship_tag": "ABX9TyNrBd+itdU50qFEZTHiKjhZ",
      "include_colab_link": true
    },
    "kernelspec": {
      "display_name": "Python 3",
      "name": "python3"
    },
    "language_info": {
      "name": "python"
    }
  },
  "nbformat": 4,
  "nbformat_minor": 0
}