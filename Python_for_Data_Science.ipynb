{
  "nbformat": 4,
  "nbformat_minor": 0,
  "metadata": {
    "colab": {
      "provenance": [],
      "authorship_tag": "ABX9TyNhQ3ZMz+3DSRjileETYfWz",
      "include_colab_link": true
    },
    "kernelspec": {
      "name": "python3",
      "display_name": "Python 3"
    },
    "language_info": {
      "name": "python"
    }
  },
  "cells": [
    {
      "cell_type": "markdown",
      "metadata": {
        "id": "view-in-github",
        "colab_type": "text"
      },
      "source": [
        "<a href=\"https://colab.research.google.com/github/itsmesudhanshu/Python-for-Data-Science/blob/main/Python_for_Data_Science.ipynb\" target=\"_parent\"><img src=\"https://colab.research.google.com/assets/colab-badge.svg\" alt=\"Open In Colab\"/></a>"
      ]
    },
    {
      "cell_type": "markdown",
      "source": [
        "# Why Python for Data Science?\n",
        "\n",
        "\n",
        "There are multiple reasons for opting for Python for data science. These are followings\n",
        "\n",
        "1. Design Philosophy: Python is the easiest language to learn. Python is an indented language so it looks beautiful to the reader.\n",
        "\n",
        "2. Batteries included: There are built-in datatype, operators, and many more built-in codes that will help the learner to use them for solving problems. For example in the case of C, we have seen that there is a separate coding we have to do for reversing the string by using a while loop on the contrary we can see that in Python we can use the direct function for reversing the string.\n",
        "\n",
        "3. General-Purpose Language: We can use Python for coding in procedural, object-oriented functional programming and many more\n",
        "\n",
        "4. Community: The success of Python in data science is due to its libraries created by the Python community these community libraries include pandas, numpy, sckit learn, and many more.\n",
        "\n",
        "5. Proximity with Maths: Many libraries back mathematics such as Scipy and numpy which help the data scientist to use Python for data manipulation."
      ],
      "metadata": {
        "id": "Uk6m5jkloDqP"
      }
    }
  ]
}