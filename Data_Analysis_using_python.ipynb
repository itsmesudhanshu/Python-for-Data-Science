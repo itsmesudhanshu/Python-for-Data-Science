{
  "cells": [
    {
      "cell_type": "markdown",
      "metadata": {
        "id": "view-in-github",
        "colab_type": "text"
      },
      "source": [
        "<a href=\"https://colab.research.google.com/github/itsmesudhanshu/Python-for-Data-Science/blob/main/Data_Analysis_using_python.ipynb\" target=\"_parent\"><img src=\"https://colab.research.google.com/assets/colab-badge.svg\" alt=\"Open In Colab\"/></a>"
      ]
    },
    {
      "cell_type": "markdown",
      "metadata": {
        "id": "Uk6m5jkloDqP"
      },
      "source": [
        "# Why Python for Data Science?\n",
        "\n",
        "\n",
        "There are multiple reasons for opting for Python for data science. These are followings\n",
        "\n",
        "1. Design Philosophy: Python is the easiest language to learn. Python is an indented language so it looks beautiful to the reader.\n",
        "\n",
        "2. Batteries included: There are built-in datatype, operators, and many more built-in codes that will help the learner to use them for solving problems. For example in the case of C, we have seen that there is a separate coding we have to do for reversing the string by using a while loop on the contrary we can see that in Python we can use the direct function for reversing the string.\n",
        "\n",
        "3. General-Purpose Language: We can use Python for coding in procedural, object-oriented functional programming and many more\n",
        "\n",
        "4. Community: The success of Python in data science is due to its libraries created by the Python community these community libraries include pandas, numpy, sckit learn, and many more.\n",
        "\n",
        "5. Proximity with Maths: Many libraries back mathematics such as Scipy and numpy which help the data scientist to use Python for data manipulation."
      ]
    },
    {
      "cell_type": "markdown",
      "metadata": {
        "id": "-MlRqDyWNZn1"
      },
      "source": [
        "Difference between Artificial Intelligence,Machine learning and Deep learning.\n",
        "\n",
        "Artificial Intelligence: Science that empowers computers to mimic human intelligence such as decision making, text processing, and visual perception. AI is a broader field that contains several subfield such as machine learning, robotics, and computer vision.\n",
        "\n",
        "Machine learning: Machine learning is a subfield of artifitcial intelligence that enables machine to improve at a given task with experience. It is important to note that all machine learning techniques are classified as Artificial Intelligence ones. However , not all Artificial Intelligence could count as Machine learning since some basic Rule based Engines could be classified as AI but they do not learn from experience therefore they do not belong to the machine learning category.\n",
        "Machine learning is basically categorized in three subdomain. These are Supervised Learning, Unsupervised learning and Reinforcement learning. In supervised learning training algorithm using labeled input output data is used. In unsupervised learning no labeled data is provided and in this learning technique hidden pattern are find out. In Reinforcement Learning algorithm take actions to maximize cumulative rewards.\n",
        "\n",
        "Deep learning: Deep learning is a specialized field of machine learning that relies on training of deep artificial neural network(ANN) using a large dataset such as image or text. ANNs are are information processing models inspired by the human brain. ANNs works by mathematically mimicking the human brain and connecting multiple \"artificial\" neuron in a multilayered fashion. The more hidden layers added to the network, the deeper the network gets.\n",
        "\n",
        "Difference between Machine learning and Deep learning: Manual feature extraction is done.In deep learning automatic feature extraction is done by feeding training data set such as image along with target class(label)."
      ]
    },
    {
      "cell_type": "markdown",
      "metadata": {
        "id": "nC22c-8vUe1D"
      },
      "source": [
        "##Application of Python\n",
        "Hey friends today I am going to discuss about application of python. As we know that the popularity of python has been inreased in last decade. Then the question arises what are the potential reason behind this rise. Beyond many reason one important reason it's widespread usage for different task as it contains many helpfull libraries.\n",
        "\n",
        "\n",
        "1. Web development: Python is used for the development of websites in which different type of web development framework are used such as Flask and Django.\n",
        "\n",
        "2. Game Development: Python is used for the development of games which uses video development libraries such as PyGames.\n",
        "\n",
        "3. Image Processing: Python uses OpenCV and Python Imaging Library(PIL) for application such as face recognition and image detection.\n",
        "\n",
        "4. Text Processing: For text processing NLTK is used which help in processing enormous volume of text.\n",
        "\n",
        "5. Web Scrapping: Web scrapper crawl the website they are directed towards and store all the collected information from their web pages in one place. Web scrapper use tools such as PythonRequest and Selenium for web scrapping.\n",
        "\n",
        "6. Scientific and Numeric calculation: For AI and Machine learning project there is a dire need of calculation and for this python libraries such as NUmpy and Scipy is used.\n",
        "\n",
        "\n",
        "7. Data Analysis and data Visualization:  Python is used for data analysis and data visualization purpose with the help of libraries such as Pandas, Matplotlib, Seaborn and Plotly.\n",
        "\n",
        "8. AI and Machine learning Project: Last but not the least, Data science has been evolved like anything in last decade. Python libraries such as TensorFlow, Scikit Learn Pytorch boost this growth which help data scientist community to help the businesses."
      ]
    },
    {
      "cell_type": "code",
      "execution_count": null,
      "metadata": {
        "colab": {
          "base_uri": "https://localhost:8080/"
        },
        "id": "qH1_TMjKn5YX",
        "outputId": "b1a572e9-daee-4d27-d6e5-50cf119d30e3"
      },
      "outputs": [
        {
          "output_type": "stream",
          "name": "stdout",
          "text": [
            "Hello data enthusiast\n"
          ]
        }
      ],
      "source": [
        "#Python is a case sensitive language\n",
        "print(\"Hello data enthusiast\")"
      ]
    },
    {
      "cell_type": "code",
      "execution_count": null,
      "metadata": {
        "colab": {
          "base_uri": "https://localhost:8080/",
          "height": 106
        },
        "id": "Rmd1GrLkoh_3",
        "outputId": "f91be16e-8a8f-43de-e36f-2ebd984e137e"
      },
      "outputs": [
        {
          "output_type": "error",
          "ename": "SyntaxError",
          "evalue": "invalid syntax. Perhaps you forgot a comma? (<ipython-input-2-3631957d99c2>, line 1)",
          "traceback": [
            "\u001b[0;36m  File \u001b[0;32m\"<ipython-input-2-3631957d99c2>\"\u001b[0;36m, line \u001b[0;32m1\u001b[0m\n\u001b[0;31m    print(hello data)\u001b[0m\n\u001b[0m          ^\u001b[0m\n\u001b[0;31mSyntaxError\u001b[0m\u001b[0;31m:\u001b[0m invalid syntax. Perhaps you forgot a comma?\n"
          ]
        }
      ],
      "source": [
        "print(hello data)"
      ]
    },
    {
      "cell_type": "code",
      "execution_count": null,
      "metadata": {
        "colab": {
          "base_uri": "https://localhost:8080/"
        },
        "id": "4CcLbT9vomB7",
        "outputId": "e03f93aa-5de2-4a44-e3f3-1b1863385f43"
      },
      "outputs": [
        {
          "output_type": "stream",
          "name": "stdout",
          "text": [
            "7\n"
          ]
        }
      ],
      "source": [
        "print(7)"
      ]
    },
    {
      "cell_type": "code",
      "source": [
        "print(\"7\")"
      ],
      "metadata": {
        "colab": {
          "base_uri": "https://localhost:8080/"
        },
        "id": "7n6VxwLR_9xQ",
        "outputId": "9a9ee475-1ca5-4d3f-e662-c2760d96c61a"
      },
      "execution_count": null,
      "outputs": [
        {
          "output_type": "stream",
          "name": "stdout",
          "text": [
            "7\n"
          ]
        }
      ]
    },
    {
      "cell_type": "code",
      "execution_count": null,
      "metadata": {
        "colab": {
          "base_uri": "https://localhost:8080/"
        },
        "id": "QuBq9i8UoocX",
        "outputId": "6ef93422-36a7-479e-d6bf-daecd24204c8"
      },
      "outputs": [
        {
          "output_type": "stream",
          "name": "stdout",
          "text": [
            "True\n"
          ]
        }
      ],
      "source": [
        "print(True)"
      ]
    },
    {
      "cell_type": "code",
      "execution_count": null,
      "metadata": {
        "colab": {
          "base_uri": "https://localhost:8080/"
        },
        "id": "hUzIoCcsoqri",
        "outputId": "14446655-a372-4e4d-a91b-843b9af57dda"
      },
      "outputs": [
        {
          "output_type": "stream",
          "name": "stdout",
          "text": [
            "Hello 1 4.5 True\n",
            "Hello@1@2\n"
          ]
        }
      ],
      "source": [
        "print(\"Hello\",1,4.5, True)\n",
        "#We can print as many datatypes\n",
        "#here we can observe space between the datatype\n",
        "print(\"Hello\",1,2, sep=\"@\", end=\"\\n\")"
      ]
    },
    {
      "cell_type": "code",
      "source": [
        "print('hello',end=\"-\")\n",
        "print(\"world\")"
      ],
      "metadata": {
        "colab": {
          "base_uri": "https://localhost:8080/"
        },
        "id": "nwQhJiLc2hG9",
        "outputId": "abd21231-b5ef-4626-ea95-663f912b4ee0"
      },
      "execution_count": null,
      "outputs": [
        {
          "output_type": "stream",
          "name": "stdout",
          "text": [
            "hello-world\n"
          ]
        }
      ]
    },
    {
      "cell_type": "markdown",
      "source": [
        "#Variables"
      ],
      "metadata": {
        "id": "Io8Ee58xsf4L"
      }
    },
    {
      "cell_type": "markdown",
      "source": [
        "##Variables allows our program to remember data, perform calculation, and make decisions. Creating a variable is as simple as assigning a value to a name operator:"
      ],
      "metadata": {
        "id": "fCPqVObxsiJZ"
      }
    },
    {
      "cell_type": "code",
      "source": [
        "x=5\n",
        "x"
      ],
      "metadata": {
        "colab": {
          "base_uri": "https://localhost:8080/"
        },
        "id": "BkuTez9Stcfg",
        "outputId": "30450efb-53b4-43f5-e435-b252313a5f81"
      },
      "execution_count": null,
      "outputs": [
        {
          "output_type": "execute_result",
          "data": {
            "text/plain": [
              "5"
            ]
          },
          "metadata": {},
          "execution_count": 1
        }
      ]
    },
    {
      "cell_type": "markdown",
      "source": [
        "##Rules for variable names\n",
        "###1.Must start with letter or underscore.\n",
        "###2.Can contain letters, numbers, and underscores.\n",
        "###3.Case sensitive\n",
        "###4. Avoid python keywords"
      ],
      "metadata": {
        "id": "dsFDWYiutugJ"
      }
    },
    {
      "cell_type": "code",
      "source": [
        "valid_variable=10\n",
        "valid_variable"
      ],
      "metadata": {
        "colab": {
          "base_uri": "https://localhost:8080/"
        },
        "id": "TkbJV0NJulkP",
        "outputId": "6caefd26-50b3-49fe-b7e1-9b0080a60591"
      },
      "execution_count": null,
      "outputs": [
        {
          "output_type": "execute_result",
          "data": {
            "text/plain": [
              "10"
            ]
          },
          "metadata": {},
          "execution_count": 3
        }
      ]
    },
    {
      "cell_type": "code",
      "source": [
        "_also_valid=20\n",
        "_also_valid"
      ],
      "metadata": {
        "colab": {
          "base_uri": "https://localhost:8080/"
        },
        "id": "l3TH-bMnuthW",
        "outputId": "a9a27b55-8712-4e10-a4ae-79aa22db6139"
      },
      "execution_count": null,
      "outputs": [
        {
          "output_type": "execute_result",
          "data": {
            "text/plain": [
              "20"
            ]
          },
          "metadata": {},
          "execution_count": 4
        }
      ]
    },
    {
      "cell_type": "code",
      "source": [
        "variable1=\"hello\"\n",
        "variable_2=\"Hello world\"\n",
        "print(variable1)\n",
        "print(variable_2)"
      ],
      "metadata": {
        "colab": {
          "base_uri": "https://localhost:8080/"
        },
        "id": "z2QqRddku2xX",
        "outputId": "ed507214-8c76-4f73-af2c-daf22ed2fc6c"
      },
      "execution_count": null,
      "outputs": [
        {
          "output_type": "stream",
          "name": "stdout",
          "text": [
            "hello\n",
            "Hello world\n"
          ]
        }
      ]
    },
    {
      "cell_type": "code",
      "source": [
        "for=5\n",
        "print(for)"
      ],
      "metadata": {
        "colab": {
          "base_uri": "https://localhost:8080/",
          "height": 106
        },
        "id": "DMKwFceuvGq4",
        "outputId": "05335e82-0fe6-42f0-8b58-aee82502eb94"
      },
      "execution_count": null,
      "outputs": [
        {
          "output_type": "error",
          "ename": "SyntaxError",
          "evalue": "invalid syntax (<ipython-input-6-2d130115d5cb>, line 1)",
          "traceback": [
            "\u001b[0;36m  File \u001b[0;32m\"<ipython-input-6-2d130115d5cb>\"\u001b[0;36m, line \u001b[0;32m1\u001b[0m\n\u001b[0;31m    for=5\u001b[0m\n\u001b[0m       ^\u001b[0m\n\u001b[0;31mSyntaxError\u001b[0m\u001b[0;31m:\u001b[0m invalid syntax\n"
          ]
        }
      ]
    },
    {
      "cell_type": "markdown",
      "source": [
        "## Tips for Good Variables Names\n",
        "### Be decriptive: Intead of naming a variable x, use age, total_cost, or user_name to describe what it represent.\n",
        "###Use lowercase letter with underscore.\n",
        "### Stay consistent"
      ],
      "metadata": {
        "id": "f3l-Q33GvNXq"
      }
    },
    {
      "cell_type": "markdown",
      "source": [
        "##Constants: Variables that don't change.\n",
        "### In programming, a constant is a value that shouldn't change once set. WHile Python doesn't enforce constants like some other languages, convention is to write constant in all uppercase letters:"
      ],
      "metadata": {
        "id": "nu-hvnnSvzW8"
      }
    },
    {
      "cell_type": "code",
      "source": [
        "PI=3.14\n",
        "PI"
      ],
      "metadata": {
        "colab": {
          "base_uri": "https://localhost:8080/"
        },
        "id": "t_290aaowepQ",
        "outputId": "0af4b3be-945a-4c1a-8382-6d7091680a81"
      },
      "execution_count": null,
      "outputs": [
        {
          "output_type": "execute_result",
          "data": {
            "text/plain": [
              "3.14"
            ]
          },
          "metadata": {},
          "execution_count": 7
        }
      ]
    },
    {
      "cell_type": "markdown",
      "source": [
        "##Application of Variables\n",
        "###Variables can be reassigned at any time to new values, even values of different data types.\n",
        "###Multiple Assignment\n",
        "###Swapping Variable Values"
      ],
      "metadata": {
        "id": "GVBGIpRIx0qY"
      }
    },
    {
      "cell_type": "code",
      "source": [
        "count=10\n",
        "print(count)\n",
        "count=count+5\n",
        "print(count)\n",
        "count= \" now I am a string\"\n",
        "print(count)"
      ],
      "metadata": {
        "colab": {
          "base_uri": "https://localhost:8080/"
        },
        "id": "PAtdWnxjxXRY",
        "outputId": "b2c0d284-a239-429c-ddd6-c088540f4049"
      },
      "execution_count": null,
      "outputs": [
        {
          "output_type": "stream",
          "name": "stdout",
          "text": [
            "10\n",
            "15\n",
            " now I am a string\n"
          ]
        }
      ]
    },
    {
      "cell_type": "code",
      "source": [
        "a,b,c=1,2,3\n",
        "print(a,b,c, sep='\\n')"
      ],
      "metadata": {
        "colab": {
          "base_uri": "https://localhost:8080/"
        },
        "id": "YTRwesqcyASK",
        "outputId": "a5f367a9-786b-4e33-e474-38f89f5ad119"
      },
      "execution_count": null,
      "outputs": [
        {
          "output_type": "stream",
          "name": "stdout",
          "text": [
            "1\n",
            "2\n",
            "3\n"
          ]
        }
      ]
    },
    {
      "cell_type": "code",
      "source": [
        "a=5\n",
        "b=6\n",
        "a,b=b,a\n",
        "print(a,b)"
      ],
      "metadata": {
        "colab": {
          "base_uri": "https://localhost:8080/"
        },
        "id": "n5VUJpkXyqdd",
        "outputId": "e59bd2d1-3374-4254-f032-2d5b15374b50"
      },
      "execution_count": null,
      "outputs": [
        {
          "output_type": "stream",
          "name": "stdout",
          "text": [
            "6 5\n"
          ]
        }
      ]
    },
    {
      "cell_type": "code",
      "source": [],
      "metadata": {
        "id": "it2Kck1azAxr"
      },
      "execution_count": null,
      "outputs": []
    },
    {
      "cell_type": "markdown",
      "source": [
        "# **Data Type**"
      ],
      "metadata": {
        "id": "DvOVxBf63MdK"
      }
    },
    {
      "cell_type": "markdown",
      "source": [
        "![Python datatype.JPG](data:image/jpeg;base64,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)"
      ],
      "metadata": {
        "id": "tby-LYt5gpzD"
      }
    },
    {
      "cell_type": "markdown",
      "source": [
        "##Variables can store data of various types.Important data types.\n",
        "###1.Integer= Integers are whole numbers, positive or negative, without decimals.\n",
        "###2.Floats=Floats are numbers with decimal points, representing real numbers.\n",
        "###3.Strings= Strings are sequence of characters, used to represent text.\n",
        "###4.Boolean= Boolean represent True, False. They are essential for decision- making in code."
      ],
      "metadata": {
        "id": "aafnnAw83bqw"
      }
    },
    {
      "cell_type": "code",
      "source": [
        "#Integer\n",
        "age=30\n",
        "print(age)"
      ],
      "metadata": {
        "colab": {
          "base_uri": "https://localhost:8080/"
        },
        "id": "cyMnEQBL032a",
        "outputId": "c737f9bd-71d5-4ffc-f601-8745f4eff3c2"
      },
      "execution_count": null,
      "outputs": [
        {
          "output_type": "stream",
          "name": "stdout",
          "text": [
            "30\n"
          ]
        }
      ]
    },
    {
      "cell_type": "code",
      "source": [
        "# FLoat\n",
        "pi=3.14\n",
        "print(pi)"
      ],
      "metadata": {
        "colab": {
          "base_uri": "https://localhost:8080/"
        },
        "id": "elbmlKYy1_Nn",
        "outputId": "7f718488-0e96-4ba8-a250-b28dc9504c23"
      },
      "execution_count": null,
      "outputs": [
        {
          "output_type": "stream",
          "name": "stdout",
          "text": [
            "3.14\n"
          ]
        }
      ]
    },
    {
      "cell_type": "code",
      "source": [
        "# Strings\n",
        "greeting()\n"
      ],
      "metadata": {
        "id": "tVVjdizr2Fxm"
      },
      "execution_count": null,
      "outputs": []
    },
    {
      "cell_type": "code",
      "source": [
        "#here is a list of the python keyword\n",
        "import keyword\n",
        "print(keyword.kwlist)"
      ],
      "metadata": {
        "colab": {
          "base_uri": "https://localhost:8080/"
        },
        "id": "J7sE5DZCerEX",
        "outputId": "29d3647d-7f2b-4bd2-d5ce-02172fa1a9d5"
      },
      "execution_count": null,
      "outputs": [
        {
          "output_type": "stream",
          "name": "stdout",
          "text": [
            "['False', 'None', 'True', 'and', 'as', 'assert', 'async', 'await', 'break', 'class', 'continue', 'def', 'del', 'elif', 'else', 'except', 'finally', 'for', 'from', 'global', 'if', 'import', 'in', 'is', 'lambda', 'nonlocal', 'not', 'or', 'pass', 'raise', 'return', 'try', 'while', 'with', 'yield']\n"
          ]
        }
      ]
    },
    {
      "cell_type": "code",
      "source": [],
      "metadata": {
        "id": "t7nJfMb0j7OT"
      },
      "execution_count": null,
      "outputs": []
    },
    {
      "cell_type": "markdown",
      "metadata": {
        "id": "Qbj4L6_NeCWS"
      },
      "source": [
        "#Operators in Python\n",
        "\n",
        "\n",
        "*   Arithmetic Operators\n",
        "*   Relational Operators\n",
        "\n",
        "*   Logical Operators\n",
        "*   Bitwise Operators\n",
        "\n",
        "*   Assignment Operators\n",
        "*   Membership Operators\n",
        "\n",
        "\n",
        "\n",
        "\n",
        "\n",
        "\n"
      ]
    },
    {
      "cell_type": "code",
      "execution_count": null,
      "metadata": {
        "colab": {
          "base_uri": "https://localhost:8080/"
        },
        "id": "d3u3AhfcEJ-G",
        "outputId": "91cad3e6-315f-4b32-cc34-aa7900bf317f"
      },
      "outputs": [
        {
          "output_type": "stream",
          "name": "stdout",
          "text": [
            "11\n",
            "-1\n",
            "2.5\n",
            "2\n",
            "1\n",
            "25\n"
          ]
        }
      ],
      "source": [
        "#Airthmetic Operator\n",
        "print(5+6)\n",
        "print(5-6)\n",
        "print(5/2)\n",
        "print(5//2)\n",
        "print(5%2)\n",
        "print(5**2)"
      ]
    },
    {
      "cell_type": "code",
      "execution_count": null,
      "metadata": {
        "colab": {
          "base_uri": "https://localhost:8080/"
        },
        "id": "-vvhoUa9GzkV",
        "outputId": "cf443856-c362-4a16-9bb3-e50372107228"
      },
      "outputs": [
        {
          "output_type": "stream",
          "name": "stdout",
          "text": [
            "False\n",
            "True\n",
            "False\n",
            "True\n",
            "True\n",
            "False\n"
          ]
        }
      ],
      "source": [
        "#Relational Operator\n",
        "print(4>5)\n",
        "print(4<5)\n",
        "print(4>=5)\n",
        "print(4<=5)\n",
        "print(4==4)\n",
        "print(4!=4)"
      ]
    },
    {
      "cell_type": "code",
      "execution_count": null,
      "metadata": {
        "colab": {
          "base_uri": "https://localhost:8080/"
        },
        "id": "_ft9zr-5HI7H",
        "outputId": "900f33d0-b58b-4d54-e517-aff8138d643f"
      },
      "outputs": [
        {
          "output_type": "stream",
          "name": "stdout",
          "text": [
            "0\n",
            "1\n",
            "0\n",
            "1\n",
            "0\n",
            "1\n",
            "1\n",
            "False\n",
            "True\n"
          ]
        }
      ],
      "source": [
        "#Logical Operators\n",
        "print(1 and 0)\n",
        "print(1 and 1)\n",
        "print(0 and 0)\n",
        "print(0 or 1)\n",
        "print(0 or 0)\n",
        "print(1 and 1)\n",
        "print(1 or 1)\n",
        "print(not 1)\n",
        "print(not 0)"
      ]
    },
    {
      "cell_type": "code",
      "execution_count": null,
      "metadata": {
        "colab": {
          "base_uri": "https://localhost:8080/"
        },
        "id": "VZo4Uid4HtSV",
        "outputId": "171e8477-19ee-4d6c-e867-983cf40a224d"
      },
      "outputs": [
        {
          "output_type": "stream",
          "name": "stdout",
          "text": [
            "2\n",
            "3\n",
            "1\n",
            "-4\n",
            "1\n",
            "16\n"
          ]
        }
      ],
      "source": [
        "#Bitwise Operators\n",
        "#Bitwise and\n",
        "print(2 & 3)\n",
        "#Binary representation of 2 and 3 then and operator is made on each digit\n",
        "#Bitwise or operator\n",
        "print(2|3)\n",
        "#Bitwise xor operator\n",
        "print(2^3)\n",
        "#bitwise not operator\n",
        "print(~3)\n",
        "#Bitwise right shift operator\n",
        "print(4>>2)\n",
        "#Bitwise left shift operator\n",
        "print(4<<2)\n"
      ]
    },
    {
      "cell_type": "code",
      "execution_count": null,
      "metadata": {
        "colab": {
          "base_uri": "https://localhost:8080/"
        },
        "id": "I5ex4gKuK98l",
        "outputId": "858ad8db-b84b-4826-f8fa-c47ba3dadf54"
      },
      "outputs": [
        {
          "output_type": "stream",
          "name": "stdout",
          "text": [
            "4\n"
          ]
        }
      ],
      "source": [
        "#Assignment Operator\n",
        "#=\n",
        "# a=2\n",
        "a=2\n",
        "a+=2\n",
        "print(a)"
      ]
    },
    {
      "cell_type": "code",
      "execution_count": null,
      "metadata": {
        "colab": {
          "base_uri": "https://localhost:8080/"
        },
        "id": "AhSql6U4LqPi",
        "outputId": "c2a216d5-25ae-428b-b71f-36d6cc2a21f8"
      },
      "outputs": [
        {
          "output_type": "stream",
          "name": "stdout",
          "text": [
            "True\n",
            "False\n",
            "False\n",
            "False\n"
          ]
        }
      ],
      "source": [
        "#Membership operator\n",
        "#in and not in\n",
        "print(\"D\" in \"Delhi\")\n",
        "print(\"d\" in \"Delhi\")\n",
        "print(\"D\" not in \"Delhi\")\n",
        "print(1 in [2,3,4])"
      ]
    },
    {
      "cell_type": "code",
      "execution_count": null,
      "metadata": {
        "colab": {
          "base_uri": "https://localhost:8080/"
        },
        "id": "uuX5YuQKTTS2",
        "outputId": "fda02549-0a99-4618-fb80-8ba19a730c73"
      },
      "outputs": [
        {
          "output_type": "stream",
          "name": "stdout",
          "text": [
            "5\n",
            "5\n"
          ]
        }
      ],
      "source": [
        "#Find the sum of a 3 digit number entered by the user\n",
        "n1=int(input())\n",
        "n2=n1%10\n",
        "n3=n1//10\n",
        "n4=n3%10\n",
        "n5=n3//10\n",
        "n6=n5%10\n",
        "n7=n2+n4+n6\n",
        "print(n7)"
      ]
    },
    {
      "cell_type": "code",
      "source": [
        "#Another method\n",
        "n1=int(input())\n",
        "sum=0\n",
        "for i in (str(n1)):\n",
        "  sum+=n1%10\n",
        "  n1=n1//10\n",
        "print(sum)\n"
      ],
      "metadata": {
        "colab": {
          "base_uri": "https://localhost:8080/"
        },
        "id": "00Z72m2L4pfE",
        "outputId": "39aad548-2c51-444b-904b-61c15121f3b2"
      },
      "execution_count": null,
      "outputs": [
        {
          "output_type": "stream",
          "name": "stdout",
          "text": [
            "563\n",
            "14\n"
          ]
        }
      ]
    },
    {
      "cell_type": "markdown",
      "source": [
        "#Python datatype"
      ],
      "metadata": {
        "id": "QXchnvro5NOH"
      }
    },
    {
      "cell_type": "markdown",
      "source": [],
      "metadata": {
        "id": "on-AKTyK4ba4"
      }
    },
    {
      "cell_type": "code",
      "source": [],
      "metadata": {
        "id": "mINUq4kZ4v_b"
      },
      "execution_count": null,
      "outputs": []
    },
    {
      "cell_type": "markdown",
      "source": [
        "##Conditional Statement\n",
        "###Conditional statements in Python are used to execute certain blocks of code based on specific conditions. These statements help control the flow of a program, making it behave differently in different situations."
      ],
      "metadata": {
        "id": "9dcVQezYexhG"
      }
    },
    {
      "cell_type": "markdown",
      "source": [
        "##If Conditional Statement in Python\n",
        "###If statement in the simplest form of a conditional statement. It execute a block of code if the given condition is true."
      ],
      "metadata": {
        "id": "iedp53nXUxsF"
      }
    },
    {
      "cell_type": "code",
      "source": [
        "sum=20\n",
        "if sum==20:\n",
        "  print(\"sab range m h load na le\")"
      ],
      "metadata": {
        "colab": {
          "base_uri": "https://localhost:8080/"
        },
        "id": "IFvqDCC8fNud",
        "outputId": "535d7d01-c614-4d40-c4fb-d1584b9d2770"
      },
      "execution_count": null,
      "outputs": [
        {
          "output_type": "stream",
          "name": "stdout",
          "text": [
            "sab range m h load na le\n"
          ]
        }
      ]
    },
    {
      "cell_type": "code",
      "source": [
        "sum1=20\n",
        "if sum1<=20:\n",
        "  print(\"sab range m h load na le\")\n",
        "else:\n",
        "  print(\"Marwayega kya\")"
      ],
      "metadata": {
        "colab": {
          "base_uri": "https://localhost:8080/"
        },
        "id": "d0R7RgljgIZ2",
        "outputId": "54716645-9de8-4968-f2d4-30a1ab52d9f4"
      },
      "execution_count": null,
      "outputs": [
        {
          "output_type": "stream",
          "name": "stdout",
          "text": [
            "sab range m h load na le\n"
          ]
        }
      ]
    },
    {
      "cell_type": "code",
      "execution_count": null,
      "metadata": {
        "colab": {
          "base_uri": "https://localhost:8080/"
        },
        "id": "MErkXTtmWBqi",
        "outputId": "f61498fb-4ccd-494b-da3c-c50996ed7b5e"
      },
      "outputs": [
        {
          "output_type": "stream",
          "name": "stdout",
          "text": [
            "itsmesudhanshu@gmail.com\n",
            "Sudcho@123\n",
            "You are welcome\n"
          ]
        }
      ],
      "source": [
        "# Nested if else\n",
        "# Login program and indentation\n",
        "email=input()\n",
        "password=input()\n",
        "if email==\"itsmesudhanshu@gmail.com\":\n",
        "  if password==\"Sudcho@123\":\n",
        "    print(\"You are welcome\")\n",
        "  else:\n",
        "    print(\"incorrect password\")\n",
        "else:\n",
        "  print(\"incorrect email\")"
      ]
    },
    {
      "cell_type": "code",
      "execution_count": null,
      "metadata": {
        "colab": {
          "background_save": true,
          "base_uri": "https://localhost:8080/",
          "height": 89
        },
        "id": "ns87QvvaaWZ1",
        "outputId": "855a0d2f-a1d5-4777-b1c8-000499a2b959"
      },
      "outputs": [
        {
          "name": "stderr",
          "output_type": "stream",
          "text": [
            "/usr/local/lib/python3.10/dist-packages/ipykernel/ipkernel.py:283: DeprecationWarning: `should_run_async` will not call `transform_cell` automatically in the future. Please pass the result to `transformed_cell` argument and any exception that happen during thetransform in `preprocessing_exc_tuple` in IPython 7.17 and above.\n"
          ]
        },
        {
          "data": {
            "text/html": [
              "\n",
              "            <style>\n",
              "                .geemap-dark {\n",
              "                    --jp-widgets-color: white;\n",
              "                    --jp-widgets-label-color: white;\n",
              "                    --jp-ui-font-color1: white;\n",
              "                    --jp-layout-color2: #454545;\n",
              "                    background-color: #383838;\n",
              "                }\n",
              "\n",
              "                .geemap-dark .jupyter-button {\n",
              "                    --jp-layout-color3: #383838;\n",
              "                }\n",
              "\n",
              "                .geemap-colab {\n",
              "                    background-color: var(--colab-primary-surface-color, white);\n",
              "                }\n",
              "\n",
              "                .geemap-colab .jupyter-button {\n",
              "                    --jp-layout-color3: var(--colab-primary-surface-color, white);\n",
              "                }\n",
              "            </style>\n",
              "            "
            ],
            "text/plain": [
              "<IPython.core.display.HTML object>"
            ]
          },
          "metadata": {},
          "output_type": "display_data"
        },
        {
          "name": "stdout",
          "output_type": "stream",
          "text": [
            "incorrect password \n",
            "sorry\n"
          ]
        }
      ],
      "source": [
        "email1=input()\n",
        "password1=input()\n",
        "if email1==\"sudhanshu@gmail.com\" and password1== \"Sud@123\":\n",
        "  print(\"You are welcome\")\n",
        "elif email1==\"sudhanshu@gmail.com\" and password1!= \"Sud@123\":\n",
        "  print(\"incorrect password \")\n",
        "  password=input(\"Enter the password again\")\n",
        "  if password== \"Sudcho@123\":\n",
        "    print(\"Atlast\")\n",
        "  else:\n",
        "    print(\"sorry\")\n",
        "else:\n",
        "  print(\"chor h kya\")"
      ]
    },
    {
      "cell_type": "code",
      "source": [
        "##Ternary Conditional Statement in Python\n",
        "sum2=20\n",
        "print(\"Ye bhi theek hai\") if sum2==20 else print(\"Nahi theek hai\")"
      ],
      "metadata": {
        "colab": {
          "base_uri": "https://localhost:8080/"
        },
        "id": "SaTfCSl0g_UX",
        "outputId": "81aa4b04-108e-410e-942c-badef7f473c8"
      },
      "execution_count": null,
      "outputs": [
        {
          "output_type": "stream",
          "name": "stdout",
          "text": [
            "Ye bhi theek hai\n"
          ]
        }
      ]
    },
    {
      "cell_type": "code",
      "execution_count": null,
      "metadata": {
        "colab": {
          "background_save": true
        },
        "id": "LF3x7URAdaJ1",
        "outputId": "61230313-10eb-43b6-84da-00aff1973661"
      },
      "outputs": [
        {
          "name": "stderr",
          "output_type": "stream",
          "text": [
            "/usr/local/lib/python3.10/dist-packages/ipykernel/ipkernel.py:283: DeprecationWarning: `should_run_async` will not call `transform_cell` automatically in the future. Please pass the result to `transformed_cell` argument and any exception that happen during thetransform in `preprocessing_exc_tuple` in IPython 7.17 and above.\n"
          ]
        },
        {
          "data": {
            "text/html": [
              "\n",
              "            <style>\n",
              "                .geemap-dark {\n",
              "                    --jp-widgets-color: white;\n",
              "                    --jp-widgets-label-color: white;\n",
              "                    --jp-ui-font-color1: white;\n",
              "                    --jp-layout-color2: #454545;\n",
              "                    background-color: #383838;\n",
              "                }\n",
              "\n",
              "                .geemap-dark .jupyter-button {\n",
              "                    --jp-layout-color3: #383838;\n",
              "                }\n",
              "\n",
              "                .geemap-colab {\n",
              "                    background-color: var(--colab-primary-surface-color, white);\n",
              "                }\n",
              "\n",
              "                .geemap-colab .jupyter-button {\n",
              "                    --jp-layout-color3: var(--colab-primary-surface-color, white);\n",
              "                }\n",
              "            </style>\n",
              "            "
            ],
            "text/plain": [
              "<IPython.core.display.HTML object>"
            ]
          },
          "metadata": {},
          "output_type": "display_data"
        }
      ],
      "source": [
        "n1=int(input())\n",
        "n2=int(input())\n",
        "n3=int(input())\n",
        "if n1>n2 and n1>n3:\n",
        "  print(\"n1 is greater than n2 and n3\")\n",
        "elif n2>n3:\n",
        "  print(\"n2 is greater than n1 and n2\")\n",
        "else:\n",
        "  print(\"n3 is greatest\")\n"
      ]
    },
    {
      "cell_type": "markdown",
      "metadata": {
        "id": "oMzkDTT2fuhu"
      },
      "source": [
        "#Modules in python\n",
        "\n",
        "* Math\n",
        "* Keyword\n",
        "* datetime\n",
        "* random"
      ]
    },
    {
      "cell_type": "code",
      "execution_count": null,
      "metadata": {
        "id": "Lr48RaPZf9RC",
        "colab": {
          "base_uri": "https://localhost:8080/"
        },
        "outputId": "4db27a44-f663-49e6-9fec-ca4f9c4de402"
      },
      "outputs": [
        {
          "output_type": "stream",
          "name": "stdout",
          "text": [
            "120\n",
            "6\n",
            "9.219544457292887\n"
          ]
        }
      ],
      "source": [
        "#math\n",
        "import math\n",
        "print(math.factorial(5))\n",
        "print(math.floor(6.8))\n",
        "print(math.sqrt(85))\n"
      ]
    },
    {
      "cell_type": "code",
      "execution_count": null,
      "metadata": {
        "id": "mplsJ2gAhAdf",
        "colab": {
          "base_uri": "https://localhost:8080/"
        },
        "outputId": "66f576fb-2138-49e8-d5b0-4a9dac96a3e7"
      },
      "outputs": [
        {
          "output_type": "stream",
          "name": "stdout",
          "text": [
            "['False', 'None', 'True', 'and', 'as', 'assert', 'async', 'await', 'break', 'class', 'continue', 'def', 'del', 'elif', 'else', 'except', 'finally', 'for', 'from', 'global', 'if', 'import', 'in', 'is', 'lambda', 'nonlocal', 'not', 'or', 'pass', 'raise', 'return', 'try', 'while', 'with', 'yield']\n"
          ]
        }
      ],
      "source": [
        "#Keyword\n",
        "import keyword\n",
        "print(keyword.kwlist)"
      ]
    },
    {
      "cell_type": "code",
      "execution_count": null,
      "metadata": {
        "id": "3nzPr-tkhRW2",
        "colab": {
          "base_uri": "https://localhost:8080/"
        },
        "outputId": "ac62af5a-54f8-4932-a5ff-798ee55f439a"
      },
      "outputs": [
        {
          "output_type": "stream",
          "name": "stdout",
          "text": [
            "42\n"
          ]
        }
      ],
      "source": [
        "#Random\n",
        "import random\n",
        "print(random.randint(1,100))"
      ]
    },
    {
      "cell_type": "code",
      "execution_count": 1,
      "metadata": {
        "id": "iYOlngHRhs99",
        "colab": {
          "base_uri": "https://localhost:8080/"
        },
        "outputId": "9180e17e-fee4-4ab1-a578-dc8dec27a8ea"
      },
      "outputs": [
        {
          "output_type": "stream",
          "name": "stdout",
          "text": [
            "2025-02-11 21:48:18.261075\n"
          ]
        }
      ],
      "source": [
        "#datetime\n",
        "import datetime\n",
        "print(datetime.datetime.now())\n"
      ]
    },
    {
      "cell_type": "markdown",
      "source": [
        "#loops in Python\n",
        "### Loops in Python are used to repeat actions efficiently. The main types are loops (counting through items) and While loops (based on conditions). Additionally, Nested loops allow looping within loops for more complex tasks.\n",
        "### 1. While loop In python a, a while loop is used to execute a block of statements repeatedly until a given condition is satisfied. When the condition become false, the line immediately after the loop in the program is executed."
      ],
      "metadata": {
        "id": "TDqLVi7ciVyf"
      }
    },
    {
      "cell_type": "code",
      "execution_count": null,
      "metadata": {
        "id": "sJsFaQltioow",
        "colab": {
          "base_uri": "https://localhost:8080/"
        },
        "outputId": "4b5d6d70-c1e5-4fe9-d2e6-681382c9f7a6"
      },
      "outputs": [
        {
          "output_type": "stream",
          "name": "stdout",
          "text": [
            "Enter the number23\n",
            "23 * 1 = 23\n",
            "23 * 2 = 46\n",
            "23 * 3 = 69\n",
            "23 * 4 = 92\n",
            "23 * 5 = 115\n",
            "23 * 6 = 138\n",
            "23 * 7 = 161\n",
            "23 * 8 = 184\n",
            "23 * 9 = 207\n",
            "23 * 10 = 230\n"
          ]
        }
      ],
      "source": [
        "t1=int(input(\"Enter the number\"))\n",
        "i=1\n",
        "while i<11:\n",
        "  print(t1,\"*\",i,\"=\",t1*i)\n",
        "  i+=1"
      ]
    },
    {
      "cell_type": "code",
      "execution_count": null,
      "metadata": {
        "id": "J21Y4ZkTibr6",
        "colab": {
          "base_uri": "https://localhost:8080/"
        },
        "outputId": "8b321781-8ab9-4210-bcde-a9128f25ba19"
      },
      "outputs": [
        {
          "output_type": "stream",
          "name": "stdout",
          "text": [
            "1\n",
            "2\n",
            "limit crossed\n"
          ]
        }
      ],
      "source": [
        "# While loop with else\n",
        "x=1\n",
        "while x<3:\n",
        "  print(x)\n",
        "  x+=1\n",
        "else:\n",
        "  print(\"limit crossed\")"
      ]
    },
    {
      "cell_type": "markdown",
      "source": [
        "##For Loop\n",
        "###For loop are used for sequential traversal. For example: traversing a list or string or array etc. In python, there is \"For in\" loop which is similiar to for each loop in other languages."
      ],
      "metadata": {
        "id": "zuQLHy8XnyKC"
      }
    },
    {
      "cell_type": "code",
      "source": [
        "list1=[1,2,3,4,5]\n",
        "for i in list1:\n",
        "  print(i)"
      ],
      "metadata": {
        "colab": {
          "base_uri": "https://localhost:8080/"
        },
        "id": "jOmgF623o-jQ",
        "outputId": "7a4e6024-9237-4acc-e5de-d9282311e833"
      },
      "execution_count": null,
      "outputs": [
        {
          "output_type": "stream",
          "name": "stdout",
          "text": [
            "1\n",
            "2\n",
            "3\n",
            "4\n",
            "5\n"
          ]
        }
      ]
    },
    {
      "cell_type": "code",
      "source": [
        "tup=(1,2,3,4,5)\n",
        "for i in tup:\n",
        "  print(i)"
      ],
      "metadata": {
        "colab": {
          "base_uri": "https://localhost:8080/"
        },
        "id": "39ipdl09qdgw",
        "outputId": "3765f7c8-1810-42fb-d6cb-429ea80ea8e6"
      },
      "execution_count": null,
      "outputs": [
        {
          "output_type": "stream",
          "name": "stdout",
          "text": [
            "1\n",
            "2\n",
            "3\n",
            "4\n",
            "5\n"
          ]
        }
      ]
    },
    {
      "cell_type": "code",
      "source": [
        "s=\"Sidhu\"\n",
        "for i in s:\n",
        "  print(i)"
      ],
      "metadata": {
        "colab": {
          "base_uri": "https://localhost:8080/"
        },
        "id": "BVBIps4AqmeA",
        "outputId": "f0b6d53a-5b9c-44ef-fc86-13ce577b158d"
      },
      "execution_count": null,
      "outputs": [
        {
          "output_type": "stream",
          "name": "stdout",
          "text": [
            "S\n",
            "i\n",
            "d\n",
            "h\n",
            "u\n"
          ]
        }
      ]
    },
    {
      "cell_type": "code",
      "source": [
        "d={\"name\":\"Sidhu\",\"age\":20,\"country\":\"India\" }\n",
        "for i in d:\n",
        "  print(i)"
      ],
      "metadata": {
        "colab": {
          "base_uri": "https://localhost:8080/"
        },
        "id": "KuT8os4y_vG_",
        "outputId": "9a6d79a6-3936-47ff-9fdb-fb240d66ded8"
      },
      "execution_count": 8,
      "outputs": [
        {
          "output_type": "stream",
          "name": "stdout",
          "text": [
            "name\n",
            "age\n",
            "country\n"
          ]
        }
      ]
    },
    {
      "cell_type": "code",
      "source": [
        "d={\"name\":\"Sidhu\",\"age\":20,\"country\":\"India\" }\n",
        "for i in d.keys():\n",
        "  print(i)"
      ],
      "metadata": {
        "colab": {
          "base_uri": "https://localhost:8080/"
        },
        "id": "FgzU50S7qvve",
        "outputId": "ba6fe026-e334-4e4c-ba2c-71f1c5e27563"
      },
      "execution_count": 6,
      "outputs": [
        {
          "output_type": "stream",
          "name": "stdout",
          "text": [
            "name\n",
            "age\n",
            "country\n"
          ]
        }
      ]
    },
    {
      "cell_type": "code",
      "source": [
        "d={\"name\":\"Sidhu\",\"age\":20,\"country\":\"India\" }\n",
        "for i in d.values():\n",
        "  print(i)"
      ],
      "metadata": {
        "colab": {
          "base_uri": "https://localhost:8080/"
        },
        "id": "yS3j90hD_Yuy",
        "outputId": "35f2b92c-f213-4524-9d10-f950e239ae7d"
      },
      "execution_count": 4,
      "outputs": [
        {
          "output_type": "stream",
          "name": "stdout",
          "text": [
            "Sidhu\n",
            "20\n",
            "India\n"
          ]
        }
      ]
    },
    {
      "cell_type": "code",
      "source": [
        "d={\"name\":\"Sidhu\",\"age\":20,\"country\":\"India\" }\n",
        "for i,j in d.items():\n",
        "  print(i,j)"
      ],
      "metadata": {
        "colab": {
          "base_uri": "https://localhost:8080/"
        },
        "id": "Cn64TK5Z_hMD",
        "outputId": "92cd56a5-4486-4284-fea7-13636657ff32"
      },
      "execution_count": 5,
      "outputs": [
        {
          "output_type": "stream",
          "name": "stdout",
          "text": [
            "name Sidhu\n",
            "age 20\n",
            "country India\n"
          ]
        }
      ]
    },
    {
      "cell_type": "code",
      "source": [
        "list1=[1,2,3,4,5]\n",
        "for i in range(len(list1)):\n",
        "  print(list1[i])\n"
      ],
      "metadata": {
        "colab": {
          "base_uri": "https://localhost:8080/"
        },
        "id": "n2YyumcArpwH",
        "outputId": "65ef0921-a93c-4d89-e7f3-577dc342831a"
      },
      "execution_count": 12,
      "outputs": [
        {
          "output_type": "stream",
          "name": "stdout",
          "text": [
            "1\n",
            "2\n",
            "3\n",
            "4\n",
            "5\n"
          ]
        }
      ]
    },
    {
      "cell_type": "code",
      "source": [
        "#Que1. Print ***** using loop\n",
        "for i in range(5):\n",
        "  print(\"*\")\n",
        "# but we have to print it in an line\n",
        "print(\"Sahi tarike se print nahi hua hum ek line m chahte the\")\n",
        "for i in range(5):\n",
        "  print(\"*\", end=\"\")\n",
        "\n",
        "print(\"\\nAb thik h\")"
      ],
      "metadata": {
        "colab": {
          "base_uri": "https://localhost:8080/"
        },
        "id": "VxyejEGQVDwG",
        "outputId": "5986cfd7-a520-430a-f340-c79ac806717c"
      },
      "execution_count": 20,
      "outputs": [
        {
          "output_type": "stream",
          "name": "stdout",
          "text": [
            "*\n",
            "*\n",
            "*\n",
            "*\n",
            "*\n",
            "Sahi tarike se print nahi hua hum ek line m chahte the\n",
            "*****\n",
            "Ab thik h\n"
          ]
        }
      ]
    },
    {
      "cell_type": "code",
      "source": [
        "for i in range(5):\n",
        "  for j in range(5):\n",
        "    print(\"*\")\n",
        ""
      ],
      "metadata": {
        "id": "sv_iWgrosVtV",
        "colab": {
          "base_uri": "https://localhost:8080/"
        },
        "outputId": "dcfe3ccf-7028-4cf1-cad4-9a6caeeec22c"
      },
      "execution_count": 23,
      "outputs": [
        {
          "output_type": "stream",
          "name": "stdout",
          "text": [
            "*\n",
            "*\n",
            "*\n",
            "*\n",
            "*\n",
            "*\n",
            "*\n",
            "*\n",
            "*\n",
            "*\n",
            "*\n",
            "*\n",
            "*\n",
            "*\n",
            "*\n",
            "*\n",
            "*\n",
            "*\n",
            "*\n",
            "*\n",
            "*\n",
            "*\n",
            "*\n",
            "*\n",
            "*\n"
          ]
        }
      ]
    },
    {
      "cell_type": "code",
      "source": [
        " for i in range(5):\n",
        "  for j in range(5):\n",
        "    print(\"*\", end=\" \")\n",
        "  print()"
      ],
      "metadata": {
        "colab": {
          "base_uri": "https://localhost:8080/"
        },
        "id": "tWWLmT4nXCxK",
        "outputId": "36870850-4c71-4159-f805-664e67165ed8"
      },
      "execution_count": 25,
      "outputs": [
        {
          "output_type": "stream",
          "name": "stdout",
          "text": [
            "* * * * * \n",
            "* * * * * \n",
            "* * * * * \n",
            "* * * * * \n",
            "* * * * * \n"
          ]
        }
      ]
    },
    {
      "cell_type": "code",
      "source": [
        "for i in range(5):\n",
        "  for j in range(i+1):\n",
        "    print(\"*\",end=\" \")\n",
        "  print()"
      ],
      "metadata": {
        "id": "m2Ssgnuwo4j_",
        "colab": {
          "base_uri": "https://localhost:8080/"
        },
        "outputId": "f148781b-b457-4975-a7a0-59c97cc7474c"
      },
      "execution_count": 26,
      "outputs": [
        {
          "output_type": "stream",
          "name": "stdout",
          "text": [
            "* \n",
            "* * \n",
            "* * * \n",
            "* * * * \n",
            "* * * * * \n"
          ]
        }
      ]
    },
    {
      "cell_type": "code",
      "source": [
        "for i in range(5):\n",
        "  for j in range(i,5):\n",
        "    print(\"*\",end=\" \")\n",
        "  print()"
      ],
      "metadata": {
        "colab": {
          "base_uri": "https://localhost:8080/"
        },
        "id": "LJmXZZgEYXzO",
        "outputId": "9137ae24-d43f-4771-9e18-5318a2f1ce28"
      },
      "execution_count": 27,
      "outputs": [
        {
          "output_type": "stream",
          "name": "stdout",
          "text": [
            "* * * * * \n",
            "* * * * \n",
            "* * * \n",
            "* * \n",
            "* \n"
          ]
        }
      ]
    },
    {
      "cell_type": "code",
      "source": [
        "n=int(input())\n",
        "for i in range(n+1):\n",
        "  for j in range(1,i+1):\n",
        "    print(j, end=\" \")\n",
        "  print()"
      ],
      "metadata": {
        "colab": {
          "base_uri": "https://localhost:8080/"
        },
        "id": "DsWgr8rKbUJ0",
        "outputId": "d6771c0b-4e6d-4941-f81c-933d240480eb"
      },
      "execution_count": 31,
      "outputs": [
        {
          "output_type": "stream",
          "name": "stdout",
          "text": [
            "5\n",
            "\n",
            "1 \n",
            "1 2 \n",
            "1 2 3 \n",
            "1 2 3 4 \n",
            "1 2 3 4 5 \n"
          ]
        }
      ]
    },
    {
      "cell_type": "code",
      "execution_count": null,
      "metadata": {
        "id": "EZniiRj9mv3y",
        "colab": {
          "base_uri": "https://localhost:8080/"
        },
        "outputId": "5d40b076-aa1a-4b23-abda-4727539d7f7b"
      },
      "outputs": [
        {
          "output_type": "stream",
          "name": "stdout",
          "text": [
            "1\n",
            "2\n",
            "3\n",
            "4\n",
            "5\n",
            "6\n",
            "7\n",
            "8\n",
            "9\n",
            "10\n"
          ]
        }
      ],
      "source": [
        "#For loop\n",
        "for i in range(1,11):\n",
        "  print(i)"
      ]
    },
    {
      "cell_type": "code",
      "execution_count": null,
      "metadata": {
        "id": "A-8r8s5zm_Wd",
        "colab": {
          "base_uri": "https://localhost:8080/"
        },
        "outputId": "60f02a85-a60a-4f53-cdd5-f8ceb605e2b2"
      },
      "outputs": [
        {
          "output_type": "stream",
          "name": "stdout",
          "text": [
            "d\n",
            "e\n",
            "l\n",
            "h\n",
            "i\n"
          ]
        }
      ],
      "source": [
        "for i in \"delhi\":\n",
        "  print(i)"
      ]
    },
    {
      "cell_type": "code",
      "execution_count": null,
      "metadata": {
        "id": "Vj3A4iuFn2Va",
        "colab": {
          "base_uri": "https://localhost:8080/"
        },
        "outputId": "faf3c25c-d325-471c-d11f-31a01072071f"
      },
      "outputs": [
        {
          "output_type": "stream",
          "name": "stdout",
          "text": [
            "1\n",
            "2\n",
            "3\n",
            "4\n"
          ]
        }
      ],
      "source": [
        "for i in [1,2,3,4]:\n",
        "  print(i)"
      ]
    },
    {
      "cell_type": "code",
      "execution_count": null,
      "metadata": {
        "id": "Y-NeUjhcn-Ec",
        "colab": {
          "base_uri": "https://localhost:8080/"
        },
        "outputId": "79e4f187-160d-4b3f-f144-65e17f60c443"
      },
      "outputs": [
        {
          "output_type": "stream",
          "name": "stdout",
          "text": [
            "10 year population is 10000\n",
            "9 year population is 9090.90909090909\n",
            "8 year population is 8264.462809917353\n",
            "7 year population is 7513.148009015775\n",
            "6 year population is 6830.134553650703\n",
            "5 year population is 6209.213230591548\n",
            "4 year population is 5644.739300537771\n",
            "3 year population is 5131.5811823070635\n",
            "2 year population is 4665.07380209733\n",
            "1 year population is 4240.976183724845\n"
          ]
        }
      ],
      "source": [
        "cur_pop=10000\n",
        "print(10,\"year population is\",10000)\n",
        "for i in range(9,0,-1):\n",
        "  cur_pop=cur_pop/1.1\n",
        "  print(i,\"year population is\",cur_pop)\n"
      ]
    },
    {
      "cell_type": "code",
      "source": [
        "fact=1\n",
        "sum=0\n",
        "n1=int(input())\n",
        "for i in range(1,n1+1):\n",
        "  fact=fact*i\n",
        "  sum+=(i/fact)\n",
        "print(sum)"
      ],
      "metadata": {
        "colab": {
          "base_uri": "https://localhost:8080/"
        },
        "id": "oRlYG-byHcpP",
        "outputId": "6aedfa4b-2355-405f-9286-0c3f92bdd967"
      },
      "execution_count": null,
      "outputs": [
        {
          "output_type": "stream",
          "name": "stdout",
          "text": [
            "9\n",
            "2.71827876984127\n"
          ]
        }
      ]
    },
    {
      "cell_type": "code",
      "source": [
        "for i in range(1,6):\n",
        "  for j in range(1,6):\n",
        "    print(\"(\",i,\",\",j,\")\",end=\",\")\n",
        "  print()"
      ],
      "metadata": {
        "colab": {
          "base_uri": "https://localhost:8080/"
        },
        "id": "JwV9vh54aF9j",
        "outputId": "15981bc3-4219-4bb1-b515-c5c102720983"
      },
      "execution_count": null,
      "outputs": [
        {
          "output_type": "stream",
          "name": "stdout",
          "text": [
            "( 1 , 1 ),( 1 , 2 ),( 1 , 3 ),( 1 , 4 ),( 1 , 5 ),\n",
            "( 2 , 1 ),( 2 , 2 ),( 2 , 3 ),( 2 , 4 ),( 2 , 5 ),\n",
            "( 3 , 1 ),( 3 , 2 ),( 3 , 3 ),( 3 , 4 ),( 3 , 5 ),\n",
            "( 4 , 1 ),( 4 , 2 ),( 4 , 3 ),( 4 , 4 ),( 4 , 5 ),\n",
            "( 5 , 1 ),( 5 , 2 ),( 5 , 3 ),( 5 , 4 ),( 5 , 5 ),\n"
          ]
        }
      ]
    },
    {
      "cell_type": "code",
      "source": [
        "l1=int(input(\"Enter the star you want to print\"))\n",
        "for i in range(1,l1+1):\n",
        "  for j in range(1,i+1):\n",
        "    print(\"*\",end=\" \")\n",
        "  print()\n"
      ],
      "metadata": {
        "colab": {
          "base_uri": "https://localhost:8080/"
        },
        "id": "N3Ehn8uwcGk9",
        "outputId": "b405b3db-3252-4b9a-9dd1-68ec10179ad2"
      },
      "execution_count": null,
      "outputs": [
        {
          "output_type": "stream",
          "name": "stdout",
          "text": [
            "Enter the star you want to print3\n",
            "* \n",
            "* * \n",
            "* * * \n"
          ]
        }
      ]
    },
    {
      "cell_type": "code",
      "source": [
        "l2= int(input(\"enter the number\"))\n",
        "for i in range(1,l2+1):\n",
        "  for j in range(1,i+1):\n",
        "    print(j, end=\" \")\n",
        "  for k in range(i-1,0,-1):\n",
        "    print(k,end=\" \")\n",
        "  print()"
      ],
      "metadata": {
        "colab": {
          "base_uri": "https://localhost:8080/"
        },
        "id": "QYvFhvs_dvcH",
        "outputId": "24044ceb-770f-4308-f360-20e93a2fbcc4"
      },
      "execution_count": null,
      "outputs": [
        {
          "output_type": "stream",
          "name": "stdout",
          "text": [
            "enter the number5\n",
            "1 \n",
            "1 2 1 \n",
            "1 2 3 2 1 \n",
            "1 2 3 4 3 2 1 \n",
            "1 2 3 4 5 4 3 2 1 \n"
          ]
        }
      ]
    },
    {
      "cell_type": "markdown",
      "source": [
        "#Loop Control Statement"
      ],
      "metadata": {
        "id": "lLpKoAAdkdN-"
      }
    },
    {
      "cell_type": "markdown",
      "source": [
        "##Break"
      ],
      "metadata": {
        "id": "tK5eC9c7khbw"
      }
    },
    {
      "cell_type": "code",
      "source": [
        "for i in range(1,10):\n",
        "  if i==5:\n",
        "    break\n",
        "  print(i)"
      ],
      "metadata": {
        "colab": {
          "base_uri": "https://localhost:8080/"
        },
        "id": "V9kXeOiLkyOL",
        "outputId": "b5c131ef-0b4f-4732-c50b-8c9b5f55b2e7"
      },
      "execution_count": null,
      "outputs": [
        {
          "output_type": "stream",
          "name": "stdout",
          "text": [
            "1\n",
            "2\n",
            "3\n",
            "4\n"
          ]
        }
      ]
    },
    {
      "cell_type": "markdown",
      "source": [
        "#Continue"
      ],
      "metadata": {
        "id": "vTgP3m_X04jE"
      }
    },
    {
      "cell_type": "code",
      "source": [
        "for i in range(1,10):\n",
        "  if i==5:\n",
        "    continue\n",
        "  print(i)"
      ],
      "metadata": {
        "colab": {
          "base_uri": "https://localhost:8080/"
        },
        "id": "15V6-Bmr0sYb",
        "outputId": "92fa3cff-43c0-470e-eb27-5b495e04b54d"
      },
      "execution_count": null,
      "outputs": [
        {
          "output_type": "stream",
          "name": "stdout",
          "text": [
            "1\n",
            "2\n",
            "3\n",
            "4\n",
            "6\n",
            "7\n",
            "8\n",
            "9\n"
          ]
        }
      ]
    },
    {
      "cell_type": "code",
      "source": [
        "for i in range(1,10):\n",
        "  pass"
      ],
      "metadata": {
        "id": "ZSXdbWC209Li"
      },
      "execution_count": null,
      "outputs": []
    },
    {
      "cell_type": "markdown",
      "source": [
        "##Strings\n",
        "###In python specifically, string are a sequence of Unicode Character\n"
      ],
      "metadata": {
        "id": "12XMsRzV1V7L"
      }
    },
    {
      "cell_type": "code",
      "source": [
        "#Creating strings\n",
        "s1=\"hello\"\n",
        "s2='hello'\n",
        "s3=\"\"\"hello\"\"\"\n",
        "print(s1,s2,s3)"
      ],
      "metadata": {
        "colab": {
          "base_uri": "https://localhost:8080/"
        },
        "id": "Z60R4ORh2Df7",
        "outputId": "8d7df8f0-2775-4a0f-cec2-c24f8b8bed2e"
      },
      "execution_count": null,
      "outputs": [
        {
          "output_type": "stream",
          "name": "stdout",
          "text": [
            "hello hello hello\n"
          ]
        }
      ]
    },
    {
      "cell_type": "code",
      "source": [
        "s4=\"it's raining outside\"\n",
        "print(s4)"
      ],
      "metadata": {
        "colab": {
          "base_uri": "https://localhost:8080/"
        },
        "id": "skp0-AN32XK0",
        "outputId": "f899e655-3f60-4a18-dfa9-16574a02d353"
      },
      "execution_count": null,
      "outputs": [
        {
          "output_type": "stream",
          "name": "stdout",
          "text": [
            "it's raining outside\n"
          ]
        }
      ]
    },
    {
      "cell_type": "code",
      "source": [
        "s5=str(\"hello\")\n",
        "print(s5)"
      ],
      "metadata": {
        "colab": {
          "base_uri": "https://localhost:8080/"
        },
        "id": "Efjevf_B2d2e",
        "outputId": "015bab9e-9115-4bd8-d672-1a82143bf63a"
      },
      "execution_count": null,
      "outputs": [
        {
          "output_type": "stream",
          "name": "stdout",
          "text": [
            "hello\n"
          ]
        }
      ]
    },
    {
      "cell_type": "code",
      "source": [
        "#Accessing Substring from a  String\n",
        "#Positive indexing\n",
        "s6=\"hello world\"\n",
        "print(s6[1])\n",
        "#Negative indexing\n",
        "print(s6[-1])"
      ],
      "metadata": {
        "colab": {
          "base_uri": "https://localhost:8080/"
        },
        "id": "HX6eu_hI2zvH",
        "outputId": "8f3a9ba9-16ca-4b8c-ca51-8dfb3de37991"
      },
      "execution_count": null,
      "outputs": [
        {
          "output_type": "stream",
          "name": "stdout",
          "text": [
            "e\n",
            "d\n"
          ]
        }
      ]
    },
    {
      "cell_type": "code",
      "source": [
        "#Slicing\n",
        "print(s6[1:3])\n",
        "print(s6[2:])\n",
        "print(s6[:])\n",
        "print(s6[::2])\n",
        "print(s6[::-1])\n",
        "print(s6[-1:-6:-1])\n",
        "print(s6[-1:-6:-2])"
      ],
      "metadata": {
        "colab": {
          "base_uri": "https://localhost:8080/"
        },
        "id": "gNheR0-K3VHb",
        "outputId": "5ab45c1d-4ac2-4279-e8aa-f19e7ba63fd8"
      },
      "execution_count": null,
      "outputs": [
        {
          "output_type": "stream",
          "name": "stdout",
          "text": [
            "el\n",
            "llo world\n",
            "hello world\n",
            "hlowrd\n",
            "dlrow olleh\n",
            "dlrow\n",
            "drw\n"
          ]
        }
      ]
    },
    {
      "cell_type": "code",
      "source": [
        "#Strings are immutable\n",
        "s6[0]=\"H\""
      ],
      "metadata": {
        "colab": {
          "base_uri": "https://localhost:8080/",
          "height": 158
        },
        "id": "NE0bwEiY4AVW",
        "outputId": "d68cc619-6de0-44d8-b9e3-88ee4d0004aa"
      },
      "execution_count": null,
      "outputs": [
        {
          "output_type": "error",
          "ename": "TypeError",
          "evalue": "'str' object does not support item assignment",
          "traceback": [
            "\u001b[0;31m---------------------------------------------------------------------------\u001b[0m",
            "\u001b[0;31mTypeError\u001b[0m                                 Traceback (most recent call last)",
            "\u001b[0;32m<ipython-input-81-360745686da6>\u001b[0m in \u001b[0;36m<cell line: 2>\u001b[0;34m()\u001b[0m\n\u001b[1;32m      1\u001b[0m \u001b[0;31m#Strings are immutable\u001b[0m\u001b[0;34m\u001b[0m\u001b[0;34m\u001b[0m\u001b[0m\n\u001b[0;32m----> 2\u001b[0;31m \u001b[0ms6\u001b[0m\u001b[0;34m[\u001b[0m\u001b[0;36m0\u001b[0m\u001b[0;34m]\u001b[0m\u001b[0;34m=\u001b[0m\u001b[0;34m\"H\"\u001b[0m\u001b[0;34m\u001b[0m\u001b[0;34m\u001b[0m\u001b[0m\n\u001b[0m",
            "\u001b[0;31mTypeError\u001b[0m: 'str' object does not support item assignment"
          ]
        }
      ]
    },
    {
      "cell_type": "code",
      "source": [
        "s7=\"Hello\"\n",
        "del s7\n",
        "print(s7)"
      ],
      "metadata": {
        "colab": {
          "base_uri": "https://localhost:8080/",
          "height": 176
        },
        "id": "VcsFmvEk5sme",
        "outputId": "91468dbb-cf0a-417c-fbe4-4c193b5f5486"
      },
      "execution_count": null,
      "outputs": [
        {
          "output_type": "error",
          "ename": "NameError",
          "evalue": "name 's7' is not defined",
          "traceback": [
            "\u001b[0;31m---------------------------------------------------------------------------\u001b[0m",
            "\u001b[0;31mNameError\u001b[0m                                 Traceback (most recent call last)",
            "\u001b[0;32m<ipython-input-82-21e5f7a57f96>\u001b[0m in \u001b[0;36m<cell line: 3>\u001b[0;34m()\u001b[0m\n\u001b[1;32m      1\u001b[0m \u001b[0ms7\u001b[0m\u001b[0;34m=\u001b[0m\u001b[0;34m\"Hello\"\u001b[0m\u001b[0;34m\u001b[0m\u001b[0;34m\u001b[0m\u001b[0m\n\u001b[1;32m      2\u001b[0m \u001b[0;32mdel\u001b[0m \u001b[0ms7\u001b[0m\u001b[0;34m\u001b[0m\u001b[0;34m\u001b[0m\u001b[0m\n\u001b[0;32m----> 3\u001b[0;31m \u001b[0mprint\u001b[0m\u001b[0;34m(\u001b[0m\u001b[0ms7\u001b[0m\u001b[0;34m)\u001b[0m\u001b[0;34m\u001b[0m\u001b[0;34m\u001b[0m\u001b[0m\n\u001b[0m",
            "\u001b[0;31mNameError\u001b[0m: name 's7' is not defined"
          ]
        }
      ]
    },
    {
      "cell_type": "code",
      "source": [
        "s8=\"Hello\"\n",
        "del s[-1:-4:2]\n",
        "print(s8)"
      ],
      "metadata": {
        "colab": {
          "base_uri": "https://localhost:8080/",
          "height": 176
        },
        "id": "TLTKcZA751p_",
        "outputId": "6f34b89f-2732-41a7-f2ec-2c35f761a5ec"
      },
      "execution_count": null,
      "outputs": [
        {
          "output_type": "error",
          "ename": "NameError",
          "evalue": "name 's' is not defined",
          "traceback": [
            "\u001b[0;31m---------------------------------------------------------------------------\u001b[0m",
            "\u001b[0;31mNameError\u001b[0m                                 Traceback (most recent call last)",
            "\u001b[0;32m<ipython-input-83-da5c2537a2c7>\u001b[0m in \u001b[0;36m<cell line: 2>\u001b[0;34m()\u001b[0m\n\u001b[1;32m      1\u001b[0m \u001b[0ms8\u001b[0m\u001b[0;34m=\u001b[0m\u001b[0;34m\"Hello\"\u001b[0m\u001b[0;34m\u001b[0m\u001b[0;34m\u001b[0m\u001b[0m\n\u001b[0;32m----> 2\u001b[0;31m \u001b[0;32mdel\u001b[0m \u001b[0ms\u001b[0m\u001b[0;34m[\u001b[0m\u001b[0;34m-\u001b[0m\u001b[0;36m1\u001b[0m\u001b[0;34m:\u001b[0m\u001b[0;34m-\u001b[0m\u001b[0;36m4\u001b[0m\u001b[0;34m:\u001b[0m\u001b[0;36m2\u001b[0m\u001b[0;34m]\u001b[0m\u001b[0;34m\u001b[0m\u001b[0;34m\u001b[0m\u001b[0m\n\u001b[0m\u001b[1;32m      3\u001b[0m \u001b[0mprint\u001b[0m\u001b[0;34m(\u001b[0m\u001b[0ms8\u001b[0m\u001b[0;34m)\u001b[0m\u001b[0;34m\u001b[0m\u001b[0;34m\u001b[0m\u001b[0m\n",
            "\u001b[0;31mNameError\u001b[0m: name 's' is not defined"
          ]
        }
      ]
    },
    {
      "cell_type": "markdown",
      "source": [
        "##Operation on strings\n",
        "* Arithmetic Operator\n",
        "* Relational operator\n",
        "* Logical OPerator\n",
        "* Loops on strings\n",
        "* Membership operator\n"
      ],
      "metadata": {
        "id": "AuoOkizn6RWv"
      }
    },
    {
      "cell_type": "code",
      "source": [
        "print(\"delhi\"+\"mumbai\")"
      ],
      "metadata": {
        "colab": {
          "base_uri": "https://localhost:8080/"
        },
        "id": "YgQmY5po60Rg",
        "outputId": "d85de8f8-da8c-40a1-ef6e-2e99bf4fad17"
      },
      "execution_count": null,
      "outputs": [
        {
          "output_type": "stream",
          "name": "stdout",
          "text": [
            "delhimumbai\n"
          ]
        }
      ]
    },
    {
      "cell_type": "code",
      "source": [
        "print(\"Delhi\"*5)"
      ],
      "metadata": {
        "colab": {
          "base_uri": "https://localhost:8080/"
        },
        "id": "RaqrZDFz654x",
        "outputId": "4326acf7-b86a-49e6-a676-6a6739abee1d"
      },
      "execution_count": null,
      "outputs": [
        {
          "output_type": "stream",
          "name": "stdout",
          "text": [
            "DelhiDelhiDelhiDelhiDelhi\n"
          ]
        }
      ]
    },
    {
      "cell_type": "code",
      "source": [
        "#Subtration, division,modulus doesnot work in string"
      ],
      "metadata": {
        "id": "N3kS6qn46-JG"
      },
      "execution_count": null,
      "outputs": []
    },
    {
      "cell_type": "code",
      "source": [
        "\"delhi\"==\"mumbai\"\n"
      ],
      "metadata": {
        "colab": {
          "base_uri": "https://localhost:8080/"
        },
        "id": "tGz5Y1g57O6v",
        "outputId": "aae12fb3-de6b-46c8-8c76-974486d436cf"
      },
      "execution_count": null,
      "outputs": [
        {
          "output_type": "execute_result",
          "data": {
            "text/plain": [
              "False"
            ]
          },
          "metadata": {},
          "execution_count": 105
        }
      ]
    },
    {
      "cell_type": "code",
      "source": [
        "\"delhi\"!=\"mumbai\""
      ],
      "metadata": {
        "colab": {
          "base_uri": "https://localhost:8080/"
        },
        "id": "4ADhJbOc7Wme",
        "outputId": "23ba2479-43b7-4fc0-ca38-6f97e37c4e6e"
      },
      "execution_count": null,
      "outputs": [
        {
          "output_type": "execute_result",
          "data": {
            "text/plain": [
              "True"
            ]
          },
          "metadata": {},
          "execution_count": 106
        }
      ]
    },
    {
      "cell_type": "code",
      "source": [
        "\"Delhi\">=\"Mumbai\""
      ],
      "metadata": {
        "colab": {
          "base_uri": "https://localhost:8080/"
        },
        "id": "wRq0oaEP7dSV",
        "outputId": "680d1b09-0f33-45ae-9cb3-de979d9ce6f6"
      },
      "execution_count": null,
      "outputs": [
        {
          "output_type": "execute_result",
          "data": {
            "text/plain": [
              "False"
            ]
          },
          "metadata": {},
          "execution_count": 107
        }
      ]
    },
    {
      "cell_type": "code",
      "source": [
        "\"Delhi\"<=\"Mumbai\""
      ],
      "metadata": {
        "colab": {
          "base_uri": "https://localhost:8080/"
        },
        "id": "QV8y2FrY7iRP",
        "outputId": "5dbc9749-930b-426f-92ed-7b6fb6b932e5"
      },
      "execution_count": null,
      "outputs": [
        {
          "output_type": "execute_result",
          "data": {
            "text/plain": [
              "True"
            ]
          },
          "metadata": {},
          "execution_count": 108
        }
      ]
    },
    {
      "cell_type": "code",
      "source": [
        "\"Hello\" and \"WOrld\""
      ],
      "metadata": {
        "colab": {
          "base_uri": "https://localhost:8080/",
          "height": 36
        },
        "id": "UNp0zLM87mN1",
        "outputId": "9252dc05-5532-48a6-dd97-ed7bb4b3675f"
      },
      "execution_count": null,
      "outputs": [
        {
          "output_type": "execute_result",
          "data": {
            "text/plain": [
              "'WOrld'"
            ],
            "application/vnd.google.colaboratory.intrinsic+json": {
              "type": "string"
            }
          },
          "metadata": {},
          "execution_count": 109
        }
      ]
    },
    {
      "cell_type": "code",
      "source": [
        "\"Hello\" or \"World\""
      ],
      "metadata": {
        "colab": {
          "base_uri": "https://localhost:8080/",
          "height": 36
        },
        "id": "ICIBsZeCCvNa",
        "outputId": "f0c446e2-fd30-4275-f203-7fa9e0a1cc05"
      },
      "execution_count": null,
      "outputs": [
        {
          "output_type": "execute_result",
          "data": {
            "text/plain": [
              "'Hello'"
            ],
            "application/vnd.google.colaboratory.intrinsic+json": {
              "type": "string"
            }
          },
          "metadata": {},
          "execution_count": 110
        }
      ]
    },
    {
      "cell_type": "code",
      "source": [
        "\"\" and \"world\""
      ],
      "metadata": {
        "colab": {
          "base_uri": "https://localhost:8080/",
          "height": 36
        },
        "id": "meMwzI9PC8fx",
        "outputId": "944d3440-ef81-46bf-89ee-1c8050fcb94f"
      },
      "execution_count": null,
      "outputs": [
        {
          "output_type": "execute_result",
          "data": {
            "text/plain": [
              "''"
            ],
            "application/vnd.google.colaboratory.intrinsic+json": {
              "type": "string"
            }
          },
          "metadata": {},
          "execution_count": 111
        }
      ]
    },
    {
      "cell_type": "code",
      "source": [
        "\"hello\" and \"\""
      ],
      "metadata": {
        "colab": {
          "base_uri": "https://localhost:8080/",
          "height": 36
        },
        "id": "mR1huQ3mDC5k",
        "outputId": "3a06337f-540b-48ff-a4fb-7e9b3cf30ef3"
      },
      "execution_count": null,
      "outputs": [
        {
          "output_type": "execute_result",
          "data": {
            "text/plain": [
              "''"
            ],
            "application/vnd.google.colaboratory.intrinsic+json": {
              "type": "string"
            }
          },
          "metadata": {},
          "execution_count": 112
        }
      ]
    },
    {
      "cell_type": "code",
      "source": [
        "not \"\""
      ],
      "metadata": {
        "colab": {
          "base_uri": "https://localhost:8080/"
        },
        "id": "bP7k9wgJDGjH",
        "outputId": "df233a6a-e161-4246-f5e8-a743dcd23ae6"
      },
      "execution_count": null,
      "outputs": [
        {
          "output_type": "execute_result",
          "data": {
            "text/plain": [
              "True"
            ]
          },
          "metadata": {},
          "execution_count": 113
        }
      ]
    },
    {
      "cell_type": "code",
      "source": [
        "not \" ehllo\""
      ],
      "metadata": {
        "colab": {
          "base_uri": "https://localhost:8080/"
        },
        "id": "2ijSyY5NDPw7",
        "outputId": "64fbdaba-8fdd-4b25-bf99-1685dfb65be0"
      },
      "execution_count": null,
      "outputs": [
        {
          "output_type": "execute_result",
          "data": {
            "text/plain": [
              "False"
            ]
          },
          "metadata": {},
          "execution_count": 114
        }
      ]
    },
    {
      "cell_type": "code",
      "source": [
        "for i in \"hello\":\n",
        "  print(i)"
      ],
      "metadata": {
        "colab": {
          "base_uri": "https://localhost:8080/"
        },
        "id": "hYaXZdwLDhxD",
        "outputId": "ce6b4e43-19fa-4b98-ce12-23314fe5d391"
      },
      "execution_count": null,
      "outputs": [
        {
          "output_type": "stream",
          "name": "stdout",
          "text": [
            "h\n",
            "e\n",
            "l\n",
            "l\n",
            "o\n"
          ]
        }
      ]
    },
    {
      "cell_type": "code",
      "source": [
        "for i in \"delhi\":\n",
        "  print(\"Pune\")"
      ],
      "metadata": {
        "colab": {
          "base_uri": "https://localhost:8080/"
        },
        "id": "RQr2X2RnDlZL",
        "outputId": "05ea1452-1c50-4d12-9f99-6a43f2f1b714"
      },
      "execution_count": null,
      "outputs": [
        {
          "output_type": "stream",
          "name": "stdout",
          "text": [
            "Pune\n",
            "Pune\n",
            "Pune\n",
            "Pune\n",
            "Pune\n"
          ]
        }
      ]
    },
    {
      "cell_type": "code",
      "source": [
        "\"D\" in \"Delhi\""
      ],
      "metadata": {
        "colab": {
          "base_uri": "https://localhost:8080/"
        },
        "id": "hOV31KHgDsoc",
        "outputId": "78e10b3b-61bb-4712-fdbc-2a63ecf1c6c0"
      },
      "execution_count": null,
      "outputs": [
        {
          "output_type": "execute_result",
          "data": {
            "text/plain": [
              "True"
            ]
          },
          "metadata": {},
          "execution_count": 117
        }
      ]
    },
    {
      "cell_type": "code",
      "source": [
        "\"D\" not in \"Delhi\""
      ],
      "metadata": {
        "colab": {
          "base_uri": "https://localhost:8080/"
        },
        "id": "SIGLgAi9Dw-a",
        "outputId": "c89583c9-34b0-4b92-e3f8-cb8a37cb7dea"
      },
      "execution_count": null,
      "outputs": [
        {
          "output_type": "execute_result",
          "data": {
            "text/plain": [
              "False"
            ]
          },
          "metadata": {},
          "execution_count": 118
        }
      ]
    },
    {
      "cell_type": "markdown",
      "source": [
        "##Common function\n",
        "* Len\n",
        "*max\n",
        "*min\n",
        "*sorted"
      ],
      "metadata": {
        "id": "m8VpH2p3D322"
      }
    },
    {
      "cell_type": "code",
      "source": [
        "len(\"string\")"
      ],
      "metadata": {
        "colab": {
          "base_uri": "https://localhost:8080/"
        },
        "id": "mY6qBZ6_EHl7",
        "outputId": "ebc60c3f-8397-4816-eb6c-05a663344aa8"
      },
      "execution_count": null,
      "outputs": [
        {
          "output_type": "execute_result",
          "data": {
            "text/plain": [
              "6"
            ]
          },
          "metadata": {},
          "execution_count": 119
        }
      ]
    },
    {
      "cell_type": "code",
      "source": [
        "max(\"string\")"
      ],
      "metadata": {
        "colab": {
          "base_uri": "https://localhost:8080/",
          "height": 36
        },
        "id": "gzTMOqcsEKBu",
        "outputId": "12fc0b1f-dd3f-464c-b7c9-87991990f8cf"
      },
      "execution_count": null,
      "outputs": [
        {
          "output_type": "execute_result",
          "data": {
            "text/plain": [
              "'t'"
            ],
            "application/vnd.google.colaboratory.intrinsic+json": {
              "type": "string"
            }
          },
          "metadata": {},
          "execution_count": 120
        }
      ]
    },
    {
      "cell_type": "code",
      "source": [
        "min(\"String\")"
      ],
      "metadata": {
        "colab": {
          "base_uri": "https://localhost:8080/",
          "height": 36
        },
        "id": "z55R0VHfENsL",
        "outputId": "6f876576-4f95-41a3-88f2-663f4f898ae3"
      },
      "execution_count": null,
      "outputs": [
        {
          "output_type": "execute_result",
          "data": {
            "text/plain": [
              "'S'"
            ],
            "application/vnd.google.colaboratory.intrinsic+json": {
              "type": "string"
            }
          },
          "metadata": {},
          "execution_count": 121
        }
      ]
    },
    {
      "cell_type": "code",
      "source": [
        "sorted(\"String\")"
      ],
      "metadata": {
        "colab": {
          "base_uri": "https://localhost:8080/"
        },
        "id": "LuViftJOEP_T",
        "outputId": "f303b4a1-dc6e-4e98-ea65-49bcbe237418"
      },
      "execution_count": null,
      "outputs": [
        {
          "output_type": "execute_result",
          "data": {
            "text/plain": [
              "['S', 'g', 'i', 'n', 'r', 't']"
            ]
          },
          "metadata": {},
          "execution_count": 122
        }
      ]
    },
    {
      "cell_type": "code",
      "source": [
        "sorted(\"string\", reverse=True)"
      ],
      "metadata": {
        "colab": {
          "base_uri": "https://localhost:8080/"
        },
        "id": "_7Tcm_2OEUSY",
        "outputId": "e0b19e08-991b-49b9-89e2-c0d96113fea4"
      },
      "execution_count": null,
      "outputs": [
        {
          "output_type": "execute_result",
          "data": {
            "text/plain": [
              "['t', 's', 'r', 'n', 'i', 'g']"
            ]
          },
          "metadata": {},
          "execution_count": 123
        }
      ]
    },
    {
      "cell_type": "code",
      "source": [
        "##Function only for string\n",
        "s9=\"hello world\"\n",
        "s9.capitalize()\n"
      ],
      "metadata": {
        "colab": {
          "base_uri": "https://localhost:8080/",
          "height": 36
        },
        "id": "zlZVUkg1EYkt",
        "outputId": "659ec4c6-be03-42c2-98a7-b70039bb6050"
      },
      "execution_count": null,
      "outputs": [
        {
          "output_type": "execute_result",
          "data": {
            "text/plain": [
              "'Hello World'"
            ],
            "application/vnd.google.colaboratory.intrinsic+json": {
              "type": "string"
            }
          },
          "metadata": {},
          "execution_count": 125
        }
      ]
    },
    {
      "cell_type": "code",
      "source": [
        "s9.title()"
      ],
      "metadata": {
        "colab": {
          "base_uri": "https://localhost:8080/",
          "height": 36
        },
        "id": "kNSzAUzjEttC",
        "outputId": "8f14bdc0-d324-4461-fba8-e728e26120cb"
      },
      "execution_count": null,
      "outputs": [
        {
          "output_type": "execute_result",
          "data": {
            "text/plain": [
              "'Hello World'"
            ],
            "application/vnd.google.colaboratory.intrinsic+json": {
              "type": "string"
            }
          },
          "metadata": {},
          "execution_count": 126
        }
      ]
    },
    {
      "cell_type": "code",
      "source": [
        "s9.upper()"
      ],
      "metadata": {
        "colab": {
          "base_uri": "https://localhost:8080/",
          "height": 36
        },
        "id": "fhBNAt4ZEutP",
        "outputId": "ebcad0cf-07bc-476c-ab8d-2107c64e4d62"
      },
      "execution_count": null,
      "outputs": [
        {
          "output_type": "execute_result",
          "data": {
            "text/plain": [
              "'HELLO WORLD'"
            ],
            "application/vnd.google.colaboratory.intrinsic+json": {
              "type": "string"
            }
          },
          "metadata": {},
          "execution_count": 127
        }
      ]
    },
    {
      "cell_type": "code",
      "source": [
        "s9.lower()"
      ],
      "metadata": {
        "colab": {
          "base_uri": "https://localhost:8080/",
          "height": 36
        },
        "id": "k0eZzzqZE0Gt",
        "outputId": "83cb52e8-5725-4028-9c67-29f0bbf7b82d"
      },
      "execution_count": null,
      "outputs": [
        {
          "output_type": "execute_result",
          "data": {
            "text/plain": [
              "'hello world'"
            ],
            "application/vnd.google.colaboratory.intrinsic+json": {
              "type": "string"
            }
          },
          "metadata": {},
          "execution_count": 128
        }
      ]
    },
    {
      "cell_type": "code",
      "source": [
        "s9.swapcase()"
      ],
      "metadata": {
        "colab": {
          "base_uri": "https://localhost:8080/",
          "height": 36
        },
        "id": "OCL8qw30E3ea",
        "outputId": "58d1d118-6e81-4321-a76e-c829328e6217"
      },
      "execution_count": null,
      "outputs": [
        {
          "output_type": "execute_result",
          "data": {
            "text/plain": [
              "'HELLO WORLD'"
            ],
            "application/vnd.google.colaboratory.intrinsic+json": {
              "type": "string"
            }
          },
          "metadata": {},
          "execution_count": 130
        }
      ]
    },
    {
      "cell_type": "code",
      "source": [
        "s9.count(\"o\")"
      ],
      "metadata": {
        "colab": {
          "base_uri": "https://localhost:8080/"
        },
        "id": "ljkMvxdiE_xB",
        "outputId": "89cc9e7e-d527-4c99-98ad-960270ed3f70"
      },
      "execution_count": null,
      "outputs": [
        {
          "output_type": "execute_result",
          "data": {
            "text/plain": [
              "2"
            ]
          },
          "metadata": {},
          "execution_count": 132
        }
      ]
    },
    {
      "cell_type": "code",
      "source": [
        "s9.find(\"o\")"
      ],
      "metadata": {
        "colab": {
          "base_uri": "https://localhost:8080/"
        },
        "id": "gIoEm7DfFLK8",
        "outputId": "e80662f6-927b-42f7-dbde-a429c3fc5e16"
      },
      "execution_count": null,
      "outputs": [
        {
          "output_type": "execute_result",
          "data": {
            "text/plain": [
              "4"
            ]
          },
          "metadata": {},
          "execution_count": 133
        }
      ]
    },
    {
      "cell_type": "code",
      "source": [
        "s9.find(\"a\")"
      ],
      "metadata": {
        "colab": {
          "base_uri": "https://localhost:8080/"
        },
        "id": "uxgWS7g2FcfE",
        "outputId": "8bdac895-0dec-43af-e220-33b84b6cb140"
      },
      "execution_count": null,
      "outputs": [
        {
          "output_type": "execute_result",
          "data": {
            "text/plain": [
              "-1"
            ]
          },
          "metadata": {},
          "execution_count": 134
        }
      ]
    },
    {
      "cell_type": "code",
      "source": [
        "s9.index(\"w\")"
      ],
      "metadata": {
        "colab": {
          "base_uri": "https://localhost:8080/"
        },
        "id": "DdtfmrqWFfxN",
        "outputId": "88a0cc74-9c28-46b8-fc0a-ea1d9ce88c0a"
      },
      "execution_count": null,
      "outputs": [
        {
          "output_type": "execute_result",
          "data": {
            "text/plain": [
              "6"
            ]
          },
          "metadata": {},
          "execution_count": 135
        }
      ]
    },
    {
      "cell_type": "code",
      "source": [
        "s9.index(\"a\")\n",
        "#error is thrown"
      ],
      "metadata": {
        "colab": {
          "base_uri": "https://localhost:8080/",
          "height": 158
        },
        "id": "5Ntx8DeqFlX8",
        "outputId": "11abd0d8-b3cd-4304-d900-a952a9a50b16"
      },
      "execution_count": null,
      "outputs": [
        {
          "output_type": "error",
          "ename": "ValueError",
          "evalue": "substring not found",
          "traceback": [
            "\u001b[0;31m---------------------------------------------------------------------------\u001b[0m",
            "\u001b[0;31mValueError\u001b[0m                                Traceback (most recent call last)",
            "\u001b[0;32m<ipython-input-137-59352ae89977>\u001b[0m in \u001b[0;36m<cell line: 1>\u001b[0;34m()\u001b[0m\n\u001b[0;32m----> 1\u001b[0;31m \u001b[0ms9\u001b[0m\u001b[0;34m.\u001b[0m\u001b[0mindex\u001b[0m\u001b[0;34m(\u001b[0m\u001b[0;34m\"a\"\u001b[0m\u001b[0;34m)\u001b[0m\u001b[0;34m\u001b[0m\u001b[0;34m\u001b[0m\u001b[0m\n\u001b[0m\u001b[1;32m      2\u001b[0m \u001b[0;31m#error is thrown\u001b[0m\u001b[0;34m\u001b[0m\u001b[0;34m\u001b[0m\u001b[0m\n",
            "\u001b[0;31mValueError\u001b[0m: substring not found"
          ]
        }
      ]
    },
    {
      "cell_type": "code",
      "source": [
        "\"hello\".endswith(\"o\")"
      ],
      "metadata": {
        "colab": {
          "base_uri": "https://localhost:8080/"
        },
        "id": "nXKmK5djFqA4",
        "outputId": "ab6c16f0-e64d-4641-d2ed-a56019874e8b"
      },
      "execution_count": null,
      "outputs": [
        {
          "output_type": "execute_result",
          "data": {
            "text/plain": [
              "True"
            ]
          },
          "metadata": {},
          "execution_count": 138
        }
      ]
    },
    {
      "cell_type": "code",
      "source": [
        "\"Heloo\".startswith(\"H\")"
      ],
      "metadata": {
        "colab": {
          "base_uri": "https://localhost:8080/"
        },
        "id": "GfNhJMcIF0BW",
        "outputId": "17f8cc9a-b23b-4cc3-9492-cd1799779a85"
      },
      "execution_count": null,
      "outputs": [
        {
          "output_type": "execute_result",
          "data": {
            "text/plain": [
              "True"
            ]
          },
          "metadata": {},
          "execution_count": 139
        }
      ]
    },
    {
      "cell_type": "code",
      "source": [
        "name=\"sudhanshu\"\n",
        "gender=\"male\"\n",
        "\"Hy my name is {} and i am a {}\".format(name,gender)\n"
      ],
      "metadata": {
        "colab": {
          "base_uri": "https://localhost:8080/",
          "height": 36
        },
        "id": "XMatXqoMF428",
        "outputId": "e2a65378-75e0-41b5-df2e-a9ff482618ea"
      },
      "execution_count": null,
      "outputs": [
        {
          "output_type": "execute_result",
          "data": {
            "text/plain": [
              "'Hy my name is sudhanshu and i am amale'"
            ],
            "application/vnd.google.colaboratory.intrinsic+json": {
              "type": "string"
            }
          },
          "metadata": {},
          "execution_count": 140
        }
      ]
    },
    {
      "cell_type": "code",
      "source": [
        "\"nitish1234\".isalnum()"
      ],
      "metadata": {
        "colab": {
          "base_uri": "https://localhost:8080/"
        },
        "id": "smVneWHQGONk",
        "outputId": "a43dcf72-9ffb-4e73-eb09-e241d2c7b6bf"
      },
      "execution_count": null,
      "outputs": [
        {
          "output_type": "execute_result",
          "data": {
            "text/plain": [
              "True"
            ]
          },
          "metadata": {},
          "execution_count": 141
        }
      ]
    },
    {
      "cell_type": "code",
      "source": [
        "\"nitisg\".isalpha()"
      ],
      "metadata": {
        "colab": {
          "base_uri": "https://localhost:8080/"
        },
        "id": "GQC-BEs_G0LG",
        "outputId": "bbf35195-c254-4b41-f9fc-8729817db3af"
      },
      "execution_count": null,
      "outputs": [
        {
          "output_type": "execute_result",
          "data": {
            "text/plain": [
              "True"
            ]
          },
          "metadata": {},
          "execution_count": 142
        }
      ]
    },
    {
      "cell_type": "code",
      "source": [
        "\"nitisg1234\".isalpha()"
      ],
      "metadata": {
        "colab": {
          "base_uri": "https://localhost:8080/"
        },
        "id": "w2yZb9FIFnQ1",
        "outputId": "a0dc99c9-7d71-4d16-8860-09dde62ef921"
      },
      "execution_count": null,
      "outputs": [
        {
          "output_type": "execute_result",
          "data": {
            "text/plain": [
              "False"
            ]
          },
          "metadata": {},
          "execution_count": 144
        }
      ]
    },
    {
      "cell_type": "code",
      "source": [
        "\"123\".isdigit()"
      ],
      "metadata": {
        "colab": {
          "base_uri": "https://localhost:8080/"
        },
        "id": "ENhIYoo5HARB",
        "outputId": "03b71b38-60ef-415c-cb6d-9d36cdef4f33"
      },
      "execution_count": null,
      "outputs": [
        {
          "output_type": "execute_result",
          "data": {
            "text/plain": [
              "True"
            ]
          },
          "metadata": {},
          "execution_count": 146
        }
      ]
    },
    {
      "cell_type": "code",
      "source": [
        "\"1name\".isidentifier()"
      ],
      "metadata": {
        "colab": {
          "base_uri": "https://localhost:8080/"
        },
        "id": "ooQTBRqnHXoT",
        "outputId": "74dac23d-9b0f-416c-f62f-94d1d4fb0564"
      },
      "execution_count": null,
      "outputs": [
        {
          "output_type": "execute_result",
          "data": {
            "text/plain": [
              "False"
            ]
          },
          "metadata": {},
          "execution_count": 147
        }
      ]
    },
    {
      "cell_type": "code",
      "source": [
        "\"hi my name is sudhanshu\".split()"
      ],
      "metadata": {
        "colab": {
          "base_uri": "https://localhost:8080/"
        },
        "id": "m1KpZ3lQHfng",
        "outputId": "8998f6e6-d8f2-4884-d615-358d121a0b2e"
      },
      "execution_count": null,
      "outputs": [
        {
          "output_type": "execute_result",
          "data": {
            "text/plain": [
              "['hi', 'my', 'name', 'is', 'sudhanshu']"
            ]
          },
          "metadata": {},
          "execution_count": 148
        }
      ]
    },
    {
      "cell_type": "code",
      "source": [
        "\"hi m name is sudhanshu\".split(\"a\")"
      ],
      "metadata": {
        "colab": {
          "base_uri": "https://localhost:8080/"
        },
        "id": "ald1FxSLHl8m",
        "outputId": "aaed4b7b-5a36-4ef3-ee34-319b7ebe2e6c"
      },
      "execution_count": null,
      "outputs": [
        {
          "output_type": "execute_result",
          "data": {
            "text/plain": [
              "['hi m n', 'me is sudh', 'nshu']"
            ]
          },
          "metadata": {},
          "execution_count": 149
        }
      ]
    },
    {
      "cell_type": "code",
      "source": [
        "\"\""
      ],
      "metadata": {
        "id": "eJQEX4AOHsD0"
      },
      "execution_count": null,
      "outputs": []
    },
    {
      "cell_type": "code",
      "source": [
        "\" \".join(['hi', 'my', 'name', 'is', 'sudhanshu'])"
      ],
      "metadata": {
        "colab": {
          "base_uri": "https://localhost:8080/",
          "height": 36
        },
        "id": "4VWykHnpE6Hq",
        "outputId": "b58fc23e-e0a0-43c5-fb13-52592cb76626"
      },
      "execution_count": null,
      "outputs": [
        {
          "output_type": "execute_result",
          "data": {
            "text/plain": [
              "'hi my name is sudhanshu'"
            ],
            "application/vnd.google.colaboratory.intrinsic+json": {
              "type": "string"
            }
          },
          "metadata": {},
          "execution_count": 151
        }
      ]
    },
    {
      "cell_type": "code",
      "source": [
        "\"hy my mane is sudhanshu chouhan\".replace(\"sudhanshu\",\"Sidhu\")"
      ],
      "metadata": {
        "colab": {
          "base_uri": "https://localhost:8080/",
          "height": 36
        },
        "id": "rZ6c7C8zH4Gp",
        "outputId": "56a1630d-88fc-48bc-f977-4d35ae7a0b65"
      },
      "execution_count": null,
      "outputs": [
        {
          "output_type": "execute_result",
          "data": {
            "text/plain": [
              "'hy my mane is Sidhu chouhan'"
            ],
            "application/vnd.google.colaboratory.intrinsic+json": {
              "type": "string"
            }
          },
          "metadata": {},
          "execution_count": 152
        }
      ]
    },
    {
      "cell_type": "code",
      "source": [
        "\"sudhanshu               \".strip()"
      ],
      "metadata": {
        "colab": {
          "base_uri": "https://localhost:8080/",
          "height": 36
        },
        "id": "odRbP7I2IJDq",
        "outputId": "ed3c5219-98eb-4dec-d84d-0bcc62994dac"
      },
      "execution_count": null,
      "outputs": [
        {
          "output_type": "execute_result",
          "data": {
            "text/plain": [
              "'sudhanshu'"
            ],
            "application/vnd.google.colaboratory.intrinsic+json": {
              "type": "string"
            }
          },
          "metadata": {},
          "execution_count": 153
        }
      ]
    },
    {
      "cell_type": "code",
      "source": [
        "#Find the length of a given string without using the len() function\n",
        "st= input()\n",
        "count=0\n",
        "for i in st:\n",
        "  count+=1\n",
        "print(count)"
      ],
      "metadata": {
        "id": "Mhx14Q9vIaRg",
        "colab": {
          "base_uri": "https://localhost:8080/"
        },
        "outputId": "06924412-6d7e-49d8-af21-c95d1a60972a"
      },
      "execution_count": null,
      "outputs": [
        {
          "output_type": "stream",
          "name": "stdout",
          "text": [
            "sudhanhsu\n",
            "9\n"
          ]
        }
      ]
    },
    {
      "cell_type": "code",
      "source": [
        "#Extract username from a given email\n",
        "#Eg if the email is nitish24singh@gmail.com\n",
        "#then the username should be nitish24singh\n",
        "email1=input()\n",
        "pos=email1.index(\"@\")\n",
        "print(email1[0:pos])\n"
      ],
      "metadata": {
        "colab": {
          "base_uri": "https://localhost:8080/"
        },
        "id": "0fiu66A-zKfQ",
        "outputId": "de49b65b-a935-48cf-9771-b4307550b470"
      },
      "execution_count": null,
      "outputs": [
        {
          "output_type": "stream",
          "name": "stdout",
          "text": [
            "sudhanshu@gmail.com\n",
            "sudhanshu\n"
          ]
        }
      ]
    },
    {
      "cell_type": "code",
      "source": [
        "#Count the frequency of a particular character in aprovided string.\n",
        "#Eg \"hello how are you\" is the string, the frequency of h in this string is 2:\n",
        "s11=input()\n",
        "word=input()\n",
        "s11.count(word)\n"
      ],
      "metadata": {
        "colab": {
          "base_uri": "https://localhost:8080/"
        },
        "id": "LwvPJjmz1ZuP",
        "outputId": "d71cf6ce-9e64-4d51-b659-aac00d884027"
      },
      "execution_count": null,
      "outputs": [
        {
          "name": "stdout",
          "output_type": "stream",
          "text": [
            "hy my nae is sudhanshu\n",
            "s\n"
          ]
        },
        {
          "output_type": "execute_result",
          "data": {
            "text/plain": [
              "3"
            ]
          },
          "metadata": {},
          "execution_count": 13
        }
      ]
    },
    {
      "cell_type": "code",
      "source": [
        "s12=input()\n",
        "search=input(\"what word you want to search\")\n",
        "count=0\n",
        "for i in s12:\n",
        "  if search==i:\n",
        "    count+=1\n",
        "print(count)"
      ],
      "metadata": {
        "colab": {
          "base_uri": "https://localhost:8080/"
        },
        "id": "csJ__RRY2Tf0",
        "outputId": "0d3dd2cc-e961-44fc-d43d-ed3034241c25"
      },
      "execution_count": null,
      "outputs": [
        {
          "output_type": "stream",
          "name": "stdout",
          "text": [
            "my name is sudhanshu\n",
            "what word you want to searchs\n",
            "3\n"
          ]
        }
      ]
    },
    {
      "cell_type": "code",
      "source": [
        "#Write a program which can remove a particular character from a string\n",
        "s12=input()\n",
        "char=input()\n",
        "s13=\"\"\n",
        "for i in s12:\n",
        "  if char!=i:\n",
        "    s13=s13+i\n",
        "print(s13)\n"
      ],
      "metadata": {
        "colab": {
          "base_uri": "https://localhost:8080/"
        },
        "id": "w1Jvz-wC2HQN",
        "outputId": "5448c8c5-e842-4481-f58f-c708e1bbd8ce"
      },
      "execution_count": null,
      "outputs": [
        {
          "output_type": "stream",
          "name": "stdout",
          "text": [
            "sudhanshu\n",
            "s\n",
            "udhanhu\n"
          ]
        }
      ]
    },
    {
      "cell_type": "code",
      "source": [
        "#Write a program that check whether a given string is palindrome or not.\n",
        "s14=input()\n",
        "if s14==s14[::-1]:\n",
        "  print(\"This is a palindrome\")\n",
        "else:\n",
        "  print(\"This is not a palindrome\")"
      ],
      "metadata": {
        "colab": {
          "base_uri": "https://localhost:8080/"
        },
        "id": "i0LT2O_AWnoK",
        "outputId": "dcff24ca-137e-4766-b006-9fdfa1097205"
      },
      "execution_count": null,
      "outputs": [
        {
          "output_type": "stream",
          "name": "stdout",
          "text": [
            "madma\n",
            "This is not a palindrome\n"
          ]
        }
      ]
    },
    {
      "cell_type": "code",
      "source": [
        "s15=input()\n",
        "flag=True\n",
        "for i in range(0,len(s15)//2):\n",
        "  if s15[i]!=s15[len(s15)-i-1]:\n",
        "    flag=False\n",
        "    print(\"It is not a palindrome\")\n",
        "    break\n",
        "if flag:\n",
        "  print(\"It is a palindrome\")"
      ],
      "metadata": {
        "colab": {
          "base_uri": "https://localhost:8080/"
        },
        "id": "7pt7By4IX13R",
        "outputId": "d3120ec8-3d49-49fe-df62-015e69f6f111"
      },
      "execution_count": null,
      "outputs": [
        {
          "output_type": "stream",
          "name": "stdout",
          "text": [
            "madma\n",
            "It is not a palindrome\n"
          ]
        }
      ]
    },
    {
      "cell_type": "code",
      "source": [
        "#Write a program to count the number of words in a string without split():\n",
        "s16=input()\n",
        "count=0\n",
        "for i in s16:\n",
        "  count+=1\n",
        "print(count)"
      ],
      "metadata": {
        "colab": {
          "base_uri": "https://localhost:8080/"
        },
        "id": "ZnLnctgJal9d",
        "outputId": "e920def0-325b-471a-b561-029650897092"
      },
      "execution_count": null,
      "outputs": [
        {
          "output_type": "stream",
          "name": "stdout",
          "text": [
            "sudhanshu\n",
            "9\n"
          ]
        }
      ]
    },
    {
      "cell_type": "code",
      "source": [
        "#Write a python program to convert a string to a title case without using the title\n"
      ],
      "metadata": {
        "id": "t8iGlJUWa9Bu"
      },
      "execution_count": null,
      "outputs": []
    },
    {
      "cell_type": "code",
      "source": [
        "s17=input()\n",
        "l1=[]\n",
        "temp=\"\"\n",
        "for i in s17:\n",
        "  if i!=\" \":\n",
        "    temp=temp+i\n",
        "  else:\n",
        "    l1.append(temp)\n",
        "    temp=\"\"\n",
        "l1.append(temp)\n",
        "print(l1)"
      ],
      "metadata": {
        "colab": {
          "base_uri": "https://localhost:8080/"
        },
        "id": "UJ7W80wCbauy",
        "outputId": "33e045a0-f0b4-4a59-8ab8-8f5cf076d464"
      },
      "execution_count": null,
      "outputs": [
        {
          "output_type": "stream",
          "name": "stdout",
          "text": [
            "my name is khan\n",
            "['my', 'name', 'is', 'khan']\n"
          ]
        }
      ]
    },
    {
      "cell_type": "code",
      "source": [
        "#Write a python program to convert a string to a title case without using the title.\n",
        "s19=input()\n",
        "l1=[]\n",
        "for i in s19.split():\n",
        "  l1.append(i[0].upper()+i[1:].lower())\n",
        "print(\" \".join(l1))"
      ],
      "metadata": {
        "colab": {
          "base_uri": "https://localhost:8080/"
        },
        "id": "89Y7uKdjpWkF",
        "outputId": "e8b8712e-19b3-4402-e32e-a5ad691467c0"
      },
      "execution_count": null,
      "outputs": [
        {
          "output_type": "stream",
          "name": "stdout",
          "text": [
            "my name is khan\n",
            "My Name Is Khan\n"
          ]
        }
      ]
    },
    {
      "cell_type": "code",
      "source": [
        "#Write a program that can convert an integer to a string\n",
        "s21=int(input())\n",
        "digit=\"0123456789\"\n",
        "result=\"\"\n",
        "while s21!=0:\n",
        "  result=digit[s21%10]+result\n",
        "  s21=s21//10\n",
        "\n",
        "print(result)\n",
        "print(type(result))\n"
      ],
      "metadata": {
        "colab": {
          "base_uri": "https://localhost:8080/",
          "height": 228
        },
        "id": "aIj_hm8PspHZ",
        "outputId": "ec83e539-1e78-47ee-dc79-5d977e7aae57"
      },
      "execution_count": null,
      "outputs": [
        {
          "name": "stdout",
          "output_type": "stream",
          "text": [
            "\n"
          ]
        },
        {
          "output_type": "error",
          "ename": "ValueError",
          "evalue": "invalid literal for int() with base 10: ''",
          "traceback": [
            "\u001b[0;31m---------------------------------------------------------------------------\u001b[0m",
            "\u001b[0;31mValueError\u001b[0m                                Traceback (most recent call last)",
            "\u001b[0;32m<ipython-input-1-72bff4eae107>\u001b[0m in \u001b[0;36m<cell line: 2>\u001b[0;34m()\u001b[0m\n\u001b[1;32m      1\u001b[0m \u001b[0;31m#Write a program that can convert an integer to a string\u001b[0m\u001b[0;34m\u001b[0m\u001b[0;34m\u001b[0m\u001b[0m\n\u001b[0;32m----> 2\u001b[0;31m \u001b[0ms21\u001b[0m\u001b[0;34m=\u001b[0m\u001b[0mint\u001b[0m\u001b[0;34m(\u001b[0m\u001b[0minput\u001b[0m\u001b[0;34m(\u001b[0m\u001b[0;34m)\u001b[0m\u001b[0;34m)\u001b[0m\u001b[0;34m\u001b[0m\u001b[0;34m\u001b[0m\u001b[0m\n\u001b[0m\u001b[1;32m      3\u001b[0m \u001b[0mdigit\u001b[0m\u001b[0;34m=\u001b[0m\u001b[0;34m\"0123456789\"\u001b[0m\u001b[0;34m\u001b[0m\u001b[0;34m\u001b[0m\u001b[0m\n\u001b[1;32m      4\u001b[0m \u001b[0mresult\u001b[0m\u001b[0;34m=\u001b[0m\u001b[0;34m\"\"\u001b[0m\u001b[0;34m\u001b[0m\u001b[0;34m\u001b[0m\u001b[0m\n\u001b[1;32m      5\u001b[0m \u001b[0;32mwhile\u001b[0m \u001b[0ms21\u001b[0m\u001b[0;34m!=\u001b[0m\u001b[0;36m0\u001b[0m\u001b[0;34m:\u001b[0m\u001b[0;34m\u001b[0m\u001b[0;34m\u001b[0m\u001b[0m\n",
            "\u001b[0;31mValueError\u001b[0m: invalid literal for int() with base 10: ''"
          ]
        }
      ]
    },
    {
      "cell_type": "markdown",
      "source": [
        "#Python List\n"
      ],
      "metadata": {
        "id": "IfhwMVyqcjlJ"
      }
    },
    {
      "cell_type": "markdown",
      "source": [
        "###In Python,a list is a built -in dynamic sized array(automatically grows and shrink). We can store all type of items(including another list) in a list. A list may contain mixed type of itms, this is possible because a list mainly stores references at contiguous locations and actual items maybe stored at different location.\n",
        "\n",
        "## List functionality\n",
        "####List may contain duplicate items\n",
        "#### List in Python are Mutable. Hence we can modify, replace or delete the item.\n",
        "#### List are ordered. It maintain the order of elements based on how they are added.\n",
        "#### Accessing items in list can be done directly using their position(index)"
      ],
      "metadata": {
        "id": "fcEeovx2c15Z"
      }
    },
    {
      "cell_type": "code",
      "source": [
        "# Accessing the list item\n",
        "l1=[1,2,3,4]\n",
        "print(l1[0])\n",
        "#Adding the item\n",
        "l1.append(11)\n",
        "print(l1)\n",
        "#Removing the item\n",
        "l1.remove(2)\n",
        "print(l1)\n"
      ],
      "metadata": {
        "colab": {
          "base_uri": "https://localhost:8080/"
        },
        "id": "xxUb-iCmeE-A",
        "outputId": "2d6fca5c-66b9-45fc-8b41-4be109971379"
      },
      "execution_count": null,
      "outputs": [
        {
          "output_type": "stream",
          "name": "stdout",
          "text": [
            "1\n",
            "[1, 2, 3, 4, 11]\n",
            "[1, 3, 4, 11]\n"
          ]
        }
      ]
    },
    {
      "cell_type": "markdown",
      "source": [
        "##Creation Of list"
      ],
      "metadata": {
        "id": "MxEAjLZegiSe"
      }
    },
    {
      "cell_type": "code",
      "source": [
        "# Creating the list of integer\n",
        "l2=[1,2,3,4]\n",
        "# Creating the list of strings\n",
        "l3=[\"Yami\", \"Gautam\"]\n",
        "# Mixed Datatype\n",
        "l4=[1,2,3,\"Siddharth\", \"Malhotra\"]\n",
        "print(l2)\n",
        "print(l3)\n",
        "print(l4)"
      ],
      "metadata": {
        "colab": {
          "base_uri": "https://localhost:8080/"
        },
        "id": "WXRCKmKsfqYB",
        "outputId": "d59c8eda-7477-4c2d-b6c3-5b501adc1e26"
      },
      "execution_count": null,
      "outputs": [
        {
          "output_type": "stream",
          "name": "stdout",
          "text": [
            "[1, 2, 3, 4]\n",
            "['Yami', 'Gautam']\n",
            "[1, 2, 3, 'Siddharth', 'Malhotra']\n"
          ]
        }
      ]
    },
    {
      "cell_type": "code",
      "source": [
        "#Using the list Construstor\n",
        "l5= list((1,2,3,4,\"Tarak Mehta\"))\n",
        "print(l5)"
      ],
      "metadata": {
        "colab": {
          "base_uri": "https://localhost:8080/"
        },
        "id": "DHCZy1YJglt8",
        "outputId": "15453687-898d-436b-9c8f-40ff7c541df1"
      },
      "execution_count": null,
      "outputs": [
        {
          "output_type": "stream",
          "name": "stdout",
          "text": [
            "[1, 2, 3, 4, 'Tarak Mehta']\n"
          ]
        }
      ]
    },
    {
      "cell_type": "code",
      "source": [
        "#Creating List with Repeated element\n",
        "l6=[1]*10\n",
        "print(l6)\n"
      ],
      "metadata": {
        "colab": {
          "base_uri": "https://localhost:8080/"
        },
        "id": "OM75ducxg6l6",
        "outputId": "5c6a5acf-f91f-4b5d-b5ef-12fe160a1da3"
      },
      "execution_count": null,
      "outputs": [
        {
          "output_type": "stream",
          "name": "stdout",
          "text": [
            "[1, 1, 1, 1, 1, 1, 1, 1, 1, 1]\n"
          ]
        }
      ]
    },
    {
      "cell_type": "markdown",
      "source": [
        "## Accessing List Element"
      ],
      "metadata": {
        "id": "SkEP9s4hsaqQ"
      }
    },
    {
      "cell_type": "code",
      "source": [
        "l1=[10,20,30,40]\n",
        "print(l1[1])\n",
        "print(l1[3])"
      ],
      "metadata": {
        "colab": {
          "base_uri": "https://localhost:8080/"
        },
        "id": "aqN3T-3JshjQ",
        "outputId": "dd877dec-6450-4c0c-f5d4-d28277770d40"
      },
      "execution_count": null,
      "outputs": [
        {
          "output_type": "stream",
          "name": "stdout",
          "text": [
            "20\n",
            "40\n"
          ]
        }
      ]
    },
    {
      "cell_type": "markdown",
      "source": [
        "##Adding Elements into List\n",
        "###We can add elements to a list using the following methods:\n",
        "\n",
        "###append(): Adds an element at the end of the list.\n",
        "###extend(): Adds multiple elements to the end of the list.\n",
        "###insert(): Adds an element at a specific position."
      ],
      "metadata": {
        "id": "fjm6jYOsfQZh"
      }
    },
    {
      "cell_type": "code",
      "source": [
        "l21=[]\n",
        "l21.append(1)\n",
        "l21.append(2)\n",
        "l21.append(3)\n",
        "print(l21)"
      ],
      "metadata": {
        "colab": {
          "base_uri": "https://localhost:8080/"
        },
        "id": "ASZGs1D3s72z",
        "outputId": "df2fa1fe-ada6-4e61-a8ea-6bb8659bbeeb"
      },
      "execution_count": null,
      "outputs": [
        {
          "output_type": "stream",
          "name": "stdout",
          "text": [
            "[1, 2, 3]\n"
          ]
        }
      ]
    },
    {
      "cell_type": "code",
      "source": [
        "l21.insert(1,10)\n",
        "print(l21)"
      ],
      "metadata": {
        "colab": {
          "base_uri": "https://localhost:8080/"
        },
        "id": "LciACkjvtKiA",
        "outputId": "4e590ce5-65f7-43bc-d217-7edafb855ef3"
      },
      "execution_count": null,
      "outputs": [
        {
          "output_type": "stream",
          "name": "stdout",
          "text": [
            "[1, 10, 2, 3]\n"
          ]
        }
      ]
    },
    {
      "cell_type": "code",
      "source": [
        "#adding multiple element\n",
        "l21.extend([4,5,6])\n",
        "print(l21)"
      ],
      "metadata": {
        "colab": {
          "base_uri": "https://localhost:8080/"
        },
        "id": "9M5xhmGMtVHe",
        "outputId": "9cf359a2-3cff-47ac-c08f-67f4d60784cb"
      },
      "execution_count": null,
      "outputs": [
        {
          "output_type": "stream",
          "name": "stdout",
          "text": [
            "[1, 10, 2, 3, 4, 5, 6]\n"
          ]
        }
      ]
    },
    {
      "cell_type": "code",
      "source": [
        "## Updating Element into list\n",
        "print(l21)\n",
        "l21[0]=100\n",
        "print(l21)"
      ],
      "metadata": {
        "colab": {
          "base_uri": "https://localhost:8080/"
        },
        "id": "48GjajLCtlbz",
        "outputId": "9f39f1b3-9483-4df2-d313-830f567b43dd"
      },
      "execution_count": null,
      "outputs": [
        {
          "output_type": "stream",
          "name": "stdout",
          "text": [
            "[1, 10, 2, 3, 4, 5, 6]\n",
            "[100, 10, 2, 3, 4, 5, 6]\n"
          ]
        }
      ]
    },
    {
      "cell_type": "markdown",
      "source": [
        "## Removing Element from list\n",
        "###remove(): Removes the first occurrence of an element.\n",
        "###pop(): Removes the element at a specific index or the last element if no index is specified.\n",
        "###del statement: Deletes an element at a specified index."
      ],
      "metadata": {
        "id": "cYfpd7q770R4"
      }
    },
    {
      "cell_type": "code",
      "source": [
        "l22=[10,20,30,40,30]\n",
        "l22.remove(30)\n",
        "print(l22)"
      ],
      "metadata": {
        "id": "kIaCGWRJt5r2",
        "colab": {
          "base_uri": "https://localhost:8080/"
        },
        "outputId": "f58ea203-c63f-4c41-abf9-887be3f9a067"
      },
      "execution_count": null,
      "outputs": [
        {
          "output_type": "stream",
          "name": "stdout",
          "text": [
            "[10, 20, 40, 30]\n"
          ]
        }
      ]
    },
    {
      "cell_type": "code",
      "source": [
        "l22.pop(1)\n",
        "print(l22)"
      ],
      "metadata": {
        "colab": {
          "base_uri": "https://localhost:8080/"
        },
        "id": "mB9J1-SD8X-i",
        "outputId": "85370f12-86dc-46d3-f901-9e3e4144dcb7"
      },
      "execution_count": null,
      "outputs": [
        {
          "output_type": "stream",
          "name": "stdout",
          "text": [
            "[10, 40, 30]\n"
          ]
        }
      ]
    },
    {
      "cell_type": "code",
      "source": [
        "# If index is not mentioned\n",
        "l22.pop()\n",
        "print(l22)"
      ],
      "metadata": {
        "colab": {
          "base_uri": "https://localhost:8080/"
        },
        "id": "MPtbdBL88nhf",
        "outputId": "c8dd01ab-a2e9-46aa-b1c6-95315d4d5383"
      },
      "execution_count": null,
      "outputs": [
        {
          "output_type": "stream",
          "name": "stdout",
          "text": [
            "[10, 40]\n"
          ]
        }
      ]
    },
    {
      "cell_type": "code",
      "source": [
        "#Iterating Over list\n",
        "l23=[10,20,30,40]\n",
        "for i in l23:\n",
        "  print(i)"
      ],
      "metadata": {
        "colab": {
          "base_uri": "https://localhost:8080/"
        },
        "id": "EeqxaE2r8hut",
        "outputId": "4374d92d-26f3-4505-cb9b-5ba065c9d0c4"
      },
      "execution_count": null,
      "outputs": [
        {
          "output_type": "stream",
          "name": "stdout",
          "text": [
            "10\n",
            "20\n",
            "30\n",
            "40\n"
          ]
        }
      ]
    },
    {
      "cell_type": "code",
      "source": [
        "l24=[\"anish\", \"rajveer\", \"Mridul\", \"prisha\"]\n",
        "for i in l24:\n",
        "  print(i)"
      ],
      "metadata": {
        "colab": {
          "base_uri": "https://localhost:8080/"
        },
        "id": "Y0ZsGjWh-dAT",
        "outputId": "8f891c10-6f6b-4ade-e845-1e7228f02186"
      },
      "execution_count": null,
      "outputs": [
        {
          "output_type": "stream",
          "name": "stdout",
          "text": [
            "anish\n",
            "rajveer\n",
            "Mridul\n",
            "prisha\n"
          ]
        }
      ]
    },
    {
      "cell_type": "code",
      "source": [
        "matrix=[[1,2,3],\n",
        "        [4,5,6],\n",
        "        [7,8,9]]\n",
        "print(matrix[0][1])\n",
        "for i in matrix:\n",
        "  print(i)"
      ],
      "metadata": {
        "colab": {
          "base_uri": "https://localhost:8080/"
        },
        "id": "vWogT_fX-pbN",
        "outputId": "7cef0607-e272-4d99-f2fc-c63844476510"
      },
      "execution_count": null,
      "outputs": [
        {
          "output_type": "stream",
          "name": "stdout",
          "text": [
            "2\n",
            "[1, 2, 3]\n",
            "[4, 5, 6]\n",
            "[7, 8, 9]\n"
          ]
        }
      ]
    },
    {
      "cell_type": "code",
      "source": [
        "for i in matrix:\n",
        "  for j in i:\n",
        "    print(j)"
      ],
      "metadata": {
        "colab": {
          "base_uri": "https://localhost:8080/"
        },
        "id": "qFI3IxjwgUfM",
        "outputId": "61345c10-d634-4d80-95af-7c46c7b28122"
      },
      "execution_count": null,
      "outputs": [
        {
          "output_type": "stream",
          "name": "stdout",
          "text": [
            "1\n",
            "2\n",
            "3\n",
            "4\n",
            "5\n",
            "6\n",
            "7\n",
            "8\n",
            "9\n"
          ]
        }
      ]
    },
    {
      "cell_type": "code",
      "source": [
        "#Finding length of the list\n",
        "l25=[1,2,8,4,5,6]\n",
        "len(l25)"
      ],
      "metadata": {
        "colab": {
          "base_uri": "https://localhost:8080/"
        },
        "id": "0DtGoBSS_In9",
        "outputId": "71de19a5-9243-42d1-9c92-73bc823e9446"
      },
      "execution_count": null,
      "outputs": [
        {
          "output_type": "execute_result",
          "data": {
            "text/plain": [
              "6"
            ]
          },
          "metadata": {},
          "execution_count": 25
        }
      ]
    },
    {
      "cell_type": "code",
      "source": [
        "count=0\n",
        "for i in l25:\n",
        "  count+=1\n",
        "print(count)"
      ],
      "metadata": {
        "colab": {
          "base_uri": "https://localhost:8080/"
        },
        "id": "9OkpGPx9_XOd",
        "outputId": "01b43aba-b501-45b6-90e0-500959903d9a"
      },
      "execution_count": null,
      "outputs": [
        {
          "output_type": "stream",
          "name": "stdout",
          "text": [
            "6\n"
          ]
        }
      ]
    },
    {
      "cell_type": "code",
      "source": [
        "# maximum in a list\n",
        "print(max(l25))\n"
      ],
      "metadata": {
        "colab": {
          "base_uri": "https://localhost:8080/"
        },
        "id": "CzKMDfXx_5bu",
        "outputId": "d2bb29a4-f783-415a-e05f-0d0705e68843"
      },
      "execution_count": null,
      "outputs": [
        {
          "output_type": "stream",
          "name": "stdout",
          "text": [
            "8\n"
          ]
        }
      ]
    },
    {
      "cell_type": "code",
      "source": [
        "# Using loop\n",
        "l26=[2,3,8,4,5]\n",
        "value=l26[0]\n",
        "for i in l26:\n",
        "  if value<i:\n",
        "    value=i\n",
        "print(value)\n"
      ],
      "metadata": {
        "colab": {
          "base_uri": "https://localhost:8080/"
        },
        "id": "usNECBzEAodi",
        "outputId": "7225fe4f-e42f-4aa0-e637-6db307d42ae8"
      },
      "execution_count": null,
      "outputs": [
        {
          "output_type": "stream",
          "name": "stdout",
          "text": [
            "8\n"
          ]
        }
      ]
    },
    {
      "cell_type": "markdown",
      "source": [
        "##Tuple\n",
        "###Just like a list, a tuple is also an ordered collection of Python objects. The only difference between a tuple and a list is that tuples are immutable. Tuples cannot be modified after it is created."
      ],
      "metadata": {
        "id": "52n0lA_FDht6"
      }
    },
    {
      "cell_type": "code",
      "source": [
        "# Creating an empty Tuple\n",
        "tup = ()\n",
        "print(tup)\n",
        "\n",
        "# Using String\n",
        "tup = ('Risabh', 'Siddhi','Priya')\n",
        "print(tup)\n",
        "\n",
        "# Using List\n",
        "li = [1, 2, 4, 5, 6]\n",
        "print(tuple(li))\n",
        "\n",
        "# Using Built-in Function\n",
        "tup = tuple('Satwik')\n",
        "print(tup)"
      ],
      "metadata": {
        "colab": {
          "base_uri": "https://localhost:8080/"
        },
        "id": "r5zEK8sv7uos",
        "outputId": "6c10cc0a-66f6-40e5-8a5e-2c35a0d49799"
      },
      "execution_count": null,
      "outputs": [
        {
          "output_type": "stream",
          "name": "stdout",
          "text": [
            "()\n",
            "('Risabh', 'Siddhi', 'Priya')\n",
            "(1, 2, 4, 5, 6)\n",
            "('S', 'a', 't', 'w', 'i', 'k')\n"
          ]
        }
      ]
    },
    {
      "cell_type": "code",
      "source": [
        "#Creating a tuple with mixed datatype\n",
        "tup1=(1,2,\"Manthan\",\"Ansh\")\n",
        "print(tup1)\n",
        "#Creating a tuple with nested tuples\n",
        "tup2=(tup1,tup)\n",
        "print(tup2)"
      ],
      "metadata": {
        "colab": {
          "base_uri": "https://localhost:8080/"
        },
        "id": "PdpdONPU9mKx",
        "outputId": "c7b5448e-9814-4871-94a1-434850169f4f"
      },
      "execution_count": null,
      "outputs": [
        {
          "output_type": "stream",
          "name": "stdout",
          "text": [
            "(1, 2, 'Manthan', 'Ansh')\n",
            "((1, 2, 'Manthan', 'Ansh'), ('S', 'a', 't', 'w', 'i', 'k'))\n"
          ]
        }
      ]
    },
    {
      "cell_type": "code",
      "source": [
        "tup3=(\"Alam\",)\n",
        "print(type(tup3))"
      ],
      "metadata": {
        "colab": {
          "base_uri": "https://localhost:8080/"
        },
        "id": "IvRJDztm-ls8",
        "outputId": "776af3a4-6f24-44f8-b036-32791d65fbd8"
      },
      "execution_count": null,
      "outputs": [
        {
          "output_type": "stream",
          "name": "stdout",
          "text": [
            "<class 'tuple'>\n"
          ]
        }
      ]
    },
    {
      "cell_type": "markdown",
      "source": [
        "##Python Tuple Operation\n",
        "###Accessing of Python Tuples\n",
        "###Concatenation of Tuples\n",
        "###Slicing of Tuple\n",
        "###Deleting a Tuple"
      ],
      "metadata": {
        "id": "Ic1ridT8_IRy"
      }
    },
    {
      "cell_type": "code",
      "source": [
        "tup21=tuple(\"Amitabh\")\n",
        "print(tup21[0])\n",
        "print(tup21[1:4])"
      ],
      "metadata": {
        "colab": {
          "base_uri": "https://localhost:8080/"
        },
        "id": "Qi-00ejno3-9",
        "outputId": "802456f1-d0fa-40c4-9613-b7fef333e1ff"
      },
      "execution_count": null,
      "outputs": [
        {
          "output_type": "stream",
          "name": "stdout",
          "text": [
            "A\n",
            "('m', 'i', 't')\n"
          ]
        }
      ]
    },
    {
      "cell_type": "code",
      "source": [
        "#tuple unpacking\n",
        "a,b,c=(1,2,3)\n",
        "print(a)\n",
        "print(b)\n",
        "print(c)"
      ],
      "metadata": {
        "colab": {
          "base_uri": "https://localhost:8080/"
        },
        "id": "3Upi51lOpPEe",
        "outputId": "5fdf0bd4-718a-4833-a05b-e2d86a54c2e3"
      },
      "execution_count": null,
      "outputs": [
        {
          "output_type": "stream",
          "name": "stdout",
          "text": [
            "1\n",
            "2\n",
            "3\n"
          ]
        }
      ]
    },
    {
      "cell_type": "code",
      "source": [
        "tup22=(1,2,3)\n",
        "tup23=(\"Amitabh\", \"Bachan\")\n",
        "tup24=tup22+tup23\n",
        "print(tup24)"
      ],
      "metadata": {
        "id": "CVw9qZttpgTs",
        "colab": {
          "base_uri": "https://localhost:8080/"
        },
        "outputId": "91e28daf-014a-4360-c9a9-090794b67fee"
      },
      "execution_count": null,
      "outputs": [
        {
          "output_type": "stream",
          "name": "stdout",
          "text": [
            "(1, 2, 3, 'Amitabh', 'Bachan')\n"
          ]
        }
      ]
    },
    {
      "cell_type": "code",
      "source": [
        "#Slicing of tuple\n",
        "tup25=(1,2,3,4,5,6,7,8,9)\n",
        "print(tup25[1:5])\n",
        "tup26=(\"Sudhanshu\", \"Chauhan\")\n",
        "print(tup26[:])\n",
        "print(tup26[::-1])\n"
      ],
      "metadata": {
        "colab": {
          "base_uri": "https://localhost:8080/"
        },
        "id": "-CtMl6PGqElZ",
        "outputId": "d4102153-6326-42cd-a7ec-f8fa2974b066"
      },
      "execution_count": null,
      "outputs": [
        {
          "output_type": "stream",
          "name": "stdout",
          "text": [
            "(2, 3, 4, 5)\n",
            "('Sudhanshu', 'Chauhan')\n",
            "('Chauhan', 'Sudhanshu')\n"
          ]
        }
      ]
    },
    {
      "cell_type": "markdown",
      "source": [
        "###Deleting a Tuple\n",
        "###Since tuples are immutable, we cannot delete individual elements of a tuple. However, we can delete an entire tuple using del statement."
      ],
      "metadata": {
        "id": "Op6idAuJq1Q5"
      }
    },
    {
      "cell_type": "code",
      "source": [
        "tup27=(\"1\",2,3)\n",
        "print(tup27)\n",
        "del tup27\n",
        "print(tup27)"
      ],
      "metadata": {
        "colab": {
          "base_uri": "https://localhost:8080/",
          "height": 198
        },
        "id": "CtD8_oTBrA6H",
        "outputId": "2b920a98-ae40-4d2f-c8ea-1bcafec94c3b"
      },
      "execution_count": null,
      "outputs": [
        {
          "output_type": "stream",
          "name": "stdout",
          "text": [
            "('1', 2, 3)\n"
          ]
        },
        {
          "output_type": "error",
          "ename": "NameError",
          "evalue": "name 'tup27' is not defined",
          "traceback": [
            "\u001b[0;31m---------------------------------------------------------------------------\u001b[0m",
            "\u001b[0;31mNameError\u001b[0m                                 Traceback (most recent call last)",
            "\u001b[0;32m<ipython-input-19-0bd5e383c900>\u001b[0m in \u001b[0;36m<cell line: 0>\u001b[0;34m()\u001b[0m\n\u001b[1;32m      2\u001b[0m \u001b[0mprint\u001b[0m\u001b[0;34m(\u001b[0m\u001b[0mtup27\u001b[0m\u001b[0;34m)\u001b[0m\u001b[0;34m\u001b[0m\u001b[0;34m\u001b[0m\u001b[0m\n\u001b[1;32m      3\u001b[0m \u001b[0;32mdel\u001b[0m \u001b[0mtup27\u001b[0m\u001b[0;34m\u001b[0m\u001b[0;34m\u001b[0m\u001b[0m\n\u001b[0;32m----> 4\u001b[0;31m \u001b[0mprint\u001b[0m\u001b[0;34m(\u001b[0m\u001b[0mtup27\u001b[0m\u001b[0;34m)\u001b[0m\u001b[0;34m\u001b[0m\u001b[0;34m\u001b[0m\u001b[0m\n\u001b[0m",
            "\u001b[0;31mNameError\u001b[0m: name 'tup27' is not defined"
          ]
        }
      ]
    },
    {
      "cell_type": "markdown",
      "source": [
        "##Tuple Built-In Methods\n",
        "###Tuples support only a few methods due to their immutable nature. The two most commonly used methods are count() and index()"
      ],
      "metadata": {
        "id": "y_UzXicnrVA7"
      }
    },
    {
      "cell_type": "code",
      "source": [
        "# index\n",
        "tup28=(1,2,3,4,5,6,7,8,9)\n",
        "print(tup28.index(3))"
      ],
      "metadata": {
        "colab": {
          "base_uri": "https://localhost:8080/"
        },
        "id": "-Wsfph-orhUn",
        "outputId": "7a3403a2-8301-4a65-bafa-5f6d3e54db7b"
      },
      "execution_count": null,
      "outputs": [
        {
          "output_type": "stream",
          "name": "stdout",
          "text": [
            "2\n"
          ]
        }
      ]
    },
    {
      "cell_type": "code",
      "source": [
        "#count\n",
        "tup28=(1,2,3,4,5,6,2,2)\n",
        "print(tup28.count(2))"
      ],
      "metadata": {
        "colab": {
          "base_uri": "https://localhost:8080/"
        },
        "id": "SUYd2GhzrvhH",
        "outputId": "bd5ccba2-4b84-43c2-a75e-3e6c36705fe0"
      },
      "execution_count": null,
      "outputs": [
        {
          "output_type": "stream",
          "name": "stdout",
          "text": [
            "3\n"
          ]
        }
      ]
    },
    {
      "cell_type": "code",
      "source": [
        "#Tuple Built in function\n",
        "#all() - Returns true if all element are true or if tuple is empty\n",
        "\n",
        "print(all(tup26))\n",
        "#return true if any element of the tuple is true. if tuple is empty, return false\n",
        "tup29=()\n",
        "print(any(tup29))\n",
        "#len()-Returns length of the tuple or size of the tuple\n",
        "print(len(tup26))\n",
        "#enumerate()-Returns enumerate object of tuple\n",
        "print(list(enumerate(tup26)))\n",
        "#max()-\treturn maximum element of given tuple\n",
        "print(max(tup26))\n",
        "#min()-return minimum element of given tuple\n",
        "print(min(tup26))\n",
        "#sum()-return sum of the elements of the tuple\n",
        "print(sum(tup28))\n",
        "#sorted()-input elements in the tuple and return a new sorted list\n",
        "print(sorted(tup28))"
      ],
      "metadata": {
        "colab": {
          "base_uri": "https://localhost:8080/"
        },
        "id": "UlInD30YvgNZ",
        "outputId": "41c4f3b8-a8b4-4c95-9ded-074232f09fdc"
      },
      "execution_count": null,
      "outputs": [
        {
          "output_type": "stream",
          "name": "stdout",
          "text": [
            "True\n",
            "False\n",
            "2\n",
            "[(0, 'Sudhanshu'), (1, 'Chauhan')]\n",
            "Sudhanshu\n",
            "Chauhan\n",
            "25\n",
            "[1, 2, 2, 2, 3, 4, 5, 6]\n"
          ]
        }
      ]
    },
    {
      "cell_type": "markdown",
      "source": [
        "![List vs tuple difference.JPG](data:image/jpeg;base64,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)"
      ],
      "metadata": {
        "id": "tGvXRqAQr9-n"
      }
    },
    {
      "cell_type": "markdown",
      "source": [
        "##Dictionary\n",
        "###A Python dictionary is a data structure that stores the value in key: value pairs. Values in a dictionary can be of any data type and can be duplicated, whereas keys can’t be repeated and must be immutable."
      ],
      "metadata": {
        "id": "FbwOP1pL3xeU"
      }
    },
    {
      "cell_type": "code",
      "source": [
        "d1={1:\"Sudhanshu\", 2:\"Chouhan\",3:\"Ji\"}\n",
        "print(d1)"
      ],
      "metadata": {
        "colab": {
          "base_uri": "https://localhost:8080/"
        },
        "id": "NhpL8qiV4Cgk",
        "outputId": "3f480a67-362b-442d-9b4f-74d6c489eb81"
      },
      "execution_count": null,
      "outputs": [
        {
          "output_type": "stream",
          "name": "stdout",
          "text": [
            "{1: 'Sudhanshu', 2: 'Chouhan', 3: 'Ji'}\n"
          ]
        }
      ]
    },
    {
      "cell_type": "code",
      "source": [
        "#Using dict constructor\n",
        "d2=dict(a=\"Sudhanshu\",b=\"Chouhan\")\n",
        "print(d2)\n",
        "# iske values me numneric values nahi daal sakte h"
      ],
      "metadata": {
        "colab": {
          "base_uri": "https://localhost:8080/"
        },
        "id": "yVkUBHZh4SMV",
        "outputId": "c07ebb55-cf9a-4a23-8f1b-bfd78d40b68e"
      },
      "execution_count": null,
      "outputs": [
        {
          "output_type": "stream",
          "name": "stdout",
          "text": [
            "{'a': 'Sudhanshu', 'b': 'Chouhan'}\n"
          ]
        }
      ]
    },
    {
      "cell_type": "markdown",
      "source": [
        "![dictionay info.JPG](data:image/jpeg;base64,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)"
      ],
      "metadata": {
        "id": "RtKqGJWF5sn0"
      }
    },
    {
      "cell_type": "code",
      "source": [
        "#Accessing Dictionary item\n",
        "d1={\"Sudhanshu\":\"Chouhan\", 1: \"sanyog\",(1,2):[1,2,3]}\n",
        "print(d1)\n",
        "print(type(d1))\n",
        "print(d1[\"Sudhanshu\"])\n",
        "print(d1[1])\n",
        "print(d1[(1,2)])"
      ],
      "metadata": {
        "colab": {
          "base_uri": "https://localhost:8080/"
        },
        "id": "kbU0Goh968lr",
        "outputId": "12141daf-68f0-4db2-fb11-124dcac31f37"
      },
      "execution_count": null,
      "outputs": [
        {
          "output_type": "stream",
          "name": "stdout",
          "text": [
            "{'Sudhanshu': 'Chouhan', 1: 'sanyog', (1, 2): [1, 2, 3]}\n",
            "<class 'dict'>\n",
            "Chouhan\n",
            "sanyog\n",
            "[1, 2, 3]\n"
          ]
        }
      ]
    },
    {
      "cell_type": "code",
      "source": [
        "#Adding and Updating Dictionary Items\n",
        "d2={1:\"Jaipur\",2:\"Bhopal\",3:\"Kashmir\"}\n",
        "print(d2)\n",
        "d2[4]=\"Mumbai\"\n",
        "print(d2)\n",
        "d2[1]=\"Luknow\"\n",
        "print(d2)"
      ],
      "metadata": {
        "colab": {
          "base_uri": "https://localhost:8080/"
        },
        "id": "HYFsJn7s79Su",
        "outputId": "67620899-9475-4678-b497-90c86042c33b"
      },
      "execution_count": null,
      "outputs": [
        {
          "output_type": "stream",
          "name": "stdout",
          "text": [
            "{1: 'Jaipur', 2: 'Bhopal', 3: 'Kashmir'}\n",
            "{1: 'Jaipur', 2: 'Bhopal', 3: 'Kashmir', 4: 'Mumbai'}\n",
            "{1: 'Luknow', 2: 'Bhopal', 3: 'Kashmir', 4: 'Mumbai'}\n"
          ]
        }
      ]
    },
    {
      "cell_type": "markdown",
      "source": [
        "##Removing Dictionary Items\n",
        "###We can remove items from dictionary using the following methods:\n",
        "\n",
        "###del: Removes an item by key.\n",
        "###pop(): Removes an item by key and returns its value.\n",
        "###clear(): Empties the dictionary.\n",
        "###popitem(): Removes and returns the last key-value pair."
      ],
      "metadata": {
        "id": "e6IeLk3y8tpr"
      }
    },
    {
      "cell_type": "code",
      "source": [
        "#Using del to remove\n",
        "del d2[4]\n",
        "print(d2)\n",
        "\n",
        "# USing pop() to remove an item and return the value\n",
        "print(d2.pop(3))\n",
        "\n",
        "#Clear all items from the dicytionary\n",
        "d2.clear()\n",
        "print(d2)\n"
      ],
      "metadata": {
        "colab": {
          "base_uri": "https://localhost:8080/"
        },
        "id": "aDb9zl048_bJ",
        "outputId": "804505af-dacb-43e5-d78e-6234dff3d551"
      },
      "execution_count": null,
      "outputs": [
        {
          "output_type": "stream",
          "name": "stdout",
          "text": [
            "{1: 'Luknow', 2: 'Bhopal', 3: 'Kashmir'}\n",
            "Kashmir\n",
            "{}\n"
          ]
        }
      ]
    },
    {
      "cell_type": "markdown",
      "source": [
        "##Iterating Through a Dictionary\n",
        "###We can iterate over keys [using keys() method] , values [using values() method] or both [using item() method] with a for loop."
      ],
      "metadata": {
        "id": "YVEcsc0r_Qf5"
      }
    },
    {
      "cell_type": "code",
      "source": [
        "d3={1:\"Manthan\",2:\"Rajveer\",3:\"Anshu\",4:\"Arya\"}\n",
        "for key in d3:\n",
        "  print(key)\n",
        "\n"
      ],
      "metadata": {
        "colab": {
          "base_uri": "https://localhost:8080/"
        },
        "id": "xo3CMRy0_iwY",
        "outputId": "f47b3c62-b59b-4c12-ac08-c043b37cf124"
      },
      "execution_count": null,
      "outputs": [
        {
          "output_type": "stream",
          "name": "stdout",
          "text": [
            "1\n",
            "2\n",
            "3\n",
            "4\n"
          ]
        }
      ]
    },
    {
      "cell_type": "code",
      "source": [
        "#Iterate over values\n",
        "for value in d3.values():\n",
        "  print(value)"
      ],
      "metadata": {
        "colab": {
          "base_uri": "https://localhost:8080/"
        },
        "id": "EanMUqU8__xu",
        "outputId": "73d95891-7202-499a-a278-94bc7e55c232"
      },
      "execution_count": null,
      "outputs": [
        {
          "output_type": "stream",
          "name": "stdout",
          "text": [
            "Manthan\n",
            "Rajveer\n",
            "Anshu\n",
            "Arya\n"
          ]
        }
      ]
    },
    {
      "cell_type": "code",
      "source": [
        "# Iterate over key value pair\n",
        "for key, value in d3.items():\n",
        "  print(key,value)"
      ],
      "metadata": {
        "colab": {
          "base_uri": "https://localhost:8080/"
        },
        "id": "q04lWJqWAGXN",
        "outputId": "9aa85012-5c75-4a2b-e1f7-addd8df7a8a5"
      },
      "execution_count": null,
      "outputs": [
        {
          "output_type": "stream",
          "name": "stdout",
          "text": [
            "1 Manthan\n",
            "2 Rajveer\n",
            "3 Anshu\n",
            "4 Arya\n"
          ]
        }
      ]
    },
    {
      "cell_type": "markdown",
      "source": [
        "##Nested Dictionary"
      ],
      "metadata": {
        "id": "haeFDw9VAfJI"
      }
    },
    {
      "cell_type": "code",
      "source": [
        "d4={1:\"Lakshya\",2:\"kaushal\",3:{1:\"Aryan sharma\",2:\"Aryan jain\"}}\n",
        "print(d4)"
      ],
      "metadata": {
        "colab": {
          "base_uri": "https://localhost:8080/"
        },
        "id": "4kStPvERA0t7",
        "outputId": "b183de37-2e10-4f87-8b26-e5fc79f71f6a"
      },
      "execution_count": null,
      "outputs": [
        {
          "output_type": "stream",
          "name": "stdout",
          "text": [
            "{1: 'Lakshya', 2: 'kaushal', 3: {1: 'Aryan sharma', 2: 'Aryan jain'}}\n"
          ]
        }
      ]
    },
    {
      "cell_type": "markdown",
      "source": [
        "# SET\n",
        "###Python set is an unordered collection of multiple items having different datatypes. In Python, sets are mutable, unindexed and do not contain duplicates. The order of elements in a set is not preserved and can change."
      ],
      "metadata": {
        "id": "sc4ja6xhBncS"
      }
    },
    {
      "cell_type": "code",
      "source": [
        "# Creation of Set\n",
        "set1={1,2,3,4,5}\n",
        "print(set1)"
      ],
      "metadata": {
        "colab": {
          "base_uri": "https://localhost:8080/"
        },
        "id": "IW9LuEigDEsC",
        "outputId": "9f7b1b69-2051-464b-bc1a-c276bdee1124"
      },
      "execution_count": null,
      "outputs": [
        {
          "output_type": "stream",
          "name": "stdout",
          "text": [
            "{1, 2, 3, 4, 5}\n"
          ]
        }
      ]
    },
    {
      "cell_type": "markdown",
      "source": [
        "##Advantages of Set in Python\n",
        "Unique Elements: Sets can only contain unique elements, so they can be useful for removing duplicates from a collection of data.\n",
        "Fast Membership Testing: Sets are optimized for fast membership testing, so they can be useful for determining whether a value is in a collection or not.\n",
        "\n",
        "Mathematical Set Operations: Sets support mathematical set operations like union, intersection and difference, which can be useful for working with sets of data.\n",
        "\n",
        "Mutable: Sets are mutable, which means that you can add or remove elements from a set after it has been created.\n",
        "\n",
        "##Disadvantages of Sets in Python\n",
        "Unordered: Sets are unordered, which means that you cannot rely on the order of the data in the set. This can make it difficult to access or process data in a specific order.\n",
        "\n",
        "Limited Functionality: Sets have limited functionality compared to lists, as they do not support methods like append() or pop(). This can make it more difficult to modify or manipulate data stored in a set.\n",
        "\n",
        "Memory Usage: Sets can consume more memory than lists, especially for small datasets. This is because each element in a set requires additional memory to store a hash value.\n",
        "\n",
        "Less Commonly Used: Sets are less commonly used than lists and dictionaries in Python, which means that there may be fewer resources or libraries available for working with them. This can make it more difficult to find solutions to problems or to get help with debugging."
      ],
      "metadata": {
        "id": "C50VIxQhD5-S"
      }
    },
    {
      "cell_type": "code",
      "source": [
        "#Function\n",
        "def is_even(num):\n",
        "  \"\"\"\n",
        "  This function returns if a given number is odd or even\n",
        "  Input - any valid integer\n",
        "  Output - odd/even\n",
        "  \"\"\"\n",
        "  if type(num)==int:\n",
        "   if num%2==0:\n",
        "      return \"even\"\n",
        "   else:\n",
        "      return\"odd\"\n",
        "  else:\n",
        "    return \"pagal h kya\""
      ],
      "metadata": {
        "id": "n1Mvg4JE0FQY"
      },
      "execution_count": null,
      "outputs": []
    },
    {
      "cell_type": "code",
      "source": [
        "#Function\n",
        "for i in range(1,11):\n",
        "  x=is_even(i)\n",
        "  print(x)\n"
      ],
      "metadata": {
        "colab": {
          "base_uri": "https://localhost:8080/"
        },
        "id": "diONod_L07ar",
        "outputId": "9aa336e2-cfa6-463c-d8ac-f5ff79a2f7ab"
      },
      "execution_count": null,
      "outputs": [
        {
          "output_type": "stream",
          "name": "stdout",
          "text": [
            "odd\n",
            "even\n",
            "odd\n",
            "even\n",
            "odd\n",
            "even\n",
            "odd\n",
            "even\n",
            "odd\n",
            "even\n"
          ]
        }
      ]
    },
    {
      "cell_type": "markdown",
      "source": [
        "2 Point Of Views"
      ],
      "metadata": {
        "id": "kdoK_YCM1cCJ"
      }
    },
    {
      "cell_type": "code",
      "source": [
        "is_even(\"Hello\")"
      ],
      "metadata": {
        "colab": {
          "base_uri": "https://localhost:8080/",
          "height": 36
        },
        "id": "zLw3r7DD1hgF",
        "outputId": "5c12b95e-3798-4af0-d810-6428c7867eba"
      },
      "execution_count": null,
      "outputs": [
        {
          "output_type": "execute_result",
          "data": {
            "text/plain": [
              "'pagal h kya'"
            ],
            "application/vnd.google.colaboratory.intrinsic+json": {
              "type": "string"
            }
          },
          "metadata": {},
          "execution_count": 9
        }
      ]
    },
    {
      "cell_type": "markdown",
      "source": [
        "#Types Of Arguments\n",
        "\n",
        "\n",
        "*   Default Argument\n",
        "*   Positional Argument\n",
        "*   Keyword Argument\n",
        "\n",
        "\n",
        "\n"
      ],
      "metadata": {
        "id": "Z1XzsBNL24eJ"
      }
    },
    {
      "cell_type": "code",
      "source": [
        "def power(a=1,b=2):\n",
        "  return a**b\n"
      ],
      "metadata": {
        "id": "nBdjWeoY4OeZ"
      },
      "execution_count": null,
      "outputs": []
    },
    {
      "cell_type": "code",
      "source": [
        "power(2)"
      ],
      "metadata": {
        "colab": {
          "base_uri": "https://localhost:8080/"
        },
        "id": "ASNqHCCU4WRM",
        "outputId": "94293c22-8ec1-4868-b086-2b2058d016a5"
      },
      "execution_count": null,
      "outputs": [
        {
          "output_type": "execute_result",
          "data": {
            "text/plain": [
              "4"
            ]
          },
          "metadata": {},
          "execution_count": 3
        }
      ]
    },
    {
      "cell_type": "code",
      "source": [
        "power()"
      ],
      "metadata": {
        "colab": {
          "base_uri": "https://localhost:8080/"
        },
        "id": "vsYMrILg4dUf",
        "outputId": "acc71a45-8a5e-4dc5-e3a0-bd177cf62161"
      },
      "execution_count": null,
      "outputs": [
        {
          "output_type": "execute_result",
          "data": {
            "text/plain": [
              "1"
            ]
          },
          "metadata": {},
          "execution_count": 4
        }
      ]
    },
    {
      "cell_type": "code",
      "source": [
        "power(2,2)"
      ],
      "metadata": {
        "colab": {
          "base_uri": "https://localhost:8080/"
        },
        "id": "8EzUKUVB4fa-",
        "outputId": "c594dbaa-d7f5-4421-d4c7-fd41310809c6"
      },
      "execution_count": null,
      "outputs": [
        {
          "output_type": "execute_result",
          "data": {
            "text/plain": [
              "4"
            ]
          },
          "metadata": {},
          "execution_count": 5
        }
      ]
    },
    {
      "cell_type": "markdown",
      "source": [
        "Positional Argument"
      ],
      "metadata": {
        "id": "N6e9GEjM4haT"
      }
    },
    {
      "cell_type": "code",
      "source": [
        "power(2,3)"
      ],
      "metadata": {
        "colab": {
          "base_uri": "https://localhost:8080/"
        },
        "id": "lVzqmcUB8b1p",
        "outputId": "cb8ffd96-91d9-483f-a2be-b7a8bfa43b61"
      },
      "execution_count": null,
      "outputs": [
        {
          "output_type": "execute_result",
          "data": {
            "text/plain": [
              "8"
            ]
          },
          "metadata": {},
          "execution_count": 6
        }
      ]
    },
    {
      "cell_type": "markdown",
      "source": [
        "Keyword argument"
      ],
      "metadata": {
        "id": "V_3d6RUQ2oz_"
      }
    },
    {
      "cell_type": "code",
      "source": [
        "power(b=3,a=2)"
      ],
      "metadata": {
        "colab": {
          "base_uri": "https://localhost:8080/"
        },
        "id": "ZYFi-KfU2jpW",
        "outputId": "f9622e3d-e2eb-4ad0-cfff-365376da89df"
      },
      "execution_count": null,
      "outputs": [
        {
          "output_type": "execute_result",
          "data": {
            "text/plain": [
              "8"
            ]
          },
          "metadata": {},
          "execution_count": 7
        }
      ]
    },
    {
      "cell_type": "code",
      "source": [
        "import numpy as np\n",
        "import matplotlib.pyplot as plt\n",
        "\n",
        "X = np.array([1, 2, 3, 4, 5, 6, 7, 8, 9, 10]).reshape(-1, 1)  # Independent variable\n",
        "Y = np.array([2, 4, 5, 4, 6, 7, 8, 9, 10, 11])  # Dependent variable\n",
        "\n",
        "# Create the scatter plot\n",
        "plt.scatter(X, Y)\n",
        "\n",
        "# Add labels and title\n",
        "plt.xlabel(\"X\")\n",
        "plt.ylabel(\"Y\")\n",
        "plt.title(\"Scatter Plot of X vs Y\")\n",
        "\n",
        "# Display the plot\n",
        "plt.show()"
      ],
      "metadata": {
        "colab": {
          "base_uri": "https://localhost:8080/",
          "height": 472
        },
        "id": "BnxHwNHxDTOg",
        "outputId": "0cb30316-cf1f-4bd9-c522-418e7fab720e"
      },
      "execution_count": null,
      "outputs": [
        {
          "output_type": "display_data",
          "data": {
            "text/plain": [
              "<Figure size 640x480 with 1 Axes>"
            ],
            "image/png": "[encoded data removed]"
          },
          "metadata": {}
        }
      ]
    },
    {
      "cell_type": "code",
      "source": [
        "import numpy as np\n",
        "import pandas as pd\n",
        "from sklearn.linear_model import LinearRegression\n",
        "from sklearn.metrics import r2_score\n",
        "import statsmodels.api as sm\n",
        "\n",
        "X = np.array([1, 2, 3, 4, 5, 6, 7, 8, 9, 10]).reshape(-1, 1)\n",
        "Y = np.array([2, 4, 5, 4, 6, 7, 8, 9, 10, 11])\n",
        "\n",
        "# Fit the linear regression model using scikit-learn\n",
        "reg = LinearRegression().fit(X, Y)\n",
        "\n",
        "# Get the intercept and slope\n",
        "intercept = reg.intercept_\n",
        "slope = reg.coef_[0]\n",
        "\n",
        "# Predict the values\n",
        "Y_pred = reg.predict(X)\n",
        "\n",
        "# Calculate R-squared using scikit-learn\n",
        "r2 = r2_score(Y, Y_pred)\n",
        "\n",
        "# Calculate adjusted R-squared using statsmodels\n",
        "X2 = sm.add_constant(X)  # Add a constant for the intercept\n",
        "est = sm.OLS(Y, X2)\n",
        "est2 = est.fit()\n",
        "adjusted_r2 = est2.rsquared_adj\n",
        "\n",
        "# Print the results\n",
        "print(\"Intercept:\", intercept)\n",
        "print(\"Slope:\", slope)\n",
        "print(\"R-squared:\", r2)\n",
        "print(\"Adjusted R-squared:\", adjusted_r2)"
      ],
      "metadata": {
        "colab": {
          "base_uri": "https://localhost:8080/"
        },
        "id": "s5l8eRhzD7vx",
        "outputId": "1992ed3e-b314-4f06-acff-22b2a8f9dc90"
      },
      "execution_count": null,
      "outputs": [
        {
          "output_type": "stream",
          "name": "stdout",
          "text": [
            "Intercept: 1.3999999999999986\n",
            "Slope: 0.9454545454545457\n",
            "R-squared: 0.9652546406473108\n",
            "Adjusted R-squared: 0.9609114707282247\n"
          ]
        }
      ]
    },
    {
      "cell_type": "markdown",
      "source": [
        "* args and *kargs"
      ],
      "metadata": {
        "id": "mzrOqxGP2nne"
      }
    },
    {
      "cell_type": "markdown",
      "source": [
        "*args\n",
        "* allows us to pass a variable number of non- keyword argument to a function"
      ],
      "metadata": {
        "id": "zqfWSeBb2gHi"
      }
    },
    {
      "cell_type": "code",
      "source": [
        "def multiply(*args):\n",
        "  product=1\n",
        "  for i in args:\n",
        "    product=product*i\n",
        "  return product"
      ],
      "metadata": {
        "id": "-N93XhsQ33R6"
      },
      "execution_count": null,
      "outputs": []
    },
    {
      "cell_type": "code",
      "source": [
        "multiply(1,2,3,4,5,6,7)"
      ],
      "metadata": {
        "colab": {
          "base_uri": "https://localhost:8080/"
        },
        "id": "UlSRN0c84G67",
        "outputId": "d5e07abc-1482-4d96-d22f-e19aecee18a9"
      },
      "execution_count": null,
      "outputs": [
        {
          "output_type": "execute_result",
          "data": {
            "text/plain": [
              "5040"
            ]
          },
          "metadata": {},
          "execution_count": 10
        }
      ]
    },
    {
      "cell_type": "markdown",
      "source": [
        "**Kwargs\n",
        "** allows us to pass a variable number of keyword argument to a function\n",
        "#keyword arguments mean that they contain a key value pair , like a python dictionary"
      ],
      "metadata": {
        "id": "kIQ6Pi-_4NUC"
      }
    },
    {
      "cell_type": "code",
      "source": [
        "def display(**kwargs):\n",
        "  for(key, value) in kwargs.items():\n",
        "    print(key,\"->\", value)\n"
      ],
      "metadata": {
        "id": "vl9Cbk1459q-"
      },
      "execution_count": null,
      "outputs": []
    },
    {
      "cell_type": "code",
      "source": [
        "display(india=\"delhi\",srilanka=\"colombo\")"
      ],
      "metadata": {
        "colab": {
          "base_uri": "https://localhost:8080/"
        },
        "id": "RbY1GBqT6hTj",
        "outputId": "0d5f178d-7f76-458a-d50b-cbfc6ed9c7a4"
      },
      "execution_count": null,
      "outputs": [
        {
          "output_type": "stream",
          "name": "stdout",
          "text": [
            "india -> delhi\n",
            "srilanka -> colombo\n"
          ]
        }
      ]
    },
    {
      "cell_type": "markdown",
      "source": [
        "##POints to remeber while using ** args and **Kwargs\n",
        "* order of argument matters(normal->*args->**kwargs)\n",
        "* The words \"args and \"kwargs\"are only a convention, you can use any name of your choices"
      ],
      "metadata": {
        "id": "zswv5kNf66Os"
      }
    },
    {
      "cell_type": "markdown",
      "source": [
        "#How function are executed in memory"
      ],
      "metadata": {
        "id": "mORHRX927Yba"
      }
    },
    {
      "cell_type": "code",
      "source": [
        "L=[1,2,3,4]\n",
        "print(L.append(5))\n",
        "print(L)"
      ],
      "metadata": {
        "colab": {
          "base_uri": "https://localhost:8080/"
        },
        "id": "CsBWPrDPdzNK",
        "outputId": "7fa4b816-b9ea-4ad4-d753-e770241eda96"
      },
      "execution_count": null,
      "outputs": [
        {
          "output_type": "stream",
          "name": "stdout",
          "text": [
            "None\n",
            "[1, 2, 3, 4, 5]\n"
          ]
        }
      ]
    },
    {
      "cell_type": "markdown",
      "source": [
        "##Variable Scope"
      ],
      "metadata": {
        "id": "KjrDxSoLewGD"
      }
    },
    {
      "cell_type": "code",
      "source": [
        "def g(y):\n",
        "  print(x)\n",
        "  print(x+1)\n",
        "x=5\n",
        "g(x)\n",
        "print(x)"
      ],
      "metadata": {
        "colab": {
          "base_uri": "https://localhost:8080/"
        },
        "id": "CT2gxuTYe0zR",
        "outputId": "ad3da975-7bdc-4a8b-dd31-ee8107ac9c0f"
      },
      "execution_count": null,
      "outputs": [
        {
          "output_type": "stream",
          "name": "stdout",
          "text": [
            "5\n",
            "6\n",
            "5\n"
          ]
        }
      ]
    },
    {
      "cell_type": "code",
      "source": [
        "def f(y):\n",
        "  x=1\n",
        "  x+=1\n",
        "  print(x)\n",
        "x=5\n",
        "f(x)\n",
        "print(x)"
      ],
      "metadata": {
        "colab": {
          "base_uri": "https://localhost:8080/"
        },
        "id": "xLsatxFXgMeF",
        "outputId": "92330c78-a8de-4023-cb13-fbe1733508f3"
      },
      "execution_count": null,
      "outputs": [
        {
          "output_type": "stream",
          "name": "stdout",
          "text": [
            "2\n",
            "5\n"
          ]
        }
      ]
    },
    {
      "cell_type": "code",
      "source": [
        "def h(y):\n",
        "  x+=1\n",
        "x=5\n",
        "h(x)\n",
        "print(x)\n"
      ],
      "metadata": {
        "colab": {
          "base_uri": "https://localhost:8080/",
          "height": 315
        },
        "id": "u6RndrY3hbq1",
        "outputId": "84ed91c5-c9ac-4338-c2d7-3f83f7e78e74"
      },
      "execution_count": null,
      "outputs": [
        {
          "output_type": "error",
          "ename": "UnboundLocalError",
          "evalue": "local variable 'x' referenced before assignment",
          "traceback": [
            "\u001b[0;31m---------------------------------------------------------------------------\u001b[0m",
            "\u001b[0;31mUnboundLocalError\u001b[0m                         Traceback (most recent call last)",
            "\u001b[0;32m<ipython-input-9-81c4a3b56f7f>\u001b[0m in \u001b[0;36m<cell line: 4>\u001b[0;34m()\u001b[0m\n\u001b[1;32m      2\u001b[0m   \u001b[0mx\u001b[0m\u001b[0;34m+=\u001b[0m\u001b[0;36m1\u001b[0m\u001b[0;34m\u001b[0m\u001b[0;34m\u001b[0m\u001b[0m\n\u001b[1;32m      3\u001b[0m \u001b[0mx\u001b[0m\u001b[0;34m=\u001b[0m\u001b[0;36m5\u001b[0m\u001b[0;34m\u001b[0m\u001b[0;34m\u001b[0m\u001b[0m\n\u001b[0;32m----> 4\u001b[0;31m \u001b[0mh\u001b[0m\u001b[0;34m(\u001b[0m\u001b[0mx\u001b[0m\u001b[0;34m)\u001b[0m\u001b[0;34m\u001b[0m\u001b[0;34m\u001b[0m\u001b[0m\n\u001b[0m\u001b[1;32m      5\u001b[0m \u001b[0mprint\u001b[0m\u001b[0;34m(\u001b[0m\u001b[0mx\u001b[0m\u001b[0;34m)\u001b[0m\u001b[0;34m\u001b[0m\u001b[0;34m\u001b[0m\u001b[0m\n",
            "\u001b[0;32m<ipython-input-9-81c4a3b56f7f>\u001b[0m in \u001b[0;36mh\u001b[0;34m(y)\u001b[0m\n\u001b[1;32m      1\u001b[0m \u001b[0;32mdef\u001b[0m \u001b[0mh\u001b[0m\u001b[0;34m(\u001b[0m\u001b[0my\u001b[0m\u001b[0;34m)\u001b[0m\u001b[0;34m:\u001b[0m\u001b[0;34m\u001b[0m\u001b[0;34m\u001b[0m\u001b[0m\n\u001b[0;32m----> 2\u001b[0;31m   \u001b[0mx\u001b[0m\u001b[0;34m+=\u001b[0m\u001b[0;36m1\u001b[0m\u001b[0;34m\u001b[0m\u001b[0;34m\u001b[0m\u001b[0m\n\u001b[0m\u001b[1;32m      3\u001b[0m \u001b[0mx\u001b[0m\u001b[0;34m=\u001b[0m\u001b[0;36m5\u001b[0m\u001b[0;34m\u001b[0m\u001b[0;34m\u001b[0m\u001b[0m\n\u001b[1;32m      4\u001b[0m \u001b[0mh\u001b[0m\u001b[0;34m(\u001b[0m\u001b[0mx\u001b[0m\u001b[0;34m)\u001b[0m\u001b[0;34m\u001b[0m\u001b[0;34m\u001b[0m\u001b[0m\n\u001b[1;32m      5\u001b[0m \u001b[0mprint\u001b[0m\u001b[0;34m(\u001b[0m\u001b[0mx\u001b[0m\u001b[0;34m)\u001b[0m\u001b[0;34m\u001b[0m\u001b[0;34m\u001b[0m\u001b[0m\n",
            "\u001b[0;31mUnboundLocalError\u001b[0m: local variable 'x' referenced before assignment"
          ]
        }
      ]
    },
    {
      "cell_type": "code",
      "source": [
        "#but this is not a good programming practice\n",
        "def h(y):\n",
        "  global x\n",
        "  x+=1\n",
        "x=5\n",
        "h(x)\n",
        "print(x)\n"
      ],
      "metadata": {
        "colab": {
          "base_uri": "https://localhost:8080/"
        },
        "id": "nGI7RMvChjYt",
        "outputId": "cc5d5a16-45bd-4bbe-ffb4-80e8a69f8622"
      },
      "execution_count": null,
      "outputs": [
        {
          "output_type": "stream",
          "name": "stdout",
          "text": [
            "6\n"
          ]
        }
      ]
    },
    {
      "cell_type": "code",
      "source": [
        "def f(x):\n",
        "  x=x+1\n",
        "  print(\"in f(x): x\",x)\n",
        "  return x\n",
        "x=3\n",
        "z=f(x)\n",
        "print(\"in main program scope: z=\",z)\n",
        "print(\"in main program scope: x=\",x)"
      ],
      "metadata": {
        "id": "GCTs-L87h7TQ"
      },
      "execution_count": null,
      "outputs": []
    },
    {
      "cell_type": "markdown",
      "source": [
        "#Nested Function"
      ],
      "metadata": {
        "id": "9--j5c8ijWxs"
      }
    },
    {
      "cell_type": "code",
      "source": [
        "def f():\n",
        "  def g():\n",
        "    print(\"inside function g\")\n",
        "  g()\n",
        "  print(\"inside function f\")"
      ],
      "metadata": {
        "id": "gC6UdJFdjiIb"
      },
      "execution_count": null,
      "outputs": []
    },
    {
      "cell_type": "code",
      "source": [
        "f()"
      ],
      "metadata": {
        "colab": {
          "base_uri": "https://localhost:8080/"
        },
        "id": "PumkNFZhjz_4",
        "outputId": "2bdfc97a-d537-4f03-c808-19a7c3b1145e"
      },
      "execution_count": null,
      "outputs": [
        {
          "output_type": "stream",
          "name": "stdout",
          "text": [
            "inside function g\n",
            "inside function f\n"
          ]
        }
      ]
    },
    {
      "cell_type": "code",
      "source": [
        "g()"
      ],
      "metadata": {
        "colab": {
          "base_uri": "https://localhost:8080/",
          "height": 141
        },
        "id": "mVbF2ufrjjsi",
        "outputId": "605d7a20-0b3e-43a3-88ac-594e77504d77"
      },
      "execution_count": null,
      "outputs": [
        {
          "output_type": "error",
          "ename": "TypeError",
          "evalue": "g() missing 1 required positional argument: 'y'",
          "traceback": [
            "\u001b[0;31m---------------------------------------------------------------------------\u001b[0m",
            "\u001b[0;31mTypeError\u001b[0m                                 Traceback (most recent call last)",
            "\u001b[0;32m<ipython-input-18-5fd69ddb5074>\u001b[0m in \u001b[0;36m<cell line: 1>\u001b[0;34m()\u001b[0m\n\u001b[0;32m----> 1\u001b[0;31m \u001b[0mg\u001b[0m\u001b[0;34m(\u001b[0m\u001b[0;34m)\u001b[0m\u001b[0;34m\u001b[0m\u001b[0;34m\u001b[0m\u001b[0m\n\u001b[0m",
            "\u001b[0;31mTypeError\u001b[0m: g() missing 1 required positional argument: 'y'"
          ]
        }
      ]
    },
    {
      "cell_type": "code",
      "source": [
        "def g(x):\n",
        "  def h():\n",
        "    x=\"abc\"\n",
        "  x= x+1\n",
        "  print('in g(x): x=',x)\n",
        "  h()\n",
        "  return x\n",
        "x=3\n",
        "z=g(x)"
      ],
      "metadata": {
        "id": "WAo0XukZlvCj"
      },
      "execution_count": null,
      "outputs": []
    },
    {
      "cell_type": "code",
      "source": [
        "def g(x):\n",
        "  def h(x):\n",
        "    x=x+1\n",
        "    print(\"in h(x): x=\",x)\n",
        "  x=x+1\n",
        "  print(\"in g(x): x=\",x)\n",
        "  h(x)\n",
        "  return x\n",
        "x=3\n",
        "z=g(x)\n",
        "print(\"in main program scope : x=\",x)\n",
        "print(\"in main program scope : z=\",z)"
      ],
      "metadata": {
        "colab": {
          "base_uri": "https://localhost:8080/"
        },
        "id": "m8bSduJxnWKn",
        "outputId": "285f12f7-8e5e-44c9-f0a7-91d79b108b06"
      },
      "execution_count": null,
      "outputs": [
        {
          "output_type": "stream",
          "name": "stdout",
          "text": [
            "in g(x): x= 4\n",
            "in h(x): x= 5\n",
            "in main program scope : x= 3\n",
            "in main program scope : z= 4\n"
          ]
        }
      ]
    },
    {
      "cell_type": "markdown",
      "source": [
        "# Function in python are first class citizen\n",
        "### In programming language design, a first class citizen (also type, object, entity , or value), in a given programming language is an entity which support all the operation generally available to other entities. These operations typically include being passed as an argument, returned from a function, and assigned to a variable."
      ],
      "metadata": {
        "id": "B-Hvhm65oVGO"
      }
    },
    {
      "cell_type": "code",
      "source": [
        "# type and id\n",
        "def square(num):\n",
        "  return num**2\n",
        "type(square)\n"
      ],
      "metadata": {
        "colab": {
          "base_uri": "https://localhost:8080/"
        },
        "id": "Pd0W52tQpvH0",
        "outputId": "933bad39-4109-478e-b40f-f089d6b93b75"
      },
      "execution_count": null,
      "outputs": [
        {
          "output_type": "execute_result",
          "data": {
            "text/plain": [
              "function"
            ]
          },
          "metadata": {},
          "execution_count": 30
        }
      ]
    },
    {
      "cell_type": "code",
      "source": [
        "#Reassign\n",
        "x=square\n",
        "x"
      ],
      "metadata": {
        "colab": {
          "base_uri": "https://localhost:8080/",
          "height": 103
        },
        "id": "N7ZF6rly32-F",
        "outputId": "e5ce56b8-eea3-4e73-f4f5-02d85ba0f9b3"
      },
      "execution_count": null,
      "outputs": [
        {
          "output_type": "execute_result",
          "data": {
            "text/plain": [
              "<function __main__.square(num)>"
            ],
            "text/html": [
              "<div style=\"max-width:800px; border: 1px solid var(--colab-border-color);\"><style>\n",
              "      pre.function-repr-contents {\n",
              "        overflow-x: auto;\n",
              "        padding: 8px 12px;\n",
              "        max-height: 500px;\n",
              "      }\n",
              "\n",
              "      pre.function-repr-contents.function-repr-contents-collapsed {\n",
              "        cursor: pointer;\n",
              "        max-height: 100px;\n",
              "      }\n",
              "    </style>\n",
              "    <pre style=\"white-space: initial; background:\n",
              "         var(--colab-secondary-surface-color); padding: 8px 12px;\n",
              "         border-bottom: 1px solid var(--colab-border-color);\"><b>square</b><br/>def square(num)</pre><pre class=\"function-repr-contents function-repr-contents-collapsed\" style=\"\"><a class=\"filepath\" style=\"display:none\" href=\"#\">/content/&lt;ipython-input-30-b93988b7e76e&gt;</a>&lt;no docstring&gt;</pre></div>"
            ]
          },
          "metadata": {},
          "execution_count": 32
        }
      ]
    },
    {
      "cell_type": "code",
      "source": [],
      "metadata": {
        "id": "Y6867XXu5Qok"
      },
      "execution_count": null,
      "outputs": []
    },
    {
      "cell_type": "code",
      "source": [
        "id(x)"
      ],
      "metadata": {
        "colab": {
          "base_uri": "https://localhost:8080/"
        },
        "id": "1Qd8hhe14S_L",
        "outputId": "6af3e441-9489-4906-a883-de11d0c2ce19"
      },
      "execution_count": null,
      "outputs": [
        {
          "output_type": "execute_result",
          "data": {
            "text/plain": [
              "131983753488720"
            ]
          },
          "metadata": {},
          "execution_count": 25
        }
      ]
    },
    {
      "cell_type": "code",
      "source": [
        "x(3)"
      ],
      "metadata": {
        "colab": {
          "base_uri": "https://localhost:8080/"
        },
        "id": "BkodT9r44Xlw",
        "outputId": "9b2e6603-ba22-4cea-d12a-95e74263a841"
      },
      "execution_count": null,
      "outputs": [
        {
          "output_type": "execute_result",
          "data": {
            "text/plain": [
              "9"
            ]
          },
          "metadata": {},
          "execution_count": 26
        }
      ]
    },
    {
      "cell_type": "code",
      "source": [
        "#Deleting a function\n",
        "del square"
      ],
      "metadata": {
        "id": "YSL5TFct4Z80"
      },
      "execution_count": null,
      "outputs": []
    },
    {
      "cell_type": "code",
      "source": [
        "square()"
      ],
      "metadata": {
        "colab": {
          "base_uri": "https://localhost:8080/",
          "height": 141
        },
        "id": "4PnCpRlS4lq-",
        "outputId": "feb85a11-057a-4d9a-84f1-a51aef5d8269"
      },
      "execution_count": null,
      "outputs": [
        {
          "output_type": "error",
          "ename": "NameError",
          "evalue": "name 'square' is not defined",
          "traceback": [
            "\u001b[0;31m---------------------------------------------------------------------------\u001b[0m",
            "\u001b[0;31mNameError\u001b[0m                                 Traceback (most recent call last)",
            "\u001b[0;32m<ipython-input-28-67e8141f4182>\u001b[0m in \u001b[0;36m<cell line: 1>\u001b[0;34m()\u001b[0m\n\u001b[0;32m----> 1\u001b[0;31m \u001b[0msquare\u001b[0m\u001b[0;34m(\u001b[0m\u001b[0;34m)\u001b[0m\u001b[0;34m\u001b[0m\u001b[0;34m\u001b[0m\u001b[0m\n\u001b[0m",
            "\u001b[0;31mNameError\u001b[0m: name 'square' is not defined"
          ]
        }
      ]
    },
    {
      "cell_type": "code",
      "source": [
        "#Storing\n",
        "L=[1,2,3,4,square]\n",
        "L"
      ],
      "metadata": {
        "colab": {
          "base_uri": "https://localhost:8080/"
        },
        "id": "81CStS4d4nf8",
        "outputId": "c738f83c-f51a-48be-e90e-0dc3c91adfa5"
      },
      "execution_count": null,
      "outputs": [
        {
          "output_type": "execute_result",
          "data": {
            "text/plain": [
              "[1, 2, 3, 4, <function __main__.square(num)>]"
            ]
          },
          "metadata": {},
          "execution_count": 34
        }
      ]
    },
    {
      "cell_type": "code",
      "source": [],
      "metadata": {
        "id": "at8nxmkj6Bbo"
      },
      "execution_count": null,
      "outputs": []
    },
    {
      "cell_type": "code",
      "source": [],
      "metadata": {
        "id": "ITReujZ26CWJ"
      },
      "execution_count": null,
      "outputs": []
    },
    {
      "cell_type": "code",
      "source": [
        "L[-1](3)"
      ],
      "metadata": {
        "colab": {
          "base_uri": "https://localhost:8080/"
        },
        "id": "qI2WpdeK5Ui-",
        "outputId": "a29f4490-5708-42fe-e8b4-47d3cfc5c77a"
      },
      "execution_count": null,
      "outputs": [
        {
          "output_type": "execute_result",
          "data": {
            "text/plain": [
              "9"
            ]
          },
          "metadata": {},
          "execution_count": 35
        }
      ]
    },
    {
      "cell_type": "code",
      "source": [
        "s={square}\n",
        "s\n"
      ],
      "metadata": {
        "colab": {
          "base_uri": "https://localhost:8080/"
        },
        "id": "9lQJo0-dpqNL",
        "outputId": "809cfe8c-4188-4e04-84e7-d31652784b91"
      },
      "execution_count": null,
      "outputs": [
        {
          "output_type": "execute_result",
          "data": {
            "text/plain": [
              "{<function __main__.square(num)>}"
            ]
          },
          "metadata": {},
          "execution_count": 36
        }
      ]
    },
    {
      "cell_type": "code",
      "source": [
        "#returning a function\n",
        "def f():\n",
        "  def x(a,b):\n",
        "    return a+b\n",
        "  return x\n",
        "val=f()(3,4)\n",
        "print(val)\n"
      ],
      "metadata": {
        "colab": {
          "base_uri": "https://localhost:8080/"
        },
        "id": "7H8_rtZE6NGy",
        "outputId": "e1505041-baf6-4415-fdd9-6cba5ea67c04"
      },
      "execution_count": null,
      "outputs": [
        {
          "output_type": "stream",
          "name": "stdout",
          "text": [
            "7\n"
          ]
        }
      ]
    },
    {
      "cell_type": "code",
      "source": [
        "#Function as an argument\n",
        "def func_a():\n",
        "  print(\"inside func_a\")\n",
        "def func_b(z):\n",
        "  print(\"Inside func_c\")\n",
        "  return z()\n",
        "print(func_b(func_a))"
      ],
      "metadata": {
        "colab": {
          "base_uri": "https://localhost:8080/"
        },
        "id": "91Z9QDpEpAJv",
        "outputId": "c9cd7a2a-e42c-495c-a37b-f2ee023387d5"
      },
      "execution_count": null,
      "outputs": [
        {
          "output_type": "stream",
          "name": "stdout",
          "text": [
            "Inside func_c\n",
            "inside func_a\n",
            "None\n"
          ]
        }
      ]
    },
    {
      "cell_type": "markdown",
      "source": [
        "\n",
        "#Benefit of using a Function\n",
        "* Code Modularity\n",
        "* Code Readability\n",
        "* Code Reusability\n"
      ],
      "metadata": {
        "id": "49zJfhXz_Rcz"
      }
    },
    {
      "cell_type": "markdown",
      "source": [
        "##Lambda Function"
      ],
      "metadata": {
        "id": "FsdMdr68_fgR"
      }
    },
    {
      "cell_type": "markdown",
      "source": [
        "###A lambda Function is a small anonymous function.\n",
        "### A lambda Function can take any number of argumetns, but can only have one expression."
      ],
      "metadata": {
        "id": "-xqQ_31Q_k38"
      }
    },
    {
      "cell_type": "code",
      "source": [
        "a= lambda x:x**2\n",
        "a(2)"
      ],
      "metadata": {
        "colab": {
          "base_uri": "https://localhost:8080/"
        },
        "id": "G9Dv62TFAh8o",
        "outputId": "43116873-b953-4915-822f-d6500474e546"
      },
      "execution_count": null,
      "outputs": [
        {
          "output_type": "execute_result",
          "data": {
            "text/plain": [
              "4"
            ]
          },
          "metadata": {},
          "execution_count": 39
        }
      ]
    },
    {
      "cell_type": "code",
      "source": [
        "b=lambda x,y:x+y\n",
        "b(2,3)"
      ],
      "metadata": {
        "colab": {
          "base_uri": "https://localhost:8080/"
        },
        "id": "nRpk8fWXArxO",
        "outputId": "5bf29d38-fa0e-44c0-bef5-c8398d8444f5"
      },
      "execution_count": null,
      "outputs": [
        {
          "output_type": "execute_result",
          "data": {
            "text/plain": [
              "5"
            ]
          },
          "metadata": {},
          "execution_count": 40
        }
      ]
    },
    {
      "cell_type": "markdown",
      "source": [
        "# Diff between lambda vs Normal Function\n",
        "* No name lambda has no return value(infact, returnn a function)\n",
        "* lambda is written in 1 line\n",
        "* not resuable\n",
        "\n",
        "Then why we use lambda function?\n",
        "\n",
        "They are used with HOF"
      ],
      "metadata": {
        "id": "ndzfWEDWAxo7"
      }
    },
    {
      "cell_type": "code",
      "source": [
        "# Check if a string has \"a\"\n",
        "a= lambda s:\"a\" in s\n",
        "a(\"hello\")"
      ],
      "metadata": {
        "colab": {
          "base_uri": "https://localhost:8080/"
        },
        "id": "4Eo495IRBd6r",
        "outputId": "11b8c437-eb8a-4ed1-b3b4-95bcbe45ec79"
      },
      "execution_count": null,
      "outputs": [
        {
          "output_type": "execute_result",
          "data": {
            "text/plain": [
              "False"
            ]
          },
          "metadata": {},
          "execution_count": 43
        }
      ]
    },
    {
      "cell_type": "code",
      "source": [
        "a1=lambda x:\"even\" if x%2==0 else print(\"odd\")\n",
        "(a1(5))"
      ],
      "metadata": {
        "colab": {
          "base_uri": "https://localhost:8080/"
        },
        "id": "3qlOn4b3BuO_",
        "outputId": "5b495cae-652c-4773-9ac9-0dabffc0df5c"
      },
      "execution_count": null,
      "outputs": [
        {
          "output_type": "stream",
          "name": "stdout",
          "text": [
            "odd\n"
          ]
        }
      ]
    },
    {
      "cell_type": "code",
      "source": [
        "# Hidef square(x):\n",
        "  return x**2\n",
        "def transform(f,L):\n",
        "  output=[]\n",
        "  for i in L:\n",
        "    output.append(f(i))\n",
        "  print(output)\n",
        "L= [1,2,3,4,5]\n",
        "transform(square, L)    gher Order function\n"
      ],
      "metadata": {
        "colab": {
          "base_uri": "https://localhost:8080/"
        },
        "id": "5hrJ3J8OCQD_",
        "outputId": "f7fd32e8-f853-434f-8c79-9c27f9a99ac6"
      },
      "execution_count": null,
      "outputs": [
        {
          "output_type": "stream",
          "name": "stdout",
          "text": [
            "[1, 4, 9, 16, 25]\n"
          ]
        }
      ]
    },
    {
      "cell_type": "code",
      "source": [
        "#instead of doing this we have to make cube then it will be very tedious so it is better to make lambda function\n",
        "def transform(f,L):\n",
        "  output=[]\n",
        "  for i in L:\n",
        "    output.append(f(i))\n",
        "  print(output)\n",
        "L= [1,2,3,4,5]\n",
        "transform(lambda x:x**2,L)"
      ],
      "metadata": {
        "colab": {
          "base_uri": "https://localhost:8080/"
        },
        "id": "eP8jzquSGVwd",
        "outputId": "1a64d54d-7449-4bf2-f38d-6d827558a217"
      },
      "execution_count": null,
      "outputs": [
        {
          "output_type": "stream",
          "name": "stdout",
          "text": [
            "[1, 4, 9, 16, 25]\n"
          ]
        }
      ]
    },
    {
      "cell_type": "markdown",
      "source": [
        "#Map"
      ],
      "metadata": {
        "id": "wc5SnmoZG6WT"
      }
    },
    {
      "cell_type": "code",
      "source": [
        "#Square the item of a list\n",
        "L=[1,2,3,4]\n",
        "list(map(lambda x:x**2,L))"
      ],
      "metadata": {
        "colab": {
          "base_uri": "https://localhost:8080/"
        },
        "id": "gfJVXQ_dG78a",
        "outputId": "953dbc5a-1d75-45a5-d931-0452d0bc145c"
      },
      "execution_count": null,
      "outputs": [
        {
          "output_type": "execute_result",
          "data": {
            "text/plain": [
              "[1, 4, 9, 16]"
            ]
          },
          "metadata": {},
          "execution_count": 50
        }
      ]
    },
    {
      "cell_type": "code",
      "source": [
        "L=[1,2,3,4,5]\n",
        "list(map(lambda x:\"even\" if x%2==0 else \"odd\",L))"
      ],
      "metadata": {
        "colab": {
          "base_uri": "https://localhost:8080/"
        },
        "id": "4M4OOJPgHMnk",
        "outputId": "2f96f309-a212-4cb7-aeec-204aebd592e7"
      },
      "execution_count": null,
      "outputs": [
        {
          "output_type": "execute_result",
          "data": {
            "text/plain": [
              "['odd', 'even', 'odd', 'even', 'odd']"
            ]
          },
          "metadata": {},
          "execution_count": 51
        }
      ]
    },
    {
      "cell_type": "code",
      "source": [
        "#fetch  names from a list of dict\n",
        "users =[\n",
        "    {\n",
        "        \"name\":\"Rahul\",\n",
        "        \"age\": 45,\n",
        "        \"gender\":\"male\"\n",
        "\n",
        "    },\n",
        "    {\n",
        "        \"name\":\"Sudhanshu\",\n",
        "        \"age\": 33,\n",
        "        \"gender\":\"male\"\n",
        "\n",
        "    },\n",
        "    {\n",
        "        \"name\":\"Ankita\",\n",
        "        \"age\":50,\n",
        "        \"gender\":\"Female\"\n",
        "    }\n",
        "]\n",
        "list(map(lambda users:users[\"gender\"], users))"
      ],
      "metadata": {
        "colab": {
          "base_uri": "https://localhost:8080/"
        },
        "id": "8hheleyVHmbN",
        "outputId": "62197498-60f5-457d-fd94-0dfce7a197ba"
      },
      "execution_count": null,
      "outputs": [
        {
          "output_type": "execute_result",
          "data": {
            "text/plain": [
              "['male', 'male', 'Female']"
            ]
          },
          "metadata": {},
          "execution_count": 55
        }
      ]
    },
    {
      "cell_type": "markdown",
      "source": [
        "#Filter"
      ],
      "metadata": {
        "id": "8o0ijjPGIkCr"
      }
    },
    {
      "cell_type": "code",
      "source": [
        "# number greater than 5\n",
        "L=[3,4,5,6,7]\n",
        "list(filter(lambda x:x>5,L))"
      ],
      "metadata": {
        "colab": {
          "base_uri": "https://localhost:8080/"
        },
        "id": "dV9mjuAxJaD8",
        "outputId": "3238cd83-c223-4c18-fe84-91007f232210"
      },
      "execution_count": null,
      "outputs": [
        {
          "output_type": "execute_result",
          "data": {
            "text/plain": [
              "[6, 7]"
            ]
          },
          "metadata": {},
          "execution_count": 56
        }
      ]
    },
    {
      "cell_type": "code",
      "source": [
        "#Fetch fruits starting with \"a\"\n",
        "l=[\"apple\",\"Guave\",\"Pinnaple\"]\n",
        "list(filter(lambda x:x.startswith(\"a\"), l ))"
      ],
      "metadata": {
        "colab": {
          "base_uri": "https://localhost:8080/"
        },
        "id": "33byDHHGJjhq",
        "outputId": "f9222981-ced5-44e1-d720-b7c47b250223"
      },
      "execution_count": null,
      "outputs": [
        {
          "output_type": "execute_result",
          "data": {
            "text/plain": [
              "['apple']"
            ]
          },
          "metadata": {},
          "execution_count": 59
        }
      ]
    },
    {
      "cell_type": "code",
      "source": [
        "#Reduce\n",
        "# Sum of all item\n",
        "\n",
        "import functools\n",
        "functools.reduce(lambda x,y:x+y,[1,2,3,4,5])\n"
      ],
      "metadata": {
        "colab": {
          "base_uri": "https://localhost:8080/"
        },
        "id": "59HJsLuJKImO",
        "outputId": "2bc1a1ec-7025-4241-af58-edd0787fd02c"
      },
      "execution_count": null,
      "outputs": [
        {
          "output_type": "execute_result",
          "data": {
            "text/plain": [
              "15"
            ]
          },
          "metadata": {},
          "execution_count": 60
        }
      ]
    },
    {
      "cell_type": "code",
      "source": [
        "# Find min\n",
        "functools.reduce(lambda x,y:x if x<y else y,[23,54,11,87])"
      ],
      "metadata": {
        "colab": {
          "base_uri": "https://localhost:8080/"
        },
        "id": "rbVmpDnXKm_W",
        "outputId": "44f3cbc7-27a3-4966-dccc-4aff6e6248c9"
      },
      "execution_count": null,
      "outputs": [
        {
          "output_type": "execute_result",
          "data": {
            "text/plain": [
              "11"
            ]
          },
          "metadata": {},
          "execution_count": 61
        }
      ]
    },
    {
      "cell_type": "code",
      "source": [
        "#Sort function\n",
        "def my_fun1(e):\n",
        "  return len(e)\n",
        "cars=[\"Fords\", \"Mitshibushi\",\"BMW\",\"VW\"]\n",
        "cars.sort(key=my_fun1)\n",
        "print(cars)"
      ],
      "metadata": {
        "colab": {
          "base_uri": "https://localhost:8080/"
        },
        "id": "tKytw-5gBq4e",
        "outputId": "4628d87d-d98d-4155-fbaf-4957077150e3"
      },
      "execution_count": null,
      "outputs": [
        {
          "output_type": "stream",
          "name": "stdout",
          "text": [
            "['VW', 'BMW', 'Fords', 'Mitshibushi']\n"
          ]
        }
      ]
    },
    {
      "cell_type": "code",
      "source": [
        "def my_fun2(e):\n",
        "  return e[\"year\"]\n",
        "cars =[\n",
        "    {\"cars\":\"Ford\",\"year\":2005},\n",
        "    {\"cars\":\"Mitshibushi\", \"year\":2000},\n",
        "    {\"cars\":\"BMW\",\"year\":2019}\n",
        "]\n",
        "cars.sort(key=my_fun2)\n",
        "print(cars)"
      ],
      "metadata": {
        "colab": {
          "base_uri": "https://localhost:8080/"
        },
        "id": "uvQyoeSxN7gx",
        "outputId": "f6d7eaca-a342-410a-df82-6265832eec7b"
      },
      "execution_count": null,
      "outputs": [
        {
          "output_type": "stream",
          "name": "stdout",
          "text": [
            "[{'cars': 'Mitshibushi', 'year': 2000}, {'cars': 'Ford', 'year': 2005}, {'cars': 'BMW', 'year': 2019}]\n"
          ]
        }
      ]
    },
    {
      "cell_type": "code",
      "source": [
        "#Sort the list by the length of the values and reversed"
      ],
      "metadata": {
        "id": "QnEip0iyQqzK"
      },
      "execution_count": null,
      "outputs": []
    },
    {
      "cell_type": "code",
      "source": [
        "import numpy as np\n",
        "import pandas as pd\n",
        "import matplotlib.pyplot as plt\n",
        "import seaborn as sns"
      ],
      "metadata": {
        "id": "mjNT9ybYYiZe"
      },
      "execution_count": null,
      "outputs": []
    },
    {
      "cell_type": "markdown",
      "source": [
        "2D line plot is used for bivariate anaysis\n",
        "\n",
        "categorical-> numerical and numerical->numerical\n",
        "\n",
        "use case  Time series data\n",
        "\n",
        "3D line plot is used for multivariate analysis\n"
      ],
      "metadata": {
        "id": "k0KXSZ2aaJNu"
      }
    },
    {
      "cell_type": "code",
      "source": [
        "price=[48000,54000,57000,49000,47000,45000]\n",
        "year=[2017,2018,2019,2020,2021,2022]\n",
        "plt.plot(year,price)\n",
        "plt.show()"
      ],
      "metadata": {
        "colab": {
          "base_uri": "https://localhost:8080/",
          "height": 430
        },
        "id": "Z5sX5FUra8rW",
        "outputId": "56ff4a4c-2ed5-4237-ea6c-0f63edb646c2"
      },
      "execution_count": null,
      "outputs": [
        {
          "output_type": "display_data",
          "data": {
            "text/plain": [
              "<Figure size 640x480 with 1 Axes>"
            ],
            "image/png": "[encoded data removed]"
          },
          "metadata": {}
        }
      ]
    },
    {
      "cell_type": "markdown",
      "source": [
        "#Object Oriented Programming"
      ],
      "metadata": {
        "id": "xkt9WlHOQw4O"
      }
    },
    {
      "cell_type": "code",
      "source": [
        "L=[1,2,3]\n",
        "L.upper"
      ],
      "metadata": {
        "colab": {
          "base_uri": "https://localhost:8080/",
          "height": 158
        },
        "id": "WAhGpF8lQ4rs",
        "outputId": "d8007dc1-b766-4df2-f214-672292d7c656"
      },
      "execution_count": null,
      "outputs": [
        {
          "output_type": "error",
          "ename": "AttributeError",
          "evalue": "'list' object has no attribute 'upper'",
          "traceback": [
            "\u001b[0;31m---------------------------------------------------------------------------\u001b[0m",
            "\u001b[0;31mAttributeError\u001b[0m                            Traceback (most recent call last)",
            "\u001b[0;32m<ipython-input-1-9ac0fbe405b0>\u001b[0m in \u001b[0;36m<cell line: 2>\u001b[0;34m()\u001b[0m\n\u001b[1;32m      1\u001b[0m \u001b[0mL\u001b[0m\u001b[0;34m=\u001b[0m\u001b[0;34m[\u001b[0m\u001b[0;36m1\u001b[0m\u001b[0;34m,\u001b[0m\u001b[0;36m2\u001b[0m\u001b[0;34m,\u001b[0m\u001b[0;36m3\u001b[0m\u001b[0;34m]\u001b[0m\u001b[0;34m\u001b[0m\u001b[0;34m\u001b[0m\u001b[0m\n\u001b[0;32m----> 2\u001b[0;31m \u001b[0mL\u001b[0m\u001b[0;34m.\u001b[0m\u001b[0mupper\u001b[0m\u001b[0;34m\u001b[0m\u001b[0;34m\u001b[0m\u001b[0m\n\u001b[0m",
            "\u001b[0;31mAttributeError\u001b[0m: 'list' object has no attribute 'upper'"
          ]
        }
      ]
    },
    {
      "cell_type": "code",
      "source": [
        "s=\"hello\"\n",
        "s.append(\"x\")"
      ],
      "metadata": {
        "colab": {
          "base_uri": "https://localhost:8080/",
          "height": 158
        },
        "id": "a0LHtlQ4SZJA",
        "outputId": "587db75b-928d-4eb1-a222-b3bc646ef341"
      },
      "execution_count": null,
      "outputs": [
        {
          "output_type": "error",
          "ename": "AttributeError",
          "evalue": "'str' object has no attribute 'append'",
          "traceback": [
            "\u001b[0;31m---------------------------------------------------------------------------\u001b[0m",
            "\u001b[0;31mAttributeError\u001b[0m                            Traceback (most recent call last)",
            "\u001b[0;32m<ipython-input-2-91ff7815f280>\u001b[0m in \u001b[0;36m<cell line: 2>\u001b[0;34m()\u001b[0m\n\u001b[1;32m      1\u001b[0m \u001b[0ms\u001b[0m\u001b[0;34m=\u001b[0m\u001b[0;34m\"hello\"\u001b[0m\u001b[0;34m\u001b[0m\u001b[0;34m\u001b[0m\u001b[0m\n\u001b[0;32m----> 2\u001b[0;31m \u001b[0ms\u001b[0m\u001b[0;34m.\u001b[0m\u001b[0mappend\u001b[0m\u001b[0;34m(\u001b[0m\u001b[0;34m\"x\"\u001b[0m\u001b[0;34m)\u001b[0m\u001b[0;34m\u001b[0m\u001b[0;34m\u001b[0m\u001b[0m\n\u001b[0m",
            "\u001b[0;31mAttributeError\u001b[0m: 'str' object has no attribute 'append'"
          ]
        }
      ]
    },
    {
      "cell_type": "markdown",
      "source": [
        "###Every thing in python is object"
      ],
      "metadata": {
        "id": "mp1hNQ1xSegk"
      }
    },
    {
      "cell_type": "markdown",
      "source": [
        "###What is an object\n",
        "Object is an instance of class."
      ],
      "metadata": {
        "id": "XntuNmtZSwjU"
      }
    },
    {
      "cell_type": "code",
      "source": [],
      "metadata": {
        "id": "08cE6M4zXFOq"
      },
      "execution_count": null,
      "outputs": []
    },
    {
      "cell_type": "markdown",
      "source": [
        "###With the use of OOP programmers can make their own datatypes"
      ],
      "metadata": {
        "id": "mADS3v4BUCFF"
      }
    },
    {
      "cell_type": "markdown",
      "source": [
        "#OOP Concepts\n",
        "##Objects\n",
        "##Class\n",
        "##Polymorphism\n",
        "##Encapsulation\n",
        "##Inheritance\n",
        "##Abstraction\n"
      ],
      "metadata": {
        "id": "a0gwoRhVUMGw"
      }
    },
    {
      "cell_type": "markdown",
      "source": [
        "##Class\n",
        "###Class is a blueprint"
      ],
      "metadata": {
        "id": "mvIaqwhhVE66"
      }
    },
    {
      "cell_type": "code",
      "source": [
        "L=[1,2,3]\n",
        "print(type(L))"
      ],
      "metadata": {
        "colab": {
          "base_uri": "https://localhost:8080/"
        },
        "id": "gDrtDuP9VPw2",
        "outputId": "0521f321-16ae-4b3d-aef4-4dc10e475e3e"
      },
      "execution_count": null,
      "outputs": [
        {
          "output_type": "stream",
          "name": "stdout",
          "text": [
            "<class 'list'>\n"
          ]
        }
      ]
    },
    {
      "cell_type": "markdown",
      "source": [
        "##Class\n",
        "###Data or property\n",
        "###Function"
      ],
      "metadata": {
        "id": "uJKbWrCyWZm4"
      }
    },
    {
      "cell_type": "markdown",
      "source": [
        "### Syntax to create an object\n",
        "###objectname= classname()"
      ],
      "metadata": {
        "id": "0pzxdgKnW-59"
      }
    },
    {
      "cell_type": "code",
      "source": [
        "#Object literal\n",
        "L=[1,2,3]"
      ],
      "metadata": {
        "id": "ijXezTIOXyN3"
      },
      "execution_count": null,
      "outputs": []
    },
    {
      "cell_type": "code",
      "source": [
        "L=list([1,2,3])\n",
        "L"
      ],
      "metadata": {
        "colab": {
          "base_uri": "https://localhost:8080/"
        },
        "id": "GSLlY75WX5GW",
        "outputId": "1bd3eaad-5ea7-4821-e9d2-e472da383226"
      },
      "execution_count": null,
      "outputs": [
        {
          "output_type": "execute_result",
          "data": {
            "text/plain": [
              "[1, 2, 3]"
            ]
          },
          "metadata": {},
          "execution_count": 7
        }
      ]
    },
    {
      "cell_type": "code",
      "source": [
        "s=str()\n",
        "s"
      ],
      "metadata": {
        "colab": {
          "base_uri": "https://localhost:8080/"
        },
        "id": "BDxoOyBSYNo9",
        "outputId": "732d23b2-1167-4c30-950d-e4bd19a163df"
      },
      "execution_count": null,
      "outputs": [
        {
          "output_type": "stream",
          "name": "stdout",
          "text": [
            "<class 'str'>\n"
          ]
        }
      ]
    },
    {
      "cell_type": "markdown",
      "source": [
        "## Pascal Case\n",
        "###HelloWorld"
      ],
      "metadata": {
        "id": "FzV4DIe9Z93X"
      }
    },
    {
      "cell_type": "code",
      "source": [
        "class Atm:\n",
        "  #Constructor(Special Function)-> Super Power->\n",
        "  def __init__(self):\n",
        "    self.pin=\"\"\n",
        "    self.balance=0\n",
        "    self.menu()\n",
        "  def menu(self):\n",
        "    user_input= input(\"\"\"\n",
        "    Hi How can I Help You?\n",
        "    1. Press 1 to create pin\n",
        "    2. Press 2 to change pin\n",
        "    3. Press 3 to check balance\n",
        "    4. Press 4 to withdraw\n",
        "    5. Anything else to exit\n",
        "    \"\"\")\n",
        "    if user_input==\"1\":\n",
        "      #create pin\n",
        "      self.create_pin()\n",
        "    elif user_input==\"2\":\n",
        "      # change pin\n",
        "      self.change_pin()\n",
        "    elif user_input==\"3\":\n",
        "      # check balance\n",
        "      self.check_balance()\n",
        "    elif user_input==\"4\":\n",
        "      #withdraw\n",
        "      self.withdraw()\n",
        "    else:\n",
        "      exit()\n",
        "\n",
        "\n",
        "  def create_pin(self):\n",
        "    user_pin = input(\"enter your pin\")\n",
        "    self.pin= user_pin\n",
        "    user_balance = int(input(\"enter balance\"))\n",
        "    self.balance= user_balance\n",
        "    print(\"pin created successfully\")\n",
        "    self.menu()\n",
        "\n",
        "  def change_pin(self):\n",
        "    old_pin = input(\"enter old pin\")\n",
        "    if old_pin == self.pin:\n",
        "      #let him change the pin\n",
        "      new_pin = input(\"enter new pin\")\n",
        "      self.pin = new_pin\n",
        "      print(\"pin change successful\")\n",
        "      self.menu()\n",
        "    else:\n",
        "      print(\"nai karne de sakta re baba\")\n",
        "      self.menu()\n",
        "\n",
        "  def check_balance(self):\n",
        "    user_pin =input(\"enter your pin\")\n",
        "    if user_pin == self.pin:\n",
        "      print(\"your balance is\", self.balance)\n",
        "    else:\n",
        "      print(\"CHal nikal yahan se\")\n",
        "\n",
        "  def withdraw(self):\n",
        "    user_pin = input(\"enter the pin\")\n",
        "    if user_pin== self.pin:\n",
        "      #alow to withdraw\n",
        "      amount= int(input(\"Enter the ampount\"))\n",
        "      if amount<= self.balance:\n",
        "        self.balance=self.balance -amount\n",
        "        print(\"withdrawl successful the balance is \", self.balance)\n",
        "      else:\n",
        "        print(\"abe garib\")\n",
        "    else:\n",
        "      print(\"sale chor\")\n",
        "    self.menu()\n"
      ],
      "metadata": {
        "id": "Z8HwI1ZBYHBN"
      },
      "execution_count": null,
      "outputs": []
    },
    {
      "cell_type": "code",
      "source": [
        "obj=Atm()"
      ],
      "metadata": {
        "colab": {
          "base_uri": "https://localhost:8080/"
        },
        "id": "mRWszbZRbNej",
        "outputId": "d52e6200-3670-4449-eb8d-455f04acedad"
      },
      "execution_count": null,
      "outputs": [
        {
          "output_type": "stream",
          "name": "stdout",
          "text": [
            "\n",
            "    Hi How can I Help You?\n",
            "    1. Press 1 to create pin\n",
            "    2. Press 2 to change pin\n",
            "    3. Press 3 to check balance\n",
            "    4. Press 4 to withdraw\n",
            "    5. Anything else to exit\n",
            "    1\n",
            "enter your pin1234\n",
            "enter balance15000\n",
            "pin created successfully\n",
            "\n",
            "    Hi How can I Help You?\n",
            "    1. Press 1 to create pin\n",
            "    2. Press 2 to change pin\n",
            "    3. Press 3 to check balance\n",
            "    4. Press 4 to withdraw\n",
            "    5. Anything else to exit\n",
            "    4\n",
            "enter the pin1234\n",
            "Enter the ampount5000\n",
            "withdrawl successful the balance is  10000\n",
            "\n",
            "    Hi How can I Help You?\n",
            "    1. Press 1 to create pin\n",
            "    2. Press 2 to change pin\n",
            "    3. Press 3 to check balance\n",
            "    4. Press 4 to withdraw\n",
            "    5. Anything else to exit\n",
            "    3\n",
            "enter your pin1234\n",
            "your balance is 10000\n"
          ]
        }
      ]
    },
    {
      "cell_type": "code",
      "source": [
        "print(type(obj))"
      ],
      "metadata": {
        "colab": {
          "base_uri": "https://localhost:8080/"
        },
        "id": "6t1RrHXQbS3e",
        "outputId": "70565385-e0df-4aaa-bf19-06879f16247d"
      },
      "execution_count": null,
      "outputs": [
        {
          "output_type": "stream",
          "name": "stdout",
          "text": [
            "<class '__main__.Atm'>\n"
          ]
        }
      ]
    },
    {
      "cell_type": "code",
      "source": [],
      "metadata": {
        "id": "OsYKzHuNbY-Z"
      },
      "execution_count": null,
      "outputs": []
    },
    {
      "cell_type": "markdown",
      "source": [
        "#NUMPY"
      ],
      "metadata": {
        "id": "Fo8fOHajYApR"
      }
    },
    {
      "cell_type": "code",
      "source": [
        "import numpy as np\n",
        "a=np.array([1,2,3])\n",
        "print(a)"
      ],
      "metadata": {
        "colab": {
          "base_uri": "https://localhost:8080/"
        },
        "id": "90QqECpa4-uo",
        "outputId": "8209beef-87b8-4fca-cf7c-f2137e7d0e9b"
      },
      "execution_count": null,
      "outputs": [
        {
          "output_type": "stream",
          "name": "stdout",
          "text": [
            "[1 2 3]\n"
          ]
        }
      ]
    },
    {
      "cell_type": "code",
      "source": [
        "#2D and 3D\n",
        "b=np.array([[1,2,3],[4,5,6]])\n",
        "print(b)"
      ],
      "metadata": {
        "colab": {
          "base_uri": "https://localhost:8080/"
        },
        "id": "pxgrymLr5Pxs",
        "outputId": "3bff674e-c683-4faa-e5dc-baec91b8b599"
      },
      "execution_count": null,
      "outputs": [
        {
          "output_type": "stream",
          "name": "stdout",
          "text": [
            "[[1 2 3]\n",
            " [4 5 6]]\n"
          ]
        }
      ]
    },
    {
      "cell_type": "code",
      "source": [
        "c=np.array([[[1,2],[3,4]],[[5,6],[7,8]]])\n",
        "print(c)"
      ],
      "metadata": {
        "colab": {
          "base_uri": "https://localhost:8080/"
        },
        "id": "o527gRZ_5dfE",
        "outputId": "95f8a497-dd7f-43a5-dc4d-c3ccd57271fe"
      },
      "execution_count": null,
      "outputs": [
        {
          "output_type": "stream",
          "name": "stdout",
          "text": [
            "[[[1 2]\n",
            "  [3 4]]\n",
            "\n",
            " [[5 6]\n",
            "  [7 8]]]\n"
          ]
        }
      ]
    },
    {
      "cell_type": "code",
      "source": [
        "#D type\n",
        "np.array([1,2,3],dtype=float)"
      ],
      "metadata": {
        "colab": {
          "base_uri": "https://localhost:8080/"
        },
        "id": "fSOqgW1X5vEv",
        "outputId": "2c527e1b-61e6-4892-94d2-a93fbf723a89"
      },
      "execution_count": null,
      "outputs": [
        {
          "output_type": "execute_result",
          "data": {
            "text/plain": [
              "array([1., 2., 3.])"
            ]
          },
          "metadata": {},
          "execution_count": 4
        }
      ]
    },
    {
      "cell_type": "code",
      "source": [
        "#np.arange\n",
        "np.arange(1,11,2)"
      ],
      "metadata": {
        "colab": {
          "base_uri": "https://localhost:8080/"
        },
        "id": "l-DdwX3858Gt",
        "outputId": "ffdd9b50-6292-4941-f910-10da7a1782d7"
      },
      "execution_count": null,
      "outputs": [
        {
          "output_type": "execute_result",
          "data": {
            "text/plain": [
              "array([1, 3, 5, 7, 9])"
            ]
          },
          "metadata": {},
          "execution_count": 5
        }
      ]
    },
    {
      "cell_type": "code",
      "source": [
        "#with reshape\n",
        "np.arange(16).reshape(2,2,2,2)"
      ],
      "metadata": {
        "colab": {
          "base_uri": "https://localhost:8080/"
        },
        "id": "vxMyAOBp6CAv",
        "outputId": "c2a41c8b-1f54-4515-c84b-dd38250655de"
      },
      "execution_count": null,
      "outputs": [
        {
          "output_type": "execute_result",
          "data": {
            "text/plain": [
              "array([[[[ 0,  1],\n",
              "         [ 2,  3]],\n",
              "\n",
              "        [[ 4,  5],\n",
              "         [ 6,  7]]],\n",
              "\n",
              "\n",
              "       [[[ 8,  9],\n",
              "         [10, 11]],\n",
              "\n",
              "        [[12, 13],\n",
              "         [14, 15]]]])"
            ]
          },
          "metadata": {},
          "execution_count": 7
        }
      ]
    },
    {
      "cell_type": "code",
      "source": [
        "np.ones((3,4))"
      ],
      "metadata": {
        "colab": {
          "base_uri": "https://localhost:8080/"
        },
        "id": "xBNz_U1R6Tuk",
        "outputId": "9d44b2ba-82f3-418e-8c51-35548465e6ed"
      },
      "execution_count": null,
      "outputs": [
        {
          "output_type": "execute_result",
          "data": {
            "text/plain": [
              "array([[1., 1., 1., 1.],\n",
              "       [1., 1., 1., 1.],\n",
              "       [1., 1., 1., 1.]])"
            ]
          },
          "metadata": {},
          "execution_count": 9
        }
      ]
    },
    {
      "cell_type": "code",
      "source": [
        "np.zeros((3,4))"
      ],
      "metadata": {
        "colab": {
          "base_uri": "https://localhost:8080/"
        },
        "id": "4pAAuz4w6bRH",
        "outputId": "259ca1de-e588-4e56-feab-dfbc0ddafca6"
      },
      "execution_count": null,
      "outputs": [
        {
          "output_type": "execute_result",
          "data": {
            "text/plain": [
              "array([[0., 0., 0., 0.],\n",
              "       [0., 0., 0., 0.],\n",
              "       [0., 0., 0., 0.]])"
            ]
          },
          "metadata": {},
          "execution_count": 10
        }
      ]
    },
    {
      "cell_type": "code",
      "source": [
        "np.random.random((3,4))"
      ],
      "metadata": {
        "colab": {
          "base_uri": "https://localhost:8080/"
        },
        "id": "jC92c5K06eXl",
        "outputId": "1aa4785d-bd16-411c-d5b3-69b4bb4b6545"
      },
      "execution_count": null,
      "outputs": [
        {
          "output_type": "execute_result",
          "data": {
            "text/plain": [
              "array([[0.64732271, 0.99148815, 0.80782643, 0.94111854],\n",
              "       [0.31975489, 0.99206741, 0.44420831, 0.06362227],\n",
              "       [0.80848227, 0.8060587 , 0.6495529 , 0.94293367]])"
            ]
          },
          "metadata": {},
          "execution_count": 11
        }
      ]
    },
    {
      "cell_type": "code",
      "source": [
        "np.linspace(-10,10,10,dtype=int)"
      ],
      "metadata": {
        "colab": {
          "base_uri": "https://localhost:8080/"
        },
        "id": "Uv9Xa9bi6irN",
        "outputId": "75da9cba-5293-4b3e-c1a3-25ba475c4eb1"
      },
      "execution_count": null,
      "outputs": [
        {
          "output_type": "execute_result",
          "data": {
            "text/plain": [
              "array([-10,  -8,  -6,  -4,  -2,   1,   3,   5,   7,  10])"
            ]
          },
          "metadata": {},
          "execution_count": 12
        }
      ]
    },
    {
      "cell_type": "code",
      "source": [
        "np.identity(3)"
      ],
      "metadata": {
        "colab": {
          "base_uri": "https://localhost:8080/"
        },
        "id": "GhAco6o46p4e",
        "outputId": "1868bcc9-44fc-4686-eedb-08def982e996"
      },
      "execution_count": null,
      "outputs": [
        {
          "output_type": "execute_result",
          "data": {
            "text/plain": [
              "array([[1., 0., 0.],\n",
              "       [0., 1., 0.],\n",
              "       [0., 0., 1.]])"
            ]
          },
          "metadata": {},
          "execution_count": 13
        }
      ]
    },
    {
      "cell_type": "code",
      "source": [
        "a1=np.arange(10,dtype=np.int32)\n",
        "a2=np.arange(12, dtype=float).reshape(3,4)\n",
        "a3=np.arange(8).reshape(2,2,2)\n",
        "print(a1)\n",
        "print(a2)\n",
        "print(a3)"
      ],
      "metadata": {
        "colab": {
          "base_uri": "https://localhost:8080/"
        },
        "id": "Au_SahVj6uJ6",
        "outputId": "8e355ead-e3da-49cd-f58f-960074fe1942"
      },
      "execution_count": null,
      "outputs": [
        {
          "output_type": "stream",
          "name": "stdout",
          "text": [
            "[0 1 2 3 4 5 6 7 8 9]\n",
            "[[ 0.  1.  2.  3.]\n",
            " [ 4.  5.  6.  7.]\n",
            " [ 8.  9. 10. 11.]]\n",
            "[[[0 1]\n",
            "  [2 3]]\n",
            "\n",
            " [[4 5]\n",
            "  [6 7]]]\n"
          ]
        }
      ]
    },
    {
      "cell_type": "code",
      "source": [
        "a3.ndim"
      ],
      "metadata": {
        "colab": {
          "base_uri": "https://localhost:8080/"
        },
        "id": "4c3TFu6K7QC8",
        "outputId": "6f0cc9dd-95f0-4d2a-fd79-c28a719b6e45"
      },
      "execution_count": null,
      "outputs": [
        {
          "output_type": "execute_result",
          "data": {
            "text/plain": [
              "3"
            ]
          },
          "metadata": {},
          "execution_count": 16
        }
      ]
    },
    {
      "cell_type": "code",
      "source": [
        "print(a3.shape)"
      ],
      "metadata": {
        "colab": {
          "base_uri": "https://localhost:8080/"
        },
        "id": "zMvuh21x7SMw",
        "outputId": "66970747-1c63-4317-fcb7-210d14c5bb85"
      },
      "execution_count": null,
      "outputs": [
        {
          "output_type": "stream",
          "name": "stdout",
          "text": [
            "(2, 2, 2)\n"
          ]
        }
      ]
    },
    {
      "cell_type": "code",
      "source": [
        "a3.size"
      ],
      "metadata": {
        "colab": {
          "base_uri": "https://localhost:8080/"
        },
        "id": "stQqgijg7U1z",
        "outputId": "2ee8d3ad-e3d4-4314-ff8f-c78577239be6"
      },
      "execution_count": null,
      "outputs": [
        {
          "output_type": "execute_result",
          "data": {
            "text/plain": [
              "8"
            ]
          },
          "metadata": {},
          "execution_count": 18
        }
      ]
    },
    {
      "cell_type": "code",
      "source": [
        "a2.size"
      ],
      "metadata": {
        "colab": {
          "base_uri": "https://localhost:8080/"
        },
        "id": "r8eQMOkE7XF_",
        "outputId": "b278009a-2247-42c3-eaa0-9aa364b44793"
      },
      "execution_count": null,
      "outputs": [
        {
          "output_type": "execute_result",
          "data": {
            "text/plain": [
              "12"
            ]
          },
          "metadata": {},
          "execution_count": 19
        }
      ]
    },
    {
      "cell_type": "code",
      "source": [
        "a3.itemsize"
      ],
      "metadata": {
        "colab": {
          "base_uri": "https://localhost:8080/"
        },
        "id": "xcnPsJnm7Z2H",
        "outputId": "dfc55906-d482-4406-85c0-e3536c21a440"
      },
      "execution_count": null,
      "outputs": [
        {
          "output_type": "execute_result",
          "data": {
            "text/plain": [
              "8"
            ]
          },
          "metadata": {},
          "execution_count": 20
        }
      ]
    },
    {
      "cell_type": "code",
      "source": [
        "#dtype\n",
        "print(a1.dtype)\n",
        "print(a2.dtype)\n",
        "print(a3.dtype)"
      ],
      "metadata": {
        "colab": {
          "base_uri": "https://localhost:8080/"
        },
        "id": "GREHFoN67d5x",
        "outputId": "ce640c66-7caa-4af1-edf8-934eb9e5a823"
      },
      "execution_count": null,
      "outputs": [
        {
          "output_type": "stream",
          "name": "stdout",
          "text": [
            "int32\n",
            "float64\n",
            "int64\n"
          ]
        }
      ]
    },
    {
      "cell_type": "code",
      "source": [
        "#Changing datatype\n",
        "a3.astype(np.int32)"
      ],
      "metadata": {
        "colab": {
          "base_uri": "https://localhost:8080/"
        },
        "id": "e98NrzEc7tKz",
        "outputId": "c4c0516e-0fa5-4af0-a2a4-9a6112a64dc6"
      },
      "execution_count": null,
      "outputs": [
        {
          "output_type": "execute_result",
          "data": {
            "text/plain": [
              "array([[[0, 1],\n",
              "        [2, 3]],\n",
              "\n",
              "       [[4, 5],\n",
              "        [6, 7]]], dtype=int32)"
            ]
          },
          "metadata": {},
          "execution_count": 23
        }
      ]
    },
    {
      "cell_type": "markdown",
      "source": [
        "##Array Operation"
      ],
      "metadata": {
        "id": "u8gfpbvs73c8"
      }
    },
    {
      "cell_type": "code",
      "source": [
        "a4=np.arange(12).reshape(3,4)\n",
        "a5= np.arange(12,24).reshape(3,4)\n"
      ],
      "metadata": {
        "id": "K9ugNkmh76eV"
      },
      "execution_count": null,
      "outputs": []
    },
    {
      "cell_type": "code",
      "source": [
        "#Scalar Operation\n",
        "a4*2"
      ],
      "metadata": {
        "colab": {
          "base_uri": "https://localhost:8080/"
        },
        "id": "JT9zKb3F8HgH",
        "outputId": "31edeb3f-cb8d-4e8d-dd09-80a29577abe4"
      },
      "execution_count": null,
      "outputs": [
        {
          "output_type": "execute_result",
          "data": {
            "text/plain": [
              "array([[ 0,  2,  4,  6],\n",
              "       [ 8, 10, 12, 14],\n",
              "       [16, 18, 20, 22]])"
            ]
          },
          "metadata": {},
          "execution_count": 25
        }
      ]
    },
    {
      "cell_type": "code",
      "source": [
        "a4**2"
      ],
      "metadata": {
        "colab": {
          "base_uri": "https://localhost:8080/"
        },
        "id": "56vyimqw8Nc7",
        "outputId": "5fb13dcc-5927-4fe7-deab-e8c7c5c350d3"
      },
      "execution_count": null,
      "outputs": [
        {
          "output_type": "execute_result",
          "data": {
            "text/plain": [
              "array([[  0,   1,   4,   9],\n",
              "       [ 16,  25,  36,  49],\n",
              "       [ 64,  81, 100, 121]])"
            ]
          },
          "metadata": {},
          "execution_count": 27
        }
      ]
    },
    {
      "cell_type": "code",
      "source": [
        "#Relational\n",
        "a4==10"
      ],
      "metadata": {
        "colab": {
          "base_uri": "https://localhost:8080/"
        },
        "id": "8Hso7m8k8Q50",
        "outputId": "00adb8c3-871c-4c47-b1ad-7eef665c15d1"
      },
      "execution_count": null,
      "outputs": [
        {
          "output_type": "execute_result",
          "data": {
            "text/plain": [
              "array([[False, False, False, False],\n",
              "       [False, False, False, False],\n",
              "       [False, False,  True, False]])"
            ]
          },
          "metadata": {},
          "execution_count": 29
        }
      ]
    },
    {
      "cell_type": "code",
      "source": [
        "#Vector operation\n",
        "a4**a5"
      ],
      "metadata": {
        "colab": {
          "base_uri": "https://localhost:8080/"
        },
        "id": "VESYRCky8jmg",
        "outputId": "ee7711e7-a84f-4202-fb14-05e0b41bc1f3"
      },
      "execution_count": null,
      "outputs": [
        {
          "output_type": "execute_result",
          "data": {
            "text/plain": [
              "array([[                   0,                    1,                16384,\n",
              "                    14348907],\n",
              "       [          4294967296,         762939453125,      101559956668416,\n",
              "           11398895185373143],\n",
              "       [ 1152921504606846976, -1261475310744950487,  1864712049423024128,\n",
              "         6839173302027254275]])"
            ]
          },
          "metadata": {},
          "execution_count": 30
        }
      ]
    },
    {
      "cell_type": "code",
      "source": [
        "##Array function\n",
        "#a6=np.random.random((3,3))\n",
        "a6=np.round(a6*100)\n",
        "print(a6)"
      ],
      "metadata": {
        "colab": {
          "base_uri": "https://localhost:8080/"
        },
        "id": "nHLkXhsD8o-F",
        "outputId": "aec9573d-40f9-4860-f043-23b2f679b62d"
      },
      "execution_count": null,
      "outputs": [
        {
          "output_type": "stream",
          "name": "stdout",
          "text": [
            "[[13. 78. 22.]\n",
            " [70.  6. 47.]\n",
            " [24. 99. 36.]]\n"
          ]
        }
      ]
    },
    {
      "cell_type": "code",
      "source": [
        "np.prod(a6,axis=0)"
      ],
      "metadata": {
        "colab": {
          "base_uri": "https://localhost:8080/"
        },
        "id": "lDwfEjZU9FOm",
        "outputId": "93e52378-f4d9-491e-affb-c05d31097d03"
      },
      "execution_count": null,
      "outputs": [
        {
          "output_type": "execute_result",
          "data": {
            "text/plain": [
              "array([21840., 46332., 37224.])"
            ]
          },
          "metadata": {},
          "execution_count": 35
        }
      ]
    },
    {
      "cell_type": "code",
      "source": [
        "np.prod(a6,axis=1)"
      ],
      "metadata": {
        "colab": {
          "base_uri": "https://localhost:8080/"
        },
        "id": "wIp4zcIy9ewD",
        "outputId": "38161b14-b057-470b-92ad-3a1d5c650e5c"
      },
      "execution_count": null,
      "outputs": [
        {
          "output_type": "execute_result",
          "data": {
            "text/plain": [
              "array([22308., 19740., 85536.])"
            ]
          },
          "metadata": {},
          "execution_count": 36
        }
      ]
    },
    {
      "cell_type": "code",
      "source": [
        "np.mean(a6)"
      ],
      "metadata": {
        "colab": {
          "base_uri": "https://localhost:8080/"
        },
        "id": "iWJRGgQN9si0",
        "outputId": "fb2aff88-153a-4b66-d34c-ab237c03b037"
      },
      "execution_count": null,
      "outputs": [
        {
          "output_type": "execute_result",
          "data": {
            "text/plain": [
              "43.888888888888886"
            ]
          },
          "metadata": {},
          "execution_count": 37
        }
      ]
    },
    {
      "cell_type": "code",
      "source": [
        "np.mean(a6,axis=0)"
      ],
      "metadata": {
        "colab": {
          "base_uri": "https://localhost:8080/"
        },
        "id": "6ktw4vrf-AeU",
        "outputId": "540ee059-e94d-4170-b7ce-d9249719e2be"
      },
      "execution_count": null,
      "outputs": [
        {
          "output_type": "execute_result",
          "data": {
            "text/plain": [
              "array([35.66666667, 61.        , 35.        ])"
            ]
          },
          "metadata": {},
          "execution_count": 38
        }
      ]
    },
    {
      "cell_type": "code",
      "source": [
        "np.var(a6,axis=0)"
      ],
      "metadata": {
        "colab": {
          "base_uri": "https://localhost:8080/"
        },
        "id": "DeYMZQP--G2k",
        "outputId": "16038029-64d0-41d5-995c-7c423780f9a2"
      },
      "execution_count": null,
      "outputs": [
        {
          "output_type": "execute_result",
          "data": {
            "text/plain": [
              "array([ 609.55555556, 1586.        ,  104.66666667])"
            ]
          },
          "metadata": {},
          "execution_count": 39
        }
      ]
    },
    {
      "cell_type": "code",
      "source": [
        "np.std(a6,axis=0)"
      ],
      "metadata": {
        "colab": {
          "base_uri": "https://localhost:8080/"
        },
        "id": "5DuAmWXJ-MiD",
        "outputId": "a89cfc5b-b587-455e-f696-a2ff6adb63c6"
      },
      "execution_count": null,
      "outputs": [
        {
          "output_type": "execute_result",
          "data": {
            "text/plain": [
              "array([24.68917892, 39.8246155 , 10.23067284])"
            ]
          },
          "metadata": {},
          "execution_count": 40
        }
      ]
    },
    {
      "cell_type": "code",
      "source": [
        "np.sin(a6)"
      ],
      "metadata": {
        "colab": {
          "base_uri": "https://localhost:8080/"
        },
        "id": "sckmSg0G-fEl",
        "outputId": "191ee680-6062-4dc5-efb7-57c8f42fd74d"
      },
      "execution_count": null,
      "outputs": [
        {
          "output_type": "execute_result",
          "data": {
            "text/plain": [
              "array([[ 0.42016704,  0.51397846, -0.00885131],\n",
              "       [ 0.77389068, -0.2794155 ,  0.12357312],\n",
              "       [-0.90557836, -0.99920683, -0.99177885]])"
            ]
          },
          "metadata": {},
          "execution_count": 41
        }
      ]
    },
    {
      "cell_type": "code",
      "source": [
        "#Dot Product\n",
        "a7=np.arange(12).reshape(3,4)\n",
        "a8=np.arange(12,24).reshape(4,3)\n",
        "np.dot(a7,a8)"
      ],
      "metadata": {
        "colab": {
          "base_uri": "https://localhost:8080/"
        },
        "id": "g6lAtWZS-h_i",
        "outputId": "bf34465e-bf5a-48e1-b2b2-1097d671d427"
      },
      "execution_count": null,
      "outputs": [
        {
          "output_type": "execute_result",
          "data": {
            "text/plain": [
              "array([[114, 120, 126],\n",
              "       [378, 400, 422],\n",
              "       [642, 680, 718]])"
            ]
          },
          "metadata": {},
          "execution_count": 43
        }
      ]
    },
    {
      "cell_type": "code",
      "source": [
        "#log and Exponent\n",
        "np.exp(a7)"
      ],
      "metadata": {
        "colab": {
          "base_uri": "https://localhost:8080/"
        },
        "id": "jAbcnJ2y-9Au",
        "outputId": "494d6944-9add-4c8b-e120-543bc312f7d6"
      },
      "execution_count": null,
      "outputs": [
        {
          "output_type": "execute_result",
          "data": {
            "text/plain": [
              "array([[1.00000000e+00, 2.71828183e+00, 7.38905610e+00, 2.00855369e+01],\n",
              "       [5.45981500e+01, 1.48413159e+02, 4.03428793e+02, 1.09663316e+03],\n",
              "       [2.98095799e+03, 8.10308393e+03, 2.20264658e+04, 5.98741417e+04]])"
            ]
          },
          "metadata": {},
          "execution_count": 44
        }
      ]
    },
    {
      "cell_type": "code",
      "source": [
        "np.log(a7)"
      ],
      "metadata": {
        "colab": {
          "base_uri": "https://localhost:8080/"
        },
        "id": "b8UQIM1X_JHx",
        "outputId": "ad0e441a-ca8e-4280-9836-9f6d2c697392"
      },
      "execution_count": null,
      "outputs": [
        {
          "output_type": "stream",
          "name": "stderr",
          "text": [
            "<ipython-input-45-724d4b042894>:1: RuntimeWarning: divide by zero encountered in log\n",
            "  np.log(a7)\n"
          ]
        },
        {
          "output_type": "execute_result",
          "data": {
            "text/plain": [
              "array([[      -inf, 0.        , 0.69314718, 1.09861229],\n",
              "       [1.38629436, 1.60943791, 1.79175947, 1.94591015],\n",
              "       [2.07944154, 2.19722458, 2.30258509, 2.39789527]])"
            ]
          },
          "metadata": {},
          "execution_count": 45
        }
      ]
    },
    {
      "cell_type": "code",
      "source": [
        "print(np.ceil(np.random.random((3,4))*100))\n",
        "print(np.floor(a8))\n",
        "print(np.round(a8))"
      ],
      "metadata": {
        "colab": {
          "base_uri": "https://localhost:8080/"
        },
        "id": "mDBxaRyQ_OIM",
        "outputId": "0f50338e-0891-42f3-c9b8-b8934416b8a4"
      },
      "execution_count": null,
      "outputs": [
        {
          "output_type": "stream",
          "name": "stdout",
          "text": [
            "[[51. 61. 61. 13.]\n",
            " [83. 72. 33. 76.]\n",
            " [51. 96. 70. 94.]]\n",
            "[[12. 13. 14.]\n",
            " [15. 16. 17.]\n",
            " [18. 19. 20.]\n",
            " [21. 22. 23.]]\n",
            "[[12 13 14]\n",
            " [15 16 17]\n",
            " [18 19 20]\n",
            " [21 22 23]]\n"
          ]
        }
      ]
    },
    {
      "cell_type": "markdown",
      "source": [
        "##Indexing and SLicing"
      ],
      "metadata": {
        "id": "aXanu8mQARHf"
      }
    },
    {
      "cell_type": "code",
      "source": [
        "l1=np.arange(10)\n",
        "l2=np.arange(12,24).reshape(3,4)\n",
        "l3=np.arange(8).reshape(2,2,2)\n",
        "print(a1)\n",
        "print(a2)\n",
        "print(a3)"
      ],
      "metadata": {
        "colab": {
          "base_uri": "https://localhost:8080/"
        },
        "id": "57-mFuBxAUVs",
        "outputId": "708febc9-f626-4820-9888-30d2eb3c397b"
      },
      "execution_count": null,
      "outputs": [
        {
          "output_type": "stream",
          "name": "stdout",
          "text": [
            "[0 1 2 3 4 5 6 7 8 9]\n",
            "[[ 0.  1.  2.  3.]\n",
            " [ 4.  5.  6.  7.]\n",
            " [ 8.  9. 10. 11.]]\n",
            "[[[0 1]\n",
            "  [2 3]]\n",
            "\n",
            " [[4 5]\n",
            "  [6 7]]]\n"
          ]
        }
      ]
    },
    {
      "cell_type": "markdown",
      "source": [
        "#Session 3"
      ],
      "metadata": {
        "id": "fS4_bPxPB34x"
      }
    },
    {
      "cell_type": "code",
      "source": [
        "#np.sort\n",
        "import numpy as np\n",
        "a=np.random.randint(1,100,15)\n",
        "a"
      ],
      "metadata": {
        "colab": {
          "base_uri": "https://localhost:8080/"
        },
        "id": "ouXRiGJjT2Ho",
        "outputId": "009460bf-29e2-4466-d494-9279163c5654"
      },
      "execution_count": null,
      "outputs": [
        {
          "output_type": "execute_result",
          "data": {
            "text/plain": [
              "array([55, 46,  6, 41,  6, 71, 50, 32, 51, 39, 43, 33, 51,  1, 48])"
            ]
          },
          "metadata": {},
          "execution_count": 1
        }
      ]
    },
    {
      "cell_type": "code",
      "source": [
        "b=np.random.randint(1,100,24).reshape(6,4)\n",
        "b"
      ],
      "metadata": {
        "colab": {
          "base_uri": "https://localhost:8080/"
        },
        "id": "XDFJTSgCUGO4",
        "outputId": "b91289c9-02c2-484f-ba05-db5b60922458"
      },
      "execution_count": null,
      "outputs": [
        {
          "output_type": "execute_result",
          "data": {
            "text/plain": [
              "array([[ 3, 73, 67, 20],\n",
              "       [55, 48, 33, 11],\n",
              "       [67, 50, 89, 78],\n",
              "       [37, 16, 82, 21],\n",
              "       [74, 42, 86, 38],\n",
              "       [53, 83, 81, 92]])"
            ]
          },
          "metadata": {},
          "execution_count": 2
        }
      ]
    },
    {
      "cell_type": "code",
      "source": [
        "np.sort(a)"
      ],
      "metadata": {
        "colab": {
          "base_uri": "https://localhost:8080/"
        },
        "id": "L-8Uk_zIUPSB",
        "outputId": "7dcca7a3-3eac-4c2e-e239-efff956fcec1"
      },
      "execution_count": null,
      "outputs": [
        {
          "output_type": "execute_result",
          "data": {
            "text/plain": [
              "array([ 1,  6,  6, 32, 33, 39, 41, 43, 46, 48, 50, 51, 51, 55, 71])"
            ]
          },
          "metadata": {},
          "execution_count": 4
        }
      ]
    },
    {
      "cell_type": "code",
      "source": [
        "np.sort(b)"
      ],
      "metadata": {
        "colab": {
          "base_uri": "https://localhost:8080/"
        },
        "id": "l1NeJ7oAUUqt",
        "outputId": "a31ad06d-d31a-4dfe-bb88-e5f20336f40b"
      },
      "execution_count": null,
      "outputs": [
        {
          "output_type": "execute_result",
          "data": {
            "text/plain": [
              "array([[ 3, 20, 67, 73],\n",
              "       [11, 33, 48, 55],\n",
              "       [50, 67, 78, 89],\n",
              "       [16, 21, 37, 82],\n",
              "       [38, 42, 74, 86],\n",
              "       [53, 81, 83, 92]])"
            ]
          },
          "metadata": {},
          "execution_count": 6
        }
      ]
    },
    {
      "cell_type": "code",
      "source": [
        "np.sort(b,axis=0)"
      ],
      "metadata": {
        "colab": {
          "base_uri": "https://localhost:8080/"
        },
        "id": "07NU-F3JUfAu",
        "outputId": "a6d7e504-d552-47c3-e852-7440190aa082"
      },
      "execution_count": null,
      "outputs": [
        {
          "output_type": "execute_result",
          "data": {
            "text/plain": [
              "array([[ 3, 16, 33, 11],\n",
              "       [37, 42, 67, 20],\n",
              "       [53, 48, 81, 21],\n",
              "       [55, 50, 82, 38],\n",
              "       [67, 73, 86, 78],\n",
              "       [74, 83, 89, 92]])"
            ]
          },
          "metadata": {},
          "execution_count": 7
        }
      ]
    },
    {
      "cell_type": "code",
      "source": [
        "np.sort(a)[::-1]"
      ],
      "metadata": {
        "colab": {
          "base_uri": "https://localhost:8080/"
        },
        "id": "zs-KPH2jUmam",
        "outputId": "ded09a8c-2fd3-4314-fea0-e4ee6dc618e2"
      },
      "execution_count": null,
      "outputs": [
        {
          "output_type": "execute_result",
          "data": {
            "text/plain": [
              "array([71, 55, 51, 51, 50, 48, 46, 43, 41, 39, 33, 32,  6,  6,  1])"
            ]
          },
          "metadata": {},
          "execution_count": 8
        }
      ]
    },
    {
      "cell_type": "code",
      "source": [
        "#np.append\n",
        "np.append(a,200)"
      ],
      "metadata": {
        "colab": {
          "base_uri": "https://localhost:8080/"
        },
        "id": "6cTxnLqhUrTN",
        "outputId": "8c884e9f-cee6-4e0d-c0b2-9732b5a5c88e"
      },
      "execution_count": null,
      "outputs": [
        {
          "output_type": "execute_result",
          "data": {
            "text/plain": [
              "array([ 55,  46,   6,  41,   6,  71,  50,  32,  51,  39,  43,  33,  51,\n",
              "         1,  48, 200])"
            ]
          },
          "metadata": {},
          "execution_count": 9
        }
      ]
    },
    {
      "cell_type": "code",
      "source": [
        "np.append(b,np.ones((1,b.shape[1])),axis=0)"
      ],
      "metadata": {
        "colab": {
          "base_uri": "https://localhost:8080/"
        },
        "id": "m5pDvj5OUzPz",
        "outputId": "3ddc8059-8897-44d6-9eb0-c467f96e6617"
      },
      "execution_count": null,
      "outputs": [
        {
          "output_type": "execute_result",
          "data": {
            "text/plain": [
              "array([[ 3., 73., 67., 20.],\n",
              "       [55., 48., 33., 11.],\n",
              "       [67., 50., 89., 78.],\n",
              "       [37., 16., 82., 21.],\n",
              "       [74., 42., 86., 38.],\n",
              "       [53., 83., 81., 92.],\n",
              "       [ 1.,  1.,  1.,  1.]])"
            ]
          },
          "metadata": {},
          "execution_count": 16
        }
      ]
    },
    {
      "cell_type": "code",
      "source": [
        "np.append(b,np.ones((b.shape[0],1)),axis=1)"
      ],
      "metadata": {
        "colab": {
          "base_uri": "https://localhost:8080/"
        },
        "id": "f7BekMQUXYik",
        "outputId": "7b70dcec-54fc-40d5-8231-ae9d5b4432a5"
      },
      "execution_count": null,
      "outputs": [
        {
          "output_type": "execute_result",
          "data": {
            "text/plain": [
              "array([[ 3., 73., 67., 20.,  1.],\n",
              "       [55., 48., 33., 11.,  1.],\n",
              "       [67., 50., 89., 78.,  1.],\n",
              "       [37., 16., 82., 21.,  1.],\n",
              "       [74., 42., 86., 38.,  1.],\n",
              "       [53., 83., 81., 92.,  1.]])"
            ]
          },
          "metadata": {},
          "execution_count": 22
        }
      ]
    },
    {
      "cell_type": "code",
      "source": [
        "#np.concatenate()"
      ],
      "metadata": {
        "id": "WOkQ00lxZN86"
      },
      "execution_count": null,
      "outputs": []
    },
    {
      "cell_type": "code",
      "source": [
        "c=np.arange(6).reshape(2,3)\n",
        "d=np.arange(6,12).reshape(2,3)\n",
        "print(c)\n",
        "print(d)"
      ],
      "metadata": {
        "colab": {
          "base_uri": "https://localhost:8080/"
        },
        "id": "9QD2HQsdZUSM",
        "outputId": "57cac3f3-290f-4508-9fdb-fca1a636edc8"
      },
      "execution_count": null,
      "outputs": [
        {
          "output_type": "stream",
          "name": "stdout",
          "text": [
            "[[0 1 2]\n",
            " [3 4 5]]\n",
            "[[ 6  7  8]\n",
            " [ 9 10 11]]\n"
          ]
        }
      ]
    },
    {
      "cell_type": "code",
      "source": [
        "np.concatenate((c,d),axis=0)"
      ],
      "metadata": {
        "colab": {
          "base_uri": "https://localhost:8080/"
        },
        "id": "Hup9Cc0nZjU2",
        "outputId": "df896fc9-d16f-4dda-cf9d-19b2ae329b66"
      },
      "execution_count": null,
      "outputs": [
        {
          "output_type": "execute_result",
          "data": {
            "text/plain": [
              "array([[ 0,  1,  2],\n",
              "       [ 3,  4,  5],\n",
              "       [ 6,  7,  8],\n",
              "       [ 9, 10, 11]])"
            ]
          },
          "metadata": {},
          "execution_count": 25
        }
      ]
    },
    {
      "cell_type": "code",
      "source": [
        "np.concatenate((c,d), axis=1)"
      ],
      "metadata": {
        "colab": {
          "base_uri": "https://localhost:8080/"
        },
        "id": "KZoqZIhlZxnH",
        "outputId": "dcadb782-549c-41ec-d68d-d12ba706e5ae"
      },
      "execution_count": null,
      "outputs": [
        {
          "output_type": "execute_result",
          "data": {
            "text/plain": [
              "array([[ 0,  1,  2,  6,  7,  8],\n",
              "       [ 3,  4,  5,  9, 10, 11]])"
            ]
          },
          "metadata": {},
          "execution_count": 26
        }
      ]
    },
    {
      "cell_type": "code",
      "source": [
        "#np.unique\n",
        "e=np.array([1,1,2,2,3,3,4,4,5,5,6,6])\n",
        "np.unique(e)"
      ],
      "metadata": {
        "colab": {
          "base_uri": "https://localhost:8080/"
        },
        "id": "gd2_LE1rZ2U3",
        "outputId": "68ca0752-d29c-444e-d251-48eab7187cb3"
      },
      "execution_count": null,
      "outputs": [
        {
          "output_type": "execute_result",
          "data": {
            "text/plain": [
              "array([1, 2, 3, 4, 5, 6])"
            ]
          },
          "metadata": {},
          "execution_count": 27
        }
      ]
    },
    {
      "cell_type": "code",
      "source": [
        "#np.expand_dims()\n",
        "a.shape"
      ],
      "metadata": {
        "colab": {
          "base_uri": "https://localhost:8080/"
        },
        "id": "D_2fCAHkaJI8",
        "outputId": "4fe0341f-a860-4122-9207-ba78d62b8e63"
      },
      "execution_count": null,
      "outputs": [
        {
          "output_type": "execute_result",
          "data": {
            "text/plain": [
              "(15,)"
            ]
          },
          "metadata": {},
          "execution_count": 30
        }
      ]
    },
    {
      "cell_type": "code",
      "source": [
        "np.expand_dims(a,axis=0).shape"
      ],
      "metadata": {
        "colab": {
          "base_uri": "https://localhost:8080/"
        },
        "id": "0Y_BmPILav2p",
        "outputId": "d0117bf1-26f4-4be1-df1d-daac77c4b3e5"
      },
      "execution_count": null,
      "outputs": [
        {
          "output_type": "execute_result",
          "data": {
            "text/plain": [
              "(1, 15)"
            ]
          },
          "metadata": {},
          "execution_count": 31
        }
      ]
    },
    {
      "cell_type": "code",
      "source": [
        "np.expand_dims(a,axis=0)"
      ],
      "metadata": {
        "colab": {
          "base_uri": "https://localhost:8080/"
        },
        "id": "gCPYLzASbPXS",
        "outputId": "d72ec42f-a99f-43ca-abbf-38b5710f389e"
      },
      "execution_count": null,
      "outputs": [
        {
          "output_type": "execute_result",
          "data": {
            "text/plain": [
              "array([[55, 46,  6, 41,  6, 71, 50, 32, 51, 39, 43, 33, 51,  1, 48]])"
            ]
          },
          "metadata": {},
          "execution_count": 35
        }
      ]
    },
    {
      "cell_type": "code",
      "source": [
        "np.expand_dims(a,axis=1).shape"
      ],
      "metadata": {
        "colab": {
          "base_uri": "https://localhost:8080/"
        },
        "id": "t2S3ISnFbXT-",
        "outputId": "92a39fe6-e5a5-4bee-9ca3-f8eeddabb0e9"
      },
      "execution_count": null,
      "outputs": [
        {
          "output_type": "execute_result",
          "data": {
            "text/plain": [
              "(15, 1)"
            ]
          },
          "metadata": {},
          "execution_count": 36
        }
      ]
    },
    {
      "cell_type": "code",
      "source": [
        "np.expand_dims(a,axis=1)"
      ],
      "metadata": {
        "colab": {
          "base_uri": "https://localhost:8080/"
        },
        "id": "R0EVtLKna2YX",
        "outputId": "0ca97ff0-4a8c-4adb-8763-083a5cffb240"
      },
      "execution_count": null,
      "outputs": [
        {
          "output_type": "execute_result",
          "data": {
            "text/plain": [
              "array([[55],\n",
              "       [46],\n",
              "       [ 6],\n",
              "       [41],\n",
              "       [ 6],\n",
              "       [71],\n",
              "       [50],\n",
              "       [32],\n",
              "       [51],\n",
              "       [39],\n",
              "       [43],\n",
              "       [33],\n",
              "       [51],\n",
              "       [ 1],\n",
              "       [48]])"
            ]
          },
          "metadata": {},
          "execution_count": 33
        }
      ]
    },
    {
      "cell_type": "code",
      "source": [],
      "metadata": {
        "id": "JOrGDYqMbk0w"
      },
      "execution_count": null,
      "outputs": []
    },
    {
      "cell_type": "code",
      "source": [
        "np.expand_dims(b,axis=0).shape"
      ],
      "metadata": {
        "colab": {
          "base_uri": "https://localhost:8080/"
        },
        "id": "TONcR21ZbAPB",
        "outputId": "a6fc30c1-3395-45ce-ec72-82987ec8811f"
      },
      "execution_count": null,
      "outputs": [
        {
          "output_type": "execute_result",
          "data": {
            "text/plain": [
              "(1, 6, 4)"
            ]
          },
          "metadata": {},
          "execution_count": 34
        }
      ]
    },
    {
      "cell_type": "code",
      "source": [
        "#np.where()\n",
        "np.where(a>50)"
      ],
      "metadata": {
        "colab": {
          "base_uri": "https://localhost:8080/"
        },
        "id": "gZSSHgvPbmGe",
        "outputId": "acf399a8-0ca7-49fb-dd7c-70faa7612587"
      },
      "execution_count": null,
      "outputs": [
        {
          "output_type": "execute_result",
          "data": {
            "text/plain": [
              "(array([ 0,  5,  8, 12]),)"
            ]
          },
          "metadata": {},
          "execution_count": 37
        }
      ]
    },
    {
      "cell_type": "code",
      "source": [
        "np.where(a%2==0,0,a)"
      ],
      "metadata": {
        "colab": {
          "base_uri": "https://localhost:8080/"
        },
        "id": "46cp-YuXb4fX",
        "outputId": "2a331139-b14f-47e0-cfac-6bc36a696c2d"
      },
      "execution_count": null,
      "outputs": [
        {
          "output_type": "execute_result",
          "data": {
            "text/plain": [
              "array([55,  0,  0, 41,  0, 71,  0,  0, 51, 39, 43, 33, 51,  1,  0])"
            ]
          },
          "metadata": {},
          "execution_count": 41
        }
      ]
    },
    {
      "cell_type": "code",
      "source": [
        "a[np.where(~(a%2==0) & (a>10))]"
      ],
      "metadata": {
        "colab": {
          "base_uri": "https://localhost:8080/"
        },
        "id": "7lBWTwuMchzy",
        "outputId": "ff59e3f6-39fa-4aa0-b4bc-412154761edf"
      },
      "execution_count": null,
      "outputs": [
        {
          "output_type": "execute_result",
          "data": {
            "text/plain": [
              "array([55, 41, 71, 51, 39, 43, 33, 51])"
            ]
          },
          "metadata": {},
          "execution_count": 45
        }
      ]
    },
    {
      "cell_type": "code",
      "source": [
        "#np.argmax\n",
        "np.argmax(a)"
      ],
      "metadata": {
        "colab": {
          "base_uri": "https://localhost:8080/"
        },
        "id": "qbk5AV83dXPu",
        "outputId": "de67bb63-aeda-4e6e-8a22-f7eeee1920bd"
      },
      "execution_count": null,
      "outputs": [
        {
          "output_type": "execute_result",
          "data": {
            "text/plain": [
              "5"
            ]
          },
          "metadata": {},
          "execution_count": 46
        }
      ]
    },
    {
      "cell_type": "code",
      "source": [
        "a[np.argmax(a)]"
      ],
      "metadata": {
        "colab": {
          "base_uri": "https://localhost:8080/"
        },
        "id": "Bt4Rr9Uhdf6k",
        "outputId": "29d54581-cd6c-43c4-8d40-e913fd70d9e1"
      },
      "execution_count": null,
      "outputs": [
        {
          "output_type": "execute_result",
          "data": {
            "text/plain": [
              "71"
            ]
          },
          "metadata": {},
          "execution_count": 47
        }
      ]
    },
    {
      "cell_type": "code",
      "source": [
        "a[np.argmin(a)]"
      ],
      "metadata": {
        "colab": {
          "base_uri": "https://localhost:8080/"
        },
        "id": "MfXL_-BqdnFs",
        "outputId": "6462490c-ab83-42f0-f445-d439730b5410"
      },
      "execution_count": null,
      "outputs": [
        {
          "output_type": "execute_result",
          "data": {
            "text/plain": [
              "1"
            ]
          },
          "metadata": {},
          "execution_count": 48
        }
      ]
    },
    {
      "cell_type": "code",
      "source": [
        "np.unravel_index(np.argmax(b), b.shape)"
      ],
      "metadata": {
        "colab": {
          "base_uri": "https://localhost:8080/"
        },
        "id": "PiS0QZw1dq2Z",
        "outputId": "570ebc81-35b7-4a0a-aca3-d8d89206d8c2"
      },
      "execution_count": null,
      "outputs": [
        {
          "output_type": "execute_result",
          "data": {
            "text/plain": [
              "(5, 3)"
            ]
          },
          "metadata": {},
          "execution_count": 53
        }
      ]
    },
    {
      "cell_type": "markdown",
      "source": [
        "![image.png](data:image/png;base64,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)"
      ],
      "metadata": {
        "id": "CqKz0K4Cf_Fl"
      }
    },
    {
      "cell_type": "code",
      "source": [
        "#np.cumsum()\n",
        "np.cumsum(a)"
      ],
      "metadata": {
        "colab": {
          "base_uri": "https://localhost:8080/"
        },
        "id": "Z4XFJeHLgZFj",
        "outputId": "65d5a3ad-97f4-4206-c54c-d9a5757ed8cc"
      },
      "execution_count": null,
      "outputs": [
        {
          "output_type": "execute_result",
          "data": {
            "text/plain": [
              "array([ 55, 101, 107, 148, 154, 225, 275, 307, 358, 397, 440, 473, 524,\n",
              "       525, 573])"
            ]
          },
          "metadata": {},
          "execution_count": 54
        }
      ]
    },
    {
      "cell_type": "code",
      "source": [
        "np.cumsum(b,axis=0)"
      ],
      "metadata": {
        "colab": {
          "base_uri": "https://localhost:8080/"
        },
        "id": "Fbz1pL8hgiA8",
        "outputId": "b68c3b11-869f-46ac-cae8-99734ca849f3"
      },
      "execution_count": null,
      "outputs": [
        {
          "output_type": "execute_result",
          "data": {
            "text/plain": [
              "array([[  3,  73,  67,  20],\n",
              "       [ 58, 121, 100,  31],\n",
              "       [125, 171, 189, 109],\n",
              "       [162, 187, 271, 130],\n",
              "       [236, 229, 357, 168],\n",
              "       [289, 312, 438, 260]])"
            ]
          },
          "metadata": {},
          "execution_count": 55
        }
      ]
    },
    {
      "cell_type": "code",
      "source": [
        "np.cumsum(b,axis=1)"
      ],
      "metadata": {
        "colab": {
          "base_uri": "https://localhost:8080/"
        },
        "id": "6EHCBxV-gpqm",
        "outputId": "e8857661-c98a-4b19-cb66-96a5e8748949"
      },
      "execution_count": null,
      "outputs": [
        {
          "output_type": "execute_result",
          "data": {
            "text/plain": [
              "array([[  3,  76, 143, 163],\n",
              "       [ 55, 103, 136, 147],\n",
              "       [ 67, 117, 206, 284],\n",
              "       [ 37,  53, 135, 156],\n",
              "       [ 74, 116, 202, 240],\n",
              "       [ 53, 136, 217, 309]])"
            ]
          },
          "metadata": {},
          "execution_count": 56
        }
      ]
    },
    {
      "cell_type": "code",
      "source": [
        "np.cumsum(b)"
      ],
      "metadata": {
        "colab": {
          "base_uri": "https://localhost:8080/"
        },
        "id": "niorTHsQgt3z",
        "outputId": "42bbbe1a-ade8-4420-e324-723194c0f9ed"
      },
      "execution_count": null,
      "outputs": [
        {
          "output_type": "execute_result",
          "data": {
            "text/plain": [
              "array([   3,   76,  143,  163,  218,  266,  299,  310,  377,  427,  516,\n",
              "        594,  631,  647,  729,  750,  824,  866,  952,  990, 1043, 1126,\n",
              "       1207, 1299])"
            ]
          },
          "metadata": {},
          "execution_count": 57
        }
      ]
    },
    {
      "cell_type": "code",
      "source": [
        "np.cumprod(a)"
      ],
      "metadata": {
        "colab": {
          "base_uri": "https://localhost:8080/"
        },
        "id": "PoLx4wRZgyFy",
        "outputId": "0d85d69e-61f6-4b67-92fd-784996156957"
      },
      "execution_count": null,
      "outputs": [
        {
          "output_type": "execute_result",
          "data": {
            "text/plain": [
              "array([                  55,                 2530,                15180,\n",
              "                     622380,              3734280,            265133880,\n",
              "                13256694000,         424214208000,       21634924608000,\n",
              "            843762059712000,    36281768567616000,  1197298362731328000,\n",
              "        5721984278169073152,  5721984278169073152, -2045915753527762944])"
            ]
          },
          "metadata": {},
          "execution_count": 59
        }
      ]
    },
    {
      "cell_type": "code",
      "source": [
        "np.sum(a)"
      ],
      "metadata": {
        "colab": {
          "base_uri": "https://localhost:8080/"
        },
        "id": "fXmEkiVWg54C",
        "outputId": "343d9c24-5acf-4f54-d584-f7bae8cacd69"
      },
      "execution_count": null,
      "outputs": [
        {
          "output_type": "execute_result",
          "data": {
            "text/plain": [
              "573"
            ]
          },
          "metadata": {},
          "execution_count": 60
        }
      ]
    },
    {
      "cell_type": "code",
      "source": [
        "np.max(b,axis=1)"
      ],
      "metadata": {
        "colab": {
          "base_uri": "https://localhost:8080/"
        },
        "id": "fmX7LcI7g2cp",
        "outputId": "0b972995-701f-438a-8e3f-10ba728f1fd3"
      },
      "execution_count": null,
      "outputs": [
        {
          "output_type": "execute_result",
          "data": {
            "text/plain": [
              "array([73, 55, 89, 82, 86, 92])"
            ]
          },
          "metadata": {},
          "execution_count": 63
        }
      ]
    },
    {
      "cell_type": "code",
      "source": [
        "#np.percentile\n",
        "np.percentile(a,50)"
      ],
      "metadata": {
        "colab": {
          "base_uri": "https://localhost:8080/"
        },
        "id": "_-bDyRf_hA9P",
        "outputId": "e6d252e8-d2cb-4f0e-f47c-186af46b8105"
      },
      "execution_count": null,
      "outputs": [
        {
          "output_type": "execute_result",
          "data": {
            "text/plain": [
              "43.0"
            ]
          },
          "metadata": {},
          "execution_count": 64
        }
      ]
    },
    {
      "cell_type": "code",
      "source": [
        "np.median(a)"
      ],
      "metadata": {
        "colab": {
          "base_uri": "https://localhost:8080/"
        },
        "id": "e3R91ETihNVn",
        "outputId": "2ce9b03d-ea85-4d88-acaf-6e4cf2aee289"
      },
      "execution_count": null,
      "outputs": [
        {
          "output_type": "execute_result",
          "data": {
            "text/plain": [
              "43.0"
            ]
          },
          "metadata": {},
          "execution_count": 67
        }
      ]
    },
    {
      "cell_type": "code",
      "source": [
        "np.mean(a)"
      ],
      "metadata": {
        "colab": {
          "base_uri": "https://localhost:8080/"
        },
        "id": "CKDXkLCFhTO6",
        "outputId": "1ab0730e-baa2-40ce-f925-17ce508c823d"
      },
      "execution_count": null,
      "outputs": [
        {
          "output_type": "execute_result",
          "data": {
            "text/plain": [
              "38.2"
            ]
          },
          "metadata": {},
          "execution_count": 68
        }
      ]
    },
    {
      "cell_type": "code",
      "source": [
        "#np.histogram()\n",
        "np.histogram(a,bins=10)"
      ],
      "metadata": {
        "colab": {
          "base_uri": "https://localhost:8080/"
        },
        "id": "I0Roio9AhVys",
        "outputId": "cb124473-94de-4822-f66b-b776e50cd97c"
      },
      "execution_count": null,
      "outputs": [
        {
          "output_type": "execute_result",
          "data": {
            "text/plain": [
              "(array([3, 0, 0, 0, 2, 2, 3, 4, 0, 1]),\n",
              " array([ 1.,  8., 15., 22., 29., 36., 43., 50., 57., 64., 71.]))"
            ]
          },
          "metadata": {},
          "execution_count": 70
        }
      ]
    },
    {
      "cell_type": "code",
      "source": [
        "np.histogram(b,bins=10)"
      ],
      "metadata": {
        "colab": {
          "base_uri": "https://localhost:8080/"
        },
        "id": "5pFo5jLLh0Vt",
        "outputId": "58ba0eed-dd07-4627-ac7b-87aa08a924fe"
      },
      "execution_count": null,
      "outputs": [
        {
          "output_type": "execute_result",
          "data": {
            "text/plain": [
              "(array([2, 2, 1, 3, 1, 4, 0, 4, 4, 3]),\n",
              " array([ 3. , 11.9, 20.8, 29.7, 38.6, 47.5, 56.4, 65.3, 74.2, 83.1, 92. ]))"
            ]
          },
          "metadata": {},
          "execution_count": 71
        }
      ]
    },
    {
      "cell_type": "code",
      "source": [
        "#np.corrcoef\n",
        "a= np.array([1,2,3,4,5,6,8])\n",
        "b=np.array([1000,3000,2000,5000,5678,9876,8790])\n",
        "np.corrcoef(a,b)"
      ],
      "metadata": {
        "colab": {
          "base_uri": "https://localhost:8080/"
        },
        "id": "ONC6ekOwh8Z3",
        "outputId": "044236d9-40a2-4874-d410-2488f0b9c4f7"
      },
      "execution_count": null,
      "outputs": [
        {
          "output_type": "execute_result",
          "data": {
            "text/plain": [
              "array([[1.        , 0.91769072],\n",
              "       [0.91769072, 1.        ]])"
            ]
          },
          "metadata": {},
          "execution_count": 72
        }
      ]
    },
    {
      "cell_type": "markdown",
      "source": [
        "#np.isin\n",
        "#With the help of numpy.isin() method, we can see that one array having values are checked in a different numpy array having different elements with different sizes."
      ],
      "metadata": {
        "id": "3u87COa-iWv0"
      }
    },
    {
      "cell_type": "code",
      "source": [
        "a9=np.random.randint(1,100,12)\n",
        "a9"
      ],
      "metadata": {
        "colab": {
          "base_uri": "https://localhost:8080/"
        },
        "id": "dJyLcGuw0CBC",
        "outputId": "05bd9e9b-b2db-4e43-e796-de15d9b2b133"
      },
      "execution_count": null,
      "outputs": [
        {
          "output_type": "execute_result",
          "data": {
            "text/plain": [
              "array([44, 24, 10, 76,  1, 58, 31,  8, 96, 37, 89, 83])"
            ]
          },
          "metadata": {},
          "execution_count": 75
        }
      ]
    },
    {
      "cell_type": "code",
      "source": [
        "items=[10,20,30,40,50,60,70,80,90]"
      ],
      "metadata": {
        "id": "rOS9X64L0RgS"
      },
      "execution_count": null,
      "outputs": []
    },
    {
      "cell_type": "code",
      "source": [
        "a9[np.isin(a9,items)]"
      ],
      "metadata": {
        "colab": {
          "base_uri": "https://localhost:8080/"
        },
        "id": "txsR_LRs0ZKU",
        "outputId": "7608dbbe-ddf4-41e0-ddce-bb7ce178d99c"
      },
      "execution_count": null,
      "outputs": [
        {
          "output_type": "execute_result",
          "data": {
            "text/plain": [
              "array([10])"
            ]
          },
          "metadata": {},
          "execution_count": 78
        }
      ]
    },
    {
      "cell_type": "code",
      "source": [
        "#np.flip\n",
        "np.flip(a9)"
      ],
      "metadata": {
        "colab": {
          "base_uri": "https://localhost:8080/"
        },
        "id": "WVWMdaL80hLC",
        "outputId": "13682196-b971-420b-d738-88e3d0f51596"
      },
      "execution_count": null,
      "outputs": [
        {
          "output_type": "execute_result",
          "data": {
            "text/plain": [
              "array([83, 89, 37, 96,  8, 31, 58,  1, 76, 10, 24, 44])"
            ]
          },
          "metadata": {},
          "execution_count": 79
        }
      ]
    },
    {
      "cell_type": "code",
      "source": [
        "b9=np.random.randint(1,100,24).reshape(6,4)"
      ],
      "metadata": {
        "id": "3vwQvbSg0p9Y"
      },
      "execution_count": null,
      "outputs": []
    },
    {
      "cell_type": "code",
      "source": [
        "b9"
      ],
      "metadata": {
        "colab": {
          "base_uri": "https://localhost:8080/"
        },
        "id": "ykRMEEyJ0xbp",
        "outputId": "da7e1b91-3072-48a7-c0cb-747ece4aadb1"
      },
      "execution_count": null,
      "outputs": [
        {
          "output_type": "execute_result",
          "data": {
            "text/plain": [
              "array([[23, 99, 80, 33],\n",
              "       [34, 86, 83, 33],\n",
              "       [41, 30, 26, 22],\n",
              "       [58, 68, 29, 48],\n",
              "       [94, 37, 14,  7],\n",
              "       [15, 59, 44, 42]])"
            ]
          },
          "metadata": {},
          "execution_count": 81
        }
      ]
    },
    {
      "cell_type": "code",
      "source": [
        "np.flip(b9)"
      ],
      "metadata": {
        "colab": {
          "base_uri": "https://localhost:8080/"
        },
        "id": "H9_b_Bjz0z9E",
        "outputId": "4bf4bcbd-5111-42c3-92b0-ac1b8d9ba6cb"
      },
      "execution_count": null,
      "outputs": [
        {
          "output_type": "execute_result",
          "data": {
            "text/plain": [
              "array([[42, 44, 59, 15],\n",
              "       [ 7, 14, 37, 94],\n",
              "       [48, 29, 68, 58],\n",
              "       [22, 26, 30, 41],\n",
              "       [33, 83, 86, 34],\n",
              "       [33, 80, 99, 23]])"
            ]
          },
          "metadata": {},
          "execution_count": 82
        }
      ]
    },
    {
      "cell_type": "code",
      "source": [
        "np.flip(b9,axis=1)"
      ],
      "metadata": {
        "colab": {
          "base_uri": "https://localhost:8080/"
        },
        "id": "BeqwMIjJ03Ku",
        "outputId": "15ac7cab-6ba7-4cd3-b22c-bf63bdb2e822"
      },
      "execution_count": null,
      "outputs": [
        {
          "output_type": "execute_result",
          "data": {
            "text/plain": [
              "array([[33, 80, 99, 23],\n",
              "       [33, 83, 86, 34],\n",
              "       [22, 26, 30, 41],\n",
              "       [48, 29, 68, 58],\n",
              "       [ 7, 14, 37, 94],\n",
              "       [42, 44, 59, 15]])"
            ]
          },
          "metadata": {},
          "execution_count": 83
        }
      ]
    },
    {
      "cell_type": "code",
      "source": [
        "np.flip(b9,axis=0)"
      ],
      "metadata": {
        "colab": {
          "base_uri": "https://localhost:8080/"
        },
        "id": "24NhuLNn06vk",
        "outputId": "70551d16-40eb-410f-8198-a78462734b96"
      },
      "execution_count": null,
      "outputs": [
        {
          "output_type": "execute_result",
          "data": {
            "text/plain": [
              "array([[15, 59, 44, 42],\n",
              "       [94, 37, 14,  7],\n",
              "       [58, 68, 29, 48],\n",
              "       [41, 30, 26, 22],\n",
              "       [34, 86, 83, 33],\n",
              "       [23, 99, 80, 33]])"
            ]
          },
          "metadata": {},
          "execution_count": 85
        }
      ]
    },
    {
      "cell_type": "code",
      "source": [
        "np.put(a9,[4,5],[98,23])\n",
        "a9"
      ],
      "metadata": {
        "colab": {
          "base_uri": "https://localhost:8080/"
        },
        "id": "fWPOxaRF1FqR",
        "outputId": "bb993b76-b7ec-4d19-d722-848d926b7ea7"
      },
      "execution_count": null,
      "outputs": [
        {
          "output_type": "execute_result",
          "data": {
            "text/plain": [
              "array([44, 24, 10, 76, 98, 23, 31,  8, 96, 37, 89, 83])"
            ]
          },
          "metadata": {},
          "execution_count": 87
        }
      ]
    },
    {
      "cell_type": "code",
      "source": [
        "np.delete(a9,[4,5])"
      ],
      "metadata": {
        "colab": {
          "base_uri": "https://localhost:8080/"
        },
        "id": "1iMsrxtM1O4R",
        "outputId": "8e2a5d72-18cc-4315-8425-137eb4bd3428"
      },
      "execution_count": null,
      "outputs": [
        {
          "output_type": "execute_result",
          "data": {
            "text/plain": [
              "array([44, 24, 10, 76, 31,  8, 96, 37, 89, 83])"
            ]
          },
          "metadata": {},
          "execution_count": 88
        }
      ]
    },
    {
      "cell_type": "code",
      "source": [
        "a9"
      ],
      "metadata": {
        "colab": {
          "base_uri": "https://localhost:8080/"
        },
        "id": "FoIs9gej1Yb5",
        "outputId": "03931369-7e76-4d76-af32-d3b10a12d72b"
      },
      "execution_count": null,
      "outputs": [
        {
          "output_type": "execute_result",
          "data": {
            "text/plain": [
              "array([44, 24, 10, 76, 98, 23, 31,  8, 96, 37, 89, 83])"
            ]
          },
          "metadata": {},
          "execution_count": 89
        }
      ]
    },
    {
      "cell_type": "code",
      "source": [
        "np.delete(b9,2,axis=1)"
      ],
      "metadata": {
        "colab": {
          "base_uri": "https://localhost:8080/"
        },
        "id": "1Nctqi4C1cJi",
        "outputId": "85eee062-f9e4-4b17-834d-9d9c0c415fa1"
      },
      "execution_count": null,
      "outputs": [
        {
          "output_type": "execute_result",
          "data": {
            "text/plain": [
              "array([[23, 99, 33],\n",
              "       [34, 86, 33],\n",
              "       [41, 30, 22],\n",
              "       [58, 68, 48],\n",
              "       [94, 37,  7],\n",
              "       [15, 59, 42]])"
            ]
          },
          "metadata": {},
          "execution_count": 90
        }
      ]
    },
    {
      "cell_type": "code",
      "source": [
        "#Set function\n",
        "#np.union1d\n",
        "a8=np.random.randint(1,6,5)\n",
        "b8=np.random.randint(1,6,4)\n",
        "a8,b8\n"
      ],
      "metadata": {
        "colab": {
          "base_uri": "https://localhost:8080/"
        },
        "id": "idirps-w1zRB",
        "outputId": "e2e7a6a4-dd27-4ac7-c90a-437ebc543b2e"
      },
      "execution_count": null,
      "outputs": [
        {
          "output_type": "execute_result",
          "data": {
            "text/plain": [
              "(array([5, 2, 3, 5, 1]), array([1, 2, 2, 4]))"
            ]
          },
          "metadata": {},
          "execution_count": 95
        }
      ]
    },
    {
      "cell_type": "code",
      "source": [
        "np.union1d(a8,b8)"
      ],
      "metadata": {
        "colab": {
          "base_uri": "https://localhost:8080/"
        },
        "id": "vRRJjjzB2du9",
        "outputId": "da302873-9cd3-4b74-cfa2-83328892340f"
      },
      "execution_count": null,
      "outputs": [
        {
          "output_type": "execute_result",
          "data": {
            "text/plain": [
              "array([1, 2, 3, 4, 5])"
            ]
          },
          "metadata": {},
          "execution_count": 96
        }
      ]
    },
    {
      "cell_type": "code",
      "source": [
        "np.setdiff1d(a8,b8)"
      ],
      "metadata": {
        "colab": {
          "base_uri": "https://localhost:8080/"
        },
        "id": "rVJFY8cx2jEA",
        "outputId": "1da75a55-0ee4-421b-a6ff-8387e2531b9d"
      },
      "execution_count": null,
      "outputs": [
        {
          "output_type": "execute_result",
          "data": {
            "text/plain": [
              "array([3, 5])"
            ]
          },
          "metadata": {},
          "execution_count": 97
        }
      ]
    },
    {
      "cell_type": "code",
      "source": [
        "np.setdiff1d(b8,a8)"
      ],
      "metadata": {
        "colab": {
          "base_uri": "https://localhost:8080/"
        },
        "id": "THkG-AcF2nwK",
        "outputId": "8be21c66-d21b-4c39-b9e8-bf85c97564cf"
      },
      "execution_count": null,
      "outputs": [
        {
          "output_type": "execute_result",
          "data": {
            "text/plain": [
              "array([4])"
            ]
          },
          "metadata": {},
          "execution_count": 98
        }
      ]
    },
    {
      "cell_type": "code",
      "source": [
        "np.intersect1d(a8,b8)"
      ],
      "metadata": {
        "colab": {
          "base_uri": "https://localhost:8080/"
        },
        "id": "IonOGODw2uYj",
        "outputId": "cd4a9f89-9f5a-472b-e296-06e35758a891"
      },
      "execution_count": null,
      "outputs": [
        {
          "output_type": "execute_result",
          "data": {
            "text/plain": [
              "array([1, 2])"
            ]
          },
          "metadata": {},
          "execution_count": 99
        }
      ]
    },
    {
      "cell_type": "code",
      "source": [
        "np.setxor1d(a8,b8)"
      ],
      "metadata": {
        "colab": {
          "base_uri": "https://localhost:8080/"
        },
        "id": "ZEM8rhYP2039",
        "outputId": "51b7d89a-3999-4c14-d018-c3951880721b"
      },
      "execution_count": null,
      "outputs": [
        {
          "output_type": "execute_result",
          "data": {
            "text/plain": [
              "array([3, 4, 5])"
            ]
          },
          "metadata": {},
          "execution_count": 100
        }
      ]
    },
    {
      "cell_type": "code",
      "source": [
        "np.in1d(a8,1)"
      ],
      "metadata": {
        "colab": {
          "base_uri": "https://localhost:8080/"
        },
        "id": "nefPL5cj3Fao",
        "outputId": "3f960e54-7ea8-4098-95f0-c94645280f5f"
      },
      "execution_count": null,
      "outputs": [
        {
          "output_type": "execute_result",
          "data": {
            "text/plain": [
              "array([False, False, False, False,  True])"
            ]
          },
          "metadata": {},
          "execution_count": 101
        }
      ]
    },
    {
      "cell_type": "markdown",
      "source": [
        "#np.clip"
      ],
      "metadata": {
        "id": "3cuwqFkS3Owj"
      }
    },
    {
      "cell_type": "code",
      "source": [
        "np.clip(a8,1,4)\n"
      ],
      "metadata": {
        "colab": {
          "base_uri": "https://localhost:8080/"
        },
        "id": "TyAoanbT3SR-",
        "outputId": "b77b8d8c-bf74-456a-a168-0b95a34b7d59"
      },
      "execution_count": null,
      "outputs": [
        {
          "output_type": "execute_result",
          "data": {
            "text/plain": [
              "array([4, 2, 3, 4, 1])"
            ]
          },
          "metadata": {},
          "execution_count": 109
        }
      ]
    }
  ],
  "metadata": {
    "colab": {
      "provenance": [],
      "authorship_tag": "ABX9TyN5+qJyfkF8PZhWmKtprEsv",
      "include_colab_link": true
    },
    "kernelspec": {
      "display_name": "Python 3",
      "name": "python3"
    },
    "language_info": {
      "name": "python"
    }
  },
  "nbformat": 4,
  "nbformat_minor": 0
}